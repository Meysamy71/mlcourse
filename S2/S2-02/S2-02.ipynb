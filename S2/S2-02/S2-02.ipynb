{
 "cells": [
  {
   "cell_type": "code",
   "execution_count": 52,
   "metadata": {},
   "outputs": [
    {
     "name": "stdout",
     "output_type": "stream",
     "text": [
      "1- Total Players: 160\n",
      "2- Most Goals Player: p_18\n",
      "3- Max Conversion Rate Player: p_18\n",
      "3- Min Conversion Rate Player: p_147\n"
     ]
    }
   ],
   "source": [
    "\"\"\"\n",
    "File: S2-02.ipynb\n",
    "Author: Meysam Yavarikhoo\n",
    "Date: 2024/05/28\n",
    "Version: 1.0.0\n",
    "License: GPLv3\n",
    "Description: A simple Python script to Data analysis\n",
    "\"\"\"\n",
    "import pandas as pd\n",
    "import math\n",
    "\n",
    "df = pd.read_csv('train.csv')\n",
    "\n",
    "# 1 Total Players\n",
    "\n",
    "TotalPlayers = df.playerId.unique().shape[0]\n",
    "\n",
    "print(\"1- Total Players: \" + str(TotalPlayers))\n",
    "\n",
    "# 2 Most Goals Player\n",
    "\n",
    "MostGoalPlayer = df[df.outcome == 'گُل'].playerId.value_counts().idxmax()\n",
    "\n",
    "print(\"2- Most Goals Player: \" + MostGoalPlayer)\n",
    "\n",
    "# 3 Conversion Rate Goals\n",
    "\n",
    "ConversionRate = (df[df.outcome == 'گُل'].playerId.value_counts() / df[df.outcome != 'گُل'].playerId.value_counts()) * 100\n",
    "MaxConversionRate = ConversionRate.idxmax()\n",
    "MinConversionRate = ConversionRate.idxmin()\n",
    "\n",
    "print('3- Max Conversion Rate Player: ' + MaxConversionRate)\n",
    "print('3- Min Conversion Rate Player: ' + MinConversionRate)\n",
    "\n",
    "# 4 Euclidean distance\n",
    "\n",
    "p = df.x\n",
    "q = df.y\n",
    "\n",
    "Euclideandistance = math.dist(p, q)"
   ]
  }
 ],
 "metadata": {
  "kernelspec": {
   "display_name": "env",
   "language": "python",
   "name": "python3"
  },
  "language_info": {
   "codemirror_mode": {
    "name": "ipython",
    "version": 3
   },
   "file_extension": ".py",
   "mimetype": "text/x-python",
   "name": "python",
   "nbconvert_exporter": "python",
   "pygments_lexer": "ipython3",
   "version": "3.12.3"
  }
 },
 "nbformat": 4,
 "nbformat_minor": 2
}
