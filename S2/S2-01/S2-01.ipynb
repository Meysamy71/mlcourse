{
 "cells": [
  {
   "cell_type": "code",
   "execution_count": 2,
   "metadata": {},
   "outputs": [],
   "source": [
    "\"\"\"\n",
    "File: S2-01.ipynb\n",
    "Author: Meysam Yavarikhoo\n",
    "Date: 2024/05/28\n",
    "Version: 1.0.0\n",
    "License: GPLv3\n",
    "Description: A simple Python script to image slicing\n",
    "\"\"\"\n",
    "\n",
    "import numpy as np\n",
    "import cv2\n",
    "\n",
    "img = cv2.imread('img.jpg', 0)\n",
    "\n",
    "\n",
    "def SliceImg(y1, y2, x1, x2):\n",
    "    Slice = img[y1:y2, x1:x2]\n",
    "    Resize = cv2.resize(Slice, (28, 28))\n",
    "    Numpy = np.array(Resize)\n",
    "    Flat = Numpy.flatten()\n",
    "    return Flat\n",
    "\n",
    "\n",
    "num0 = SliceImg(370,520,70,160)\n",
    "num1 = SliceImg(350,500,180,270)\n",
    "num2 = SliceImg(335,485,270,400)\n",
    "num3 = SliceImg(335,485,440,570)\n",
    "num4 = SliceImg(320,465,610,730)\n",
    "num5 = SliceImg(305,455,760,910)\n",
    "num6 = SliceImg(280,430,960,1070)\n",
    "num7 = SliceImg(290,440,1145,1285)\n",
    "num8 = SliceImg(570,730,330,500)\n",
    "num9 = SliceImg(560,720,610,760)\n",
    "\n",
    "Numbers = np.column_stack((num0, num1, num2, num3, num4, num5, num6, num7, num8, num9))\n",
    "Numbers.tofile('img.csv', sep=',')"
   ]
  }
 ],
 "metadata": {
  "kernelspec": {
   "display_name": "env",
   "language": "python",
   "name": "python3"
  },
  "language_info": {
   "codemirror_mode": {
    "name": "ipython",
    "version": 3
   },
   "file_extension": ".py",
   "mimetype": "text/x-python",
   "name": "python",
   "nbconvert_exporter": "python",
   "pygments_lexer": "ipython3",
   "version": "3.12.3"
  }
 },
 "nbformat": 4,
 "nbformat_minor": 2
}
