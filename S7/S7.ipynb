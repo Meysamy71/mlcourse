{
 "cells": [
  {
   "cell_type": "code",
   "execution_count": 78,
   "metadata": {},
   "outputs": [],
   "source": [
    "import pandas as pd\n",
    "import numpy as np\n",
    "import matplotlib.pyplot as plt\n",
    "import seaborn as sns\n",
    "import plotly.express as px\n",
    "from plotly.subplots import make_subplots\n",
    "import plotly.graph_objects as go\n",
    "from sklearn.model_selection import train_test_split\n",
    "from sklearn.linear_model import Perceptron\n",
    "from sklearn.metrics import accuracy_score \n",
    "from sklearn.metrics import confusion_matrix \n",
    "from sklearn.metrics import classification_report\n",
    "from sklearn.metrics import ConfusionMatrixDisplay\n",
    "from sklearn.linear_model import LogisticRegression\n",
    "from sklearn.metrics import roc_auc_score, roc_curve, f1_score,recall_score,precision_score\n",
    "from sklearn.tree import DecisionTreeClassifier\n",
    "from sklearn.tree import plot_tree\n",
    "from sklearn.preprocessing import MinMaxScaler,StandardScaler,RobustScaler,Normalizer\n",
    "from sklearn.decomposition import PCA\n",
    "import time\n"
   ]
  },
  {
   "cell_type": "code",
   "execution_count": 79,
   "metadata": {},
   "outputs": [
    {
     "data": {
      "text/html": [
       "<div>\n",
       "<style scoped>\n",
       "    .dataframe tbody tr th:only-of-type {\n",
       "        vertical-align: middle;\n",
       "    }\n",
       "\n",
       "    .dataframe tbody tr th {\n",
       "        vertical-align: top;\n",
       "    }\n",
       "\n",
       "    .dataframe thead th {\n",
       "        text-align: right;\n",
       "    }\n",
       "</style>\n",
       "<table border=\"1\" class=\"dataframe\">\n",
       "  <thead>\n",
       "    <tr style=\"text-align: right;\">\n",
       "      <th></th>\n",
       "      <th>ID_code</th>\n",
       "      <th>target</th>\n",
       "      <th>var_0</th>\n",
       "      <th>var_1</th>\n",
       "      <th>var_2</th>\n",
       "      <th>var_3</th>\n",
       "      <th>var_4</th>\n",
       "      <th>var_5</th>\n",
       "      <th>var_6</th>\n",
       "      <th>var_7</th>\n",
       "      <th>...</th>\n",
       "      <th>var_190</th>\n",
       "      <th>var_191</th>\n",
       "      <th>var_192</th>\n",
       "      <th>var_193</th>\n",
       "      <th>var_194</th>\n",
       "      <th>var_195</th>\n",
       "      <th>var_196</th>\n",
       "      <th>var_197</th>\n",
       "      <th>var_198</th>\n",
       "      <th>var_199</th>\n",
       "    </tr>\n",
       "  </thead>\n",
       "  <tbody>\n",
       "    <tr>\n",
       "      <th>0</th>\n",
       "      <td>train_0</td>\n",
       "      <td>0</td>\n",
       "      <td>8.9255</td>\n",
       "      <td>-6.7863</td>\n",
       "      <td>11.9081</td>\n",
       "      <td>5.0930</td>\n",
       "      <td>11.4607</td>\n",
       "      <td>-9.2834</td>\n",
       "      <td>5.1187</td>\n",
       "      <td>18.6266</td>\n",
       "      <td>...</td>\n",
       "      <td>4.4354</td>\n",
       "      <td>3.9642</td>\n",
       "      <td>3.1364</td>\n",
       "      <td>1.6910</td>\n",
       "      <td>18.5227</td>\n",
       "      <td>-2.3978</td>\n",
       "      <td>7.8784</td>\n",
       "      <td>8.5635</td>\n",
       "      <td>12.7803</td>\n",
       "      <td>-1.0914</td>\n",
       "    </tr>\n",
       "    <tr>\n",
       "      <th>1</th>\n",
       "      <td>train_1</td>\n",
       "      <td>0</td>\n",
       "      <td>11.5006</td>\n",
       "      <td>-4.1473</td>\n",
       "      <td>13.8588</td>\n",
       "      <td>5.3890</td>\n",
       "      <td>12.3622</td>\n",
       "      <td>7.0433</td>\n",
       "      <td>5.6208</td>\n",
       "      <td>16.5338</td>\n",
       "      <td>...</td>\n",
       "      <td>7.6421</td>\n",
       "      <td>7.7214</td>\n",
       "      <td>2.5837</td>\n",
       "      <td>10.9516</td>\n",
       "      <td>15.4305</td>\n",
       "      <td>2.0339</td>\n",
       "      <td>8.1267</td>\n",
       "      <td>8.7889</td>\n",
       "      <td>18.3560</td>\n",
       "      <td>1.9518</td>\n",
       "    </tr>\n",
       "    <tr>\n",
       "      <th>2</th>\n",
       "      <td>train_2</td>\n",
       "      <td>0</td>\n",
       "      <td>8.6093</td>\n",
       "      <td>-2.7457</td>\n",
       "      <td>12.0805</td>\n",
       "      <td>7.8928</td>\n",
       "      <td>10.5825</td>\n",
       "      <td>-9.0837</td>\n",
       "      <td>6.9427</td>\n",
       "      <td>14.6155</td>\n",
       "      <td>...</td>\n",
       "      <td>2.9057</td>\n",
       "      <td>9.7905</td>\n",
       "      <td>1.6704</td>\n",
       "      <td>1.6858</td>\n",
       "      <td>21.6042</td>\n",
       "      <td>3.1417</td>\n",
       "      <td>-6.5213</td>\n",
       "      <td>8.2675</td>\n",
       "      <td>14.7222</td>\n",
       "      <td>0.3965</td>\n",
       "    </tr>\n",
       "    <tr>\n",
       "      <th>3</th>\n",
       "      <td>train_3</td>\n",
       "      <td>0</td>\n",
       "      <td>11.0604</td>\n",
       "      <td>-2.1518</td>\n",
       "      <td>8.9522</td>\n",
       "      <td>7.1957</td>\n",
       "      <td>12.5846</td>\n",
       "      <td>-1.8361</td>\n",
       "      <td>5.8428</td>\n",
       "      <td>14.9250</td>\n",
       "      <td>...</td>\n",
       "      <td>4.4666</td>\n",
       "      <td>4.7433</td>\n",
       "      <td>0.7178</td>\n",
       "      <td>1.4214</td>\n",
       "      <td>23.0347</td>\n",
       "      <td>-1.2706</td>\n",
       "      <td>-2.9275</td>\n",
       "      <td>10.2922</td>\n",
       "      <td>17.9697</td>\n",
       "      <td>-8.9996</td>\n",
       "    </tr>\n",
       "  </tbody>\n",
       "</table>\n",
       "<p>4 rows × 202 columns</p>\n",
       "</div>"
      ],
      "text/plain": [
       "   ID_code  target    var_0   var_1    var_2   var_3    var_4   var_5   var_6  \\\n",
       "0  train_0       0   8.9255 -6.7863  11.9081  5.0930  11.4607 -9.2834  5.1187   \n",
       "1  train_1       0  11.5006 -4.1473  13.8588  5.3890  12.3622  7.0433  5.6208   \n",
       "2  train_2       0   8.6093 -2.7457  12.0805  7.8928  10.5825 -9.0837  6.9427   \n",
       "3  train_3       0  11.0604 -2.1518   8.9522  7.1957  12.5846 -1.8361  5.8428   \n",
       "\n",
       "     var_7  ...  var_190  var_191  var_192  var_193  var_194  var_195  \\\n",
       "0  18.6266  ...   4.4354   3.9642   3.1364   1.6910  18.5227  -2.3978   \n",
       "1  16.5338  ...   7.6421   7.7214   2.5837  10.9516  15.4305   2.0339   \n",
       "2  14.6155  ...   2.9057   9.7905   1.6704   1.6858  21.6042   3.1417   \n",
       "3  14.9250  ...   4.4666   4.7433   0.7178   1.4214  23.0347  -1.2706   \n",
       "\n",
       "   var_196  var_197  var_198  var_199  \n",
       "0   7.8784   8.5635  12.7803  -1.0914  \n",
       "1   8.1267   8.7889  18.3560   1.9518  \n",
       "2  -6.5213   8.2675  14.7222   0.3965  \n",
       "3  -2.9275  10.2922  17.9697  -8.9996  \n",
       "\n",
       "[4 rows x 202 columns]"
      ]
     },
     "execution_count": 79,
     "metadata": {},
     "output_type": "execute_result"
    }
   ],
   "source": [
    "df = pd.read_csv('train.csv')\n",
    "df.head(4)"
   ]
  },
  {
   "cell_type": "code",
   "execution_count": 80,
   "metadata": {},
   "outputs": [
    {
     "name": "stdout",
     "output_type": "stream",
     "text": [
      "<class 'pandas.core.frame.DataFrame'>\n",
      "RangeIndex: 200000 entries, 0 to 199999\n",
      "Columns: 202 entries, ID_code to var_199\n",
      "dtypes: float64(200), int64(1), object(1)\n",
      "memory usage: 308.2+ MB\n"
     ]
    }
   ],
   "source": [
    "df.info()"
   ]
  },
  {
   "cell_type": "code",
   "execution_count": 81,
   "metadata": {},
   "outputs": [
    {
     "data": {
      "text/plain": [
       "False    202\n",
       "Name: count, dtype: int64"
      ]
     },
     "execution_count": 81,
     "metadata": {},
     "output_type": "execute_result"
    }
   ],
   "source": [
    "(df.isna().sum() > 0).value_counts()"
   ]
  },
  {
   "cell_type": "code",
   "execution_count": 82,
   "metadata": {},
   "outputs": [
    {
     "data": {
      "text/plain": [
       "target\n",
       "0    179902\n",
       "1     20098\n",
       "Name: count, dtype: int64"
      ]
     },
     "execution_count": 82,
     "metadata": {},
     "output_type": "execute_result"
    }
   ],
   "source": [
    "df['target'].value_counts()"
   ]
  },
  {
   "cell_type": "code",
   "execution_count": 83,
   "metadata": {},
   "outputs": [],
   "source": [
    "df_max = df.iloc[::,2:].max().sort_values(ascending=False)\n",
    "df_min = df.iloc[::,2:].min().sort_values()"
   ]
  },
  {
   "cell_type": "code",
   "execution_count": 84,
   "metadata": {},
   "outputs": [
    {
     "data": {
      "image/png": "[encoded data removed]",
      "text/plain": [
       "<Figure size 1500x500 with 2 Axes>"
      ]
     },
     "metadata": {},
     "output_type": "display_data"
    }
   ],
   "source": [
    "fig,axs = plt.subplots(1, 2,figsize = (15,5))\n",
    "sns.set_theme(style=\"darkgrid\")\n",
    "sns.histplot(df_max, kde=True,ax=axs[0]);\n",
    "sns.histplot(df_min, kde=True,ax=axs[1]);"
   ]
  },
  {
   "cell_type": "code",
   "execution_count": 85,
   "metadata": {},
   "outputs": [
    {
     "data": {
      "application/vnd.plotly.v1+json": {
       "config": {
        "plotlyServerURL": "https://plot.ly"
       },
       "data": [
        {
         "name": "Maximum",
         "type": "box",
         "x": [
          74.0321,
          70.272,
          64.8109,
          64.4644,
          62.0844,
          58.3942,
          58.2879,
          54.5794,
          54.2738,
          53.5919,
          51.3265,
          49.0443,
          48.424,
          46.3795,
          44.7795,
          44.5361,
          44.4376,
          44.3634,
          43.5468,
          41.748,
          41.153,
          40.8806,
          40.689,
          39.3968,
          38.3322,
          36.1567,
          36.0971,
          35.183,
          34.5637,
          34.4352,
          34.1961,
          33.3541,
          32.9011,
          32.8911,
          32.0591,
          31.2859,
          31.2036,
          30.9569,
          30.4769,
          29.8413,
          29.8235,
          29.5466,
          29.3303,
          29.2487,
          29.0921,
          29.0741,
          28.5724,
          28.5007,
          28.4594,
          27.9288,
          27.7143,
          27.6918,
          27.5648,
          27.2713,
          27.1029,
          26.9976,
          26.8749,
          26.1658,
          26.0791,
          25.446,
          25.4357,
          25.2635,
          25.1955,
          25.1409,
          25.12,
          24.0075,
          23.9658,
          23.7049,
          23.2428,
          23.1324,
          22.7861,
          22.6916,
          22.3315,
          22.1494,
          21.8934,
          21.7392,
          21.5421,
          21.5289,
          21.4128,
          21.2939,
          21.2766,
          21.1245,
          21.1219,
          20.8548,
          20.6854,
          20.5965,
          20.4833,
          20.4373,
          20.315,
          20.2452,
          20.1719,
          19.5193,
          19.353,
          19.0259,
          19.0206,
          18.975,
          18.8554,
          18.8187,
          18.6702,
          18.4714,
          18.4409,
          18.3846,
          18.3215,
          18.2818,
          18.2256,
          18.1056,
          17.9506,
          17.9173,
          17.7424,
          17.4594,
          17.3074,
          17.2516,
          17.1887,
          17.0968,
          16.8316,
          16.7319,
          16.7165,
          16.6714,
          16.497,
          16.0083,
          15.8633,
          15.7313,
          15.6885,
          15.6751,
          15.6515,
          15.5156,
          15.4816,
          15.3223,
          15.3172,
          15.3074,
          14.9915,
          14.9895,
          14.9377,
          14.8861,
          14.743,
          14.6546,
          14.6545,
          14.5945,
          14.3939,
          14.2456,
          14.15,
          13.6642,
          13.4696,
          13.4487,
          13.2878,
          13.1883,
          13.1431,
          12.9975,
          12.7505,
          12.7236,
          12.5779,
          12.5343,
          12.465,
          12.1193,
          12.0004,
          11.9867,
          11.9721,
          11.9504,
          11.8638,
          11.8101,
          11.3507,
          11.2317,
          11.1537,
          11.1506,
          10.5976,
          10.3768,
          10.1513,
          10.1344,
          9.8096,
          9.8002,
          9.7132,
          9.1609,
          8.7874,
          8.5473,
          8.4477,
          8.4317,
          8.4024,
          8.3091,
          8.2315,
          8.1207,
          7.7536,
          7.4895,
          7.1692,
          7.089,
          6.7871,
          6.585,
          6.3099,
          5.0764,
          5.0469,
          4.8752,
          4.7528,
          4.5028,
          4.2729,
          4.2204,
          4.0341,
          3.2431,
          2.1923,
          2.1887,
          1.804,
          1.5719
         ],
         "xaxis": "x",
         "yaxis": "y"
        },
        {
         "name": "Minimum",
         "type": "box",
         "x": [
          -90.2525,
          -61.718,
          -48.8027,
          -47.7536,
          -47.6862,
          -41.1683,
          -39.1791,
          -38.8528,
          -37.5277,
          -35.9695,
          -35.2117,
          -34.7984,
          -34.1015,
          -33.3802,
          -32.5626,
          -31.8369,
          -31.3808,
          -30.0266,
          -29.984,
          -29.2734,
          -29.1165,
          -26.7786,
          -26.095,
          -26.0011,
          -24.7214,
          -24.4398,
          -24.2546,
          -24.2431,
          -24.2201,
          -23.9022,
          -22.9904,
          -22.7487,
          -22.5833,
          -22.4793,
          -22.0374,
          -21.8409,
          -21.74,
          -21.6333,
          -21.2743,
          -20.7313,
          -19.9977,
          -19.5443,
          -19.2722,
          -18.6962,
          -18.4897,
          -18.0422,
          -17.0275,
          -16.6937,
          -16.5136,
          -16.4684,
          -16.3094,
          -15.4595,
          -15.194,
          -15.0462,
          -15.0434,
          -14.5457,
          -14.506,
          -14.2096,
          -14.0933,
          -14.0888,
          -12.6009,
          -12.4059,
          -12.4025,
          -12.3834,
          -12.1584,
          -11.7834,
          -11.7559,
          -11.4533,
          -10.6642,
          -10.5544,
          -10.5055,
          -10.089,
          -9.9493,
          -9.9396,
          -9.851,
          -9.7742,
          -9.6014,
          -9.2398,
          -8.9861,
          -8.8769,
          -8.5359,
          -8.4816,
          -8.2734,
          -8.1966,
          -8.0951,
          -8.0707,
          -7.8561,
          -7.4522,
          -7.3829,
          -7.2806,
          -7.108,
          -7.0538,
          -6.8586,
          -6.5317,
          -6.3371,
          -6.3289,
          -6.1668,
          -6.0111,
          -5.898,
          -5.5139,
          -5.4322,
          -5.3225,
          -5.261,
          -5.2502,
          -4.8082,
          -4.7872,
          -4.6416,
          -4.5544,
          -3.8145,
          -3.7826,
          -3.163,
          -3.0223,
          -2.9953,
          -2.88,
          -2.6917,
          -2.5543,
          -2.4324,
          -2.1915,
          -2.1006,
          -2.0302,
          -1.8183,
          -1.6658,
          -1.2936,
          -1.1834,
          -1.0185,
          -0.9548,
          -0.6784,
          -0.6035,
          -0.224,
          -0.0505,
          -0.0402,
          0.0757,
          0.4084,
          0.4274,
          0.6231,
          0.6351,
          0.7153,
          0.9424,
          0.9793,
          1.0133,
          1.2062,
          1.2098,
          1.3368,
          1.3502,
          1.5085,
          1.6117,
          1.8512,
          2.0896,
          2.1171,
          2.1406,
          2.1863,
          2.1942,
          2.3473,
          2.7618,
          2.8068,
          2.819,
          2.89,
          3.2415,
          3.3205,
          3.3449,
          3.4423,
          3.8167,
          3.9705,
          4.0846,
          4.2588,
          4.4123,
          4.8526,
          4.9521,
          4.9938,
          5.0748,
          5.3497,
          5.3593,
          5.4165,
          5.4443,
          5.7697,
          5.9606,
          6.184,
          6.2993,
          6.3052,
          6.5218,
          7.023,
          7.4257,
          7.5865,
          8.4916,
          8.6944,
          8.859,
          9.242,
          9.5283,
          9.8169,
          9.9965,
          10.3855,
          10.4454,
          10.6528,
          11.0308,
          11.2654,
          11.4861,
          12.72,
          13.0769,
          13.4346,
          13.729
         ],
         "xaxis": "x2",
         "yaxis": "y2"
        }
       ],
       "layout": {
        "template": {
         "data": {
          "bar": [
           {
            "error_x": {
             "color": "#2a3f5f"
            },
            "error_y": {
             "color": "#2a3f5f"
            },
            "marker": {
             "line": {
              "color": "#E5ECF6",
              "width": 0.5
             },
             "pattern": {
              "fillmode": "overlay",
              "size": 10,
              "solidity": 0.2
             }
            },
            "type": "bar"
           }
          ],
          "barpolar": [
           {
            "marker": {
             "line": {
              "color": "#E5ECF6",
              "width": 0.5
             },
             "pattern": {
              "fillmode": "overlay",
              "size": 10,
              "solidity": 0.2
             }
            },
            "type": "barpolar"
           }
          ],
          "carpet": [
           {
            "aaxis": {
             "endlinecolor": "#2a3f5f",
             "gridcolor": "white",
             "linecolor": "white",
             "minorgridcolor": "white",
             "startlinecolor": "#2a3f5f"
            },
            "baxis": {
             "endlinecolor": "#2a3f5f",
             "gridcolor": "white",
             "linecolor": "white",
             "minorgridcolor": "white",
             "startlinecolor": "#2a3f5f"
            },
            "type": "carpet"
           }
          ],
          "choropleth": [
           {
            "colorbar": {
             "outlinewidth": 0,
             "ticks": ""
            },
            "type": "choropleth"
           }
          ],
          "contour": [
           {
            "colorbar": {
             "outlinewidth": 0,
             "ticks": ""
            },
            "colorscale": [
             [
              0,
              "#0d0887"
             ],
             [
              0.1111111111111111,
              "#46039f"
             ],
             [
              0.2222222222222222,
              "#7201a8"
             ],
             [
              0.3333333333333333,
              "#9c179e"
             ],
             [
              0.4444444444444444,
              "#bd3786"
             ],
             [
              0.5555555555555556,
              "#d8576b"
             ],
             [
              0.6666666666666666,
              "#ed7953"
             ],
             [
              0.7777777777777778,
              "#fb9f3a"
             ],
             [
              0.8888888888888888,
              "#fdca26"
             ],
             [
              1,
              "#f0f921"
             ]
            ],
            "type": "contour"
           }
          ],
          "contourcarpet": [
           {
            "colorbar": {
             "outlinewidth": 0,
             "ticks": ""
            },
            "type": "contourcarpet"
           }
          ],
          "heatmap": [
           {
            "colorbar": {
             "outlinewidth": 0,
             "ticks": ""
            },
            "colorscale": [
             [
              0,
              "#0d0887"
             ],
             [
              0.1111111111111111,
              "#46039f"
             ],
             [
              0.2222222222222222,
              "#7201a8"
             ],
             [
              0.3333333333333333,
              "#9c179e"
             ],
             [
              0.4444444444444444,
              "#bd3786"
             ],
             [
              0.5555555555555556,
              "#d8576b"
             ],
             [
              0.6666666666666666,
              "#ed7953"
             ],
             [
              0.7777777777777778,
              "#fb9f3a"
             ],
             [
              0.8888888888888888,
              "#fdca26"
             ],
             [
              1,
              "#f0f921"
             ]
            ],
            "type": "heatmap"
           }
          ],
          "heatmapgl": [
           {
            "colorbar": {
             "outlinewidth": 0,
             "ticks": ""
            },
            "colorscale": [
             [
              0,
              "#0d0887"
             ],
             [
              0.1111111111111111,
              "#46039f"
             ],
             [
              0.2222222222222222,
              "#7201a8"
             ],
             [
              0.3333333333333333,
              "#9c179e"
             ],
             [
              0.4444444444444444,
              "#bd3786"
             ],
             [
              0.5555555555555556,
              "#d8576b"
             ],
             [
              0.6666666666666666,
              "#ed7953"
             ],
             [
              0.7777777777777778,
              "#fb9f3a"
             ],
             [
              0.8888888888888888,
              "#fdca26"
             ],
             [
              1,
              "#f0f921"
             ]
            ],
            "type": "heatmapgl"
           }
          ],
          "histogram": [
           {
            "marker": {
             "pattern": {
              "fillmode": "overlay",
              "size": 10,
              "solidity": 0.2
             }
            },
            "type": "histogram"
           }
          ],
          "histogram2d": [
           {
            "colorbar": {
             "outlinewidth": 0,
             "ticks": ""
            },
            "colorscale": [
             [
              0,
              "#0d0887"
             ],
             [
              0.1111111111111111,
              "#46039f"
             ],
             [
              0.2222222222222222,
              "#7201a8"
             ],
             [
              0.3333333333333333,
              "#9c179e"
             ],
             [
              0.4444444444444444,
              "#bd3786"
             ],
             [
              0.5555555555555556,
              "#d8576b"
             ],
             [
              0.6666666666666666,
              "#ed7953"
             ],
             [
              0.7777777777777778,
              "#fb9f3a"
             ],
             [
              0.8888888888888888,
              "#fdca26"
             ],
             [
              1,
              "#f0f921"
             ]
            ],
            "type": "histogram2d"
           }
          ],
          "histogram2dcontour": [
           {
            "colorbar": {
             "outlinewidth": 0,
             "ticks": ""
            },
            "colorscale": [
             [
              0,
              "#0d0887"
             ],
             [
              0.1111111111111111,
              "#46039f"
             ],
             [
              0.2222222222222222,
              "#7201a8"
             ],
             [
              0.3333333333333333,
              "#9c179e"
             ],
             [
              0.4444444444444444,
              "#bd3786"
             ],
             [
              0.5555555555555556,
              "#d8576b"
             ],
             [
              0.6666666666666666,
              "#ed7953"
             ],
             [
              0.7777777777777778,
              "#fb9f3a"
             ],
             [
              0.8888888888888888,
              "#fdca26"
             ],
             [
              1,
              "#f0f921"
             ]
            ],
            "type": "histogram2dcontour"
           }
          ],
          "mesh3d": [
           {
            "colorbar": {
             "outlinewidth": 0,
             "ticks": ""
            },
            "type": "mesh3d"
           }
          ],
          "parcoords": [
           {
            "line": {
             "colorbar": {
              "outlinewidth": 0,
              "ticks": ""
             }
            },
            "type": "parcoords"
           }
          ],
          "pie": [
           {
            "automargin": true,
            "type": "pie"
           }
          ],
          "scatter": [
           {
            "fillpattern": {
             "fillmode": "overlay",
             "size": 10,
             "solidity": 0.2
            },
            "type": "scatter"
           }
          ],
          "scatter3d": [
           {
            "line": {
             "colorbar": {
              "outlinewidth": 0,
              "ticks": ""
             }
            },
            "marker": {
             "colorbar": {
              "outlinewidth": 0,
              "ticks": ""
             }
            },
            "type": "scatter3d"
           }
          ],
          "scattercarpet": [
           {
            "marker": {
             "colorbar": {
              "outlinewidth": 0,
              "ticks": ""
             }
            },
            "type": "scattercarpet"
           }
          ],
          "scattergeo": [
           {
            "marker": {
             "colorbar": {
              "outlinewidth": 0,
              "ticks": ""
             }
            },
            "type": "scattergeo"
           }
          ],
          "scattergl": [
           {
            "marker": {
             "colorbar": {
              "outlinewidth": 0,
              "ticks": ""
             }
            },
            "type": "scattergl"
           }
          ],
          "scattermapbox": [
           {
            "marker": {
             "colorbar": {
              "outlinewidth": 0,
              "ticks": ""
             }
            },
            "type": "scattermapbox"
           }
          ],
          "scatterpolar": [
           {
            "marker": {
             "colorbar": {
              "outlinewidth": 0,
              "ticks": ""
             }
            },
            "type": "scatterpolar"
           }
          ],
          "scatterpolargl": [
           {
            "marker": {
             "colorbar": {
              "outlinewidth": 0,
              "ticks": ""
             }
            },
            "type": "scatterpolargl"
           }
          ],
          "scatterternary": [
           {
            "marker": {
             "colorbar": {
              "outlinewidth": 0,
              "ticks": ""
             }
            },
            "type": "scatterternary"
           }
          ],
          "surface": [
           {
            "colorbar": {
             "outlinewidth": 0,
             "ticks": ""
            },
            "colorscale": [
             [
              0,
              "#0d0887"
             ],
             [
              0.1111111111111111,
              "#46039f"
             ],
             [
              0.2222222222222222,
              "#7201a8"
             ],
             [
              0.3333333333333333,
              "#9c179e"
             ],
             [
              0.4444444444444444,
              "#bd3786"
             ],
             [
              0.5555555555555556,
              "#d8576b"
             ],
             [
              0.6666666666666666,
              "#ed7953"
             ],
             [
              0.7777777777777778,
              "#fb9f3a"
             ],
             [
              0.8888888888888888,
              "#fdca26"
             ],
             [
              1,
              "#f0f921"
             ]
            ],
            "type": "surface"
           }
          ],
          "table": [
           {
            "cells": {
             "fill": {
              "color": "#EBF0F8"
             },
             "line": {
              "color": "white"
             }
            },
            "header": {
             "fill": {
              "color": "#C8D4E3"
             },
             "line": {
              "color": "white"
             }
            },
            "type": "table"
           }
          ]
         },
         "layout": {
          "annotationdefaults": {
           "arrowcolor": "#2a3f5f",
           "arrowhead": 0,
           "arrowwidth": 1
          },
          "autotypenumbers": "strict",
          "coloraxis": {
           "colorbar": {
            "outlinewidth": 0,
            "ticks": ""
           }
          },
          "colorscale": {
           "diverging": [
            [
             0,
             "#8e0152"
            ],
            [
             0.1,
             "#c51b7d"
            ],
            [
             0.2,
             "#de77ae"
            ],
            [
             0.3,
             "#f1b6da"
            ],
            [
             0.4,
             "#fde0ef"
            ],
            [
             0.5,
             "#f7f7f7"
            ],
            [
             0.6,
             "#e6f5d0"
            ],
            [
             0.7,
             "#b8e186"
            ],
            [
             0.8,
             "#7fbc41"
            ],
            [
             0.9,
             "#4d9221"
            ],
            [
             1,
             "#276419"
            ]
           ],
           "sequential": [
            [
             0,
             "#0d0887"
            ],
            [
             0.1111111111111111,
             "#46039f"
            ],
            [
             0.2222222222222222,
             "#7201a8"
            ],
            [
             0.3333333333333333,
             "#9c179e"
            ],
            [
             0.4444444444444444,
             "#bd3786"
            ],
            [
             0.5555555555555556,
             "#d8576b"
            ],
            [
             0.6666666666666666,
             "#ed7953"
            ],
            [
             0.7777777777777778,
             "#fb9f3a"
            ],
            [
             0.8888888888888888,
             "#fdca26"
            ],
            [
             1,
             "#f0f921"
            ]
           ],
           "sequentialminus": [
            [
             0,
             "#0d0887"
            ],
            [
             0.1111111111111111,
             "#46039f"
            ],
            [
             0.2222222222222222,
             "#7201a8"
            ],
            [
             0.3333333333333333,
             "#9c179e"
            ],
            [
             0.4444444444444444,
             "#bd3786"
            ],
            [
             0.5555555555555556,
             "#d8576b"
            ],
            [
             0.6666666666666666,
             "#ed7953"
            ],
            [
             0.7777777777777778,
             "#fb9f3a"
            ],
            [
             0.8888888888888888,
             "#fdca26"
            ],
            [
             1,
             "#f0f921"
            ]
           ]
          },
          "colorway": [
           "#636efa",
           "#EF553B",
           "#00cc96",
           "#ab63fa",
           "#FFA15A",
           "#19d3f3",
           "#FF6692",
           "#B6E880",
           "#FF97FF",
           "#FECB52"
          ],
          "font": {
           "color": "#2a3f5f"
          },
          "geo": {
           "bgcolor": "white",
           "lakecolor": "white",
           "landcolor": "#E5ECF6",
           "showlakes": true,
           "showland": true,
           "subunitcolor": "white"
          },
          "hoverlabel": {
           "align": "left"
          },
          "hovermode": "closest",
          "mapbox": {
           "style": "light"
          },
          "paper_bgcolor": "white",
          "plot_bgcolor": "#E5ECF6",
          "polar": {
           "angularaxis": {
            "gridcolor": "white",
            "linecolor": "white",
            "ticks": ""
           },
           "bgcolor": "#E5ECF6",
           "radialaxis": {
            "gridcolor": "white",
            "linecolor": "white",
            "ticks": ""
           }
          },
          "scene": {
           "xaxis": {
            "backgroundcolor": "#E5ECF6",
            "gridcolor": "white",
            "gridwidth": 2,
            "linecolor": "white",
            "showbackground": true,
            "ticks": "",
            "zerolinecolor": "white"
           },
           "yaxis": {
            "backgroundcolor": "#E5ECF6",
            "gridcolor": "white",
            "gridwidth": 2,
            "linecolor": "white",
            "showbackground": true,
            "ticks": "",
            "zerolinecolor": "white"
           },
           "zaxis": {
            "backgroundcolor": "#E5ECF6",
            "gridcolor": "white",
            "gridwidth": 2,
            "linecolor": "white",
            "showbackground": true,
            "ticks": "",
            "zerolinecolor": "white"
           }
          },
          "shapedefaults": {
           "line": {
            "color": "#2a3f5f"
           }
          },
          "ternary": {
           "aaxis": {
            "gridcolor": "white",
            "linecolor": "white",
            "ticks": ""
           },
           "baxis": {
            "gridcolor": "white",
            "linecolor": "white",
            "ticks": ""
           },
           "bgcolor": "#E5ECF6",
           "caxis": {
            "gridcolor": "white",
            "linecolor": "white",
            "ticks": ""
           }
          },
          "title": {
           "x": 0.05
          },
          "xaxis": {
           "automargin": true,
           "gridcolor": "white",
           "linecolor": "white",
           "ticks": "",
           "title": {
            "standoff": 15
           },
           "zerolinecolor": "white",
           "zerolinewidth": 2
          },
          "yaxis": {
           "automargin": true,
           "gridcolor": "white",
           "linecolor": "white",
           "ticks": "",
           "title": {
            "standoff": 15
           },
           "zerolinecolor": "white",
           "zerolinewidth": 2
          }
         }
        },
        "title": {
         "text": "Minimum And Maximum Variables Chart"
        },
        "xaxis": {
         "anchor": "y",
         "domain": [
          0,
          0.45
         ]
        },
        "xaxis2": {
         "anchor": "y2",
         "domain": [
          0.55,
          1
         ]
        },
        "yaxis": {
         "anchor": "x",
         "domain": [
          0,
          1
         ]
        },
        "yaxis2": {
         "anchor": "x2",
         "domain": [
          0,
          1
         ]
        }
       }
      }
     },
     "metadata": {},
     "output_type": "display_data"
    }
   ],
   "source": [
    "fig = make_subplots(rows=1, cols=2)\n",
    "\n",
    "fig.add_trace(\n",
    "    go.Box(x=df_max,name='Maximum'),\n",
    "    row=1, col=1\n",
    ")\n",
    "\n",
    "fig.add_trace(\n",
    "    go.Box(x=df_min,name='Minimum'),\n",
    "    row=1, col=2\n",
    ")\n",
    "\n",
    "\n",
    "fig.update_layout(title_text=\"Minimum And Maximum Variables Chart\")\n",
    "fig.show()"
   ]
  },
  {
   "cell_type": "markdown",
   "metadata": {},
   "source": [
    "# Training Without Preprocessing"
   ]
  },
  {
   "cell_type": "code",
   "execution_count": 86,
   "metadata": {},
   "outputs": [],
   "source": [
    "y = df['target']\n",
    "x = df.iloc[::,2:]\n",
    "x_train, x_test, y_train, y_test = train_test_split(x, y, train_size= .8,stratify=y)"
   ]
  },
  {
   "cell_type": "markdown",
   "metadata": {},
   "source": [
    "# Perceptron"
   ]
  },
  {
   "cell_type": "code",
   "execution_count": 87,
   "metadata": {},
   "outputs": [],
   "source": [
    "ppn = Perceptron(random_state=2)\n",
    "st = time.time()\n",
    "ppn.fit(x_train,y_train)\n",
    "en = time.time()\n",
    "ppn_time = en - st\n",
    "ppn_pred = ppn.predict(x_test)"
   ]
  },
  {
   "cell_type": "code",
   "execution_count": 88,
   "metadata": {},
   "outputs": [
    {
     "name": "stderr",
     "output_type": "stream",
     "text": [
      "c:\\Users\\MeysaM\\AppData\\Local\\Programs\\Python\\Python312\\Lib\\site-packages\\sklearn\\linear_model\\_logistic.py:469: ConvergenceWarning:\n",
      "\n",
      "lbfgs failed to converge (status=1):\n",
      "STOP: TOTAL NO. of ITERATIONS REACHED LIMIT.\n",
      "\n",
      "Increase the number of iterations (max_iter) or scale the data as shown in:\n",
      "    https://scikit-learn.org/stable/modules/preprocessing.html\n",
      "Please also refer to the documentation for alternative solver options:\n",
      "    https://scikit-learn.org/stable/modules/linear_model.html#logistic-regression\n",
      "\n"
     ]
    }
   ],
   "source": [
    "lr = LogisticRegression(random_state=2,max_iter=500)\n",
    "st = time.time()\n",
    "lr.fit(x_train,y_train)\n",
    "en = time.time()\n",
    "lr_time = en - st\n",
    "lr_pred = lr.predict(x_test)"
   ]
  },
  {
   "cell_type": "code",
   "execution_count": 89,
   "metadata": {},
   "outputs": [],
   "source": [
    "dt = DecisionTreeClassifier()\n",
    "st = time.time()\n",
    "dt.fit(x_train,y_train)\n",
    "en = time.time()\n",
    "dt_time = en - st\n",
    "dt_pred = dt.predict(x_test)"
   ]
  },
  {
   "cell_type": "code",
   "execution_count": 90,
   "metadata": {},
   "outputs": [
    {
     "data": {
      "text/html": [
       "<div>\n",
       "<style scoped>\n",
       "    .dataframe tbody tr th:only-of-type {\n",
       "        vertical-align: middle;\n",
       "    }\n",
       "\n",
       "    .dataframe tbody tr th {\n",
       "        vertical-align: top;\n",
       "    }\n",
       "\n",
       "    .dataframe thead th {\n",
       "        text-align: right;\n",
       "    }\n",
       "</style>\n",
       "<table border=\"1\" class=\"dataframe\">\n",
       "  <thead>\n",
       "    <tr style=\"text-align: right;\">\n",
       "      <th></th>\n",
       "      <th>Model Fit Time</th>\n",
       "      <th>Test Score</th>\n",
       "      <th>Train Score</th>\n",
       "      <th>Precision Score</th>\n",
       "      <th>Recall Score</th>\n",
       "      <th>F1 Score</th>\n",
       "    </tr>\n",
       "  </thead>\n",
       "  <tbody>\n",
       "    <tr>\n",
       "      <th>Perceptron</th>\n",
       "      <td>2.772516</td>\n",
       "      <td>0.90155</td>\n",
       "      <td>0.902619</td>\n",
       "      <td>0.516970</td>\n",
       "      <td>0.310697</td>\n",
       "      <td>0.388129</td>\n",
       "    </tr>\n",
       "    <tr>\n",
       "      <th>Logistic Regression</th>\n",
       "      <td>30.671190</td>\n",
       "      <td>0.91290</td>\n",
       "      <td>0.914356</td>\n",
       "      <td>0.672237</td>\n",
       "      <td>0.260199</td>\n",
       "      <td>0.375179</td>\n",
       "    </tr>\n",
       "    <tr>\n",
       "      <th>Decision Tree</th>\n",
       "      <td>465.482656</td>\n",
       "      <td>0.83600</td>\n",
       "      <td>1.000000</td>\n",
       "      <td>0.198050</td>\n",
       "      <td>0.207214</td>\n",
       "      <td>0.202529</td>\n",
       "    </tr>\n",
       "  </tbody>\n",
       "</table>\n",
       "</div>"
      ],
      "text/plain": [
       "                     Model Fit Time  Test Score  Train Score  Precision Score  \\\n",
       "Perceptron                 2.772516     0.90155     0.902619         0.516970   \n",
       "Logistic Regression       30.671190     0.91290     0.914356         0.672237   \n",
       "Decision Tree            465.482656     0.83600     1.000000         0.198050   \n",
       "\n",
       "                     Recall Score  F1 Score  \n",
       "Perceptron               0.310697  0.388129  \n",
       "Logistic Regression      0.260199  0.375179  \n",
       "Decision Tree            0.207214  0.202529  "
      ]
     },
     "execution_count": 90,
     "metadata": {},
     "output_type": "execute_result"
    }
   ],
   "source": [
    "result = {\n",
    "    'Model Fit Time': [ppn_time,lr_time,dt_time],\n",
    "    'Test Score': [ppn.score(x_test,y_test),lr.score(x_test,y_test),dt.score(x_test,y_test)],\n",
    "    'Train Score': [ppn.score(x_train,y_train),lr.score(x_train,y_train),dt.score(x_train,y_train)],\n",
    "    'Precision Score': [precision_score(y_test,ppn_pred),precision_score(y_test,lr_pred),precision_score(y_test,dt_pred)],\n",
    "    'Recall Score': [recall_score(y_test,ppn_pred),recall_score(y_test,lr_pred),recall_score(y_test,dt_pred)],\n",
    "    'F1 Score': [f1_score(y_test,ppn_pred),f1_score(y_test,lr_pred),f1_score(y_test,dt_pred)],\n",
    "}\n",
    "result = pd.DataFrame(result, index=['Perceptron','Logistic Regression','Decision Tree'])\n",
    "result"
   ]
  },
  {
   "cell_type": "code",
   "execution_count": 91,
   "metadata": {},
   "outputs": [
    {
     "data": {
      "image/png": "[encoded data removed]",
      "text/plain": [
       "<Figure size 2000x600 with 6 Axes>"
      ]
     },
     "metadata": {},
     "output_type": "display_data"
    }
   ],
   "source": [
    "ppn_matrix = confusion_matrix(y_test, ppn_pred) \n",
    "ppn_display = ConfusionMatrixDisplay(confusion_matrix = ppn_matrix, display_labels = [False, True]) \n",
    "\n",
    "lr_matrix = confusion_matrix(y_test, lr_pred) \n",
    "lr_display = ConfusionMatrixDisplay(confusion_matrix = lr_matrix, display_labels = [False, True]) \n",
    "\n",
    "dt_matrix = confusion_matrix(y_test, dt_pred) \n",
    "dt_display = ConfusionMatrixDisplay(confusion_matrix = dt_matrix, display_labels = [False, True])\n",
    "\n",
    "title_size = 16\n",
    "plt.rcParams.update({'font.size':16})\n",
    "fig, (ax1, ax2, ax3) = plt.subplots(1, 3,figsize=(20,6))\n",
    "ax1.set_title('Perceptron',size=title_size)\n",
    "ax1.grid(False)\n",
    "ppn_display.plot(ax=ax1)\n",
    "\n",
    "ax2.set_title('Logistic Regression',size=title_size)\n",
    "ax2.grid(False)\n",
    "lr_display.plot(ax=ax2)\n",
    "\n",
    "ax3.set_title('Decision Tree',size=title_size)\n",
    "ax3.grid(False)\n",
    "dt_display.plot(ax=ax3)\n",
    "\n",
    "plt.show()\n"
   ]
  },
  {
   "cell_type": "markdown",
   "metadata": {},
   "source": [
    "#  PreProcessing"
   ]
  },
  {
   "cell_type": "markdown",
   "metadata": {},
   "source": [
    "# Min Max Scaler"
   ]
  },
  {
   "cell_type": "code",
   "execution_count": 92,
   "metadata": {},
   "outputs": [],
   "source": [
    "scaler = MinMaxScaler()\n",
    "scaler.fit(x)\n",
    "x_minmax = scaler.transform(x)"
   ]
  },
  {
   "cell_type": "code",
   "execution_count": 93,
   "metadata": {},
   "outputs": [
    {
     "data": {
      "text/html": [
       "<div>\n",
       "<style scoped>\n",
       "    .dataframe tbody tr th:only-of-type {\n",
       "        vertical-align: middle;\n",
       "    }\n",
       "\n",
       "    .dataframe tbody tr th {\n",
       "        vertical-align: top;\n",
       "    }\n",
       "\n",
       "    .dataframe thead th {\n",
       "        text-align: right;\n",
       "    }\n",
       "</style>\n",
       "<table border=\"1\" class=\"dataframe\">\n",
       "  <thead>\n",
       "    <tr style=\"text-align: right;\">\n",
       "      <th></th>\n",
       "      <th>Model Fit Time</th>\n",
       "      <th>Test Score</th>\n",
       "      <th>Train Score</th>\n",
       "      <th>Precision Score</th>\n",
       "      <th>Recall Score</th>\n",
       "      <th>F1 Score</th>\n",
       "    </tr>\n",
       "  </thead>\n",
       "  <tbody>\n",
       "    <tr>\n",
       "      <th>Perceptron</th>\n",
       "      <td>0.770000</td>\n",
       "      <td>0.86235</td>\n",
       "      <td>0.865231</td>\n",
       "      <td>0.378714</td>\n",
       "      <td>0.577114</td>\n",
       "      <td>0.457323</td>\n",
       "    </tr>\n",
       "    <tr>\n",
       "      <th>Logistic Regression</th>\n",
       "      <td>2.044988</td>\n",
       "      <td>0.91150</td>\n",
       "      <td>0.915119</td>\n",
       "      <td>0.651324</td>\n",
       "      <td>0.256965</td>\n",
       "      <td>0.368534</td>\n",
       "    </tr>\n",
       "    <tr>\n",
       "      <th>Decision Tree</th>\n",
       "      <td>538.928006</td>\n",
       "      <td>0.83660</td>\n",
       "      <td>1.000000</td>\n",
       "      <td>0.200333</td>\n",
       "      <td>0.209204</td>\n",
       "      <td>0.204673</td>\n",
       "    </tr>\n",
       "  </tbody>\n",
       "</table>\n",
       "</div>"
      ],
      "text/plain": [
       "                     Model Fit Time  Test Score  Train Score  Precision Score  \\\n",
       "Perceptron                 0.770000     0.86235     0.865231         0.378714   \n",
       "Logistic Regression        2.044988     0.91150     0.915119         0.651324   \n",
       "Decision Tree            538.928006     0.83660     1.000000         0.200333   \n",
       "\n",
       "                     Recall Score  F1 Score  \n",
       "Perceptron               0.577114  0.457323  \n",
       "Logistic Regression      0.256965  0.368534  \n",
       "Decision Tree            0.209204  0.204673  "
      ]
     },
     "execution_count": 93,
     "metadata": {},
     "output_type": "execute_result"
    }
   ],
   "source": [
    "x_train, x_test, y_train, y_test = train_test_split(x_minmax, y, train_size= .8,stratify=y)\n",
    "ppn = Perceptron(random_state=2)\n",
    "st = time.time()\n",
    "ppn.fit(x_train,y_train)\n",
    "en = time.time()\n",
    "ppn_time = en - st\n",
    "ppn_pred = ppn.predict(x_test)\n",
    "\n",
    "lr = LogisticRegression(random_state=2,max_iter=500)\n",
    "st = time.time()\n",
    "lr.fit(x_train,y_train)\n",
    "en = time.time()\n",
    "lr_time = en - st\n",
    "lr_pred = lr.predict(x_test)\n",
    "\n",
    "dt = DecisionTreeClassifier()\n",
    "st = time.time()\n",
    "dt.fit(x_train,y_train)\n",
    "en = time.time()\n",
    "dt_time = en - st\n",
    "dt_pred = dt.predict(x_test)\n",
    "\n",
    "min_max_scaler = {\n",
    "    'Model Fit Time': [ppn_time,lr_time,dt_time],\n",
    "    'Test Score': [ppn.score(x_test,y_test),lr.score(x_test,y_test),dt.score(x_test,y_test)],\n",
    "    'Train Score': [ppn.score(x_train,y_train),lr.score(x_train,y_train),dt.score(x_train,y_train)],\n",
    "    'Precision Score': [precision_score(y_test,ppn_pred),precision_score(y_test,lr_pred),precision_score(y_test,dt_pred)],\n",
    "    'Recall Score': [recall_score(y_test,ppn_pred),recall_score(y_test,lr_pred),recall_score(y_test,dt_pred)],\n",
    "    'F1 Score': [f1_score(y_test,ppn_pred),f1_score(y_test,lr_pred),f1_score(y_test,dt_pred)],\n",
    "}\n",
    "min_max_scaler = pd.DataFrame(min_max_scaler, index=['Perceptron','Logistic Regression','Decision Tree'])\n",
    "min_max_scaler"
   ]
  },
  {
   "cell_type": "markdown",
   "metadata": {},
   "source": [
    "# Normalizer"
   ]
  },
  {
   "cell_type": "code",
   "execution_count": 94,
   "metadata": {},
   "outputs": [],
   "source": [
    "norm = Normalizer()\n",
    "norm.fit(x)\n",
    "x_norm = norm.transform(x)"
   ]
  },
  {
   "cell_type": "code",
   "execution_count": 95,
   "metadata": {},
   "outputs": [
    {
     "data": {
      "text/html": [
       "<div>\n",
       "<style scoped>\n",
       "    .dataframe tbody tr th:only-of-type {\n",
       "        vertical-align: middle;\n",
       "    }\n",
       "\n",
       "    .dataframe tbody tr th {\n",
       "        vertical-align: top;\n",
       "    }\n",
       "\n",
       "    .dataframe thead th {\n",
       "        text-align: right;\n",
       "    }\n",
       "</style>\n",
       "<table border=\"1\" class=\"dataframe\">\n",
       "  <thead>\n",
       "    <tr style=\"text-align: right;\">\n",
       "      <th></th>\n",
       "      <th>Model Fit Time</th>\n",
       "      <th>Test Score</th>\n",
       "      <th>Train Score</th>\n",
       "      <th>Precision Score</th>\n",
       "      <th>Recall Score</th>\n",
       "      <th>F1 Score</th>\n",
       "    </tr>\n",
       "  </thead>\n",
       "  <tbody>\n",
       "    <tr>\n",
       "      <th>Perceptron</th>\n",
       "      <td>0.889000</td>\n",
       "      <td>0.904900</td>\n",
       "      <td>0.905069</td>\n",
       "      <td>0.835404</td>\n",
       "      <td>0.066915</td>\n",
       "      <td>0.123906</td>\n",
       "    </tr>\n",
       "    <tr>\n",
       "      <th>Logistic Regression</th>\n",
       "      <td>4.238988</td>\n",
       "      <td>0.908675</td>\n",
       "      <td>0.909619</td>\n",
       "      <td>0.717160</td>\n",
       "      <td>0.150746</td>\n",
       "      <td>0.249126</td>\n",
       "    </tr>\n",
       "    <tr>\n",
       "      <th>Decision Tree</th>\n",
       "      <td>579.792010</td>\n",
       "      <td>0.834950</td>\n",
       "      <td>1.000000</td>\n",
       "      <td>0.203355</td>\n",
       "      <td>0.220149</td>\n",
       "      <td>0.211419</td>\n",
       "    </tr>\n",
       "  </tbody>\n",
       "</table>\n",
       "</div>"
      ],
      "text/plain": [
       "                     Model Fit Time  Test Score  Train Score  Precision Score  \\\n",
       "Perceptron                 0.889000    0.904900     0.905069         0.835404   \n",
       "Logistic Regression        4.238988    0.908675     0.909619         0.717160   \n",
       "Decision Tree            579.792010    0.834950     1.000000         0.203355   \n",
       "\n",
       "                     Recall Score  F1 Score  \n",
       "Perceptron               0.066915  0.123906  \n",
       "Logistic Regression      0.150746  0.249126  \n",
       "Decision Tree            0.220149  0.211419  "
      ]
     },
     "execution_count": 95,
     "metadata": {},
     "output_type": "execute_result"
    }
   ],
   "source": [
    "x_train, x_test, y_train, y_test = train_test_split(x_norm, y, train_size= .8,stratify=y)\n",
    "ppn = Perceptron(random_state=2)\n",
    "st = time.time()\n",
    "ppn.fit(x_train,y_train)\n",
    "en = time.time()\n",
    "ppn_time = en - st\n",
    "ppn_pred = ppn.predict(x_test)\n",
    "\n",
    "lr = LogisticRegression(random_state=2,max_iter=500)\n",
    "st = time.time()\n",
    "lr.fit(x_train,y_train)\n",
    "en = time.time()\n",
    "lr_time = en - st\n",
    "lr_pred = lr.predict(x_test)\n",
    "\n",
    "dt = DecisionTreeClassifier()\n",
    "st = time.time()\n",
    "dt.fit(x_train,y_train)\n",
    "en = time.time()\n",
    "dt_time = en - st\n",
    "dt_pred = dt.predict(x_test)\n",
    "\n",
    "normalize = {\n",
    "    'Model Fit Time': [ppn_time,lr_time,dt_time],\n",
    "    'Test Score': [ppn.score(x_test,y_test),lr.score(x_test,y_test),dt.score(x_test,y_test)],\n",
    "    'Train Score': [ppn.score(x_train,y_train),lr.score(x_train,y_train),dt.score(x_train,y_train)],\n",
    "    'Precision Score': [precision_score(y_test,ppn_pred),precision_score(y_test,lr_pred),precision_score(y_test,dt_pred)],\n",
    "    'Recall Score': [recall_score(y_test,ppn_pred),recall_score(y_test,lr_pred),recall_score(y_test,dt_pred)],\n",
    "    'F1 Score': [f1_score(y_test,ppn_pred),f1_score(y_test,lr_pred),f1_score(y_test,dt_pred)],\n",
    "}\n",
    "normalize = pd.DataFrame(normalize, index=['Perceptron','Logistic Regression','Decision Tree'])\n",
    "normalize"
   ]
  },
  {
   "cell_type": "markdown",
   "metadata": {},
   "source": [
    "# RobustScaler"
   ]
  },
  {
   "cell_type": "code",
   "execution_count": 96,
   "metadata": {},
   "outputs": [],
   "source": [
    "robust_scaler = RobustScaler()\n",
    "robust_scaler.fit(x)\n",
    "x_robust = robust_scaler.transform(x)"
   ]
  },
  {
   "cell_type": "code",
   "execution_count": 97,
   "metadata": {},
   "outputs": [
    {
     "data": {
      "text/html": [
       "<div>\n",
       "<style scoped>\n",
       "    .dataframe tbody tr th:only-of-type {\n",
       "        vertical-align: middle;\n",
       "    }\n",
       "\n",
       "    .dataframe tbody tr th {\n",
       "        vertical-align: top;\n",
       "    }\n",
       "\n",
       "    .dataframe thead th {\n",
       "        text-align: right;\n",
       "    }\n",
       "</style>\n",
       "<table border=\"1\" class=\"dataframe\">\n",
       "  <thead>\n",
       "    <tr style=\"text-align: right;\">\n",
       "      <th></th>\n",
       "      <th>Model Fit Time</th>\n",
       "      <th>Test Score</th>\n",
       "      <th>Train Score</th>\n",
       "      <th>Precision Score</th>\n",
       "      <th>Recall Score</th>\n",
       "      <th>F1 Score</th>\n",
       "    </tr>\n",
       "  </thead>\n",
       "  <tbody>\n",
       "    <tr>\n",
       "      <th>Perceptron</th>\n",
       "      <td>1.345001</td>\n",
       "      <td>0.872775</td>\n",
       "      <td>0.873162</td>\n",
       "      <td>0.353522</td>\n",
       "      <td>0.320896</td>\n",
       "      <td>0.336419</td>\n",
       "    </tr>\n",
       "    <tr>\n",
       "      <th>Logistic Regression</th>\n",
       "      <td>0.507999</td>\n",
       "      <td>0.913725</td>\n",
       "      <td>0.914631</td>\n",
       "      <td>0.687048</td>\n",
       "      <td>0.259950</td>\n",
       "      <td>0.377188</td>\n",
       "    </tr>\n",
       "    <tr>\n",
       "      <th>Decision Tree</th>\n",
       "      <td>547.584999</td>\n",
       "      <td>0.838925</td>\n",
       "      <td>1.000000</td>\n",
       "      <td>0.204872</td>\n",
       "      <td>0.209204</td>\n",
       "      <td>0.207015</td>\n",
       "    </tr>\n",
       "  </tbody>\n",
       "</table>\n",
       "</div>"
      ],
      "text/plain": [
       "                     Model Fit Time  Test Score  Train Score  Precision Score  \\\n",
       "Perceptron                 1.345001    0.872775     0.873162         0.353522   \n",
       "Logistic Regression        0.507999    0.913725     0.914631         0.687048   \n",
       "Decision Tree            547.584999    0.838925     1.000000         0.204872   \n",
       "\n",
       "                     Recall Score  F1 Score  \n",
       "Perceptron               0.320896  0.336419  \n",
       "Logistic Regression      0.259950  0.377188  \n",
       "Decision Tree            0.209204  0.207015  "
      ]
     },
     "execution_count": 97,
     "metadata": {},
     "output_type": "execute_result"
    }
   ],
   "source": [
    "x_train, x_test, y_train, y_test = train_test_split(x_robust, y, train_size= .8,stratify=y)\n",
    "ppn = Perceptron(random_state=2)\n",
    "st = time.time()\n",
    "ppn.fit(x_train,y_train)\n",
    "en = time.time()\n",
    "ppn_time = en - st\n",
    "ppn_pred = ppn.predict(x_test)\n",
    "\n",
    "lr = LogisticRegression(random_state=2,max_iter=500)\n",
    "st = time.time()\n",
    "lr.fit(x_train,y_train)\n",
    "en = time.time()\n",
    "lr_time = en - st\n",
    "lr_pred = lr.predict(x_test)\n",
    "\n",
    "dt = DecisionTreeClassifier()\n",
    "st = time.time()\n",
    "dt.fit(x_train,y_train)\n",
    "en = time.time()\n",
    "dt_time = en - st\n",
    "dt_pred = dt.predict(x_test)\n",
    "\n",
    "robust_scaler_pd = {\n",
    "    'Model Fit Time': [ppn_time,lr_time,dt_time],\n",
    "    'Test Score': [ppn.score(x_test,y_test),lr.score(x_test,y_test),dt.score(x_test,y_test)],\n",
    "    'Train Score': [ppn.score(x_train,y_train),lr.score(x_train,y_train),dt.score(x_train,y_train)],\n",
    "    'Precision Score': [precision_score(y_test,ppn_pred),precision_score(y_test,lr_pred),precision_score(y_test,dt_pred)],\n",
    "    'Recall Score': [recall_score(y_test,ppn_pred),recall_score(y_test,lr_pred),recall_score(y_test,dt_pred)],\n",
    "    'F1 Score': [f1_score(y_test,ppn_pred),f1_score(y_test,lr_pred),f1_score(y_test,dt_pred)],\n",
    "}\n",
    "robust_scaler_pd = pd.DataFrame(robust_scaler_pd, index=['Perceptron','Logistic Regression','Decision Tree'])\n",
    "robust_scaler_pd"
   ]
  },
  {
   "cell_type": "markdown",
   "metadata": {},
   "source": [
    "# StandardScaler"
   ]
  },
  {
   "cell_type": "code",
   "execution_count": 98,
   "metadata": {},
   "outputs": [],
   "source": [
    "std_scaler = StandardScaler()\n",
    "std_scaler.fit(x)\n",
    "x_std_scaler = std_scaler.transform(x)\n"
   ]
  },
  {
   "cell_type": "code",
   "execution_count": 99,
   "metadata": {},
   "outputs": [
    {
     "data": {
      "text/html": [
       "<div>\n",
       "<style scoped>\n",
       "    .dataframe tbody tr th:only-of-type {\n",
       "        vertical-align: middle;\n",
       "    }\n",
       "\n",
       "    .dataframe tbody tr th {\n",
       "        vertical-align: top;\n",
       "    }\n",
       "\n",
       "    .dataframe thead th {\n",
       "        text-align: right;\n",
       "    }\n",
       "</style>\n",
       "<table border=\"1\" class=\"dataframe\">\n",
       "  <thead>\n",
       "    <tr style=\"text-align: right;\">\n",
       "      <th></th>\n",
       "      <th>Model Fit Time</th>\n",
       "      <th>Test Score</th>\n",
       "      <th>Train Score</th>\n",
       "      <th>Precision Score</th>\n",
       "      <th>Recall Score</th>\n",
       "      <th>F1 Score</th>\n",
       "    </tr>\n",
       "  </thead>\n",
       "  <tbody>\n",
       "    <tr>\n",
       "      <th>Perceptron</th>\n",
       "      <td>1.224000</td>\n",
       "      <td>0.876250</td>\n",
       "      <td>0.875269</td>\n",
       "      <td>0.363876</td>\n",
       "      <td>0.309204</td>\n",
       "      <td>0.334320</td>\n",
       "    </tr>\n",
       "    <tr>\n",
       "      <th>Logistic Regression</th>\n",
       "      <td>0.518987</td>\n",
       "      <td>0.915350</td>\n",
       "      <td>0.914238</td>\n",
       "      <td>0.694240</td>\n",
       "      <td>0.281841</td>\n",
       "      <td>0.400920</td>\n",
       "    </tr>\n",
       "    <tr>\n",
       "      <th>Decision Tree</th>\n",
       "      <td>526.141009</td>\n",
       "      <td>0.836825</td>\n",
       "      <td>1.000000</td>\n",
       "      <td>0.205405</td>\n",
       "      <td>0.217413</td>\n",
       "      <td>0.211239</td>\n",
       "    </tr>\n",
       "  </tbody>\n",
       "</table>\n",
       "</div>"
      ],
      "text/plain": [
       "                     Model Fit Time  Test Score  Train Score  Precision Score  \\\n",
       "Perceptron                 1.224000    0.876250     0.875269         0.363876   \n",
       "Logistic Regression        0.518987    0.915350     0.914238         0.694240   \n",
       "Decision Tree            526.141009    0.836825     1.000000         0.205405   \n",
       "\n",
       "                     Recall Score  F1 Score  \n",
       "Perceptron               0.309204  0.334320  \n",
       "Logistic Regression      0.281841  0.400920  \n",
       "Decision Tree            0.217413  0.211239  "
      ]
     },
     "execution_count": 99,
     "metadata": {},
     "output_type": "execute_result"
    }
   ],
   "source": [
    "x_train, x_test, y_train, y_test = train_test_split(x_std_scaler, y, train_size= .8,stratify=y)\n",
    "ppn = Perceptron(random_state=2)\n",
    "st = time.time()\n",
    "ppn.fit(x_train,y_train)\n",
    "en = time.time()\n",
    "ppn_time = en - st\n",
    "ppn_pred = ppn.predict(x_test)\n",
    "\n",
    "lr = LogisticRegression(random_state=2,max_iter=500)\n",
    "st = time.time()\n",
    "lr.fit(x_train,y_train)\n",
    "en = time.time()\n",
    "lr_time = en - st\n",
    "lr_pred = lr.predict(x_test)\n",
    "\n",
    "dt = DecisionTreeClassifier()\n",
    "st = time.time()\n",
    "dt.fit(x_train,y_train)\n",
    "en = time.time()\n",
    "dt_time = en - st\n",
    "dt_pred = dt.predict(x_test)\n",
    "\n",
    "std_scaler_pd = {\n",
    "    'Model Fit Time': [ppn_time,lr_time,dt_time],\n",
    "    'Test Score': [ppn.score(x_test,y_test),lr.score(x_test,y_test),dt.score(x_test,y_test)],\n",
    "    'Train Score': [ppn.score(x_train,y_train),lr.score(x_train,y_train),dt.score(x_train,y_train)],\n",
    "    'Precision Score': [precision_score(y_test,ppn_pred),precision_score(y_test,lr_pred),precision_score(y_test,dt_pred)],\n",
    "    'Recall Score': [recall_score(y_test,ppn_pred),recall_score(y_test,lr_pred),recall_score(y_test,dt_pred)],\n",
    "    'F1 Score': [f1_score(y_test,ppn_pred),f1_score(y_test,lr_pred),f1_score(y_test,dt_pred)],\n",
    "}\n",
    "std_scaler_pd = pd.DataFrame(std_scaler_pd, index=['Perceptron','Logistic Regression','Decision Tree'])\n",
    "std_scaler_pd"
   ]
  },
  {
   "cell_type": "markdown",
   "metadata": {},
   "source": [
    "# PCA"
   ]
  },
  {
   "cell_type": "code",
   "execution_count": 100,
   "metadata": {},
   "outputs": [],
   "source": [
    "principal=PCA(n_components=100)\n",
    "principal.fit(x_std_scaler)\n",
    "pca_std = principal.transform(x_std_scaler)\n",
    "\n",
    "principal.fit(x_norm)\n",
    "pca_norm = principal.transform(x_norm)\n",
    "\n",
    "principal.fit(x_robust)\n",
    "pca_robust = principal.transform(x_robust)\n",
    "\n",
    "principal.fit(x_minmax)\n",
    "pca_minmax = principal.transform(x_minmax)"
   ]
  },
  {
   "cell_type": "code",
   "execution_count": 103,
   "metadata": {},
   "outputs": [
    {
     "name": "stdout",
     "output_type": "stream",
     "text": [
      "PCA + Standard Scaler\n",
      "Model Fit Time: 0.27599358558654785\n",
      "Test Score: 0.9136\n",
      "Train Score: 0.914425\n",
      "Precision Score: 0.6782553729456384\n",
      "Recall Score: 0.26691542288557213\n",
      "F1 Score: 0.38307747233131023\n"
     ]
    }
   ],
   "source": [
    "x_train, x_test, y_train, y_test = train_test_split(pca_std, y, train_size= .8,stratify=y)\n",
    "\n",
    "lr = LogisticRegression(random_state=2,max_iter=500)\n",
    "st = time.time()\n",
    "lr.fit(x_train,y_train)\n",
    "en = time.time()\n",
    "lr_time = en - st\n",
    "lr_pred = lr.predict(x_test)\n",
    "\n",
    "print('PCA + Standard Scaler')\n",
    "print('Model Fit Time: '  + str(lr_time))\n",
    "print('Test Score: ' + str(lr.score(x_test,y_test)))\n",
    "print('Train Score: ' + str(lr.score(x_train,y_train)))\n",
    "print('Precision Score: ' + str(precision_score(y_test,lr_pred)))\n",
    "print('Recall Score: ' + str(recall_score(y_test,lr_pred)))\n",
    "print('F1 Score: '  + str(f1_score(y_test,lr_pred)))\n"
   ]
  },
  {
   "cell_type": "code",
   "execution_count": 106,
   "metadata": {},
   "outputs": [
    {
     "name": "stdout",
     "output_type": "stream",
     "text": [
      "PCA + Robust Scaler\n",
      "Model Fit Time: 0.3139991760253906\n",
      "Test Score: 0.913525\n",
      "Train Score: 0.91305625\n",
      "Precision Score: 0.6888888888888889\n",
      "Recall Score: 0.2544776119402985\n",
      "F1 Score: 0.37166212534059945\n"
     ]
    }
   ],
   "source": [
    "x_train, x_test, y_train, y_test = train_test_split(pca_robust, y, train_size= .8,stratify=y)\n",
    "\n",
    "lr = LogisticRegression(random_state=2,max_iter=500)\n",
    "st = time.time()\n",
    "lr.fit(x_train,y_train)\n",
    "en = time.time()\n",
    "lr_time = en - st\n",
    "lr_pred = lr.predict(x_test)\n",
    "\n",
    "print('PCA + Robust Scaler')\n",
    "print('Model Fit Time: '  + str(lr_time))\n",
    "print('Test Score: ' + str(lr.score(x_test,y_test)))\n",
    "print('Train Score: ' + str(lr.score(x_train,y_train)))\n",
    "print('Precision Score: ' + str(precision_score(y_test,lr_pred)))\n",
    "print('Recall Score: ' + str(recall_score(y_test,lr_pred)))\n",
    "print('F1 Score: '  + str(f1_score(y_test,lr_pred)))"
   ]
  },
  {
   "cell_type": "code",
   "execution_count": 105,
   "metadata": {},
   "outputs": [
    {
     "name": "stdout",
     "output_type": "stream",
     "text": [
      "PCA + Normalize\n",
      "Model Fit Time: 1.1310083866119385\n",
      "Test Score: 0.902525\n",
      "Train Score: 0.902825\n",
      "Precision Score: 0.6604774535809018\n",
      "Recall Score: 0.06194029850746269\n",
      "F1 Score: 0.11325904025471913\n"
     ]
    }
   ],
   "source": [
    "x_train, x_test, y_train, y_test = train_test_split(pca_norm, y, train_size= .8,stratify=y)\n",
    "\n",
    "lr = LogisticRegression(random_state=2,max_iter=500)\n",
    "st = time.time()\n",
    "lr.fit(x_train,y_train)\n",
    "en = time.time()\n",
    "lr_time = en - st\n",
    "lr_pred = lr.predict(x_test)\n",
    "\n",
    "print('PCA + Normalize')\n",
    "print('Model Fit Time: '  + str(lr_time))\n",
    "print('Test Score: ' + str(lr.score(x_test,y_test)))\n",
    "print('Train Score: ' + str(lr.score(x_train,y_train)))\n",
    "print('Precision Score: ' + str(precision_score(y_test,lr_pred)))\n",
    "print('Recall Score: ' + str(recall_score(y_test,lr_pred)))\n",
    "print('F1 Score: '  + str(f1_score(y_test,lr_pred)))"
   ]
  },
  {
   "cell_type": "code",
   "execution_count": 104,
   "metadata": {},
   "outputs": [
    {
     "name": "stdout",
     "output_type": "stream",
     "text": [
      "PCA + Min Max Scaler\n",
      "Model Fit Time: 0.42699217796325684\n",
      "Test Score: 0.910075\n",
      "Train Score: 0.91000625\n",
      "Precision Score: 0.6746490503715937\n",
      "Recall Score: 0.20323383084577115\n",
      "F1 Score: 0.3123685719747658\n"
     ]
    }
   ],
   "source": [
    "x_train, x_test, y_train, y_test = train_test_split(pca_minmax, y, train_size= .8,stratify=y)\n",
    "\n",
    "lr = LogisticRegression(random_state=2,max_iter=500)\n",
    "st = time.time()\n",
    "lr.fit(x_train,y_train)\n",
    "en = time.time()\n",
    "lr_time = en - st\n",
    "lr_pred = lr.predict(x_test)\n",
    "\n",
    "print('PCA + Min Max Scaler')\n",
    "print('Model Fit Time: '  + str(lr_time))\n",
    "print('Test Score: ' + str(lr.score(x_test,y_test)))\n",
    "print('Train Score: ' + str(lr.score(x_train,y_train)))\n",
    "print('Precision Score: ' + str(precision_score(y_test,lr_pred)))\n",
    "print('Recall Score: ' + str(recall_score(y_test,lr_pred)))\n",
    "print('F1 Score: '  + str(f1_score(y_test,lr_pred)))"
   ]
  },
  {
   "cell_type": "code",
   "execution_count": 107,
   "metadata": {},
   "outputs": [
    {
     "data": {
      "text/plain": [
       "0.916"
      ]
     },
     "execution_count": 107,
     "metadata": {},
     "output_type": "execute_result"
    }
   ],
   "source": [
    "from sklearn.svm import SVC\n",
    "\n",
    "x_train, x_test, y_train, y_test = train_test_split(x_std_scaler, y, train_size= .8,stratify=y)\n",
    "\n",
    "sv = SVC()\n",
    "sv.fit(x_train,y_train)\n",
    "sv.score(x_test,y_test)"
   ]
  },
  {
   "cell_type": "code",
   "execution_count": 108,
   "metadata": {},
   "outputs": [],
   "source": [
    "sv_pred = sv.predict(x_test)"
   ]
  },
  {
   "cell_type": "code",
   "execution_count": 109,
   "metadata": {},
   "outputs": [
    {
     "name": "stdout",
     "output_type": "stream",
     "text": [
      "              precision    recall  f1-score   support\n",
      "\n",
      "           0       0.92      0.99      0.96     35980\n",
      "           1       0.76      0.24      0.37      4020\n",
      "\n",
      "    accuracy                           0.92     40000\n",
      "   macro avg       0.84      0.62      0.66     40000\n",
      "weighted avg       0.90      0.92      0.90     40000\n",
      "\n"
     ]
    }
   ],
   "source": [
    "print(classification_report(y_test,sv_pred))"
   ]
  },
  {
   "cell_type": "code",
   "execution_count": 112,
   "metadata": {},
   "outputs": [
    {
     "data": {
      "image/png": "[encoded data removed]",
      "text/plain": [
       "<Figure size 640x480 with 2 Axes>"
      ]
     },
     "metadata": {},
     "output_type": "display_data"
    }
   ],
   "source": [
    "sv_matrix = confusion_matrix(y_test, sv_pred) \n",
    "sv_display = ConfusionMatrixDisplay(confusion_matrix = sv_matrix, display_labels = [False, True]) \n",
    "\n",
    "sv_display.plot()\n",
    "plt.grid(False);"
   ]
  }
 ],
 "metadata": {
  "kernelspec": {
   "display_name": "Python 3",
   "language": "python",
   "name": "python3"
  },
  "language_info": {
   "codemirror_mode": {
    "name": "ipython",
    "version": 3
   },
   "file_extension": ".py",
   "mimetype": "text/x-python",
   "name": "python",
   "nbconvert_exporter": "python",
   "pygments_lexer": "ipython3",
   "version": "3.12.3"
  }
 },
 "nbformat": 4,
 "nbformat_minor": 2
}
