{
 "cells": [
  {
   "cell_type": "markdown",
   "metadata": {},
   "source": [
    "### Import Lib"
   ]
  },
  {
   "cell_type": "code",
   "execution_count": 25,
   "metadata": {},
   "outputs": [],
   "source": [
    "import pandas as pd\n",
    "import matplotlib.pyplot as plt\n",
    "import numpy as np\n",
    "import seaborn as sns\n",
    "import plotly.express as px\n",
    "from plotly import graph_objects as go\n",
    "from plotly.subplots import make_subplots"
   ]
  },
  {
   "cell_type": "markdown",
   "metadata": {},
   "source": [
    "### Read Dataset"
   ]
  },
  {
   "cell_type": "code",
   "execution_count": 26,
   "metadata": {},
   "outputs": [],
   "source": [
    "df_2017 = pd.read_csv('2017.csv', low_memory=False, encoding='iso-8859-1')\n",
    "df_2018 = pd.read_csv('2018.csv', low_memory=False)\n",
    "df_2019 = pd.read_csv('2019.csv', low_memory=False)\n",
    "df_2020 = pd.read_csv('2020.csv', low_memory=False)\n",
    "df_2021 = pd.read_csv('2021.csv', low_memory=False)\n",
    "df_2022 = pd.read_csv('2022.csv', low_memory=False)"
   ]
  },
  {
   "cell_type": "markdown",
   "metadata": {},
   "source": [
    "### Split Country 2017-2022"
   ]
  },
  {
   "cell_type": "code",
   "execution_count": 27,
   "metadata": {},
   "outputs": [],
   "source": [
    "country_2017 = df_2017['Country'].value_counts()\n",
    "country_2017 = pd.DataFrame(country_2017)\n",
    "country_2017['year'] = 2017\n",
    "country_2017 = pd.DataFrame(country_2017).reset_index()\n",
    "\n",
    "country_2018 = df_2018['Q3'].value_counts()\n",
    "country_2018 = pd.DataFrame(country_2018)\n",
    "country_2018['year'] = 2018\n",
    "country_2018 = pd.DataFrame(country_2018).reset_index()\n",
    "country_2018 = country_2018.rename(columns={'Q3':'Country'})\n",
    "\n",
    "\n",
    "country_2019 = df_2019['Q3'].value_counts()\n",
    "country_2019 = pd.DataFrame(country_2019)\n",
    "country_2019['year'] = 2019\n",
    "country_2019 = pd.DataFrame(country_2019).reset_index()\n",
    "country_2019 = country_2019.rename(columns={'Q3':'Country'})\n",
    "\n",
    "country_2020 = df_2020['Q3'].value_counts()\n",
    "country_2020 = pd.DataFrame(country_2020)\n",
    "country_2020['year'] = 2020\n",
    "country_2020 = pd.DataFrame(country_2020).reset_index()\n",
    "country_2020 = country_2020.rename(columns={'Q3':'Country'})\n",
    "\n",
    "country_2021 = df_2021['Q3'].value_counts()\n",
    "country_2021 = pd.DataFrame(country_2021)\n",
    "country_2021['year'] = 2021\n",
    "country_2021 = pd.DataFrame(country_2021).reset_index()\n",
    "country_2021 = country_2021.rename(columns={'Q3':'Country'})\n",
    "\n",
    "country_2022 = df_2022['Q4'].value_counts()\n",
    "country_2022 = pd.DataFrame(country_2022)\n",
    "country_2022['year'] = 2022\n",
    "country_2022 = pd.DataFrame(country_2022).reset_index()\n",
    "country_2022 = country_2022.rename(columns={'Q4':'Country'})\n",
    "\n",
    "country_All = pd.concat([country_2017,country_2018,country_2019,country_2020,country_2021,country_2022])"
   ]
  },
  {
   "cell_type": "markdown",
   "metadata": {},
   "source": [
    "## Split Iran from dataset"
   ]
  },
  {
   "cell_type": "code",
   "execution_count": 28,
   "metadata": {},
   "outputs": [],
   "source": [
    "%%capture\n",
    "\n",
    "iran_2017 = df_2017[df_2017['Country'] == 'Iran']\n",
    "iran_2018 = df_2018[df_2018['Q3'] == 'Iran, Islamic Republic of...']\n",
    "iran_2019 = df_2019[df_2019['Q3'] == 'Iran, Islamic Republic of...']\n",
    "iran_2020 = df_2020[df_2020['Q3'] == 'Iran, Islamic Republic of...']\n",
    "iran_2021 = df_2021[df_2021['Q3'] == 'Iran, Islamic Republic of...']\n",
    "iran_2022 = df_2022[df_2022['Q4'] == 'Iran, Islamic Republic of...']\n",
    "\n",
    "Gender_map = {\n",
    "    'Male' : 'Man',\n",
    "    'Female' : 'Woman',\n",
    "    'A different identity' : 'Other'\n",
    "}\n",
    "iran_2017['GenderSelect'] = iran_2017['GenderSelect'].map(Gender_map)\n",
    "\n",
    "Gender_map1 = {\n",
    "    'Male' : 'Man',\n",
    "    'Female' : 'Woman',\n",
    "    'Prefer not to say' : 'Other'\n",
    "}\n",
    "iran_2018['Q1'] = iran_2018['Q1'].map(Gender_map1)\n",
    "iran_2019['Q2'] = iran_2019['Q2'].map(Gender_map1)\n",
    "\n",
    "Gender_map2 = {\n",
    "    'Man' : 'Man',\n",
    "    'Woman' : 'Woman',\n",
    "    'Prefer not to say' : 'Other'\n",
    "}\n",
    "iran_2020['Q2'] = iran_2020['Q2'].map(Gender_map2)\n",
    "iran_2021['Q2'] = iran_2021['Q2'].map(Gender_map2)\n",
    "\n",
    "Gender_map3 = {\n",
    "    'Man' : 'Man',\n",
    "    'Woman' : 'Woman',\n",
    "    'Prefer not to say' : 'Other',\n",
    "    'Nonbinary' : 'Other'\n",
    "}\n",
    "iran_2022['Q3'] = iran_2022['Q3'].map(Gender_map3)\n",
    "\n",
    "iran_Count = []\n",
    "iran_Count = pd.DataFrame(iran_Count)\n",
    "iran_Count['2017'] = iran_2017['GenderSelect'].value_counts()\n",
    "iran_Count['2018'] = iran_2018['Q1'].value_counts()\n",
    "iran_Count['2019'] = iran_2019['Q2'].value_counts()\n",
    "iran_Count['2020'] = iran_2020['Q2'].value_counts()\n",
    "iran_Count['2021'] = iran_2021['Q2'].value_counts()\n",
    "iran_Count['2022'] = iran_2022['Q3'].value_counts()\n",
    "\n",
    "iran_Count.T.sum(axis=1)\n",
    "iran_Count1 = iran_Count.T\n",
    "iran_Count1['Total'] = iran_Count1.sum(axis=1)"
   ]
  },
  {
   "cell_type": "markdown",
   "metadata": {},
   "source": [
    "## Combine Answer"
   ]
  },
  {
   "cell_type": "code",
   "execution_count": 29,
   "metadata": {},
   "outputs": [],
   "source": [
    "%%capture\n",
    "\n",
    "\n",
    "def combine(Columns,x,y):\n",
    "    for i in iran_2022.iloc[:,x:y].columns:\n",
    "        iran_2022[Columns] = iran_2022[Columns].fillna(iran_2022[i])\n",
    "\n",
    "# Q6 On which platforms have you begun or completed data science courses?\n",
    "combine('Q6_1',6,17)\n",
    "\n",
    "# Q7 What products or platforms did you find to be most helpful when you first started studying data science?\n",
    "combine('Q7_1',18,24)\n",
    "\n",
    "# Q10 Did your research make use of machine learning?\n",
    "combine('Q10_1',27,29)\n",
    "\n",
    "# Q12 What programming languages do you use on a regular basis?\n",
    "combine('Q12_1',31,45)\n",
    "\n",
    "# Q13 Which of the following integrated development environments (IDE's) do you use on a regular basis?\n",
    "combine('Q13_1',45,59)\n",
    "\n",
    "# Q15 Do you use any of the following data visualization libraries on a regular basis? \n",
    "combine('Q15_1',76,90)\n",
    "\n",
    "# Q17 Which of the following machine learning frameworks do you use on a regular basis?\n",
    "combine('Q17_1',91,106)\n",
    "\n",
    "# Q18 Which of the following ML algorithms do you use on a regular basis?\n",
    "combine('Q18_1',107,120)\n",
    "\n",
    "# Q19 Which categories of computer vision methods do you use on a regular basis?\n",
    "combine('Q19_1',121,128)\n",
    "\n",
    "# Q20 Which of the following natural language processing (NLP) methods do you use on a regular basis?\n",
    "combine('Q20_1',129,134)\n",
    "\n",
    "# Q35 Do you use any of the following data products (relational databases, data warehouses, data lakes,or similar)?\n",
    "combine('Q35_1',187,202)"
   ]
  },
  {
   "cell_type": "markdown",
   "metadata": {},
   "source": [
    "## Create New DataFrame"
   ]
  },
  {
   "cell_type": "code",
   "execution_count": 30,
   "metadata": {},
   "outputs": [],
   "source": [
    "def dataf_new(name,columns):\n",
    "    x = iran_2022[columns].value_counts()\n",
    "    x = pd.DataFrame(x).reset_index()\n",
    "    x = x.rename(columns={columns: name})\n",
    "    return x\n",
    "\n",
    "courses = dataf_new('Courses','Q6_1')\n",
    "helpful_courses = dataf_new('Helpful Courses','Q7_1')\n",
    "research = dataf_new('Research','Q10_1')\n",
    "programming_languages = dataf_new('Programming Languages','Q12_1')\n",
    "IDE = dataf_new('IDE','Q13_1')\n",
    "visualization = dataf_new('Visualization Lib','Q15_1')\n",
    "frameworks = dataf_new('Machine Learning Frameworks','Q17_1')\n",
    "algorithms = dataf_new('ML Algorithms', 'Q18_1')\n",
    "computer_vision = dataf_new('Computer Vision', 'Q19_1')\n",
    "NLP = dataf_new('NLP', 'Q20_1')\n",
    "database = dataf_new('Database', 'Q35_1')"
   ]
  },
  {
   "cell_type": "markdown",
   "metadata": {},
   "source": [
    "# ***************** Visualization *****************"
   ]
  },
  {
   "cell_type": "code",
   "execution_count": 31,
   "metadata": {},
   "outputs": [
    {
     "data": {
      "application/vnd.plotly.v1+json": {
       "config": {
        "plotlyServerURL": "https://plot.ly"
       },
       "data": [
        {
         "geo": "geo",
         "hovertemplate": "<b>%{hovertext}</b><br><br>Country=%{location}<br>year=2017<br>count=%{marker.size}<extra></extra>",
         "hovertext": [
          "United States"
         ],
         "legendgroup": "United States",
         "locationmode": "country names",
         "locations": [
          "United States"
         ],
         "marker": {
          "color": "#636efa",
          "size": [
           4197
          ],
          "sizemode": "area",
          "sizeref": 21.98,
          "symbol": "circle"
         },
         "mode": "markers",
         "name": "United States",
         "showlegend": true,
         "type": "scattergeo"
        },
        {
         "geo": "geo",
         "hovertemplate": "<b>%{hovertext}</b><br><br>Country=%{location}<br>year=2017<br>count=%{marker.size}<extra></extra>",
         "hovertext": [
          "India"
         ],
         "legendgroup": "India",
         "locationmode": "country names",
         "locations": [
          "India"
         ],
         "marker": {
          "color": "#EF553B",
          "size": [
           2704
          ],
          "sizemode": "area",
          "sizeref": 21.98,
          "symbol": "circle"
         },
         "mode": "markers",
         "name": "India",
         "showlegend": true,
         "type": "scattergeo"
        },
        {
         "geo": "geo",
         "hovertemplate": "<b>%{hovertext}</b><br><br>Country=%{location}<br>year=2017<br>count=%{marker.size}<extra></extra>",
         "hovertext": [
          "Other"
         ],
         "legendgroup": "Other",
         "locationmode": "country names",
         "locations": [
          "Other"
         ],
         "marker": {
          "color": "#00cc96",
          "size": [
           1023
          ],
          "sizemode": "area",
          "sizeref": 21.98,
          "symbol": "circle"
         },
         "mode": "markers",
         "name": "Other",
         "showlegend": true,
         "type": "scattergeo"
        },
        {
         "geo": "geo",
         "hovertemplate": "<b>%{hovertext}</b><br><br>Country=%{location}<br>year=2017<br>count=%{marker.size}<extra></extra>",
         "hovertext": [
          "Russia"
         ],
         "legendgroup": "Russia",
         "locationmode": "country names",
         "locations": [
          "Russia"
         ],
         "marker": {
          "color": "#ab63fa",
          "size": [
           578
          ],
          "sizemode": "area",
          "sizeref": 21.98,
          "symbol": "circle"
         },
         "mode": "markers",
         "name": "Russia",
         "showlegend": true,
         "type": "scattergeo"
        },
        {
         "geo": "geo",
         "hovertemplate": "<b>%{hovertext}</b><br><br>Country=%{location}<br>year=2017<br>count=%{marker.size}<extra></extra>",
         "hovertext": [
          "United Kingdom"
         ],
         "legendgroup": "United Kingdom",
         "locationmode": "country names",
         "locations": [
          "United Kingdom"
         ],
         "marker": {
          "color": "#FFA15A",
          "size": [
           535
          ],
          "sizemode": "area",
          "sizeref": 21.98,
          "symbol": "circle"
         },
         "mode": "markers",
         "name": "United Kingdom",
         "showlegend": true,
         "type": "scattergeo"
        },
        {
         "geo": "geo",
         "hovertemplate": "<b>%{hovertext}</b><br><br>Country=%{location}<br>year=2017<br>count=%{marker.size}<extra></extra>",
         "hovertext": [
          "People 's Republic of China"
         ],
         "legendgroup": "People 's Republic of China",
         "locationmode": "country names",
         "locations": [
          "People 's Republic of China"
         ],
         "marker": {
          "color": "#19d3f3",
          "size": [
           471
          ],
          "sizemode": "area",
          "sizeref": 21.98,
          "symbol": "circle"
         },
         "mode": "markers",
         "name": "People 's Republic of China",
         "showlegend": true,
         "type": "scattergeo"
        },
        {
         "geo": "geo",
         "hovertemplate": "<b>%{hovertext}</b><br><br>Country=%{location}<br>year=2017<br>count=%{marker.size}<extra></extra>",
         "hovertext": [
          "Brazil"
         ],
         "legendgroup": "Brazil",
         "locationmode": "country names",
         "locations": [
          "Brazil"
         ],
         "marker": {
          "color": "#FF6692",
          "size": [
           465
          ],
          "sizemode": "area",
          "sizeref": 21.98,
          "symbol": "circle"
         },
         "mode": "markers",
         "name": "Brazil",
         "showlegend": true,
         "type": "scattergeo"
        },
        {
         "geo": "geo",
         "hovertemplate": "<b>%{hovertext}</b><br><br>Country=%{location}<br>year=2017<br>count=%{marker.size}<extra></extra>",
         "hovertext": [
          "Germany"
         ],
         "legendgroup": "Germany",
         "locationmode": "country names",
         "locations": [
          "Germany"
         ],
         "marker": {
          "color": "#B6E880",
          "size": [
           460
          ],
          "sizemode": "area",
          "sizeref": 21.98,
          "symbol": "circle"
         },
         "mode": "markers",
         "name": "Germany",
         "showlegend": true,
         "type": "scattergeo"
        },
        {
         "geo": "geo",
         "hovertemplate": "<b>%{hovertext}</b><br><br>Country=%{location}<br>year=2017<br>count=%{marker.size}<extra></extra>",
         "hovertext": [
          "France"
         ],
         "legendgroup": "France",
         "locationmode": "country names",
         "locations": [
          "France"
         ],
         "marker": {
          "color": "#FF97FF",
          "size": [
           442
          ],
          "sizemode": "area",
          "sizeref": 21.98,
          "symbol": "circle"
         },
         "mode": "markers",
         "name": "France",
         "showlegend": true,
         "type": "scattergeo"
        },
        {
         "geo": "geo",
         "hovertemplate": "<b>%{hovertext}</b><br><br>Country=%{location}<br>year=2017<br>count=%{marker.size}<extra></extra>",
         "hovertext": [
          "Canada"
         ],
         "legendgroup": "Canada",
         "locationmode": "country names",
         "locations": [
          "Canada"
         ],
         "marker": {
          "color": "#FECB52",
          "size": [
           440
          ],
          "sizemode": "area",
          "sizeref": 21.98,
          "symbol": "circle"
         },
         "mode": "markers",
         "name": "Canada",
         "showlegend": true,
         "type": "scattergeo"
        },
        {
         "geo": "geo",
         "hovertemplate": "<b>%{hovertext}</b><br><br>Country=%{location}<br>year=2017<br>count=%{marker.size}<extra></extra>",
         "hovertext": [
          "Australia"
         ],
         "legendgroup": "Australia",
         "locationmode": "country names",
         "locations": [
          "Australia"
         ],
         "marker": {
          "color": "#636efa",
          "size": [
           421
          ],
          "sizemode": "area",
          "sizeref": 21.98,
          "symbol": "circle"
         },
         "mode": "markers",
         "name": "Australia",
         "showlegend": true,
         "type": "scattergeo"
        },
        {
         "geo": "geo",
         "hovertemplate": "<b>%{hovertext}</b><br><br>Country=%{location}<br>year=2017<br>count=%{marker.size}<extra></extra>",
         "hovertext": [
          "Spain"
         ],
         "legendgroup": "Spain",
         "locationmode": "country names",
         "locations": [
          "Spain"
         ],
         "marker": {
          "color": "#EF553B",
          "size": [
           320
          ],
          "sizemode": "area",
          "sizeref": 21.98,
          "symbol": "circle"
         },
         "mode": "markers",
         "name": "Spain",
         "showlegend": true,
         "type": "scattergeo"
        },
        {
         "geo": "geo",
         "hovertemplate": "<b>%{hovertext}</b><br><br>Country=%{location}<br>year=2017<br>count=%{marker.size}<extra></extra>",
         "hovertext": [
          "Japan"
         ],
         "legendgroup": "Japan",
         "locationmode": "country names",
         "locations": [
          "Japan"
         ],
         "marker": {
          "color": "#00cc96",
          "size": [
           277
          ],
          "sizemode": "area",
          "sizeref": 21.98,
          "symbol": "circle"
         },
         "mode": "markers",
         "name": "Japan",
         "showlegend": true,
         "type": "scattergeo"
        },
        {
         "geo": "geo",
         "hovertemplate": "<b>%{hovertext}</b><br><br>Country=%{location}<br>year=2017<br>count=%{marker.size}<extra></extra>",
         "hovertext": [
          "Taiwan"
         ],
         "legendgroup": "Taiwan",
         "locationmode": "country names",
         "locations": [
          "Taiwan"
         ],
         "marker": {
          "color": "#ab63fa",
          "size": [
           254
          ],
          "sizemode": "area",
          "sizeref": 21.98,
          "symbol": "circle"
         },
         "mode": "markers",
         "name": "Taiwan",
         "showlegend": true,
         "type": "scattergeo"
        },
        {
         "geo": "geo",
         "hovertemplate": "<b>%{hovertext}</b><br><br>Country=%{location}<br>year=2017<br>count=%{marker.size}<extra></extra>",
         "hovertext": [
          "Italy"
         ],
         "legendgroup": "Italy",
         "locationmode": "country names",
         "locations": [
          "Italy"
         ],
         "marker": {
          "color": "#FFA15A",
          "size": [
           238
          ],
          "sizemode": "area",
          "sizeref": 21.98,
          "symbol": "circle"
         },
         "mode": "markers",
         "name": "Italy",
         "showlegend": true,
         "type": "scattergeo"
        },
        {
         "geo": "geo",
         "hovertemplate": "<b>%{hovertext}</b><br><br>Country=%{location}<br>year=2017<br>count=%{marker.size}<extra></extra>",
         "hovertext": [
          "Netherlands"
         ],
         "legendgroup": "Netherlands",
         "locationmode": "country names",
         "locations": [
          "Netherlands"
         ],
         "marker": {
          "color": "#19d3f3",
          "size": [
           205
          ],
          "sizemode": "area",
          "sizeref": 21.98,
          "symbol": "circle"
         },
         "mode": "markers",
         "name": "Netherlands",
         "showlegend": true,
         "type": "scattergeo"
        },
        {
         "geo": "geo",
         "hovertemplate": "<b>%{hovertext}</b><br><br>Country=%{location}<br>year=2017<br>count=%{marker.size}<extra></extra>",
         "hovertext": [
          "Ukraine"
         ],
         "legendgroup": "Ukraine",
         "locationmode": "country names",
         "locations": [
          "Ukraine"
         ],
         "marker": {
          "color": "#FF6692",
          "size": [
           196
          ],
          "sizemode": "area",
          "sizeref": 21.98,
          "symbol": "circle"
         },
         "mode": "markers",
         "name": "Ukraine",
         "showlegend": true,
         "type": "scattergeo"
        },
        {
         "geo": "geo",
         "hovertemplate": "<b>%{hovertext}</b><br><br>Country=%{location}<br>year=2017<br>count=%{marker.size}<extra></extra>",
         "hovertext": [
          "South Korea"
         ],
         "legendgroup": "South Korea",
         "locationmode": "country names",
         "locations": [
          "South Korea"
         ],
         "marker": {
          "color": "#B6E880",
          "size": [
           194
          ],
          "sizemode": "area",
          "sizeref": 21.98,
          "symbol": "circle"
         },
         "mode": "markers",
         "name": "South Korea",
         "showlegend": true,
         "type": "scattergeo"
        },
        {
         "geo": "geo",
         "hovertemplate": "<b>%{hovertext}</b><br><br>Country=%{location}<br>year=2017<br>count=%{marker.size}<extra></extra>",
         "hovertext": [
          "Poland"
         ],
         "legendgroup": "Poland",
         "locationmode": "country names",
         "locations": [
          "Poland"
         ],
         "marker": {
          "color": "#FF97FF",
          "size": [
           184
          ],
          "sizemode": "area",
          "sizeref": 21.98,
          "symbol": "circle"
         },
         "mode": "markers",
         "name": "Poland",
         "showlegend": true,
         "type": "scattergeo"
        },
        {
         "geo": "geo",
         "hovertemplate": "<b>%{hovertext}</b><br><br>Country=%{location}<br>year=2017<br>count=%{marker.size}<extra></extra>",
         "hovertext": [
          "Singapore"
         ],
         "legendgroup": "Singapore",
         "locationmode": "country names",
         "locations": [
          "Singapore"
         ],
         "marker": {
          "color": "#FECB52",
          "size": [
           184
          ],
          "sizemode": "area",
          "sizeref": 21.98,
          "symbol": "circle"
         },
         "mode": "markers",
         "name": "Singapore",
         "showlegend": true,
         "type": "scattergeo"
        },
        {
         "geo": "geo",
         "hovertemplate": "<b>%{hovertext}</b><br><br>Country=%{location}<br>year=2017<br>count=%{marker.size}<extra></extra>",
         "hovertext": [
          "Pakistan"
         ],
         "legendgroup": "Pakistan",
         "locationmode": "country names",
         "locations": [
          "Pakistan"
         ],
         "marker": {
          "color": "#636efa",
          "size": [
           161
          ],
          "sizemode": "area",
          "sizeref": 21.98,
          "symbol": "circle"
         },
         "mode": "markers",
         "name": "Pakistan",
         "showlegend": true,
         "type": "scattergeo"
        },
        {
         "geo": "geo",
         "hovertemplate": "<b>%{hovertext}</b><br><br>Country=%{location}<br>year=2017<br>count=%{marker.size}<extra></extra>",
         "hovertext": [
          "Turkey"
         ],
         "legendgroup": "Turkey",
         "locationmode": "country names",
         "locations": [
          "Turkey"
         ],
         "marker": {
          "color": "#EF553B",
          "size": [
           144
          ],
          "sizemode": "area",
          "sizeref": 21.98,
          "symbol": "circle"
         },
         "mode": "markers",
         "name": "Turkey",
         "showlegend": true,
         "type": "scattergeo"
        },
        {
         "geo": "geo",
         "hovertemplate": "<b>%{hovertext}</b><br><br>Country=%{location}<br>year=2017<br>count=%{marker.size}<extra></extra>",
         "hovertext": [
          "Indonesia"
         ],
         "legendgroup": "Indonesia",
         "locationmode": "country names",
         "locations": [
          "Indonesia"
         ],
         "marker": {
          "color": "#00cc96",
          "size": [
           131
          ],
          "sizemode": "area",
          "sizeref": 21.98,
          "symbol": "circle"
         },
         "mode": "markers",
         "name": "Indonesia",
         "showlegend": true,
         "type": "scattergeo"
        },
        {
         "geo": "geo",
         "hovertemplate": "<b>%{hovertext}</b><br><br>Country=%{location}<br>year=2017<br>count=%{marker.size}<extra></extra>",
         "hovertext": [
          "Switzerland"
         ],
         "legendgroup": "Switzerland",
         "locationmode": "country names",
         "locations": [
          "Switzerland"
         ],
         "marker": {
          "color": "#ab63fa",
          "size": [
           129
          ],
          "sizemode": "area",
          "sizeref": 21.98,
          "symbol": "circle"
         },
         "mode": "markers",
         "name": "Switzerland",
         "showlegend": true,
         "type": "scattergeo"
        },
        {
         "geo": "geo",
         "hovertemplate": "<b>%{hovertext}</b><br><br>Country=%{location}<br>year=2017<br>count=%{marker.size}<extra></extra>",
         "hovertext": [
          "South Africa"
         ],
         "legendgroup": "South Africa",
         "locationmode": "country names",
         "locations": [
          "South Africa"
         ],
         "marker": {
          "color": "#FFA15A",
          "size": [
           127
          ],
          "sizemode": "area",
          "sizeref": 21.98,
          "symbol": "circle"
         },
         "mode": "markers",
         "name": "South Africa",
         "showlegend": true,
         "type": "scattergeo"
        },
        {
         "geo": "geo",
         "hovertemplate": "<b>%{hovertext}</b><br><br>Country=%{location}<br>year=2017<br>count=%{marker.size}<extra></extra>",
         "hovertext": [
          "Mexico"
         ],
         "legendgroup": "Mexico",
         "locationmode": "country names",
         "locations": [
          "Mexico"
         ],
         "marker": {
          "color": "#19d3f3",
          "size": [
           126
          ],
          "sizemode": "area",
          "sizeref": 21.98,
          "symbol": "circle"
         },
         "mode": "markers",
         "name": "Mexico",
         "showlegend": true,
         "type": "scattergeo"
        },
        {
         "geo": "geo",
         "hovertemplate": "<b>%{hovertext}</b><br><br>Country=%{location}<br>year=2017<br>count=%{marker.size}<extra></extra>",
         "hovertext": [
          "Colombia"
         ],
         "legendgroup": "Colombia",
         "locationmode": "country names",
         "locations": [
          "Colombia"
         ],
         "marker": {
          "color": "#FF6692",
          "size": [
           113
          ],
          "sizemode": "area",
          "sizeref": 21.98,
          "symbol": "circle"
         },
         "mode": "markers",
         "name": "Colombia",
         "showlegend": true,
         "type": "scattergeo"
        },
        {
         "geo": "geo",
         "hovertemplate": "<b>%{hovertext}</b><br><br>Country=%{location}<br>year=2017<br>count=%{marker.size}<extra></extra>",
         "hovertext": [
          "Iran"
         ],
         "legendgroup": "Iran",
         "locationmode": "country names",
         "locations": [
          "Iran"
         ],
         "marker": {
          "color": "#B6E880",
          "size": [
           112
          ],
          "sizemode": "area",
          "sizeref": 21.98,
          "symbol": "circle"
         },
         "mode": "markers",
         "name": "Iran",
         "showlegend": true,
         "type": "scattergeo"
        },
        {
         "geo": "geo",
         "hovertemplate": "<b>%{hovertext}</b><br><br>Country=%{location}<br>year=2017<br>count=%{marker.size}<extra></extra>",
         "hovertext": [
          "Israel"
         ],
         "legendgroup": "Israel",
         "locationmode": "country names",
         "locations": [
          "Israel"
         ],
         "marker": {
          "color": "#FF97FF",
          "size": [
           105
          ],
          "sizemode": "area",
          "sizeref": 21.98,
          "symbol": "circle"
         },
         "mode": "markers",
         "name": "Israel",
         "showlegend": true,
         "type": "scattergeo"
        },
        {
         "geo": "geo",
         "hovertemplate": "<b>%{hovertext}</b><br><br>Country=%{location}<br>year=2017<br>count=%{marker.size}<extra></extra>",
         "hovertext": [
          "Ireland"
         ],
         "legendgroup": "Ireland",
         "locationmode": "country names",
         "locations": [
          "Ireland"
         ],
         "marker": {
          "color": "#FECB52",
          "size": [
           94
          ],
          "sizemode": "area",
          "sizeref": 21.98,
          "symbol": "circle"
         },
         "mode": "markers",
         "name": "Ireland",
         "showlegend": true,
         "type": "scattergeo"
        },
        {
         "geo": "geo",
         "hovertemplate": "<b>%{hovertext}</b><br><br>Country=%{location}<br>year=2017<br>count=%{marker.size}<extra></extra>",
         "hovertext": [
          "Portugal"
         ],
         "legendgroup": "Portugal",
         "locationmode": "country names",
         "locations": [
          "Portugal"
         ],
         "marker": {
          "color": "#636efa",
          "size": [
           93
          ],
          "sizemode": "area",
          "sizeref": 21.98,
          "symbol": "circle"
         },
         "mode": "markers",
         "name": "Portugal",
         "showlegend": true,
         "type": "scattergeo"
        },
        {
         "geo": "geo",
         "hovertemplate": "<b>%{hovertext}</b><br><br>Country=%{location}<br>year=2017<br>count=%{marker.size}<extra></extra>",
         "hovertext": [
          "Argentina"
         ],
         "legendgroup": "Argentina",
         "locationmode": "country names",
         "locations": [
          "Argentina"
         ],
         "marker": {
          "color": "#EF553B",
          "size": [
           92
          ],
          "sizemode": "area",
          "sizeref": 21.98,
          "symbol": "circle"
         },
         "mode": "markers",
         "name": "Argentina",
         "showlegend": true,
         "type": "scattergeo"
        },
        {
         "geo": "geo",
         "hovertemplate": "<b>%{hovertext}</b><br><br>Country=%{location}<br>year=2017<br>count=%{marker.size}<extra></extra>",
         "hovertext": [
          "Belgium"
         ],
         "legendgroup": "Belgium",
         "locationmode": "country names",
         "locations": [
          "Belgium"
         ],
         "marker": {
          "color": "#00cc96",
          "size": [
           91
          ],
          "sizemode": "area",
          "sizeref": 21.98,
          "symbol": "circle"
         },
         "mode": "markers",
         "name": "Belgium",
         "showlegend": true,
         "type": "scattergeo"
        },
        {
         "geo": "geo",
         "hovertemplate": "<b>%{hovertext}</b><br><br>Country=%{location}<br>year=2017<br>count=%{marker.size}<extra></extra>",
         "hovertext": [
          "Sweden"
         ],
         "legendgroup": "Sweden",
         "locationmode": "country names",
         "locations": [
          "Sweden"
         ],
         "marker": {
          "color": "#ab63fa",
          "size": [
           89
          ],
          "sizemode": "area",
          "sizeref": 21.98,
          "symbol": "circle"
         },
         "mode": "markers",
         "name": "Sweden",
         "showlegend": true,
         "type": "scattergeo"
        },
        {
         "geo": "geo",
         "hovertemplate": "<b>%{hovertext}</b><br><br>Country=%{location}<br>year=2017<br>count=%{marker.size}<extra></extra>",
         "hovertext": [
          "Philippines"
         ],
         "legendgroup": "Philippines",
         "locationmode": "country names",
         "locations": [
          "Philippines"
         ],
         "marker": {
          "color": "#FFA15A",
          "size": [
           84
          ],
          "sizemode": "area",
          "sizeref": 21.98,
          "symbol": "circle"
         },
         "mode": "markers",
         "name": "Philippines",
         "showlegend": true,
         "type": "scattergeo"
        },
        {
         "geo": "geo",
         "hovertemplate": "<b>%{hovertext}</b><br><br>Country=%{location}<br>year=2017<br>count=%{marker.size}<extra></extra>",
         "hovertext": [
          "Greece"
         ],
         "legendgroup": "Greece",
         "locationmode": "country names",
         "locations": [
          "Greece"
         ],
         "marker": {
          "color": "#19d3f3",
          "size": [
           81
          ],
          "sizemode": "area",
          "sizeref": 21.98,
          "symbol": "circle"
         },
         "mode": "markers",
         "name": "Greece",
         "showlegend": true,
         "type": "scattergeo"
        },
        {
         "geo": "geo",
         "hovertemplate": "<b>%{hovertext}</b><br><br>Country=%{location}<br>year=2017<br>count=%{marker.size}<extra></extra>",
         "hovertext": [
          "Malaysia"
         ],
         "legendgroup": "Malaysia",
         "locationmode": "country names",
         "locations": [
          "Malaysia"
         ],
         "marker": {
          "color": "#FF6692",
          "size": [
           79
          ],
          "sizemode": "area",
          "sizeref": 21.98,
          "symbol": "circle"
         },
         "mode": "markers",
         "name": "Malaysia",
         "showlegend": true,
         "type": "scattergeo"
        },
        {
         "geo": "geo",
         "hovertemplate": "<b>%{hovertext}</b><br><br>Country=%{location}<br>year=2017<br>count=%{marker.size}<extra></extra>",
         "hovertext": [
          "Denmark"
         ],
         "legendgroup": "Denmark",
         "locationmode": "country names",
         "locations": [
          "Denmark"
         ],
         "marker": {
          "color": "#B6E880",
          "size": [
           78
          ],
          "sizemode": "area",
          "sizeref": 21.98,
          "symbol": "circle"
         },
         "mode": "markers",
         "name": "Denmark",
         "showlegend": true,
         "type": "scattergeo"
        },
        {
         "geo": "geo",
         "hovertemplate": "<b>%{hovertext}</b><br><br>Country=%{location}<br>year=2017<br>count=%{marker.size}<extra></extra>",
         "hovertext": [
          "New Zealand"
         ],
         "legendgroup": "New Zealand",
         "locationmode": "country names",
         "locations": [
          "New Zealand"
         ],
         "marker": {
          "color": "#FF97FF",
          "size": [
           74
          ],
          "sizemode": "area",
          "sizeref": 21.98,
          "symbol": "circle"
         },
         "mode": "markers",
         "name": "New Zealand",
         "showlegend": true,
         "type": "scattergeo"
        },
        {
         "geo": "geo",
         "hovertemplate": "<b>%{hovertext}</b><br><br>Country=%{location}<br>year=2017<br>count=%{marker.size}<extra></extra>",
         "hovertext": [
          "Nigeria"
         ],
         "legendgroup": "Nigeria",
         "locationmode": "country names",
         "locations": [
          "Nigeria"
         ],
         "marker": {
          "color": "#FECB52",
          "size": [
           73
          ],
          "sizemode": "area",
          "sizeref": 21.98,
          "symbol": "circle"
         },
         "mode": "markers",
         "name": "Nigeria",
         "showlegend": true,
         "type": "scattergeo"
        },
        {
         "geo": "geo",
         "hovertemplate": "<b>%{hovertext}</b><br><br>Country=%{location}<br>year=2017<br>count=%{marker.size}<extra></extra>",
         "hovertext": [
          "Vietnam"
         ],
         "legendgroup": "Vietnam",
         "locationmode": "country names",
         "locations": [
          "Vietnam"
         ],
         "marker": {
          "color": "#636efa",
          "size": [
           71
          ],
          "sizemode": "area",
          "sizeref": 21.98,
          "symbol": "circle"
         },
         "mode": "markers",
         "name": "Vietnam",
         "showlegend": true,
         "type": "scattergeo"
        },
        {
         "geo": "geo",
         "hovertemplate": "<b>%{hovertext}</b><br><br>Country=%{location}<br>year=2017<br>count=%{marker.size}<extra></extra>",
         "hovertext": [
          "Republic of China"
         ],
         "legendgroup": "Republic of China",
         "locationmode": "country names",
         "locations": [
          "Republic of China"
         ],
         "marker": {
          "color": "#EF553B",
          "size": [
           67
          ],
          "sizemode": "area",
          "sizeref": 21.98,
          "symbol": "circle"
         },
         "mode": "markers",
         "name": "Republic of China",
         "showlegend": true,
         "type": "scattergeo"
        },
        {
         "geo": "geo",
         "hovertemplate": "<b>%{hovertext}</b><br><br>Country=%{location}<br>year=2017<br>count=%{marker.size}<extra></extra>",
         "hovertext": [
          "Finland"
         ],
         "legendgroup": "Finland",
         "locationmode": "country names",
         "locations": [
          "Finland"
         ],
         "marker": {
          "color": "#00cc96",
          "size": [
           67
          ],
          "sizemode": "area",
          "sizeref": 21.98,
          "symbol": "circle"
         },
         "mode": "markers",
         "name": "Finland",
         "showlegend": true,
         "type": "scattergeo"
        },
        {
         "geo": "geo",
         "hovertemplate": "<b>%{hovertext}</b><br><br>Country=%{location}<br>year=2017<br>count=%{marker.size}<extra></extra>",
         "hovertext": [
          "Hungary"
         ],
         "legendgroup": "Hungary",
         "locationmode": "country names",
         "locations": [
          "Hungary"
         ],
         "marker": {
          "color": "#ab63fa",
          "size": [
           66
          ],
          "sizemode": "area",
          "sizeref": 21.98,
          "symbol": "circle"
         },
         "mode": "markers",
         "name": "Hungary",
         "showlegend": true,
         "type": "scattergeo"
        },
        {
         "geo": "geo",
         "hovertemplate": "<b>%{hovertext}</b><br><br>Country=%{location}<br>year=2017<br>count=%{marker.size}<extra></extra>",
         "hovertext": [
          "Egypt"
         ],
         "legendgroup": "Egypt",
         "locationmode": "country names",
         "locations": [
          "Egypt"
         ],
         "marker": {
          "color": "#FFA15A",
          "size": [
           66
          ],
          "sizemode": "area",
          "sizeref": 21.98,
          "symbol": "circle"
         },
         "mode": "markers",
         "name": "Egypt",
         "showlegend": true,
         "type": "scattergeo"
        },
        {
         "geo": "geo",
         "hovertemplate": "<b>%{hovertext}</b><br><br>Country=%{location}<br>year=2017<br>count=%{marker.size}<extra></extra>",
         "hovertext": [
          "Hong Kong"
         ],
         "legendgroup": "Hong Kong",
         "locationmode": "country names",
         "locations": [
          "Hong Kong"
         ],
         "marker": {
          "color": "#19d3f3",
          "size": [
           65
          ],
          "sizemode": "area",
          "sizeref": 21.98,
          "symbol": "circle"
         },
         "mode": "markers",
         "name": "Hong Kong",
         "showlegend": true,
         "type": "scattergeo"
        },
        {
         "geo": "geo",
         "hovertemplate": "<b>%{hovertext}</b><br><br>Country=%{location}<br>year=2017<br>count=%{marker.size}<extra></extra>",
         "hovertext": [
          "Kenya"
         ],
         "legendgroup": "Kenya",
         "locationmode": "country names",
         "locations": [
          "Kenya"
         ],
         "marker": {
          "color": "#FF6692",
          "size": [
           59
          ],
          "sizemode": "area",
          "sizeref": 21.98,
          "symbol": "circle"
         },
         "mode": "markers",
         "name": "Kenya",
         "showlegend": true,
         "type": "scattergeo"
        },
        {
         "geo": "geo",
         "hovertemplate": "<b>%{hovertext}</b><br><br>Country=%{location}<br>year=2017<br>count=%{marker.size}<extra></extra>",
         "hovertext": [
          "Romania"
         ],
         "legendgroup": "Romania",
         "locationmode": "country names",
         "locations": [
          "Romania"
         ],
         "marker": {
          "color": "#B6E880",
          "size": [
           59
          ],
          "sizemode": "area",
          "sizeref": 21.98,
          "symbol": "circle"
         },
         "mode": "markers",
         "name": "Romania",
         "showlegend": true,
         "type": "scattergeo"
        },
        {
         "geo": "geo",
         "hovertemplate": "<b>%{hovertext}</b><br><br>Country=%{location}<br>year=2017<br>count=%{marker.size}<extra></extra>",
         "hovertext": [
          "Belarus"
         ],
         "legendgroup": "Belarus",
         "locationmode": "country names",
         "locations": [
          "Belarus"
         ],
         "marker": {
          "color": "#FF97FF",
          "size": [
           54
          ],
          "sizemode": "area",
          "sizeref": 21.98,
          "symbol": "circle"
         },
         "mode": "markers",
         "name": "Belarus",
         "showlegend": true,
         "type": "scattergeo"
        },
        {
         "geo": "geo",
         "hovertemplate": "<b>%{hovertext}</b><br><br>Country=%{location}<br>year=2017<br>count=%{marker.size}<extra></extra>",
         "hovertext": [
          "Norway"
         ],
         "legendgroup": "Norway",
         "locationmode": "country names",
         "locations": [
          "Norway"
         ],
         "marker": {
          "color": "#FECB52",
          "size": [
           53
          ],
          "sizemode": "area",
          "sizeref": 21.98,
          "symbol": "circle"
         },
         "mode": "markers",
         "name": "Norway",
         "showlegend": true,
         "type": "scattergeo"
        },
        {
         "geo": "geo",
         "hovertemplate": "<b>%{hovertext}</b><br><br>Country=%{location}<br>year=2017<br>count=%{marker.size}<extra></extra>",
         "hovertext": [
          "Czech Republic"
         ],
         "legendgroup": "Czech Republic",
         "locationmode": "country names",
         "locations": [
          "Czech Republic"
         ],
         "marker": {
          "color": "#636efa",
          "size": [
           53
          ],
          "sizemode": "area",
          "sizeref": 21.98,
          "symbol": "circle"
         },
         "mode": "markers",
         "name": "Czech Republic",
         "showlegend": true,
         "type": "scattergeo"
        },
        {
         "geo": "geo",
         "hovertemplate": "<b>%{hovertext}</b><br><br>Country=%{location}<br>year=2017<br>count=%{marker.size}<extra></extra>",
         "hovertext": [
          "Chile"
         ],
         "legendgroup": "Chile",
         "locationmode": "country names",
         "locations": [
          "Chile"
         ],
         "marker": {
          "color": "#EF553B",
          "size": [
           51
          ],
          "sizemode": "area",
          "sizeref": 21.98,
          "symbol": "circle"
         },
         "mode": "markers",
         "name": "Chile",
         "showlegend": true,
         "type": "scattergeo"
        }
       ],
       "frames": [
        {
         "data": [
          {
           "geo": "geo",
           "hovertemplate": "<b>%{hovertext}</b><br><br>Country=%{location}<br>year=2017<br>count=%{marker.size}<extra></extra>",
           "hovertext": [
            "United States"
           ],
           "legendgroup": "United States",
           "locationmode": "country names",
           "locations": [
            "United States"
           ],
           "marker": {
            "color": "#636efa",
            "size": [
             4197
            ],
            "sizemode": "area",
            "sizeref": 21.98,
            "symbol": "circle"
           },
           "mode": "markers",
           "name": "United States",
           "showlegend": true,
           "type": "scattergeo"
          },
          {
           "geo": "geo",
           "hovertemplate": "<b>%{hovertext}</b><br><br>Country=%{location}<br>year=2017<br>count=%{marker.size}<extra></extra>",
           "hovertext": [
            "India"
           ],
           "legendgroup": "India",
           "locationmode": "country names",
           "locations": [
            "India"
           ],
           "marker": {
            "color": "#EF553B",
            "size": [
             2704
            ],
            "sizemode": "area",
            "sizeref": 21.98,
            "symbol": "circle"
           },
           "mode": "markers",
           "name": "India",
           "showlegend": true,
           "type": "scattergeo"
          },
          {
           "geo": "geo",
           "hovertemplate": "<b>%{hovertext}</b><br><br>Country=%{location}<br>year=2017<br>count=%{marker.size}<extra></extra>",
           "hovertext": [
            "Other"
           ],
           "legendgroup": "Other",
           "locationmode": "country names",
           "locations": [
            "Other"
           ],
           "marker": {
            "color": "#00cc96",
            "size": [
             1023
            ],
            "sizemode": "area",
            "sizeref": 21.98,
            "symbol": "circle"
           },
           "mode": "markers",
           "name": "Other",
           "showlegend": true,
           "type": "scattergeo"
          },
          {
           "geo": "geo",
           "hovertemplate": "<b>%{hovertext}</b><br><br>Country=%{location}<br>year=2017<br>count=%{marker.size}<extra></extra>",
           "hovertext": [
            "Russia"
           ],
           "legendgroup": "Russia",
           "locationmode": "country names",
           "locations": [
            "Russia"
           ],
           "marker": {
            "color": "#ab63fa",
            "size": [
             578
            ],
            "sizemode": "area",
            "sizeref": 21.98,
            "symbol": "circle"
           },
           "mode": "markers",
           "name": "Russia",
           "showlegend": true,
           "type": "scattergeo"
          },
          {
           "geo": "geo",
           "hovertemplate": "<b>%{hovertext}</b><br><br>Country=%{location}<br>year=2017<br>count=%{marker.size}<extra></extra>",
           "hovertext": [
            "United Kingdom"
           ],
           "legendgroup": "United Kingdom",
           "locationmode": "country names",
           "locations": [
            "United Kingdom"
           ],
           "marker": {
            "color": "#FFA15A",
            "size": [
             535
            ],
            "sizemode": "area",
            "sizeref": 21.98,
            "symbol": "circle"
           },
           "mode": "markers",
           "name": "United Kingdom",
           "showlegend": true,
           "type": "scattergeo"
          },
          {
           "geo": "geo",
           "hovertemplate": "<b>%{hovertext}</b><br><br>Country=%{location}<br>year=2017<br>count=%{marker.size}<extra></extra>",
           "hovertext": [
            "People 's Republic of China"
           ],
           "legendgroup": "People 's Republic of China",
           "locationmode": "country names",
           "locations": [
            "People 's Republic of China"
           ],
           "marker": {
            "color": "#19d3f3",
            "size": [
             471
            ],
            "sizemode": "area",
            "sizeref": 21.98,
            "symbol": "circle"
           },
           "mode": "markers",
           "name": "People 's Republic of China",
           "showlegend": true,
           "type": "scattergeo"
          },
          {
           "geo": "geo",
           "hovertemplate": "<b>%{hovertext}</b><br><br>Country=%{location}<br>year=2017<br>count=%{marker.size}<extra></extra>",
           "hovertext": [
            "Brazil"
           ],
           "legendgroup": "Brazil",
           "locationmode": "country names",
           "locations": [
            "Brazil"
           ],
           "marker": {
            "color": "#FF6692",
            "size": [
             465
            ],
            "sizemode": "area",
            "sizeref": 21.98,
            "symbol": "circle"
           },
           "mode": "markers",
           "name": "Brazil",
           "showlegend": true,
           "type": "scattergeo"
          },
          {
           "geo": "geo",
           "hovertemplate": "<b>%{hovertext}</b><br><br>Country=%{location}<br>year=2017<br>count=%{marker.size}<extra></extra>",
           "hovertext": [
            "Germany"
           ],
           "legendgroup": "Germany",
           "locationmode": "country names",
           "locations": [
            "Germany"
           ],
           "marker": {
            "color": "#B6E880",
            "size": [
             460
            ],
            "sizemode": "area",
            "sizeref": 21.98,
            "symbol": "circle"
           },
           "mode": "markers",
           "name": "Germany",
           "showlegend": true,
           "type": "scattergeo"
          },
          {
           "geo": "geo",
           "hovertemplate": "<b>%{hovertext}</b><br><br>Country=%{location}<br>year=2017<br>count=%{marker.size}<extra></extra>",
           "hovertext": [
            "France"
           ],
           "legendgroup": "France",
           "locationmode": "country names",
           "locations": [
            "France"
           ],
           "marker": {
            "color": "#FF97FF",
            "size": [
             442
            ],
            "sizemode": "area",
            "sizeref": 21.98,
            "symbol": "circle"
           },
           "mode": "markers",
           "name": "France",
           "showlegend": true,
           "type": "scattergeo"
          },
          {
           "geo": "geo",
           "hovertemplate": "<b>%{hovertext}</b><br><br>Country=%{location}<br>year=2017<br>count=%{marker.size}<extra></extra>",
           "hovertext": [
            "Canada"
           ],
           "legendgroup": "Canada",
           "locationmode": "country names",
           "locations": [
            "Canada"
           ],
           "marker": {
            "color": "#FECB52",
            "size": [
             440
            ],
            "sizemode": "area",
            "sizeref": 21.98,
            "symbol": "circle"
           },
           "mode": "markers",
           "name": "Canada",
           "showlegend": true,
           "type": "scattergeo"
          },
          {
           "geo": "geo",
           "hovertemplate": "<b>%{hovertext}</b><br><br>Country=%{location}<br>year=2017<br>count=%{marker.size}<extra></extra>",
           "hovertext": [
            "Australia"
           ],
           "legendgroup": "Australia",
           "locationmode": "country names",
           "locations": [
            "Australia"
           ],
           "marker": {
            "color": "#636efa",
            "size": [
             421
            ],
            "sizemode": "area",
            "sizeref": 21.98,
            "symbol": "circle"
           },
           "mode": "markers",
           "name": "Australia",
           "showlegend": true,
           "type": "scattergeo"
          },
          {
           "geo": "geo",
           "hovertemplate": "<b>%{hovertext}</b><br><br>Country=%{location}<br>year=2017<br>count=%{marker.size}<extra></extra>",
           "hovertext": [
            "Spain"
           ],
           "legendgroup": "Spain",
           "locationmode": "country names",
           "locations": [
            "Spain"
           ],
           "marker": {
            "color": "#EF553B",
            "size": [
             320
            ],
            "sizemode": "area",
            "sizeref": 21.98,
            "symbol": "circle"
           },
           "mode": "markers",
           "name": "Spain",
           "showlegend": true,
           "type": "scattergeo"
          },
          {
           "geo": "geo",
           "hovertemplate": "<b>%{hovertext}</b><br><br>Country=%{location}<br>year=2017<br>count=%{marker.size}<extra></extra>",
           "hovertext": [
            "Japan"
           ],
           "legendgroup": "Japan",
           "locationmode": "country names",
           "locations": [
            "Japan"
           ],
           "marker": {
            "color": "#00cc96",
            "size": [
             277
            ],
            "sizemode": "area",
            "sizeref": 21.98,
            "symbol": "circle"
           },
           "mode": "markers",
           "name": "Japan",
           "showlegend": true,
           "type": "scattergeo"
          },
          {
           "geo": "geo",
           "hovertemplate": "<b>%{hovertext}</b><br><br>Country=%{location}<br>year=2017<br>count=%{marker.size}<extra></extra>",
           "hovertext": [
            "Taiwan"
           ],
           "legendgroup": "Taiwan",
           "locationmode": "country names",
           "locations": [
            "Taiwan"
           ],
           "marker": {
            "color": "#ab63fa",
            "size": [
             254
            ],
            "sizemode": "area",
            "sizeref": 21.98,
            "symbol": "circle"
           },
           "mode": "markers",
           "name": "Taiwan",
           "showlegend": true,
           "type": "scattergeo"
          },
          {
           "geo": "geo",
           "hovertemplate": "<b>%{hovertext}</b><br><br>Country=%{location}<br>year=2017<br>count=%{marker.size}<extra></extra>",
           "hovertext": [
            "Italy"
           ],
           "legendgroup": "Italy",
           "locationmode": "country names",
           "locations": [
            "Italy"
           ],
           "marker": {
            "color": "#FFA15A",
            "size": [
             238
            ],
            "sizemode": "area",
            "sizeref": 21.98,
            "symbol": "circle"
           },
           "mode": "markers",
           "name": "Italy",
           "showlegend": true,
           "type": "scattergeo"
          },
          {
           "geo": "geo",
           "hovertemplate": "<b>%{hovertext}</b><br><br>Country=%{location}<br>year=2017<br>count=%{marker.size}<extra></extra>",
           "hovertext": [
            "Netherlands"
           ],
           "legendgroup": "Netherlands",
           "locationmode": "country names",
           "locations": [
            "Netherlands"
           ],
           "marker": {
            "color": "#19d3f3",
            "size": [
             205
            ],
            "sizemode": "area",
            "sizeref": 21.98,
            "symbol": "circle"
           },
           "mode": "markers",
           "name": "Netherlands",
           "showlegend": true,
           "type": "scattergeo"
          },
          {
           "geo": "geo",
           "hovertemplate": "<b>%{hovertext}</b><br><br>Country=%{location}<br>year=2017<br>count=%{marker.size}<extra></extra>",
           "hovertext": [
            "Ukraine"
           ],
           "legendgroup": "Ukraine",
           "locationmode": "country names",
           "locations": [
            "Ukraine"
           ],
           "marker": {
            "color": "#FF6692",
            "size": [
             196
            ],
            "sizemode": "area",
            "sizeref": 21.98,
            "symbol": "circle"
           },
           "mode": "markers",
           "name": "Ukraine",
           "showlegend": true,
           "type": "scattergeo"
          },
          {
           "geo": "geo",
           "hovertemplate": "<b>%{hovertext}</b><br><br>Country=%{location}<br>year=2017<br>count=%{marker.size}<extra></extra>",
           "hovertext": [
            "South Korea"
           ],
           "legendgroup": "South Korea",
           "locationmode": "country names",
           "locations": [
            "South Korea"
           ],
           "marker": {
            "color": "#B6E880",
            "size": [
             194
            ],
            "sizemode": "area",
            "sizeref": 21.98,
            "symbol": "circle"
           },
           "mode": "markers",
           "name": "South Korea",
           "showlegend": true,
           "type": "scattergeo"
          },
          {
           "geo": "geo",
           "hovertemplate": "<b>%{hovertext}</b><br><br>Country=%{location}<br>year=2017<br>count=%{marker.size}<extra></extra>",
           "hovertext": [
            "Poland"
           ],
           "legendgroup": "Poland",
           "locationmode": "country names",
           "locations": [
            "Poland"
           ],
           "marker": {
            "color": "#FF97FF",
            "size": [
             184
            ],
            "sizemode": "area",
            "sizeref": 21.98,
            "symbol": "circle"
           },
           "mode": "markers",
           "name": "Poland",
           "showlegend": true,
           "type": "scattergeo"
          },
          {
           "geo": "geo",
           "hovertemplate": "<b>%{hovertext}</b><br><br>Country=%{location}<br>year=2017<br>count=%{marker.size}<extra></extra>",
           "hovertext": [
            "Singapore"
           ],
           "legendgroup": "Singapore",
           "locationmode": "country names",
           "locations": [
            "Singapore"
           ],
           "marker": {
            "color": "#FECB52",
            "size": [
             184
            ],
            "sizemode": "area",
            "sizeref": 21.98,
            "symbol": "circle"
           },
           "mode": "markers",
           "name": "Singapore",
           "showlegend": true,
           "type": "scattergeo"
          },
          {
           "geo": "geo",
           "hovertemplate": "<b>%{hovertext}</b><br><br>Country=%{location}<br>year=2017<br>count=%{marker.size}<extra></extra>",
           "hovertext": [
            "Pakistan"
           ],
           "legendgroup": "Pakistan",
           "locationmode": "country names",
           "locations": [
            "Pakistan"
           ],
           "marker": {
            "color": "#636efa",
            "size": [
             161
            ],
            "sizemode": "area",
            "sizeref": 21.98,
            "symbol": "circle"
           },
           "mode": "markers",
           "name": "Pakistan",
           "showlegend": true,
           "type": "scattergeo"
          },
          {
           "geo": "geo",
           "hovertemplate": "<b>%{hovertext}</b><br><br>Country=%{location}<br>year=2017<br>count=%{marker.size}<extra></extra>",
           "hovertext": [
            "Turkey"
           ],
           "legendgroup": "Turkey",
           "locationmode": "country names",
           "locations": [
            "Turkey"
           ],
           "marker": {
            "color": "#EF553B",
            "size": [
             144
            ],
            "sizemode": "area",
            "sizeref": 21.98,
            "symbol": "circle"
           },
           "mode": "markers",
           "name": "Turkey",
           "showlegend": true,
           "type": "scattergeo"
          },
          {
           "geo": "geo",
           "hovertemplate": "<b>%{hovertext}</b><br><br>Country=%{location}<br>year=2017<br>count=%{marker.size}<extra></extra>",
           "hovertext": [
            "Indonesia"
           ],
           "legendgroup": "Indonesia",
           "locationmode": "country names",
           "locations": [
            "Indonesia"
           ],
           "marker": {
            "color": "#00cc96",
            "size": [
             131
            ],
            "sizemode": "area",
            "sizeref": 21.98,
            "symbol": "circle"
           },
           "mode": "markers",
           "name": "Indonesia",
           "showlegend": true,
           "type": "scattergeo"
          },
          {
           "geo": "geo",
           "hovertemplate": "<b>%{hovertext}</b><br><br>Country=%{location}<br>year=2017<br>count=%{marker.size}<extra></extra>",
           "hovertext": [
            "Switzerland"
           ],
           "legendgroup": "Switzerland",
           "locationmode": "country names",
           "locations": [
            "Switzerland"
           ],
           "marker": {
            "color": "#ab63fa",
            "size": [
             129
            ],
            "sizemode": "area",
            "sizeref": 21.98,
            "symbol": "circle"
           },
           "mode": "markers",
           "name": "Switzerland",
           "showlegend": true,
           "type": "scattergeo"
          },
          {
           "geo": "geo",
           "hovertemplate": "<b>%{hovertext}</b><br><br>Country=%{location}<br>year=2017<br>count=%{marker.size}<extra></extra>",
           "hovertext": [
            "South Africa"
           ],
           "legendgroup": "South Africa",
           "locationmode": "country names",
           "locations": [
            "South Africa"
           ],
           "marker": {
            "color": "#FFA15A",
            "size": [
             127
            ],
            "sizemode": "area",
            "sizeref": 21.98,
            "symbol": "circle"
           },
           "mode": "markers",
           "name": "South Africa",
           "showlegend": true,
           "type": "scattergeo"
          },
          {
           "geo": "geo",
           "hovertemplate": "<b>%{hovertext}</b><br><br>Country=%{location}<br>year=2017<br>count=%{marker.size}<extra></extra>",
           "hovertext": [
            "Mexico"
           ],
           "legendgroup": "Mexico",
           "locationmode": "country names",
           "locations": [
            "Mexico"
           ],
           "marker": {
            "color": "#19d3f3",
            "size": [
             126
            ],
            "sizemode": "area",
            "sizeref": 21.98,
            "symbol": "circle"
           },
           "mode": "markers",
           "name": "Mexico",
           "showlegend": true,
           "type": "scattergeo"
          },
          {
           "geo": "geo",
           "hovertemplate": "<b>%{hovertext}</b><br><br>Country=%{location}<br>year=2017<br>count=%{marker.size}<extra></extra>",
           "hovertext": [
            "Colombia"
           ],
           "legendgroup": "Colombia",
           "locationmode": "country names",
           "locations": [
            "Colombia"
           ],
           "marker": {
            "color": "#FF6692",
            "size": [
             113
            ],
            "sizemode": "area",
            "sizeref": 21.98,
            "symbol": "circle"
           },
           "mode": "markers",
           "name": "Colombia",
           "showlegend": true,
           "type": "scattergeo"
          },
          {
           "geo": "geo",
           "hovertemplate": "<b>%{hovertext}</b><br><br>Country=%{location}<br>year=2017<br>count=%{marker.size}<extra></extra>",
           "hovertext": [
            "Iran"
           ],
           "legendgroup": "Iran",
           "locationmode": "country names",
           "locations": [
            "Iran"
           ],
           "marker": {
            "color": "#B6E880",
            "size": [
             112
            ],
            "sizemode": "area",
            "sizeref": 21.98,
            "symbol": "circle"
           },
           "mode": "markers",
           "name": "Iran",
           "showlegend": true,
           "type": "scattergeo"
          },
          {
           "geo": "geo",
           "hovertemplate": "<b>%{hovertext}</b><br><br>Country=%{location}<br>year=2017<br>count=%{marker.size}<extra></extra>",
           "hovertext": [
            "Israel"
           ],
           "legendgroup": "Israel",
           "locationmode": "country names",
           "locations": [
            "Israel"
           ],
           "marker": {
            "color": "#FF97FF",
            "size": [
             105
            ],
            "sizemode": "area",
            "sizeref": 21.98,
            "symbol": "circle"
           },
           "mode": "markers",
           "name": "Israel",
           "showlegend": true,
           "type": "scattergeo"
          },
          {
           "geo": "geo",
           "hovertemplate": "<b>%{hovertext}</b><br><br>Country=%{location}<br>year=2017<br>count=%{marker.size}<extra></extra>",
           "hovertext": [
            "Ireland"
           ],
           "legendgroup": "Ireland",
           "locationmode": "country names",
           "locations": [
            "Ireland"
           ],
           "marker": {
            "color": "#FECB52",
            "size": [
             94
            ],
            "sizemode": "area",
            "sizeref": 21.98,
            "symbol": "circle"
           },
           "mode": "markers",
           "name": "Ireland",
           "showlegend": true,
           "type": "scattergeo"
          },
          {
           "geo": "geo",
           "hovertemplate": "<b>%{hovertext}</b><br><br>Country=%{location}<br>year=2017<br>count=%{marker.size}<extra></extra>",
           "hovertext": [
            "Portugal"
           ],
           "legendgroup": "Portugal",
           "locationmode": "country names",
           "locations": [
            "Portugal"
           ],
           "marker": {
            "color": "#636efa",
            "size": [
             93
            ],
            "sizemode": "area",
            "sizeref": 21.98,
            "symbol": "circle"
           },
           "mode": "markers",
           "name": "Portugal",
           "showlegend": true,
           "type": "scattergeo"
          },
          {
           "geo": "geo",
           "hovertemplate": "<b>%{hovertext}</b><br><br>Country=%{location}<br>year=2017<br>count=%{marker.size}<extra></extra>",
           "hovertext": [
            "Argentina"
           ],
           "legendgroup": "Argentina",
           "locationmode": "country names",
           "locations": [
            "Argentina"
           ],
           "marker": {
            "color": "#EF553B",
            "size": [
             92
            ],
            "sizemode": "area",
            "sizeref": 21.98,
            "symbol": "circle"
           },
           "mode": "markers",
           "name": "Argentina",
           "showlegend": true,
           "type": "scattergeo"
          },
          {
           "geo": "geo",
           "hovertemplate": "<b>%{hovertext}</b><br><br>Country=%{location}<br>year=2017<br>count=%{marker.size}<extra></extra>",
           "hovertext": [
            "Belgium"
           ],
           "legendgroup": "Belgium",
           "locationmode": "country names",
           "locations": [
            "Belgium"
           ],
           "marker": {
            "color": "#00cc96",
            "size": [
             91
            ],
            "sizemode": "area",
            "sizeref": 21.98,
            "symbol": "circle"
           },
           "mode": "markers",
           "name": "Belgium",
           "showlegend": true,
           "type": "scattergeo"
          },
          {
           "geo": "geo",
           "hovertemplate": "<b>%{hovertext}</b><br><br>Country=%{location}<br>year=2017<br>count=%{marker.size}<extra></extra>",
           "hovertext": [
            "Sweden"
           ],
           "legendgroup": "Sweden",
           "locationmode": "country names",
           "locations": [
            "Sweden"
           ],
           "marker": {
            "color": "#ab63fa",
            "size": [
             89
            ],
            "sizemode": "area",
            "sizeref": 21.98,
            "symbol": "circle"
           },
           "mode": "markers",
           "name": "Sweden",
           "showlegend": true,
           "type": "scattergeo"
          },
          {
           "geo": "geo",
           "hovertemplate": "<b>%{hovertext}</b><br><br>Country=%{location}<br>year=2017<br>count=%{marker.size}<extra></extra>",
           "hovertext": [
            "Philippines"
           ],
           "legendgroup": "Philippines",
           "locationmode": "country names",
           "locations": [
            "Philippines"
           ],
           "marker": {
            "color": "#FFA15A",
            "size": [
             84
            ],
            "sizemode": "area",
            "sizeref": 21.98,
            "symbol": "circle"
           },
           "mode": "markers",
           "name": "Philippines",
           "showlegend": true,
           "type": "scattergeo"
          },
          {
           "geo": "geo",
           "hovertemplate": "<b>%{hovertext}</b><br><br>Country=%{location}<br>year=2017<br>count=%{marker.size}<extra></extra>",
           "hovertext": [
            "Greece"
           ],
           "legendgroup": "Greece",
           "locationmode": "country names",
           "locations": [
            "Greece"
           ],
           "marker": {
            "color": "#19d3f3",
            "size": [
             81
            ],
            "sizemode": "area",
            "sizeref": 21.98,
            "symbol": "circle"
           },
           "mode": "markers",
           "name": "Greece",
           "showlegend": true,
           "type": "scattergeo"
          },
          {
           "geo": "geo",
           "hovertemplate": "<b>%{hovertext}</b><br><br>Country=%{location}<br>year=2017<br>count=%{marker.size}<extra></extra>",
           "hovertext": [
            "Malaysia"
           ],
           "legendgroup": "Malaysia",
           "locationmode": "country names",
           "locations": [
            "Malaysia"
           ],
           "marker": {
            "color": "#FF6692",
            "size": [
             79
            ],
            "sizemode": "area",
            "sizeref": 21.98,
            "symbol": "circle"
           },
           "mode": "markers",
           "name": "Malaysia",
           "showlegend": true,
           "type": "scattergeo"
          },
          {
           "geo": "geo",
           "hovertemplate": "<b>%{hovertext}</b><br><br>Country=%{location}<br>year=2017<br>count=%{marker.size}<extra></extra>",
           "hovertext": [
            "Denmark"
           ],
           "legendgroup": "Denmark",
           "locationmode": "country names",
           "locations": [
            "Denmark"
           ],
           "marker": {
            "color": "#B6E880",
            "size": [
             78
            ],
            "sizemode": "area",
            "sizeref": 21.98,
            "symbol": "circle"
           },
           "mode": "markers",
           "name": "Denmark",
           "showlegend": true,
           "type": "scattergeo"
          },
          {
           "geo": "geo",
           "hovertemplate": "<b>%{hovertext}</b><br><br>Country=%{location}<br>year=2017<br>count=%{marker.size}<extra></extra>",
           "hovertext": [
            "New Zealand"
           ],
           "legendgroup": "New Zealand",
           "locationmode": "country names",
           "locations": [
            "New Zealand"
           ],
           "marker": {
            "color": "#FF97FF",
            "size": [
             74
            ],
            "sizemode": "area",
            "sizeref": 21.98,
            "symbol": "circle"
           },
           "mode": "markers",
           "name": "New Zealand",
           "showlegend": true,
           "type": "scattergeo"
          },
          {
           "geo": "geo",
           "hovertemplate": "<b>%{hovertext}</b><br><br>Country=%{location}<br>year=2017<br>count=%{marker.size}<extra></extra>",
           "hovertext": [
            "Nigeria"
           ],
           "legendgroup": "Nigeria",
           "locationmode": "country names",
           "locations": [
            "Nigeria"
           ],
           "marker": {
            "color": "#FECB52",
            "size": [
             73
            ],
            "sizemode": "area",
            "sizeref": 21.98,
            "symbol": "circle"
           },
           "mode": "markers",
           "name": "Nigeria",
           "showlegend": true,
           "type": "scattergeo"
          },
          {
           "geo": "geo",
           "hovertemplate": "<b>%{hovertext}</b><br><br>Country=%{location}<br>year=2017<br>count=%{marker.size}<extra></extra>",
           "hovertext": [
            "Vietnam"
           ],
           "legendgroup": "Vietnam",
           "locationmode": "country names",
           "locations": [
            "Vietnam"
           ],
           "marker": {
            "color": "#636efa",
            "size": [
             71
            ],
            "sizemode": "area",
            "sizeref": 21.98,
            "symbol": "circle"
           },
           "mode": "markers",
           "name": "Vietnam",
           "showlegend": true,
           "type": "scattergeo"
          },
          {
           "geo": "geo",
           "hovertemplate": "<b>%{hovertext}</b><br><br>Country=%{location}<br>year=2017<br>count=%{marker.size}<extra></extra>",
           "hovertext": [
            "Republic of China"
           ],
           "legendgroup": "Republic of China",
           "locationmode": "country names",
           "locations": [
            "Republic of China"
           ],
           "marker": {
            "color": "#EF553B",
            "size": [
             67
            ],
            "sizemode": "area",
            "sizeref": 21.98,
            "symbol": "circle"
           },
           "mode": "markers",
           "name": "Republic of China",
           "showlegend": true,
           "type": "scattergeo"
          },
          {
           "geo": "geo",
           "hovertemplate": "<b>%{hovertext}</b><br><br>Country=%{location}<br>year=2017<br>count=%{marker.size}<extra></extra>",
           "hovertext": [
            "Finland"
           ],
           "legendgroup": "Finland",
           "locationmode": "country names",
           "locations": [
            "Finland"
           ],
           "marker": {
            "color": "#00cc96",
            "size": [
             67
            ],
            "sizemode": "area",
            "sizeref": 21.98,
            "symbol": "circle"
           },
           "mode": "markers",
           "name": "Finland",
           "showlegend": true,
           "type": "scattergeo"
          },
          {
           "geo": "geo",
           "hovertemplate": "<b>%{hovertext}</b><br><br>Country=%{location}<br>year=2017<br>count=%{marker.size}<extra></extra>",
           "hovertext": [
            "Hungary"
           ],
           "legendgroup": "Hungary",
           "locationmode": "country names",
           "locations": [
            "Hungary"
           ],
           "marker": {
            "color": "#ab63fa",
            "size": [
             66
            ],
            "sizemode": "area",
            "sizeref": 21.98,
            "symbol": "circle"
           },
           "mode": "markers",
           "name": "Hungary",
           "showlegend": true,
           "type": "scattergeo"
          },
          {
           "geo": "geo",
           "hovertemplate": "<b>%{hovertext}</b><br><br>Country=%{location}<br>year=2017<br>count=%{marker.size}<extra></extra>",
           "hovertext": [
            "Egypt"
           ],
           "legendgroup": "Egypt",
           "locationmode": "country names",
           "locations": [
            "Egypt"
           ],
           "marker": {
            "color": "#FFA15A",
            "size": [
             66
            ],
            "sizemode": "area",
            "sizeref": 21.98,
            "symbol": "circle"
           },
           "mode": "markers",
           "name": "Egypt",
           "showlegend": true,
           "type": "scattergeo"
          },
          {
           "geo": "geo",
           "hovertemplate": "<b>%{hovertext}</b><br><br>Country=%{location}<br>year=2017<br>count=%{marker.size}<extra></extra>",
           "hovertext": [
            "Hong Kong"
           ],
           "legendgroup": "Hong Kong",
           "locationmode": "country names",
           "locations": [
            "Hong Kong"
           ],
           "marker": {
            "color": "#19d3f3",
            "size": [
             65
            ],
            "sizemode": "area",
            "sizeref": 21.98,
            "symbol": "circle"
           },
           "mode": "markers",
           "name": "Hong Kong",
           "showlegend": true,
           "type": "scattergeo"
          },
          {
           "geo": "geo",
           "hovertemplate": "<b>%{hovertext}</b><br><br>Country=%{location}<br>year=2017<br>count=%{marker.size}<extra></extra>",
           "hovertext": [
            "Kenya"
           ],
           "legendgroup": "Kenya",
           "locationmode": "country names",
           "locations": [
            "Kenya"
           ],
           "marker": {
            "color": "#FF6692",
            "size": [
             59
            ],
            "sizemode": "area",
            "sizeref": 21.98,
            "symbol": "circle"
           },
           "mode": "markers",
           "name": "Kenya",
           "showlegend": true,
           "type": "scattergeo"
          },
          {
           "geo": "geo",
           "hovertemplate": "<b>%{hovertext}</b><br><br>Country=%{location}<br>year=2017<br>count=%{marker.size}<extra></extra>",
           "hovertext": [
            "Romania"
           ],
           "legendgroup": "Romania",
           "locationmode": "country names",
           "locations": [
            "Romania"
           ],
           "marker": {
            "color": "#B6E880",
            "size": [
             59
            ],
            "sizemode": "area",
            "sizeref": 21.98,
            "symbol": "circle"
           },
           "mode": "markers",
           "name": "Romania",
           "showlegend": true,
           "type": "scattergeo"
          },
          {
           "geo": "geo",
           "hovertemplate": "<b>%{hovertext}</b><br><br>Country=%{location}<br>year=2017<br>count=%{marker.size}<extra></extra>",
           "hovertext": [
            "Belarus"
           ],
           "legendgroup": "Belarus",
           "locationmode": "country names",
           "locations": [
            "Belarus"
           ],
           "marker": {
            "color": "#FF97FF",
            "size": [
             54
            ],
            "sizemode": "area",
            "sizeref": 21.98,
            "symbol": "circle"
           },
           "mode": "markers",
           "name": "Belarus",
           "showlegend": true,
           "type": "scattergeo"
          },
          {
           "geo": "geo",
           "hovertemplate": "<b>%{hovertext}</b><br><br>Country=%{location}<br>year=2017<br>count=%{marker.size}<extra></extra>",
           "hovertext": [
            "Norway"
           ],
           "legendgroup": "Norway",
           "locationmode": "country names",
           "locations": [
            "Norway"
           ],
           "marker": {
            "color": "#FECB52",
            "size": [
             53
            ],
            "sizemode": "area",
            "sizeref": 21.98,
            "symbol": "circle"
           },
           "mode": "markers",
           "name": "Norway",
           "showlegend": true,
           "type": "scattergeo"
          },
          {
           "geo": "geo",
           "hovertemplate": "<b>%{hovertext}</b><br><br>Country=%{location}<br>year=2017<br>count=%{marker.size}<extra></extra>",
           "hovertext": [
            "Czech Republic"
           ],
           "legendgroup": "Czech Republic",
           "locationmode": "country names",
           "locations": [
            "Czech Republic"
           ],
           "marker": {
            "color": "#636efa",
            "size": [
             53
            ],
            "sizemode": "area",
            "sizeref": 21.98,
            "symbol": "circle"
           },
           "mode": "markers",
           "name": "Czech Republic",
           "showlegend": true,
           "type": "scattergeo"
          },
          {
           "geo": "geo",
           "hovertemplate": "<b>%{hovertext}</b><br><br>Country=%{location}<br>year=2017<br>count=%{marker.size}<extra></extra>",
           "hovertext": [
            "Chile"
           ],
           "legendgroup": "Chile",
           "locationmode": "country names",
           "locations": [
            "Chile"
           ],
           "marker": {
            "color": "#EF553B",
            "size": [
             51
            ],
            "sizemode": "area",
            "sizeref": 21.98,
            "symbol": "circle"
           },
           "mode": "markers",
           "name": "Chile",
           "showlegend": true,
           "type": "scattergeo"
          }
         ],
         "name": "2017"
        },
        {
         "data": [
          {
           "geo": "geo",
           "hovertemplate": "<b>%{hovertext}</b><br><br>Country=%{location}<br>year=2018<br>count=%{marker.size}<extra></extra>",
           "hovertext": [
            "India"
           ],
           "legendgroup": "India",
           "locationmode": "country names",
           "locations": [
            "India"
           ],
           "marker": {
            "color": "#EF553B",
            "size": [
             4417
            ],
            "sizemode": "area",
            "sizeref": 21.98,
            "symbol": "circle"
           },
           "mode": "markers",
           "name": "India",
           "showlegend": true,
           "type": "scattergeo"
          },
          {
           "geo": "geo",
           "hovertemplate": "<b>%{hovertext}</b><br><br>Country=%{location}<br>year=2018<br>count=%{marker.size}<extra></extra>",
           "hovertext": [
            "Other"
           ],
           "legendgroup": "Other",
           "locationmode": "country names",
           "locations": [
            "Other"
           ],
           "marker": {
            "color": "#00cc96",
            "size": [
             1036
            ],
            "sizemode": "area",
            "sizeref": 21.98,
            "symbol": "circle"
           },
           "mode": "markers",
           "name": "Other",
           "showlegend": true,
           "type": "scattergeo"
          },
          {
           "geo": "geo",
           "hovertemplate": "<b>%{hovertext}</b><br><br>Country=%{location}<br>year=2018<br>count=%{marker.size}<extra></extra>",
           "hovertext": [
            "Russia"
           ],
           "legendgroup": "Russia",
           "locationmode": "country names",
           "locations": [
            "Russia"
           ],
           "marker": {
            "color": "#ab63fa",
            "size": [
             879
            ],
            "sizemode": "area",
            "sizeref": 21.98,
            "symbol": "circle"
           },
           "mode": "markers",
           "name": "Russia",
           "showlegend": true,
           "type": "scattergeo"
          },
          {
           "geo": "geo",
           "hovertemplate": "<b>%{hovertext}</b><br><br>Country=%{location}<br>year=2018<br>count=%{marker.size}<extra></extra>",
           "hovertext": [
            "Brazil"
           ],
           "legendgroup": "Brazil",
           "locationmode": "country names",
           "locations": [
            "Brazil"
           ],
           "marker": {
            "color": "#FF6692",
            "size": [
             736
            ],
            "sizemode": "area",
            "sizeref": 21.98,
            "symbol": "circle"
           },
           "mode": "markers",
           "name": "Brazil",
           "showlegend": true,
           "type": "scattergeo"
          },
          {
           "geo": "geo",
           "hovertemplate": "<b>%{hovertext}</b><br><br>Country=%{location}<br>year=2018<br>count=%{marker.size}<extra></extra>",
           "hovertext": [
            "Germany"
           ],
           "legendgroup": "Germany",
           "locationmode": "country names",
           "locations": [
            "Germany"
           ],
           "marker": {
            "color": "#B6E880",
            "size": [
             734
            ],
            "sizemode": "area",
            "sizeref": 21.98,
            "symbol": "circle"
           },
           "mode": "markers",
           "name": "Germany",
           "showlegend": true,
           "type": "scattergeo"
          },
          {
           "geo": "geo",
           "hovertemplate": "<b>%{hovertext}</b><br><br>Country=%{location}<br>year=2018<br>count=%{marker.size}<extra></extra>",
           "hovertext": [
            "France"
           ],
           "legendgroup": "France",
           "locationmode": "country names",
           "locations": [
            "France"
           ],
           "marker": {
            "color": "#FF97FF",
            "size": [
             604
            ],
            "sizemode": "area",
            "sizeref": 21.98,
            "symbol": "circle"
           },
           "mode": "markers",
           "name": "France",
           "showlegend": true,
           "type": "scattergeo"
          },
          {
           "geo": "geo",
           "hovertemplate": "<b>%{hovertext}</b><br><br>Country=%{location}<br>year=2018<br>count=%{marker.size}<extra></extra>",
           "hovertext": [
            "Canada"
           ],
           "legendgroup": "Canada",
           "locationmode": "country names",
           "locations": [
            "Canada"
           ],
           "marker": {
            "color": "#FECB52",
            "size": [
             604
            ],
            "sizemode": "area",
            "sizeref": 21.98,
            "symbol": "circle"
           },
           "mode": "markers",
           "name": "Canada",
           "showlegend": true,
           "type": "scattergeo"
          },
          {
           "geo": "geo",
           "hovertemplate": "<b>%{hovertext}</b><br><br>Country=%{location}<br>year=2018<br>count=%{marker.size}<extra></extra>",
           "hovertext": [
            "Australia"
           ],
           "legendgroup": "Australia",
           "locationmode": "country names",
           "locations": [
            "Australia"
           ],
           "marker": {
            "color": "#636efa",
            "size": [
             330
            ],
            "sizemode": "area",
            "sizeref": 21.98,
            "symbol": "circle"
           },
           "mode": "markers",
           "name": "Australia",
           "showlegend": true,
           "type": "scattergeo"
          },
          {
           "geo": "geo",
           "hovertemplate": "<b>%{hovertext}</b><br><br>Country=%{location}<br>year=2018<br>count=%{marker.size}<extra></extra>",
           "hovertext": [
            "Spain"
           ],
           "legendgroup": "Spain",
           "locationmode": "country names",
           "locations": [
            "Spain"
           ],
           "marker": {
            "color": "#EF553B",
            "size": [
             485
            ],
            "sizemode": "area",
            "sizeref": 21.98,
            "symbol": "circle"
           },
           "mode": "markers",
           "name": "Spain",
           "showlegend": true,
           "type": "scattergeo"
          },
          {
           "geo": "geo",
           "hovertemplate": "<b>%{hovertext}</b><br><br>Country=%{location}<br>year=2018<br>count=%{marker.size}<extra></extra>",
           "hovertext": [
            "Japan"
           ],
           "legendgroup": "Japan",
           "locationmode": "country names",
           "locations": [
            "Japan"
           ],
           "marker": {
            "color": "#00cc96",
            "size": [
             597
            ],
            "sizemode": "area",
            "sizeref": 21.98,
            "symbol": "circle"
           },
           "mode": "markers",
           "name": "Japan",
           "showlegend": true,
           "type": "scattergeo"
          },
          {
           "geo": "geo",
           "hovertemplate": "<b>%{hovertext}</b><br><br>Country=%{location}<br>year=2018<br>count=%{marker.size}<extra></extra>",
           "hovertext": [
            "Italy"
           ],
           "legendgroup": "Italy",
           "locationmode": "country names",
           "locations": [
            "Italy"
           ],
           "marker": {
            "color": "#FFA15A",
            "size": [
             355
            ],
            "sizemode": "area",
            "sizeref": 21.98,
            "symbol": "circle"
           },
           "mode": "markers",
           "name": "Italy",
           "showlegend": true,
           "type": "scattergeo"
          },
          {
           "geo": "geo",
           "hovertemplate": "<b>%{hovertext}</b><br><br>Country=%{location}<br>year=2018<br>count=%{marker.size}<extra></extra>",
           "hovertext": [
            "Netherlands"
           ],
           "legendgroup": "Netherlands",
           "locationmode": "country names",
           "locations": [
            "Netherlands"
           ],
           "marker": {
            "color": "#19d3f3",
            "size": [
             270
            ],
            "sizemode": "area",
            "sizeref": 21.98,
            "symbol": "circle"
           },
           "mode": "markers",
           "name": "Netherlands",
           "showlegend": true,
           "type": "scattergeo"
          },
          {
           "geo": "geo",
           "hovertemplate": "<b>%{hovertext}</b><br><br>Country=%{location}<br>year=2018<br>count=%{marker.size}<extra></extra>",
           "hovertext": [
            "Ukraine"
           ],
           "legendgroup": "Ukraine",
           "locationmode": "country names",
           "locations": [
            "Ukraine"
           ],
           "marker": {
            "color": "#FF6692",
            "size": [
             252
            ],
            "sizemode": "area",
            "sizeref": 21.98,
            "symbol": "circle"
           },
           "mode": "markers",
           "name": "Ukraine",
           "showlegend": true,
           "type": "scattergeo"
          },
          {
           "geo": "geo",
           "hovertemplate": "<b>%{hovertext}</b><br><br>Country=%{location}<br>year=2018<br>count=%{marker.size}<extra></extra>",
           "hovertext": [
            "South Korea"
           ],
           "legendgroup": "South Korea",
           "locationmode": "country names",
           "locations": [
            "South Korea"
           ],
           "marker": {
            "color": "#B6E880",
            "size": [
             188
            ],
            "sizemode": "area",
            "sizeref": 21.98,
            "symbol": "circle"
           },
           "mode": "markers",
           "name": "South Korea",
           "showlegend": true,
           "type": "scattergeo"
          },
          {
           "geo": "geo",
           "hovertemplate": "<b>%{hovertext}</b><br><br>Country=%{location}<br>year=2018<br>count=%{marker.size}<extra></extra>",
           "hovertext": [
            "Poland"
           ],
           "legendgroup": "Poland",
           "locationmode": "country names",
           "locations": [
            "Poland"
           ],
           "marker": {
            "color": "#FF97FF",
            "size": [
             301
            ],
            "sizemode": "area",
            "sizeref": 21.98,
            "symbol": "circle"
           },
           "mode": "markers",
           "name": "Poland",
           "showlegend": true,
           "type": "scattergeo"
          },
          {
           "geo": "geo",
           "hovertemplate": "<b>%{hovertext}</b><br><br>Country=%{location}<br>year=2018<br>count=%{marker.size}<extra></extra>",
           "hovertext": [
            "Singapore"
           ],
           "legendgroup": "Singapore",
           "locationmode": "country names",
           "locations": [
            "Singapore"
           ],
           "marker": {
            "color": "#FECB52",
            "size": [
             186
            ],
            "sizemode": "area",
            "sizeref": 21.98,
            "symbol": "circle"
           },
           "mode": "markers",
           "name": "Singapore",
           "showlegend": true,
           "type": "scattergeo"
          },
          {
           "geo": "geo",
           "hovertemplate": "<b>%{hovertext}</b><br><br>Country=%{location}<br>year=2018<br>count=%{marker.size}<extra></extra>",
           "hovertext": [
            "Pakistan"
           ],
           "legendgroup": "Pakistan",
           "locationmode": "country names",
           "locations": [
            "Pakistan"
           ],
           "marker": {
            "color": "#636efa",
            "size": [
             161
            ],
            "sizemode": "area",
            "sizeref": 21.98,
            "symbol": "circle"
           },
           "mode": "markers",
           "name": "Pakistan",
           "showlegend": true,
           "type": "scattergeo"
          },
          {
           "geo": "geo",
           "hovertemplate": "<b>%{hovertext}</b><br><br>Country=%{location}<br>year=2018<br>count=%{marker.size}<extra></extra>",
           "hovertext": [
            "Turkey"
           ],
           "legendgroup": "Turkey",
           "locationmode": "country names",
           "locations": [
            "Turkey"
           ],
           "marker": {
            "color": "#EF553B",
            "size": [
             327
            ],
            "sizemode": "area",
            "sizeref": 21.98,
            "symbol": "circle"
           },
           "mode": "markers",
           "name": "Turkey",
           "showlegend": true,
           "type": "scattergeo"
          },
          {
           "geo": "geo",
           "hovertemplate": "<b>%{hovertext}</b><br><br>Country=%{location}<br>year=2018<br>count=%{marker.size}<extra></extra>",
           "hovertext": [
            "Indonesia"
           ],
           "legendgroup": "Indonesia",
           "locationmode": "country names",
           "locations": [
            "Indonesia"
           ],
           "marker": {
            "color": "#00cc96",
            "size": [
             171
            ],
            "sizemode": "area",
            "sizeref": 21.98,
            "symbol": "circle"
           },
           "mode": "markers",
           "name": "Indonesia",
           "showlegend": true,
           "type": "scattergeo"
          },
          {
           "geo": "geo",
           "hovertemplate": "<b>%{hovertext}</b><br><br>Country=%{location}<br>year=2018<br>count=%{marker.size}<extra></extra>",
           "hovertext": [
            "Switzerland"
           ],
           "legendgroup": "Switzerland",
           "locationmode": "country names",
           "locations": [
            "Switzerland"
           ],
           "marker": {
            "color": "#ab63fa",
            "size": [
             164
            ],
            "sizemode": "area",
            "sizeref": 21.98,
            "symbol": "circle"
           },
           "mode": "markers",
           "name": "Switzerland",
           "showlegend": true,
           "type": "scattergeo"
          },
          {
           "geo": "geo",
           "hovertemplate": "<b>%{hovertext}</b><br><br>Country=%{location}<br>year=2018<br>count=%{marker.size}<extra></extra>",
           "hovertext": [
            "South Africa"
           ],
           "legendgroup": "South Africa",
           "locationmode": "country names",
           "locations": [
            "South Africa"
           ],
           "marker": {
            "color": "#FFA15A",
            "size": [
             147
            ],
            "sizemode": "area",
            "sizeref": 21.98,
            "symbol": "circle"
           },
           "mode": "markers",
           "name": "South Africa",
           "showlegend": true,
           "type": "scattergeo"
          },
          {
           "geo": "geo",
           "hovertemplate": "<b>%{hovertext}</b><br><br>Country=%{location}<br>year=2018<br>count=%{marker.size}<extra></extra>",
           "hovertext": [
            "Mexico"
           ],
           "legendgroup": "Mexico",
           "locationmode": "country names",
           "locations": [
            "Mexico"
           ],
           "marker": {
            "color": "#19d3f3",
            "size": [
             202
            ],
            "sizemode": "area",
            "sizeref": 21.98,
            "symbol": "circle"
           },
           "mode": "markers",
           "name": "Mexico",
           "showlegend": true,
           "type": "scattergeo"
          },
          {
           "geo": "geo",
           "hovertemplate": "<b>%{hovertext}</b><br><br>Country=%{location}<br>year=2018<br>count=%{marker.size}<extra></extra>",
           "hovertext": [
            "Colombia"
           ],
           "legendgroup": "Colombia",
           "locationmode": "country names",
           "locations": [
            "Colombia"
           ],
           "marker": {
            "color": "#FF6692",
            "size": [
             128
            ],
            "sizemode": "area",
            "sizeref": 21.98,
            "symbol": "circle"
           },
           "mode": "markers",
           "name": "Colombia",
           "showlegend": true,
           "type": "scattergeo"
          },
          {
           "geo": "geo",
           "hovertemplate": "<b>%{hovertext}</b><br><br>Country=%{location}<br>year=2018<br>count=%{marker.size}<extra></extra>",
           "hovertext": [
            "Israel"
           ],
           "legendgroup": "Israel",
           "locationmode": "country names",
           "locations": [
            "Israel"
           ],
           "marker": {
            "color": "#FF97FF",
            "size": [
             173
            ],
            "sizemode": "area",
            "sizeref": 21.98,
            "symbol": "circle"
           },
           "mode": "markers",
           "name": "Israel",
           "showlegend": true,
           "type": "scattergeo"
          },
          {
           "geo": "geo",
           "hovertemplate": "<b>%{hovertext}</b><br><br>Country=%{location}<br>year=2018<br>count=%{marker.size}<extra></extra>",
           "hovertext": [
            "Ireland"
           ],
           "legendgroup": "Ireland",
           "locationmode": "country names",
           "locations": [
            "Ireland"
           ],
           "marker": {
            "color": "#FECB52",
            "size": [
             101
            ],
            "sizemode": "area",
            "sizeref": 21.98,
            "symbol": "circle"
           },
           "mode": "markers",
           "name": "Ireland",
           "showlegend": true,
           "type": "scattergeo"
          },
          {
           "geo": "geo",
           "hovertemplate": "<b>%{hovertext}</b><br><br>Country=%{location}<br>year=2018<br>count=%{marker.size}<extra></extra>",
           "hovertext": [
            "Portugal"
           ],
           "legendgroup": "Portugal",
           "locationmode": "country names",
           "locations": [
            "Portugal"
           ],
           "marker": {
            "color": "#636efa",
            "size": [
             155
            ],
            "sizemode": "area",
            "sizeref": 21.98,
            "symbol": "circle"
           },
           "mode": "markers",
           "name": "Portugal",
           "showlegend": true,
           "type": "scattergeo"
          },
          {
           "geo": "geo",
           "hovertemplate": "<b>%{hovertext}</b><br><br>Country=%{location}<br>year=2018<br>count=%{marker.size}<extra></extra>",
           "hovertext": [
            "Argentina"
           ],
           "legendgroup": "Argentina",
           "locationmode": "country names",
           "locations": [
            "Argentina"
           ],
           "marker": {
            "color": "#EF553B",
            "size": [
             119
            ],
            "sizemode": "area",
            "sizeref": 21.98,
            "symbol": "circle"
           },
           "mode": "markers",
           "name": "Argentina",
           "showlegend": true,
           "type": "scattergeo"
          },
          {
           "geo": "geo",
           "hovertemplate": "<b>%{hovertext}</b><br><br>Country=%{location}<br>year=2018<br>count=%{marker.size}<extra></extra>",
           "hovertext": [
            "Belgium"
           ],
           "legendgroup": "Belgium",
           "locationmode": "country names",
           "locations": [
            "Belgium"
           ],
           "marker": {
            "color": "#00cc96",
            "size": [
             111
            ],
            "sizemode": "area",
            "sizeref": 21.98,
            "symbol": "circle"
           },
           "mode": "markers",
           "name": "Belgium",
           "showlegend": true,
           "type": "scattergeo"
          },
          {
           "geo": "geo",
           "hovertemplate": "<b>%{hovertext}</b><br><br>Country=%{location}<br>year=2018<br>count=%{marker.size}<extra></extra>",
           "hovertext": [
            "Sweden"
           ],
           "legendgroup": "Sweden",
           "locationmode": "country names",
           "locations": [
            "Sweden"
           ],
           "marker": {
            "color": "#ab63fa",
            "size": [
             155
            ],
            "sizemode": "area",
            "sizeref": 21.98,
            "symbol": "circle"
           },
           "mode": "markers",
           "name": "Sweden",
           "showlegend": true,
           "type": "scattergeo"
          },
          {
           "geo": "geo",
           "hovertemplate": "<b>%{hovertext}</b><br><br>Country=%{location}<br>year=2018<br>count=%{marker.size}<extra></extra>",
           "hovertext": [
            "Philippines"
           ],
           "legendgroup": "Philippines",
           "locationmode": "country names",
           "locations": [
            "Philippines"
           ],
           "marker": {
            "color": "#FFA15A",
            "size": [
             73
            ],
            "sizemode": "area",
            "sizeref": 21.98,
            "symbol": "circle"
           },
           "mode": "markers",
           "name": "Philippines",
           "showlegend": true,
           "type": "scattergeo"
          },
          {
           "geo": "geo",
           "hovertemplate": "<b>%{hovertext}</b><br><br>Country=%{location}<br>year=2018<br>count=%{marker.size}<extra></extra>",
           "hovertext": [
            "Greece"
           ],
           "legendgroup": "Greece",
           "locationmode": "country names",
           "locations": [
            "Greece"
           ],
           "marker": {
            "color": "#19d3f3",
            "size": [
             121
            ],
            "sizemode": "area",
            "sizeref": 21.98,
            "symbol": "circle"
           },
           "mode": "markers",
           "name": "Greece",
           "showlegend": true,
           "type": "scattergeo"
          },
          {
           "geo": "geo",
           "hovertemplate": "<b>%{hovertext}</b><br><br>Country=%{location}<br>year=2018<br>count=%{marker.size}<extra></extra>",
           "hovertext": [
            "Malaysia"
           ],
           "legendgroup": "Malaysia",
           "locationmode": "country names",
           "locations": [
            "Malaysia"
           ],
           "marker": {
            "color": "#FF6692",
            "size": [
             113
            ],
            "sizemode": "area",
            "sizeref": 21.98,
            "symbol": "circle"
           },
           "mode": "markers",
           "name": "Malaysia",
           "showlegend": true,
           "type": "scattergeo"
          },
          {
           "geo": "geo",
           "hovertemplate": "<b>%{hovertext}</b><br><br>Country=%{location}<br>year=2018<br>count=%{marker.size}<extra></extra>",
           "hovertext": [
            "Denmark"
           ],
           "legendgroup": "Denmark",
           "locationmode": "country names",
           "locations": [
            "Denmark"
           ],
           "marker": {
            "color": "#B6E880",
            "size": [
             106
            ],
            "sizemode": "area",
            "sizeref": 21.98,
            "symbol": "circle"
           },
           "mode": "markers",
           "name": "Denmark",
           "showlegend": true,
           "type": "scattergeo"
          },
          {
           "geo": "geo",
           "hovertemplate": "<b>%{hovertext}</b><br><br>Country=%{location}<br>year=2018<br>count=%{marker.size}<extra></extra>",
           "hovertext": [
            "New Zealand"
           ],
           "legendgroup": "New Zealand",
           "locationmode": "country names",
           "locations": [
            "New Zealand"
           ],
           "marker": {
            "color": "#FF97FF",
            "size": [
             77
            ],
            "sizemode": "area",
            "sizeref": 21.98,
            "symbol": "circle"
           },
           "mode": "markers",
           "name": "New Zealand",
           "showlegend": true,
           "type": "scattergeo"
          },
          {
           "geo": "geo",
           "hovertemplate": "<b>%{hovertext}</b><br><br>Country=%{location}<br>year=2018<br>count=%{marker.size}<extra></extra>",
           "hovertext": [
            "Nigeria"
           ],
           "legendgroup": "Nigeria",
           "locationmode": "country names",
           "locations": [
            "Nigeria"
           ],
           "marker": {
            "color": "#FECB52",
            "size": [
             208
            ],
            "sizemode": "area",
            "sizeref": 21.98,
            "symbol": "circle"
           },
           "mode": "markers",
           "name": "Nigeria",
           "showlegend": true,
           "type": "scattergeo"
          },
          {
           "geo": "geo",
           "hovertemplate": "<b>%{hovertext}</b><br><br>Country=%{location}<br>year=2018<br>count=%{marker.size}<extra></extra>",
           "hovertext": [
            "Finland"
           ],
           "legendgroup": "Finland",
           "locationmode": "country names",
           "locations": [
            "Finland"
           ],
           "marker": {
            "color": "#00cc96",
            "size": [
             79
            ],
            "sizemode": "area",
            "sizeref": 21.98,
            "symbol": "circle"
           },
           "mode": "markers",
           "name": "Finland",
           "showlegend": true,
           "type": "scattergeo"
          },
          {
           "geo": "geo",
           "hovertemplate": "<b>%{hovertext}</b><br><br>Country=%{location}<br>year=2018<br>count=%{marker.size}<extra></extra>",
           "hovertext": [
            "Hungary"
           ],
           "legendgroup": "Hungary",
           "locationmode": "country names",
           "locations": [
            "Hungary"
           ],
           "marker": {
            "color": "#ab63fa",
            "size": [
             93
            ],
            "sizemode": "area",
            "sizeref": 21.98,
            "symbol": "circle"
           },
           "mode": "markers",
           "name": "Hungary",
           "showlegend": true,
           "type": "scattergeo"
          },
          {
           "geo": "geo",
           "hovertemplate": "<b>%{hovertext}</b><br><br>Country=%{location}<br>year=2018<br>count=%{marker.size}<extra></extra>",
           "hovertext": [
            "Egypt"
           ],
           "legendgroup": "Egypt",
           "locationmode": "country names",
           "locations": [
            "Egypt"
           ],
           "marker": {
            "color": "#FFA15A",
            "size": [
             96
            ],
            "sizemode": "area",
            "sizeref": 21.98,
            "symbol": "circle"
           },
           "mode": "markers",
           "name": "Egypt",
           "showlegend": true,
           "type": "scattergeo"
          },
          {
           "geo": "geo",
           "hovertemplate": "<b>%{hovertext}</b><br><br>Country=%{location}<br>year=2018<br>count=%{marker.size}<extra></extra>",
           "hovertext": [
            "Kenya"
           ],
           "legendgroup": "Kenya",
           "locationmode": "country names",
           "locations": [
            "Kenya"
           ],
           "marker": {
            "color": "#FF6692",
            "size": [
             85
            ],
            "sizemode": "area",
            "sizeref": 21.98,
            "symbol": "circle"
           },
           "mode": "markers",
           "name": "Kenya",
           "showlegend": true,
           "type": "scattergeo"
          },
          {
           "geo": "geo",
           "hovertemplate": "<b>%{hovertext}</b><br><br>Country=%{location}<br>year=2018<br>count=%{marker.size}<extra></extra>",
           "hovertext": [
            "Romania"
           ],
           "legendgroup": "Romania",
           "locationmode": "country names",
           "locations": [
            "Romania"
           ],
           "marker": {
            "color": "#B6E880",
            "size": [
             79
            ],
            "sizemode": "area",
            "sizeref": 21.98,
            "symbol": "circle"
           },
           "mode": "markers",
           "name": "Romania",
           "showlegend": true,
           "type": "scattergeo"
          },
          {
           "geo": "geo",
           "hovertemplate": "<b>%{hovertext}</b><br><br>Country=%{location}<br>year=2018<br>count=%{marker.size}<extra></extra>",
           "hovertext": [
            "Belarus"
           ],
           "legendgroup": "Belarus",
           "locationmode": "country names",
           "locations": [
            "Belarus"
           ],
           "marker": {
            "color": "#FF97FF",
            "size": [
             91
            ],
            "sizemode": "area",
            "sizeref": 21.98,
            "symbol": "circle"
           },
           "mode": "markers",
           "name": "Belarus",
           "showlegend": true,
           "type": "scattergeo"
          },
          {
           "geo": "geo",
           "hovertemplate": "<b>%{hovertext}</b><br><br>Country=%{location}<br>year=2018<br>count=%{marker.size}<extra></extra>",
           "hovertext": [
            "Norway"
           ],
           "legendgroup": "Norway",
           "locationmode": "country names",
           "locations": [
            "Norway"
           ],
           "marker": {
            "color": "#FECB52",
            "size": [
             74
            ],
            "sizemode": "area",
            "sizeref": 21.98,
            "symbol": "circle"
           },
           "mode": "markers",
           "name": "Norway",
           "showlegend": true,
           "type": "scattergeo"
          },
          {
           "geo": "geo",
           "hovertemplate": "<b>%{hovertext}</b><br><br>Country=%{location}<br>year=2018<br>count=%{marker.size}<extra></extra>",
           "hovertext": [
            "Czech Republic"
           ],
           "legendgroup": "Czech Republic",
           "locationmode": "country names",
           "locations": [
            "Czech Republic"
           ],
           "marker": {
            "color": "#636efa",
            "size": [
             72
            ],
            "sizemode": "area",
            "sizeref": 21.98,
            "symbol": "circle"
           },
           "mode": "markers",
           "name": "Czech Republic",
           "showlegend": true,
           "type": "scattergeo"
          },
          {
           "geo": "geo",
           "hovertemplate": "<b>%{hovertext}</b><br><br>Country=%{location}<br>year=2018<br>count=%{marker.size}<extra></extra>",
           "hovertext": [
            "Chile"
           ],
           "legendgroup": "Chile",
           "locationmode": "country names",
           "locations": [
            "Chile"
           ],
           "marker": {
            "color": "#EF553B",
            "size": [
             76
            ],
            "sizemode": "area",
            "sizeref": 21.98,
            "symbol": "circle"
           },
           "mode": "markers",
           "name": "Chile",
           "showlegend": true,
           "type": "scattergeo"
          },
          {
           "geo": "geo",
           "hovertemplate": "<b>%{hovertext}</b><br><br>Country=%{location}<br>year=2018<br>count=%{marker.size}<extra></extra>",
           "hovertext": [
            "United States of America"
           ],
           "legendgroup": "United States of America",
           "locationmode": "country names",
           "locations": [
            "United States of America"
           ],
           "marker": {
            "color": "#00cc96",
            "size": [
             4716
            ],
            "sizemode": "area",
            "sizeref": 21.98,
            "symbol": "circle"
           },
           "mode": "markers",
           "name": "United States of America",
           "showlegend": true,
           "type": "scattergeo"
          },
          {
           "geo": "geo",
           "hovertemplate": "<b>%{hovertext}</b><br><br>Country=%{location}<br>year=2018<br>count=%{marker.size}<extra></extra>",
           "hovertext": [
            "China"
           ],
           "legendgroup": "China",
           "locationmode": "country names",
           "locations": [
            "China"
           ],
           "marker": {
            "color": "#ab63fa",
            "size": [
             1644
            ],
            "sizemode": "area",
            "sizeref": 21.98,
            "symbol": "circle"
           },
           "mode": "markers",
           "name": "China",
           "showlegend": true,
           "type": "scattergeo"
          },
          {
           "geo": "geo",
           "hovertemplate": "<b>%{hovertext}</b><br><br>Country=%{location}<br>year=2018<br>count=%{marker.size}<extra></extra>",
           "hovertext": [
            "United Kingdom of Great Britain and Northern Ireland"
           ],
           "legendgroup": "United Kingdom of Great Britain and Northern Ireland",
           "locationmode": "country names",
           "locations": [
            "United Kingdom of Great Britain and Northern Ireland"
           ],
           "marker": {
            "color": "#FFA15A",
            "size": [
             702
            ],
            "sizemode": "area",
            "sizeref": 21.98,
            "symbol": "circle"
           },
           "mode": "markers",
           "name": "United Kingdom of Great Britain and Northern Ireland",
           "showlegend": true,
           "type": "scattergeo"
          },
          {
           "geo": "geo",
           "hovertemplate": "<b>%{hovertext}</b><br><br>Country=%{location}<br>year=2018<br>count=%{marker.size}<extra></extra>",
           "hovertext": [
            "I do not wish to disclose my location"
           ],
           "legendgroup": "I do not wish to disclose my location",
           "locationmode": "country names",
           "locations": [
            "I do not wish to disclose my location"
           ],
           "marker": {
            "color": "#19d3f3",
            "size": [
             394
            ],
            "sizemode": "area",
            "sizeref": 21.98,
            "symbol": "circle"
           },
           "mode": "markers",
           "name": "I do not wish to disclose my location",
           "showlegend": true,
           "type": "scattergeo"
          },
          {
           "geo": "geo",
           "hovertemplate": "<b>%{hovertext}</b><br><br>Country=%{location}<br>year=2018<br>count=%{marker.size}<extra></extra>",
           "hovertext": [
            "Viet Nam"
           ],
           "legendgroup": "Viet Nam",
           "locationmode": "country names",
           "locations": [
            "Viet Nam"
           ],
           "marker": {
            "color": "#FF6692",
            "size": [
             144
            ],
            "sizemode": "area",
            "sizeref": 21.98,
            "symbol": "circle"
           },
           "mode": "markers",
           "name": "Viet Nam",
           "showlegend": true,
           "type": "scattergeo"
          },
          {
           "geo": "geo",
           "hovertemplate": "<b>%{hovertext}</b><br><br>Country=%{location}<br>year=2018<br>count=%{marker.size}<extra></extra>",
           "hovertext": [
            "Iran, Islamic Republic of..."
           ],
           "legendgroup": "Iran, Islamic Republic of...",
           "locationmode": "country names",
           "locations": [
            "Iran, Islamic Republic of..."
           ],
           "marker": {
            "color": "#B6E880",
            "size": [
             113
            ],
            "sizemode": "area",
            "sizeref": 21.98,
            "symbol": "circle"
           },
           "mode": "markers",
           "name": "Iran, Islamic Republic of...",
           "showlegend": true,
           "type": "scattergeo"
          },
          {
           "geo": "geo",
           "hovertemplate": "<b>%{hovertext}</b><br><br>Country=%{location}<br>year=2018<br>count=%{marker.size}<extra></extra>",
           "hovertext": [
            "Bangladesh"
           ],
           "legendgroup": "Bangladesh",
           "locationmode": "country names",
           "locations": [
            "Bangladesh"
           ],
           "marker": {
            "color": "#FF97FF",
            "size": [
             107
            ],
            "sizemode": "area",
            "sizeref": 21.98,
            "symbol": "circle"
           },
           "mode": "markers",
           "name": "Bangladesh",
           "showlegend": true,
           "type": "scattergeo"
          },
          {
           "geo": "geo",
           "hovertemplate": "<b>%{hovertext}</b><br><br>Country=%{location}<br>year=2018<br>count=%{marker.size}<extra></extra>",
           "hovertext": [
            "Peru"
           ],
           "legendgroup": "Peru",
           "locationmode": "country names",
           "locations": [
            "Peru"
           ],
           "marker": {
            "color": "#FECB52",
            "size": [
             81
            ],
            "sizemode": "area",
            "sizeref": 21.98,
            "symbol": "circle"
           },
           "mode": "markers",
           "name": "Peru",
           "showlegend": true,
           "type": "scattergeo"
          },
          {
           "geo": "geo",
           "hovertemplate": "<b>%{hovertext}</b><br><br>Country=%{location}<br>year=2018<br>count=%{marker.size}<extra></extra>",
           "hovertext": [
            "Hong Kong (S.A.R.)"
           ],
           "legendgroup": "Hong Kong (S.A.R.)",
           "locationmode": "country names",
           "locations": [
            "Hong Kong (S.A.R.)"
           ],
           "marker": {
            "color": "#636efa",
            "size": [
             76
            ],
            "sizemode": "area",
            "sizeref": 21.98,
            "symbol": "circle"
           },
           "mode": "markers",
           "name": "Hong Kong (S.A.R.)",
           "showlegend": true,
           "type": "scattergeo"
          },
          {
           "geo": "geo",
           "hovertemplate": "<b>%{hovertext}</b><br><br>Country=%{location}<br>year=2018<br>count=%{marker.size}<extra></extra>",
           "hovertext": [
            "Tunisia"
           ],
           "legendgroup": "Tunisia",
           "locationmode": "country names",
           "locations": [
            "Tunisia"
           ],
           "marker": {
            "color": "#EF553B",
            "size": [
             74
            ],
            "sizemode": "area",
            "sizeref": 21.98,
            "symbol": "circle"
           },
           "mode": "markers",
           "name": "Tunisia",
           "showlegend": true,
           "type": "scattergeo"
          },
          {
           "geo": "geo",
           "hovertemplate": "<b>%{hovertext}</b><br><br>Country=%{location}<br>year=2018<br>count=%{marker.size}<extra></extra>",
           "hovertext": [
            "Thailand"
           ],
           "legendgroup": "Thailand",
           "locationmode": "country names",
           "locations": [
            "Thailand"
           ],
           "marker": {
            "color": "#00cc96",
            "size": [
             73
            ],
            "sizemode": "area",
            "sizeref": 21.98,
            "symbol": "circle"
           },
           "mode": "markers",
           "name": "Thailand",
           "showlegend": true,
           "type": "scattergeo"
          },
          {
           "geo": "geo",
           "hovertemplate": "<b>%{hovertext}</b><br><br>Country=%{location}<br>year=2018<br>count=%{marker.size}<extra></extra>",
           "hovertext": [
            "Republic of Korea"
           ],
           "legendgroup": "Republic of Korea",
           "locationmode": "country names",
           "locations": [
            "Republic of Korea"
           ],
           "marker": {
            "color": "#ab63fa",
            "size": [
             71
            ],
            "sizemode": "area",
            "sizeref": 21.98,
            "symbol": "circle"
           },
           "mode": "markers",
           "name": "Republic of Korea",
           "showlegend": true,
           "type": "scattergeo"
          },
          {
           "geo": "geo",
           "hovertemplate": "<b>%{hovertext}</b><br><br>Country=%{location}<br>year=2018<br>count=%{marker.size}<extra></extra>",
           "hovertext": [
            "Morocco"
           ],
           "legendgroup": "Morocco",
           "locationmode": "country names",
           "locations": [
            "Morocco"
           ],
           "marker": {
            "color": "#FFA15A",
            "size": [
             71
            ],
            "sizemode": "area",
            "sizeref": 21.98,
            "symbol": "circle"
           },
           "mode": "markers",
           "name": "Morocco",
           "showlegend": true,
           "type": "scattergeo"
          },
          {
           "geo": "geo",
           "hovertemplate": "<b>%{hovertext}</b><br><br>Country=%{location}<br>year=2018<br>count=%{marker.size}<extra></extra>",
           "hovertext": [
            "Austria"
           ],
           "legendgroup": "Austria",
           "locationmode": "country names",
           "locations": [
            "Austria"
           ],
           "marker": {
            "color": "#19d3f3",
            "size": [
             62
            ],
            "sizemode": "area",
            "sizeref": 21.98,
            "symbol": "circle"
           },
           "mode": "markers",
           "name": "Austria",
           "showlegend": true,
           "type": "scattergeo"
          },
          {
           "geo": "geo",
           "hovertemplate": "<b>%{hovertext}</b><br><br>Country=%{location}<br>year=2018<br>count=%{marker.size}<extra></extra>",
           "hovertext": [
            "In which country do you currently reside?"
           ],
           "legendgroup": "In which country do you currently reside?",
           "locationmode": "country names",
           "locations": [
            "In which country do you currently reside?"
           ],
           "marker": {
            "color": "#FF6692",
            "size": [
             1
            ],
            "sizemode": "area",
            "sizeref": 21.98,
            "symbol": "circle"
           },
           "mode": "markers",
           "name": "In which country do you currently reside?",
           "showlegend": true,
           "type": "scattergeo"
          }
         ],
         "name": "2018"
        },
        {
         "data": [
          {
           "geo": "geo",
           "hovertemplate": "<b>%{hovertext}</b><br><br>Country=%{location}<br>year=2019<br>count=%{marker.size}<extra></extra>",
           "hovertext": [
            "India"
           ],
           "legendgroup": "India",
           "locationmode": "country names",
           "locations": [
            "India"
           ],
           "marker": {
            "color": "#EF553B",
            "size": [
             4786
            ],
            "sizemode": "area",
            "sizeref": 21.98,
            "symbol": "circle"
           },
           "mode": "markers",
           "name": "India",
           "showlegend": true,
           "type": "scattergeo"
          },
          {
           "geo": "geo",
           "hovertemplate": "<b>%{hovertext}</b><br><br>Country=%{location}<br>year=2019<br>count=%{marker.size}<extra></extra>",
           "hovertext": [
            "Other"
           ],
           "legendgroup": "Other",
           "locationmode": "country names",
           "locations": [
            "Other"
           ],
           "marker": {
            "color": "#00cc96",
            "size": [
             1054
            ],
            "sizemode": "area",
            "sizeref": 21.98,
            "symbol": "circle"
           },
           "mode": "markers",
           "name": "Other",
           "showlegend": true,
           "type": "scattergeo"
          },
          {
           "geo": "geo",
           "hovertemplate": "<b>%{hovertext}</b><br><br>Country=%{location}<br>year=2019<br>count=%{marker.size}<extra></extra>",
           "hovertext": [
            "Russia"
           ],
           "legendgroup": "Russia",
           "locationmode": "country names",
           "locations": [
            "Russia"
           ],
           "marker": {
            "color": "#ab63fa",
            "size": [
             626
            ],
            "sizemode": "area",
            "sizeref": 21.98,
            "symbol": "circle"
           },
           "mode": "markers",
           "name": "Russia",
           "showlegend": true,
           "type": "scattergeo"
          },
          {
           "geo": "geo",
           "hovertemplate": "<b>%{hovertext}</b><br><br>Country=%{location}<br>year=2019<br>count=%{marker.size}<extra></extra>",
           "hovertext": [
            "Brazil"
           ],
           "legendgroup": "Brazil",
           "locationmode": "country names",
           "locations": [
            "Brazil"
           ],
           "marker": {
            "color": "#FF6692",
            "size": [
             728
            ],
            "sizemode": "area",
            "sizeref": 21.98,
            "symbol": "circle"
           },
           "mode": "markers",
           "name": "Brazil",
           "showlegend": true,
           "type": "scattergeo"
          },
          {
           "geo": "geo",
           "hovertemplate": "<b>%{hovertext}</b><br><br>Country=%{location}<br>year=2019<br>count=%{marker.size}<extra></extra>",
           "hovertext": [
            "Germany"
           ],
           "legendgroup": "Germany",
           "locationmode": "country names",
           "locations": [
            "Germany"
           ],
           "marker": {
            "color": "#B6E880",
            "size": [
             531
            ],
            "sizemode": "area",
            "sizeref": 21.98,
            "symbol": "circle"
           },
           "mode": "markers",
           "name": "Germany",
           "showlegend": true,
           "type": "scattergeo"
          },
          {
           "geo": "geo",
           "hovertemplate": "<b>%{hovertext}</b><br><br>Country=%{location}<br>year=2019<br>count=%{marker.size}<extra></extra>",
           "hovertext": [
            "France"
           ],
           "legendgroup": "France",
           "locationmode": "country names",
           "locations": [
            "France"
           ],
           "marker": {
            "color": "#FF97FF",
            "size": [
             387
            ],
            "sizemode": "area",
            "sizeref": 21.98,
            "symbol": "circle"
           },
           "mode": "markers",
           "name": "France",
           "showlegend": true,
           "type": "scattergeo"
          },
          {
           "geo": "geo",
           "hovertemplate": "<b>%{hovertext}</b><br><br>Country=%{location}<br>year=2019<br>count=%{marker.size}<extra></extra>",
           "hovertext": [
            "Canada"
           ],
           "legendgroup": "Canada",
           "locationmode": "country names",
           "locations": [
            "Canada"
           ],
           "marker": {
            "color": "#FECB52",
            "size": [
             450
            ],
            "sizemode": "area",
            "sizeref": 21.98,
            "symbol": "circle"
           },
           "mode": "markers",
           "name": "Canada",
           "showlegend": true,
           "type": "scattergeo"
          },
          {
           "geo": "geo",
           "hovertemplate": "<b>%{hovertext}</b><br><br>Country=%{location}<br>year=2019<br>count=%{marker.size}<extra></extra>",
           "hovertext": [
            "Australia"
           ],
           "legendgroup": "Australia",
           "locationmode": "country names",
           "locations": [
            "Australia"
           ],
           "marker": {
            "color": "#636efa",
            "size": [
             269
            ],
            "sizemode": "area",
            "sizeref": 21.98,
            "symbol": "circle"
           },
           "mode": "markers",
           "name": "Australia",
           "showlegend": true,
           "type": "scattergeo"
          },
          {
           "geo": "geo",
           "hovertemplate": "<b>%{hovertext}</b><br><br>Country=%{location}<br>year=2019<br>count=%{marker.size}<extra></extra>",
           "hovertext": [
            "Spain"
           ],
           "legendgroup": "Spain",
           "locationmode": "country names",
           "locations": [
            "Spain"
           ],
           "marker": {
            "color": "#EF553B",
            "size": [
             399
            ],
            "sizemode": "area",
            "sizeref": 21.98,
            "symbol": "circle"
           },
           "mode": "markers",
           "name": "Spain",
           "showlegend": true,
           "type": "scattergeo"
          },
          {
           "geo": "geo",
           "hovertemplate": "<b>%{hovertext}</b><br><br>Country=%{location}<br>year=2019<br>count=%{marker.size}<extra></extra>",
           "hovertext": [
            "Japan"
           ],
           "legendgroup": "Japan",
           "locationmode": "country names",
           "locations": [
            "Japan"
           ],
           "marker": {
            "color": "#00cc96",
            "size": [
             673
            ],
            "sizemode": "area",
            "sizeref": 21.98,
            "symbol": "circle"
           },
           "mode": "markers",
           "name": "Japan",
           "showlegend": true,
           "type": "scattergeo"
          },
          {
           "geo": "geo",
           "hovertemplate": "<b>%{hovertext}</b><br><br>Country=%{location}<br>year=2019<br>count=%{marker.size}<extra></extra>",
           "hovertext": [
            "Taiwan"
           ],
           "legendgroup": "Taiwan",
           "locationmode": "country names",
           "locations": [
            "Taiwan"
           ],
           "marker": {
            "color": "#ab63fa",
            "size": [
             301
            ],
            "sizemode": "area",
            "sizeref": 21.98,
            "symbol": "circle"
           },
           "mode": "markers",
           "name": "Taiwan",
           "showlegend": true,
           "type": "scattergeo"
          },
          {
           "geo": "geo",
           "hovertemplate": "<b>%{hovertext}</b><br><br>Country=%{location}<br>year=2019<br>count=%{marker.size}<extra></extra>",
           "hovertext": [
            "Italy"
           ],
           "legendgroup": "Italy",
           "locationmode": "country names",
           "locations": [
            "Italy"
           ],
           "marker": {
            "color": "#FFA15A",
            "size": [
             271
            ],
            "sizemode": "area",
            "sizeref": 21.98,
            "symbol": "circle"
           },
           "mode": "markers",
           "name": "Italy",
           "showlegend": true,
           "type": "scattergeo"
          },
          {
           "geo": "geo",
           "hovertemplate": "<b>%{hovertext}</b><br><br>Country=%{location}<br>year=2019<br>count=%{marker.size}<extra></extra>",
           "hovertext": [
            "Netherlands"
           ],
           "legendgroup": "Netherlands",
           "locationmode": "country names",
           "locations": [
            "Netherlands"
           ],
           "marker": {
            "color": "#19d3f3",
            "size": [
             161
            ],
            "sizemode": "area",
            "sizeref": 21.98,
            "symbol": "circle"
           },
           "mode": "markers",
           "name": "Netherlands",
           "showlegend": true,
           "type": "scattergeo"
          },
          {
           "geo": "geo",
           "hovertemplate": "<b>%{hovertext}</b><br><br>Country=%{location}<br>year=2019<br>count=%{marker.size}<extra></extra>",
           "hovertext": [
            "Ukraine"
           ],
           "legendgroup": "Ukraine",
           "locationmode": "country names",
           "locations": [
            "Ukraine"
           ],
           "marker": {
            "color": "#FF6692",
            "size": [
             191
            ],
            "sizemode": "area",
            "sizeref": 21.98,
            "symbol": "circle"
           },
           "mode": "markers",
           "name": "Ukraine",
           "showlegend": true,
           "type": "scattergeo"
          },
          {
           "geo": "geo",
           "hovertemplate": "<b>%{hovertext}</b><br><br>Country=%{location}<br>year=2019<br>count=%{marker.size}<extra></extra>",
           "hovertext": [
            "South Korea"
           ],
           "legendgroup": "South Korea",
           "locationmode": "country names",
           "locations": [
            "South Korea"
           ],
           "marker": {
            "color": "#B6E880",
            "size": [
             182
            ],
            "sizemode": "area",
            "sizeref": 21.98,
            "symbol": "circle"
           },
           "mode": "markers",
           "name": "South Korea",
           "showlegend": true,
           "type": "scattergeo"
          },
          {
           "geo": "geo",
           "hovertemplate": "<b>%{hovertext}</b><br><br>Country=%{location}<br>year=2019<br>count=%{marker.size}<extra></extra>",
           "hovertext": [
            "Poland"
           ],
           "legendgroup": "Poland",
           "locationmode": "country names",
           "locations": [
            "Poland"
           ],
           "marker": {
            "color": "#FF97FF",
            "size": [
             212
            ],
            "sizemode": "area",
            "sizeref": 21.98,
            "symbol": "circle"
           },
           "mode": "markers",
           "name": "Poland",
           "showlegend": true,
           "type": "scattergeo"
          },
          {
           "geo": "geo",
           "hovertemplate": "<b>%{hovertext}</b><br><br>Country=%{location}<br>year=2019<br>count=%{marker.size}<extra></extra>",
           "hovertext": [
            "Singapore"
           ],
           "legendgroup": "Singapore",
           "locationmode": "country names",
           "locations": [
            "Singapore"
           ],
           "marker": {
            "color": "#FECB52",
            "size": [
             156
            ],
            "sizemode": "area",
            "sizeref": 21.98,
            "symbol": "circle"
           },
           "mode": "markers",
           "name": "Singapore",
           "showlegend": true,
           "type": "scattergeo"
          },
          {
           "geo": "geo",
           "hovertemplate": "<b>%{hovertext}</b><br><br>Country=%{location}<br>year=2019<br>count=%{marker.size}<extra></extra>",
           "hovertext": [
            "Pakistan"
           ],
           "legendgroup": "Pakistan",
           "locationmode": "country names",
           "locations": [
            "Pakistan"
           ],
           "marker": {
            "color": "#636efa",
            "size": [
             210
            ],
            "sizemode": "area",
            "sizeref": 21.98,
            "symbol": "circle"
           },
           "mode": "markers",
           "name": "Pakistan",
           "showlegend": true,
           "type": "scattergeo"
          },
          {
           "geo": "geo",
           "hovertemplate": "<b>%{hovertext}</b><br><br>Country=%{location}<br>year=2019<br>count=%{marker.size}<extra></extra>",
           "hovertext": [
            "Turkey"
           ],
           "legendgroup": "Turkey",
           "locationmode": "country names",
           "locations": [
            "Turkey"
           ],
           "marker": {
            "color": "#EF553B",
            "size": [
             288
            ],
            "sizemode": "area",
            "sizeref": 21.98,
            "symbol": "circle"
           },
           "mode": "markers",
           "name": "Turkey",
           "showlegend": true,
           "type": "scattergeo"
          },
          {
           "geo": "geo",
           "hovertemplate": "<b>%{hovertext}</b><br><br>Country=%{location}<br>year=2019<br>count=%{marker.size}<extra></extra>",
           "hovertext": [
            "Indonesia"
           ],
           "legendgroup": "Indonesia",
           "locationmode": "country names",
           "locations": [
            "Indonesia"
           ],
           "marker": {
            "color": "#00cc96",
            "size": [
             167
            ],
            "sizemode": "area",
            "sizeref": 21.98,
            "symbol": "circle"
           },
           "mode": "markers",
           "name": "Indonesia",
           "showlegend": true,
           "type": "scattergeo"
          },
          {
           "geo": "geo",
           "hovertemplate": "<b>%{hovertext}</b><br><br>Country=%{location}<br>year=2019<br>count=%{marker.size}<extra></extra>",
           "hovertext": [
            "Switzerland"
           ],
           "legendgroup": "Switzerland",
           "locationmode": "country names",
           "locations": [
            "Switzerland"
           ],
           "marker": {
            "color": "#ab63fa",
            "size": [
             97
            ],
            "sizemode": "area",
            "sizeref": 21.98,
            "symbol": "circle"
           },
           "mode": "markers",
           "name": "Switzerland",
           "showlegend": true,
           "type": "scattergeo"
          },
          {
           "geo": "geo",
           "hovertemplate": "<b>%{hovertext}</b><br><br>Country=%{location}<br>year=2019<br>count=%{marker.size}<extra></extra>",
           "hovertext": [
            "South Africa"
           ],
           "legendgroup": "South Africa",
           "locationmode": "country names",
           "locations": [
            "South Africa"
           ],
           "marker": {
            "color": "#FFA15A",
            "size": [
             120
            ],
            "sizemode": "area",
            "sizeref": 21.98,
            "symbol": "circle"
           },
           "mode": "markers",
           "name": "South Africa",
           "showlegend": true,
           "type": "scattergeo"
          },
          {
           "geo": "geo",
           "hovertemplate": "<b>%{hovertext}</b><br><br>Country=%{location}<br>year=2019<br>count=%{marker.size}<extra></extra>",
           "hovertext": [
            "Mexico"
           ],
           "legendgroup": "Mexico",
           "locationmode": "country names",
           "locations": [
            "Mexico"
           ],
           "marker": {
            "color": "#19d3f3",
            "size": [
             195
            ],
            "sizemode": "area",
            "sizeref": 21.98,
            "symbol": "circle"
           },
           "mode": "markers",
           "name": "Mexico",
           "showlegend": true,
           "type": "scattergeo"
          },
          {
           "geo": "geo",
           "hovertemplate": "<b>%{hovertext}</b><br><br>Country=%{location}<br>year=2019<br>count=%{marker.size}<extra></extra>",
           "hovertext": [
            "Colombia"
           ],
           "legendgroup": "Colombia",
           "locationmode": "country names",
           "locations": [
            "Colombia"
           ],
           "marker": {
            "color": "#FF6692",
            "size": [
             168
            ],
            "sizemode": "area",
            "sizeref": 21.98,
            "symbol": "circle"
           },
           "mode": "markers",
           "name": "Colombia",
           "showlegend": true,
           "type": "scattergeo"
          },
          {
           "geo": "geo",
           "hovertemplate": "<b>%{hovertext}</b><br><br>Country=%{location}<br>year=2019<br>count=%{marker.size}<extra></extra>",
           "hovertext": [
            "Israel"
           ],
           "legendgroup": "Israel",
           "locationmode": "country names",
           "locations": [
            "Israel"
           ],
           "marker": {
            "color": "#FF97FF",
            "size": [
             104
            ],
            "sizemode": "area",
            "sizeref": 21.98,
            "symbol": "circle"
           },
           "mode": "markers",
           "name": "Israel",
           "showlegend": true,
           "type": "scattergeo"
          },
          {
           "geo": "geo",
           "hovertemplate": "<b>%{hovertext}</b><br><br>Country=%{location}<br>year=2019<br>count=%{marker.size}<extra></extra>",
           "hovertext": [
            "Ireland"
           ],
           "legendgroup": "Ireland",
           "locationmode": "country names",
           "locations": [
            "Ireland"
           ],
           "marker": {
            "color": "#FECB52",
            "size": [
             89
            ],
            "sizemode": "area",
            "sizeref": 21.98,
            "symbol": "circle"
           },
           "mode": "markers",
           "name": "Ireland",
           "showlegend": true,
           "type": "scattergeo"
          },
          {
           "geo": "geo",
           "hovertemplate": "<b>%{hovertext}</b><br><br>Country=%{location}<br>year=2019<br>count=%{marker.size}<extra></extra>",
           "hovertext": [
            "Portugal"
           ],
           "legendgroup": "Portugal",
           "locationmode": "country names",
           "locations": [
            "Portugal"
           ],
           "marker": {
            "color": "#636efa",
            "size": [
             114
            ],
            "sizemode": "area",
            "sizeref": 21.98,
            "symbol": "circle"
           },
           "mode": "markers",
           "name": "Portugal",
           "showlegend": true,
           "type": "scattergeo"
          },
          {
           "geo": "geo",
           "hovertemplate": "<b>%{hovertext}</b><br><br>Country=%{location}<br>year=2019<br>count=%{marker.size}<extra></extra>",
           "hovertext": [
            "Argentina"
           ],
           "legendgroup": "Argentina",
           "locationmode": "country names",
           "locations": [
            "Argentina"
           ],
           "marker": {
            "color": "#EF553B",
            "size": [
             123
            ],
            "sizemode": "area",
            "sizeref": 21.98,
            "symbol": "circle"
           },
           "mode": "markers",
           "name": "Argentina",
           "showlegend": true,
           "type": "scattergeo"
          },
          {
           "geo": "geo",
           "hovertemplate": "<b>%{hovertext}</b><br><br>Country=%{location}<br>year=2019<br>count=%{marker.size}<extra></extra>",
           "hovertext": [
            "Belgium"
           ],
           "legendgroup": "Belgium",
           "locationmode": "country names",
           "locations": [
            "Belgium"
           ],
           "marker": {
            "color": "#00cc96",
            "size": [
             70
            ],
            "sizemode": "area",
            "sizeref": 21.98,
            "symbol": "circle"
           },
           "mode": "markers",
           "name": "Belgium",
           "showlegend": true,
           "type": "scattergeo"
          },
          {
           "geo": "geo",
           "hovertemplate": "<b>%{hovertext}</b><br><br>Country=%{location}<br>year=2019<br>count=%{marker.size}<extra></extra>",
           "hovertext": [
            "Sweden"
           ],
           "legendgroup": "Sweden",
           "locationmode": "country names",
           "locations": [
            "Sweden"
           ],
           "marker": {
            "color": "#ab63fa",
            "size": [
             92
            ],
            "sizemode": "area",
            "sizeref": 21.98,
            "symbol": "circle"
           },
           "mode": "markers",
           "name": "Sweden",
           "showlegend": true,
           "type": "scattergeo"
          },
          {
           "geo": "geo",
           "hovertemplate": "<b>%{hovertext}</b><br><br>Country=%{location}<br>year=2019<br>count=%{marker.size}<extra></extra>",
           "hovertext": [
            "Philippines"
           ],
           "legendgroup": "Philippines",
           "locationmode": "country names",
           "locations": [
            "Philippines"
           ],
           "marker": {
            "color": "#FFA15A",
            "size": [
             65
            ],
            "sizemode": "area",
            "sizeref": 21.98,
            "symbol": "circle"
           },
           "mode": "markers",
           "name": "Philippines",
           "showlegend": true,
           "type": "scattergeo"
          },
          {
           "geo": "geo",
           "hovertemplate": "<b>%{hovertext}</b><br><br>Country=%{location}<br>year=2019<br>count=%{marker.size}<extra></extra>",
           "hovertext": [
            "Greece"
           ],
           "legendgroup": "Greece",
           "locationmode": "country names",
           "locations": [
            "Greece"
           ],
           "marker": {
            "color": "#19d3f3",
            "size": [
             108
            ],
            "sizemode": "area",
            "sizeref": 21.98,
            "symbol": "circle"
           },
           "mode": "markers",
           "name": "Greece",
           "showlegend": true,
           "type": "scattergeo"
          },
          {
           "geo": "geo",
           "hovertemplate": "<b>%{hovertext}</b><br><br>Country=%{location}<br>year=2019<br>count=%{marker.size}<extra></extra>",
           "hovertext": [
            "Malaysia"
           ],
           "legendgroup": "Malaysia",
           "locationmode": "country names",
           "locations": [
            "Malaysia"
           ],
           "marker": {
            "color": "#FF6692",
            "size": [
             80
            ],
            "sizemode": "area",
            "sizeref": 21.98,
            "symbol": "circle"
           },
           "mode": "markers",
           "name": "Malaysia",
           "showlegend": true,
           "type": "scattergeo"
          },
          {
           "geo": "geo",
           "hovertemplate": "<b>%{hovertext}</b><br><br>Country=%{location}<br>year=2019<br>count=%{marker.size}<extra></extra>",
           "hovertext": [
            "Denmark"
           ],
           "legendgroup": "Denmark",
           "locationmode": "country names",
           "locations": [
            "Denmark"
           ],
           "marker": {
            "color": "#B6E880",
            "size": [
             55
            ],
            "sizemode": "area",
            "sizeref": 21.98,
            "symbol": "circle"
           },
           "mode": "markers",
           "name": "Denmark",
           "showlegend": true,
           "type": "scattergeo"
          },
          {
           "geo": "geo",
           "hovertemplate": "<b>%{hovertext}</b><br><br>Country=%{location}<br>year=2019<br>count=%{marker.size}<extra></extra>",
           "hovertext": [
            "New Zealand"
           ],
           "legendgroup": "New Zealand",
           "locationmode": "country names",
           "locations": [
            "New Zealand"
           ],
           "marker": {
            "color": "#FF97FF",
            "size": [
             51
            ],
            "sizemode": "area",
            "sizeref": 21.98,
            "symbol": "circle"
           },
           "mode": "markers",
           "name": "New Zealand",
           "showlegend": true,
           "type": "scattergeo"
          },
          {
           "geo": "geo",
           "hovertemplate": "<b>%{hovertext}</b><br><br>Country=%{location}<br>year=2019<br>count=%{marker.size}<extra></extra>",
           "hovertext": [
            "Nigeria"
           ],
           "legendgroup": "Nigeria",
           "locationmode": "country names",
           "locations": [
            "Nigeria"
           ],
           "marker": {
            "color": "#FECB52",
            "size": [
             395
            ],
            "sizemode": "area",
            "sizeref": 21.98,
            "symbol": "circle"
           },
           "mode": "markers",
           "name": "Nigeria",
           "showlegend": true,
           "type": "scattergeo"
          },
          {
           "geo": "geo",
           "hovertemplate": "<b>%{hovertext}</b><br><br>Country=%{location}<br>year=2019<br>count=%{marker.size}<extra></extra>",
           "hovertext": [
            "Hungary"
           ],
           "legendgroup": "Hungary",
           "locationmode": "country names",
           "locations": [
            "Hungary"
           ],
           "marker": {
            "color": "#ab63fa",
            "size": [
             56
            ],
            "sizemode": "area",
            "sizeref": 21.98,
            "symbol": "circle"
           },
           "mode": "markers",
           "name": "Hungary",
           "showlegend": true,
           "type": "scattergeo"
          },
          {
           "geo": "geo",
           "hovertemplate": "<b>%{hovertext}</b><br><br>Country=%{location}<br>year=2019<br>count=%{marker.size}<extra></extra>",
           "hovertext": [
            "Egypt"
           ],
           "legendgroup": "Egypt",
           "locationmode": "country names",
           "locations": [
            "Egypt"
           ],
           "marker": {
            "color": "#FFA15A",
            "size": [
             122
            ],
            "sizemode": "area",
            "sizeref": 21.98,
            "symbol": "circle"
           },
           "mode": "markers",
           "name": "Egypt",
           "showlegend": true,
           "type": "scattergeo"
          },
          {
           "geo": "geo",
           "hovertemplate": "<b>%{hovertext}</b><br><br>Country=%{location}<br>year=2019<br>count=%{marker.size}<extra></extra>",
           "hovertext": [
            "Kenya"
           ],
           "legendgroup": "Kenya",
           "locationmode": "country names",
           "locations": [
            "Kenya"
           ],
           "marker": {
            "color": "#FF6692",
            "size": [
             114
            ],
            "sizemode": "area",
            "sizeref": 21.98,
            "symbol": "circle"
           },
           "mode": "markers",
           "name": "Kenya",
           "showlegend": true,
           "type": "scattergeo"
          },
          {
           "geo": "geo",
           "hovertemplate": "<b>%{hovertext}</b><br><br>Country=%{location}<br>year=2019<br>count=%{marker.size}<extra></extra>",
           "hovertext": [
            "Romania"
           ],
           "legendgroup": "Romania",
           "locationmode": "country names",
           "locations": [
            "Romania"
           ],
           "marker": {
            "color": "#B6E880",
            "size": [
             58
            ],
            "sizemode": "area",
            "sizeref": 21.98,
            "symbol": "circle"
           },
           "mode": "markers",
           "name": "Romania",
           "showlegend": true,
           "type": "scattergeo"
          },
          {
           "geo": "geo",
           "hovertemplate": "<b>%{hovertext}</b><br><br>Country=%{location}<br>year=2019<br>count=%{marker.size}<extra></extra>",
           "hovertext": [
            "Belarus"
           ],
           "legendgroup": "Belarus",
           "locationmode": "country names",
           "locations": [
            "Belarus"
           ],
           "marker": {
            "color": "#FF97FF",
            "size": [
             68
            ],
            "sizemode": "area",
            "sizeref": 21.98,
            "symbol": "circle"
           },
           "mode": "markers",
           "name": "Belarus",
           "showlegend": true,
           "type": "scattergeo"
          },
          {
           "geo": "geo",
           "hovertemplate": "<b>%{hovertext}</b><br><br>Country=%{location}<br>year=2019<br>count=%{marker.size}<extra></extra>",
           "hovertext": [
            "Norway"
           ],
           "legendgroup": "Norway",
           "locationmode": "country names",
           "locations": [
            "Norway"
           ],
           "marker": {
            "color": "#FECB52",
            "size": [
             51
            ],
            "sizemode": "area",
            "sizeref": 21.98,
            "symbol": "circle"
           },
           "mode": "markers",
           "name": "Norway",
           "showlegend": true,
           "type": "scattergeo"
          },
          {
           "geo": "geo",
           "hovertemplate": "<b>%{hovertext}</b><br><br>Country=%{location}<br>year=2019<br>count=%{marker.size}<extra></extra>",
           "hovertext": [
            "Czech Republic"
           ],
           "legendgroup": "Czech Republic",
           "locationmode": "country names",
           "locations": [
            "Czech Republic"
           ],
           "marker": {
            "color": "#636efa",
            "size": [
             58
            ],
            "sizemode": "area",
            "sizeref": 21.98,
            "symbol": "circle"
           },
           "mode": "markers",
           "name": "Czech Republic",
           "showlegend": true,
           "type": "scattergeo"
          },
          {
           "geo": "geo",
           "hovertemplate": "<b>%{hovertext}</b><br><br>Country=%{location}<br>year=2019<br>count=%{marker.size}<extra></extra>",
           "hovertext": [
            "Chile"
           ],
           "legendgroup": "Chile",
           "locationmode": "country names",
           "locations": [
            "Chile"
           ],
           "marker": {
            "color": "#EF553B",
            "size": [
             91
            ],
            "sizemode": "area",
            "sizeref": 21.98,
            "symbol": "circle"
           },
           "mode": "markers",
           "name": "Chile",
           "showlegend": true,
           "type": "scattergeo"
          },
          {
           "geo": "geo",
           "hovertemplate": "<b>%{hovertext}</b><br><br>Country=%{location}<br>year=2019<br>count=%{marker.size}<extra></extra>",
           "hovertext": [
            "United States of America"
           ],
           "legendgroup": "United States of America",
           "locationmode": "country names",
           "locations": [
            "United States of America"
           ],
           "marker": {
            "color": "#00cc96",
            "size": [
             3085
            ],
            "sizemode": "area",
            "sizeref": 21.98,
            "symbol": "circle"
           },
           "mode": "markers",
           "name": "United States of America",
           "showlegend": true,
           "type": "scattergeo"
          },
          {
           "geo": "geo",
           "hovertemplate": "<b>%{hovertext}</b><br><br>Country=%{location}<br>year=2019<br>count=%{marker.size}<extra></extra>",
           "hovertext": [
            "China"
           ],
           "legendgroup": "China",
           "locationmode": "country names",
           "locations": [
            "China"
           ],
           "marker": {
            "color": "#ab63fa",
            "size": [
             574
            ],
            "sizemode": "area",
            "sizeref": 21.98,
            "symbol": "circle"
           },
           "mode": "markers",
           "name": "China",
           "showlegend": true,
           "type": "scattergeo"
          },
          {
           "geo": "geo",
           "hovertemplate": "<b>%{hovertext}</b><br><br>Country=%{location}<br>year=2019<br>count=%{marker.size}<extra></extra>",
           "hovertext": [
            "United Kingdom of Great Britain and Northern Ireland"
           ],
           "legendgroup": "United Kingdom of Great Britain and Northern Ireland",
           "locationmode": "country names",
           "locations": [
            "United Kingdom of Great Britain and Northern Ireland"
           ],
           "marker": {
            "color": "#FFA15A",
            "size": [
             482
            ],
            "sizemode": "area",
            "sizeref": 21.98,
            "symbol": "circle"
           },
           "mode": "markers",
           "name": "United Kingdom of Great Britain and Northern Ireland",
           "showlegend": true,
           "type": "scattergeo"
          },
          {
           "geo": "geo",
           "hovertemplate": "<b>%{hovertext}</b><br><br>Country=%{location}<br>year=2019<br>count=%{marker.size}<extra></extra>",
           "hovertext": [
            "Viet Nam"
           ],
           "legendgroup": "Viet Nam",
           "locationmode": "country names",
           "locations": [
            "Viet Nam"
           ],
           "marker": {
            "color": "#FF6692",
            "size": [
             128
            ],
            "sizemode": "area",
            "sizeref": 21.98,
            "symbol": "circle"
           },
           "mode": "markers",
           "name": "Viet Nam",
           "showlegend": true,
           "type": "scattergeo"
          },
          {
           "geo": "geo",
           "hovertemplate": "<b>%{hovertext}</b><br><br>Country=%{location}<br>year=2019<br>count=%{marker.size}<extra></extra>",
           "hovertext": [
            "Iran, Islamic Republic of..."
           ],
           "legendgroup": "Iran, Islamic Republic of...",
           "locationmode": "country names",
           "locations": [
            "Iran, Islamic Republic of..."
           ],
           "marker": {
            "color": "#B6E880",
            "size": [
             96
            ],
            "sizemode": "area",
            "sizeref": 21.98,
            "symbol": "circle"
           },
           "mode": "markers",
           "name": "Iran, Islamic Republic of...",
           "showlegend": true,
           "type": "scattergeo"
          },
          {
           "geo": "geo",
           "hovertemplate": "<b>%{hovertext}</b><br><br>Country=%{location}<br>year=2019<br>count=%{marker.size}<extra></extra>",
           "hovertext": [
            "Bangladesh"
           ],
           "legendgroup": "Bangladesh",
           "locationmode": "country names",
           "locations": [
            "Bangladesh"
           ],
           "marker": {
            "color": "#FF97FF",
            "size": [
             136
            ],
            "sizemode": "area",
            "sizeref": 21.98,
            "symbol": "circle"
           },
           "mode": "markers",
           "name": "Bangladesh",
           "showlegend": true,
           "type": "scattergeo"
          },
          {
           "geo": "geo",
           "hovertemplate": "<b>%{hovertext}</b><br><br>Country=%{location}<br>year=2019<br>count=%{marker.size}<extra></extra>",
           "hovertext": [
            "Peru"
           ],
           "legendgroup": "Peru",
           "locationmode": "country names",
           "locations": [
            "Peru"
           ],
           "marker": {
            "color": "#FECB52",
            "size": [
             74
            ],
            "sizemode": "area",
            "sizeref": 21.98,
            "symbol": "circle"
           },
           "mode": "markers",
           "name": "Peru",
           "showlegend": true,
           "type": "scattergeo"
          },
          {
           "geo": "geo",
           "hovertemplate": "<b>%{hovertext}</b><br><br>Country=%{location}<br>year=2019<br>count=%{marker.size}<extra></extra>",
           "hovertext": [
            "Hong Kong (S.A.R.)"
           ],
           "legendgroup": "Hong Kong (S.A.R.)",
           "locationmode": "country names",
           "locations": [
            "Hong Kong (S.A.R.)"
           ],
           "marker": {
            "color": "#636efa",
            "size": [
             64
            ],
            "sizemode": "area",
            "sizeref": 21.98,
            "symbol": "circle"
           },
           "mode": "markers",
           "name": "Hong Kong (S.A.R.)",
           "showlegend": true,
           "type": "scattergeo"
          },
          {
           "geo": "geo",
           "hovertemplate": "<b>%{hovertext}</b><br><br>Country=%{location}<br>year=2019<br>count=%{marker.size}<extra></extra>",
           "hovertext": [
            "Tunisia"
           ],
           "legendgroup": "Tunisia",
           "locationmode": "country names",
           "locations": [
            "Tunisia"
           ],
           "marker": {
            "color": "#EF553B",
            "size": [
             68
            ],
            "sizemode": "area",
            "sizeref": 21.98,
            "symbol": "circle"
           },
           "mode": "markers",
           "name": "Tunisia",
           "showlegend": true,
           "type": "scattergeo"
          },
          {
           "geo": "geo",
           "hovertemplate": "<b>%{hovertext}</b><br><br>Country=%{location}<br>year=2019<br>count=%{marker.size}<extra></extra>",
           "hovertext": [
            "Thailand"
           ],
           "legendgroup": "Thailand",
           "locationmode": "country names",
           "locations": [
            "Thailand"
           ],
           "marker": {
            "color": "#00cc96",
            "size": [
             67
            ],
            "sizemode": "area",
            "sizeref": 21.98,
            "symbol": "circle"
           },
           "mode": "markers",
           "name": "Thailand",
           "showlegend": true,
           "type": "scattergeo"
          },
          {
           "geo": "geo",
           "hovertemplate": "<b>%{hovertext}</b><br><br>Country=%{location}<br>year=2019<br>count=%{marker.size}<extra></extra>",
           "hovertext": [
            "Republic of Korea"
           ],
           "legendgroup": "Republic of Korea",
           "locationmode": "country names",
           "locations": [
            "Republic of Korea"
           ],
           "marker": {
            "color": "#ab63fa",
            "size": [
             73
            ],
            "sizemode": "area",
            "sizeref": 21.98,
            "symbol": "circle"
           },
           "mode": "markers",
           "name": "Republic of Korea",
           "showlegend": true,
           "type": "scattergeo"
          },
          {
           "geo": "geo",
           "hovertemplate": "<b>%{hovertext}</b><br><br>Country=%{location}<br>year=2019<br>count=%{marker.size}<extra></extra>",
           "hovertext": [
            "Morocco"
           ],
           "legendgroup": "Morocco",
           "locationmode": "country names",
           "locations": [
            "Morocco"
           ],
           "marker": {
            "color": "#FFA15A",
            "size": [
             123
            ],
            "sizemode": "area",
            "sizeref": 21.98,
            "symbol": "circle"
           },
           "mode": "markers",
           "name": "Morocco",
           "showlegend": true,
           "type": "scattergeo"
          },
          {
           "geo": "geo",
           "hovertemplate": "<b>%{hovertext}</b><br><br>Country=%{location}<br>year=2019<br>count=%{marker.size}<extra></extra>",
           "hovertext": [
            "Austria"
           ],
           "legendgroup": "Austria",
           "locationmode": "country names",
           "locations": [
            "Austria"
           ],
           "marker": {
            "color": "#19d3f3",
            "size": [
             53
            ],
            "sizemode": "area",
            "sizeref": 21.98,
            "symbol": "circle"
           },
           "mode": "markers",
           "name": "Austria",
           "showlegend": true,
           "type": "scattergeo"
          },
          {
           "geo": "geo",
           "hovertemplate": "<b>%{hovertext}</b><br><br>Country=%{location}<br>year=2019<br>count=%{marker.size}<extra></extra>",
           "hovertext": [
            "In which country do you currently reside?"
           ],
           "legendgroup": "In which country do you currently reside?",
           "locationmode": "country names",
           "locations": [
            "In which country do you currently reside?"
           ],
           "marker": {
            "color": "#FF6692",
            "size": [
             1
            ],
            "sizemode": "area",
            "sizeref": 21.98,
            "symbol": "circle"
           },
           "mode": "markers",
           "name": "In which country do you currently reside?",
           "showlegend": true,
           "type": "scattergeo"
          },
          {
           "geo": "geo",
           "hovertemplate": "<b>%{hovertext}</b><br><br>Country=%{location}<br>year=2019<br>count=%{marker.size}<extra></extra>",
           "hovertext": [
            "Algeria"
           ],
           "legendgroup": "Algeria",
           "locationmode": "country names",
           "locations": [
            "Algeria"
           ],
           "marker": {
            "color": "#B6E880",
            "size": [
             58
            ],
            "sizemode": "area",
            "sizeref": 21.98,
            "symbol": "circle"
           },
           "mode": "markers",
           "name": "Algeria",
           "showlegend": true,
           "type": "scattergeo"
          },
          {
           "geo": "geo",
           "hovertemplate": "<b>%{hovertext}</b><br><br>Country=%{location}<br>year=2019<br>count=%{marker.size}<extra></extra>",
           "hovertext": [
            "Saudi Arabia"
           ],
           "legendgroup": "Saudi Arabia",
           "locationmode": "country names",
           "locations": [
            "Saudi Arabia"
           ],
           "marker": {
            "color": "#FF97FF",
            "size": [
             50
            ],
            "sizemode": "area",
            "sizeref": 21.98,
            "symbol": "circle"
           },
           "mode": "markers",
           "name": "Saudi Arabia",
           "showlegend": true,
           "type": "scattergeo"
          }
         ],
         "name": "2019"
        },
        {
         "data": [
          {
           "geo": "geo",
           "hovertemplate": "<b>%{hovertext}</b><br><br>Country=%{location}<br>year=2020<br>count=%{marker.size}<extra></extra>",
           "hovertext": [
            "India"
           ],
           "legendgroup": "India",
           "locationmode": "country names",
           "locations": [
            "India"
           ],
           "marker": {
            "color": "#EF553B",
            "size": [
             5851
            ],
            "sizemode": "area",
            "sizeref": 21.98,
            "symbol": "circle"
           },
           "mode": "markers",
           "name": "India",
           "showlegend": true,
           "type": "scattergeo"
          },
          {
           "geo": "geo",
           "hovertemplate": "<b>%{hovertext}</b><br><br>Country=%{location}<br>year=2020<br>count=%{marker.size}<extra></extra>",
           "hovertext": [
            "Other"
           ],
           "legendgroup": "Other",
           "locationmode": "country names",
           "locations": [
            "Other"
           ],
           "marker": {
            "color": "#00cc96",
            "size": [
             1388
            ],
            "sizemode": "area",
            "sizeref": 21.98,
            "symbol": "circle"
           },
           "mode": "markers",
           "name": "Other",
           "showlegend": true,
           "type": "scattergeo"
          },
          {
           "geo": "geo",
           "hovertemplate": "<b>%{hovertext}</b><br><br>Country=%{location}<br>year=2020<br>count=%{marker.size}<extra></extra>",
           "hovertext": [
            "Russia"
           ],
           "legendgroup": "Russia",
           "locationmode": "country names",
           "locations": [
            "Russia"
           ],
           "marker": {
            "color": "#ab63fa",
            "size": [
             582
            ],
            "sizemode": "area",
            "sizeref": 21.98,
            "symbol": "circle"
           },
           "mode": "markers",
           "name": "Russia",
           "showlegend": true,
           "type": "scattergeo"
          },
          {
           "geo": "geo",
           "hovertemplate": "<b>%{hovertext}</b><br><br>Country=%{location}<br>year=2020<br>count=%{marker.size}<extra></extra>",
           "hovertext": [
            "Brazil"
           ],
           "legendgroup": "Brazil",
           "locationmode": "country names",
           "locations": [
            "Brazil"
           ],
           "marker": {
            "color": "#FF6692",
            "size": [
             694
            ],
            "sizemode": "area",
            "sizeref": 21.98,
            "symbol": "circle"
           },
           "mode": "markers",
           "name": "Brazil",
           "showlegend": true,
           "type": "scattergeo"
          },
          {
           "geo": "geo",
           "hovertemplate": "<b>%{hovertext}</b><br><br>Country=%{location}<br>year=2020<br>count=%{marker.size}<extra></extra>",
           "hovertext": [
            "Germany"
           ],
           "legendgroup": "Germany",
           "locationmode": "country names",
           "locations": [
            "Germany"
           ],
           "marker": {
            "color": "#B6E880",
            "size": [
             404
            ],
            "sizemode": "area",
            "sizeref": 21.98,
            "symbol": "circle"
           },
           "mode": "markers",
           "name": "Germany",
           "showlegend": true,
           "type": "scattergeo"
          },
          {
           "geo": "geo",
           "hovertemplate": "<b>%{hovertext}</b><br><br>Country=%{location}<br>year=2020<br>count=%{marker.size}<extra></extra>",
           "hovertext": [
            "France"
           ],
           "legendgroup": "France",
           "locationmode": "country names",
           "locations": [
            "France"
           ],
           "marker": {
            "color": "#FF97FF",
            "size": [
             330
            ],
            "sizemode": "area",
            "sizeref": 21.98,
            "symbol": "circle"
           },
           "mode": "markers",
           "name": "France",
           "showlegend": true,
           "type": "scattergeo"
          },
          {
           "geo": "geo",
           "hovertemplate": "<b>%{hovertext}</b><br><br>Country=%{location}<br>year=2020<br>count=%{marker.size}<extra></extra>",
           "hovertext": [
            "Canada"
           ],
           "legendgroup": "Canada",
           "locationmode": "country names",
           "locations": [
            "Canada"
           ],
           "marker": {
            "color": "#FECB52",
            "size": [
             301
            ],
            "sizemode": "area",
            "sizeref": 21.98,
            "symbol": "circle"
           },
           "mode": "markers",
           "name": "Canada",
           "showlegend": true,
           "type": "scattergeo"
          },
          {
           "geo": "geo",
           "hovertemplate": "<b>%{hovertext}</b><br><br>Country=%{location}<br>year=2020<br>count=%{marker.size}<extra></extra>",
           "hovertext": [
            "Australia"
           ],
           "legendgroup": "Australia",
           "locationmode": "country names",
           "locations": [
            "Australia"
           ],
           "marker": {
            "color": "#636efa",
            "size": [
             231
            ],
            "sizemode": "area",
            "sizeref": 21.98,
            "symbol": "circle"
           },
           "mode": "markers",
           "name": "Australia",
           "showlegend": true,
           "type": "scattergeo"
          },
          {
           "geo": "geo",
           "hovertemplate": "<b>%{hovertext}</b><br><br>Country=%{location}<br>year=2020<br>count=%{marker.size}<extra></extra>",
           "hovertext": [
            "Spain"
           ],
           "legendgroup": "Spain",
           "locationmode": "country names",
           "locations": [
            "Spain"
           ],
           "marker": {
            "color": "#EF553B",
            "size": [
             336
            ],
            "sizemode": "area",
            "sizeref": 21.98,
            "symbol": "circle"
           },
           "mode": "markers",
           "name": "Spain",
           "showlegend": true,
           "type": "scattergeo"
          },
          {
           "geo": "geo",
           "hovertemplate": "<b>%{hovertext}</b><br><br>Country=%{location}<br>year=2020<br>count=%{marker.size}<extra></extra>",
           "hovertext": [
            "Japan"
           ],
           "legendgroup": "Japan",
           "locationmode": "country names",
           "locations": [
            "Japan"
           ],
           "marker": {
            "color": "#00cc96",
            "size": [
             638
            ],
            "sizemode": "area",
            "sizeref": 21.98,
            "symbol": "circle"
           },
           "mode": "markers",
           "name": "Japan",
           "showlegend": true,
           "type": "scattergeo"
          },
          {
           "geo": "geo",
           "hovertemplate": "<b>%{hovertext}</b><br><br>Country=%{location}<br>year=2020<br>count=%{marker.size}<extra></extra>",
           "hovertext": [
            "Taiwan"
           ],
           "legendgroup": "Taiwan",
           "locationmode": "country names",
           "locations": [
            "Taiwan"
           ],
           "marker": {
            "color": "#ab63fa",
            "size": [
             267
            ],
            "sizemode": "area",
            "sizeref": 21.98,
            "symbol": "circle"
           },
           "mode": "markers",
           "name": "Taiwan",
           "showlegend": true,
           "type": "scattergeo"
          },
          {
           "geo": "geo",
           "hovertemplate": "<b>%{hovertext}</b><br><br>Country=%{location}<br>year=2020<br>count=%{marker.size}<extra></extra>",
           "hovertext": [
            "Italy"
           ],
           "legendgroup": "Italy",
           "locationmode": "country names",
           "locations": [
            "Italy"
           ],
           "marker": {
            "color": "#FFA15A",
            "size": [
             267
            ],
            "sizemode": "area",
            "sizeref": 21.98,
            "symbol": "circle"
           },
           "mode": "markers",
           "name": "Italy",
           "showlegend": true,
           "type": "scattergeo"
          },
          {
           "geo": "geo",
           "hovertemplate": "<b>%{hovertext}</b><br><br>Country=%{location}<br>year=2020<br>count=%{marker.size}<extra></extra>",
           "hovertext": [
            "Netherlands"
           ],
           "legendgroup": "Netherlands",
           "locationmode": "country names",
           "locations": [
            "Netherlands"
           ],
           "marker": {
            "color": "#19d3f3",
            "size": [
             151
            ],
            "sizemode": "area",
            "sizeref": 21.98,
            "symbol": "circle"
           },
           "mode": "markers",
           "name": "Netherlands",
           "showlegend": true,
           "type": "scattergeo"
          },
          {
           "geo": "geo",
           "hovertemplate": "<b>%{hovertext}</b><br><br>Country=%{location}<br>year=2020<br>count=%{marker.size}<extra></extra>",
           "hovertext": [
            "Ukraine"
           ],
           "legendgroup": "Ukraine",
           "locationmode": "country names",
           "locations": [
            "Ukraine"
           ],
           "marker": {
            "color": "#FF6692",
            "size": [
             170
            ],
            "sizemode": "area",
            "sizeref": 21.98,
            "symbol": "circle"
           },
           "mode": "markers",
           "name": "Ukraine",
           "showlegend": true,
           "type": "scattergeo"
          },
          {
           "geo": "geo",
           "hovertemplate": "<b>%{hovertext}</b><br><br>Country=%{location}<br>year=2020<br>count=%{marker.size}<extra></extra>",
           "hovertext": [
            "South Korea"
           ],
           "legendgroup": "South Korea",
           "locationmode": "country names",
           "locations": [
            "South Korea"
           ],
           "marker": {
            "color": "#B6E880",
            "size": [
             190
            ],
            "sizemode": "area",
            "sizeref": 21.98,
            "symbol": "circle"
           },
           "mode": "markers",
           "name": "South Korea",
           "showlegend": true,
           "type": "scattergeo"
          },
          {
           "geo": "geo",
           "hovertemplate": "<b>%{hovertext}</b><br><br>Country=%{location}<br>year=2020<br>count=%{marker.size}<extra></extra>",
           "hovertext": [
            "Poland"
           ],
           "legendgroup": "Poland",
           "locationmode": "country names",
           "locations": [
            "Poland"
           ],
           "marker": {
            "color": "#FF97FF",
            "size": [
             148
            ],
            "sizemode": "area",
            "sizeref": 21.98,
            "symbol": "circle"
           },
           "mode": "markers",
           "name": "Poland",
           "showlegend": true,
           "type": "scattergeo"
          },
          {
           "geo": "geo",
           "hovertemplate": "<b>%{hovertext}</b><br><br>Country=%{location}<br>year=2020<br>count=%{marker.size}<extra></extra>",
           "hovertext": [
            "Singapore"
           ],
           "legendgroup": "Singapore",
           "locationmode": "country names",
           "locations": [
            "Singapore"
           ],
           "marker": {
            "color": "#FECB52",
            "size": [
             149
            ],
            "sizemode": "area",
            "sizeref": 21.98,
            "symbol": "circle"
           },
           "mode": "markers",
           "name": "Singapore",
           "showlegend": true,
           "type": "scattergeo"
          },
          {
           "geo": "geo",
           "hovertemplate": "<b>%{hovertext}</b><br><br>Country=%{location}<br>year=2020<br>count=%{marker.size}<extra></extra>",
           "hovertext": [
            "Pakistan"
           ],
           "legendgroup": "Pakistan",
           "locationmode": "country names",
           "locations": [
            "Pakistan"
           ],
           "marker": {
            "color": "#636efa",
            "size": [
             283
            ],
            "sizemode": "area",
            "sizeref": 21.98,
            "symbol": "circle"
           },
           "mode": "markers",
           "name": "Pakistan",
           "showlegend": true,
           "type": "scattergeo"
          },
          {
           "geo": "geo",
           "hovertemplate": "<b>%{hovertext}</b><br><br>Country=%{location}<br>year=2020<br>count=%{marker.size}<extra></extra>",
           "hovertext": [
            "Turkey"
           ],
           "legendgroup": "Turkey",
           "locationmode": "country names",
           "locations": [
            "Turkey"
           ],
           "marker": {
            "color": "#EF553B",
            "size": [
             344
            ],
            "sizemode": "area",
            "sizeref": 21.98,
            "symbol": "circle"
           },
           "mode": "markers",
           "name": "Turkey",
           "showlegend": true,
           "type": "scattergeo"
          },
          {
           "geo": "geo",
           "hovertemplate": "<b>%{hovertext}</b><br><br>Country=%{location}<br>year=2020<br>count=%{marker.size}<extra></extra>",
           "hovertext": [
            "Indonesia"
           ],
           "legendgroup": "Indonesia",
           "locationmode": "country names",
           "locations": [
            "Indonesia"
           ],
           "marker": {
            "color": "#00cc96",
            "size": [
             290
            ],
            "sizemode": "area",
            "sizeref": 21.98,
            "symbol": "circle"
           },
           "mode": "markers",
           "name": "Indonesia",
           "showlegend": true,
           "type": "scattergeo"
          },
          {
           "geo": "geo",
           "hovertemplate": "<b>%{hovertext}</b><br><br>Country=%{location}<br>year=2020<br>count=%{marker.size}<extra></extra>",
           "hovertext": [
            "Switzerland"
           ],
           "legendgroup": "Switzerland",
           "locationmode": "country names",
           "locations": [
            "Switzerland"
           ],
           "marker": {
            "color": "#ab63fa",
            "size": [
             68
            ],
            "sizemode": "area",
            "sizeref": 21.98,
            "symbol": "circle"
           },
           "mode": "markers",
           "name": "Switzerland",
           "showlegend": true,
           "type": "scattergeo"
          },
          {
           "geo": "geo",
           "hovertemplate": "<b>%{hovertext}</b><br><br>Country=%{location}<br>year=2020<br>count=%{marker.size}<extra></extra>",
           "hovertext": [
            "South Africa"
           ],
           "legendgroup": "South Africa",
           "locationmode": "country names",
           "locations": [
            "South Africa"
           ],
           "marker": {
            "color": "#FFA15A",
            "size": [
             141
            ],
            "sizemode": "area",
            "sizeref": 21.98,
            "symbol": "circle"
           },
           "mode": "markers",
           "name": "South Africa",
           "showlegend": true,
           "type": "scattergeo"
          },
          {
           "geo": "geo",
           "hovertemplate": "<b>%{hovertext}</b><br><br>Country=%{location}<br>year=2020<br>count=%{marker.size}<extra></extra>",
           "hovertext": [
            "Mexico"
           ],
           "legendgroup": "Mexico",
           "locationmode": "country names",
           "locations": [
            "Mexico"
           ],
           "marker": {
            "color": "#19d3f3",
            "size": [
             227
            ],
            "sizemode": "area",
            "sizeref": 21.98,
            "symbol": "circle"
           },
           "mode": "markers",
           "name": "Mexico",
           "showlegend": true,
           "type": "scattergeo"
          },
          {
           "geo": "geo",
           "hovertemplate": "<b>%{hovertext}</b><br><br>Country=%{location}<br>year=2020<br>count=%{marker.size}<extra></extra>",
           "hovertext": [
            "Colombia"
           ],
           "legendgroup": "Colombia",
           "locationmode": "country names",
           "locations": [
            "Colombia"
           ],
           "marker": {
            "color": "#FF6692",
            "size": [
             177
            ],
            "sizemode": "area",
            "sizeref": 21.98,
            "symbol": "circle"
           },
           "mode": "markers",
           "name": "Colombia",
           "showlegend": true,
           "type": "scattergeo"
          },
          {
           "geo": "geo",
           "hovertemplate": "<b>%{hovertext}</b><br><br>Country=%{location}<br>year=2020<br>count=%{marker.size}<extra></extra>",
           "hovertext": [
            "Israel"
           ],
           "legendgroup": "Israel",
           "locationmode": "country names",
           "locations": [
            "Israel"
           ],
           "marker": {
            "color": "#FF97FF",
            "size": [
             97
            ],
            "sizemode": "area",
            "sizeref": 21.98,
            "symbol": "circle"
           },
           "mode": "markers",
           "name": "Israel",
           "showlegend": true,
           "type": "scattergeo"
          },
          {
           "geo": "geo",
           "hovertemplate": "<b>%{hovertext}</b><br><br>Country=%{location}<br>year=2020<br>count=%{marker.size}<extra></extra>",
           "hovertext": [
            "Ireland"
           ],
           "legendgroup": "Ireland",
           "locationmode": "country names",
           "locations": [
            "Ireland"
           ],
           "marker": {
            "color": "#FECB52",
            "size": [
             54
            ],
            "sizemode": "area",
            "sizeref": 21.98,
            "symbol": "circle"
           },
           "mode": "markers",
           "name": "Ireland",
           "showlegend": true,
           "type": "scattergeo"
          },
          {
           "geo": "geo",
           "hovertemplate": "<b>%{hovertext}</b><br><br>Country=%{location}<br>year=2020<br>count=%{marker.size}<extra></extra>",
           "hovertext": [
            "Portugal"
           ],
           "legendgroup": "Portugal",
           "locationmode": "country names",
           "locations": [
            "Portugal"
           ],
           "marker": {
            "color": "#636efa",
            "size": [
             122
            ],
            "sizemode": "area",
            "sizeref": 21.98,
            "symbol": "circle"
           },
           "mode": "markers",
           "name": "Portugal",
           "showlegend": true,
           "type": "scattergeo"
          },
          {
           "geo": "geo",
           "hovertemplate": "<b>%{hovertext}</b><br><br>Country=%{location}<br>year=2020<br>count=%{marker.size}<extra></extra>",
           "hovertext": [
            "Argentina"
           ],
           "legendgroup": "Argentina",
           "locationmode": "country names",
           "locations": [
            "Argentina"
           ],
           "marker": {
            "color": "#EF553B",
            "size": [
             134
            ],
            "sizemode": "area",
            "sizeref": 21.98,
            "symbol": "circle"
           },
           "mode": "markers",
           "name": "Argentina",
           "showlegend": true,
           "type": "scattergeo"
          },
          {
           "geo": "geo",
           "hovertemplate": "<b>%{hovertext}</b><br><br>Country=%{location}<br>year=2020<br>count=%{marker.size}<extra></extra>",
           "hovertext": [
            "Belgium"
           ],
           "legendgroup": "Belgium",
           "locationmode": "country names",
           "locations": [
            "Belgium"
           ],
           "marker": {
            "color": "#00cc96",
            "size": [
             60
            ],
            "sizemode": "area",
            "sizeref": 21.98,
            "symbol": "circle"
           },
           "mode": "markers",
           "name": "Belgium",
           "showlegend": true,
           "type": "scattergeo"
          },
          {
           "geo": "geo",
           "hovertemplate": "<b>%{hovertext}</b><br><br>Country=%{location}<br>year=2020<br>count=%{marker.size}<extra></extra>",
           "hovertext": [
            "Sweden"
           ],
           "legendgroup": "Sweden",
           "locationmode": "country names",
           "locations": [
            "Sweden"
           ],
           "marker": {
            "color": "#ab63fa",
            "size": [
             78
            ],
            "sizemode": "area",
            "sizeref": 21.98,
            "symbol": "circle"
           },
           "mode": "markers",
           "name": "Sweden",
           "showlegend": true,
           "type": "scattergeo"
          },
          {
           "geo": "geo",
           "hovertemplate": "<b>%{hovertext}</b><br><br>Country=%{location}<br>year=2020<br>count=%{marker.size}<extra></extra>",
           "hovertext": [
            "Philippines"
           ],
           "legendgroup": "Philippines",
           "locationmode": "country names",
           "locations": [
            "Philippines"
           ],
           "marker": {
            "color": "#FFA15A",
            "size": [
             99
            ],
            "sizemode": "area",
            "sizeref": 21.98,
            "symbol": "circle"
           },
           "mode": "markers",
           "name": "Philippines",
           "showlegend": true,
           "type": "scattergeo"
          },
          {
           "geo": "geo",
           "hovertemplate": "<b>%{hovertext}</b><br><br>Country=%{location}<br>year=2020<br>count=%{marker.size}<extra></extra>",
           "hovertext": [
            "Greece"
           ],
           "legendgroup": "Greece",
           "locationmode": "country names",
           "locations": [
            "Greece"
           ],
           "marker": {
            "color": "#19d3f3",
            "size": [
             111
            ],
            "sizemode": "area",
            "sizeref": 21.98,
            "symbol": "circle"
           },
           "mode": "markers",
           "name": "Greece",
           "showlegend": true,
           "type": "scattergeo"
          },
          {
           "geo": "geo",
           "hovertemplate": "<b>%{hovertext}</b><br><br>Country=%{location}<br>year=2020<br>count=%{marker.size}<extra></extra>",
           "hovertext": [
            "Malaysia"
           ],
           "legendgroup": "Malaysia",
           "locationmode": "country names",
           "locations": [
            "Malaysia"
           ],
           "marker": {
            "color": "#FF6692",
            "size": [
             133
            ],
            "sizemode": "area",
            "sizeref": 21.98,
            "symbol": "circle"
           },
           "mode": "markers",
           "name": "Malaysia",
           "showlegend": true,
           "type": "scattergeo"
          },
          {
           "geo": "geo",
           "hovertemplate": "<b>%{hovertext}</b><br><br>Country=%{location}<br>year=2020<br>count=%{marker.size}<extra></extra>",
           "hovertext": [
            "Nigeria"
           ],
           "legendgroup": "Nigeria",
           "locationmode": "country names",
           "locations": [
            "Nigeria"
           ],
           "marker": {
            "color": "#FECB52",
            "size": [
             476
            ],
            "sizemode": "area",
            "sizeref": 21.98,
            "symbol": "circle"
           },
           "mode": "markers",
           "name": "Nigeria",
           "showlegend": true,
           "type": "scattergeo"
          },
          {
           "geo": "geo",
           "hovertemplate": "<b>%{hovertext}</b><br><br>Country=%{location}<br>year=2020<br>count=%{marker.size}<extra></extra>",
           "hovertext": [
            "Egypt"
           ],
           "legendgroup": "Egypt",
           "locationmode": "country names",
           "locations": [
            "Egypt"
           ],
           "marker": {
            "color": "#FFA15A",
            "size": [
             179
            ],
            "sizemode": "area",
            "sizeref": 21.98,
            "symbol": "circle"
           },
           "mode": "markers",
           "name": "Egypt",
           "showlegend": true,
           "type": "scattergeo"
          },
          {
           "geo": "geo",
           "hovertemplate": "<b>%{hovertext}</b><br><br>Country=%{location}<br>year=2020<br>count=%{marker.size}<extra></extra>",
           "hovertext": [
            "Kenya"
           ],
           "legendgroup": "Kenya",
           "locationmode": "country names",
           "locations": [
            "Kenya"
           ],
           "marker": {
            "color": "#FF6692",
            "size": [
             153
            ],
            "sizemode": "area",
            "sizeref": 21.98,
            "symbol": "circle"
           },
           "mode": "markers",
           "name": "Kenya",
           "showlegend": true,
           "type": "scattergeo"
          },
          {
           "geo": "geo",
           "hovertemplate": "<b>%{hovertext}</b><br><br>Country=%{location}<br>year=2020<br>count=%{marker.size}<extra></extra>",
           "hovertext": [
            "Romania"
           ],
           "legendgroup": "Romania",
           "locationmode": "country names",
           "locations": [
            "Romania"
           ],
           "marker": {
            "color": "#B6E880",
            "size": [
             61
            ],
            "sizemode": "area",
            "sizeref": 21.98,
            "symbol": "circle"
           },
           "mode": "markers",
           "name": "Romania",
           "showlegend": true,
           "type": "scattergeo"
          },
          {
           "geo": "geo",
           "hovertemplate": "<b>%{hovertext}</b><br><br>Country=%{location}<br>year=2020<br>count=%{marker.size}<extra></extra>",
           "hovertext": [
            "Belarus"
           ],
           "legendgroup": "Belarus",
           "locationmode": "country names",
           "locations": [
            "Belarus"
           ],
           "marker": {
            "color": "#FF97FF",
            "size": [
             59
            ],
            "sizemode": "area",
            "sizeref": 21.98,
            "symbol": "circle"
           },
           "mode": "markers",
           "name": "Belarus",
           "showlegend": true,
           "type": "scattergeo"
          },
          {
           "geo": "geo",
           "hovertemplate": "<b>%{hovertext}</b><br><br>Country=%{location}<br>year=2020<br>count=%{marker.size}<extra></extra>",
           "hovertext": [
            "Chile"
           ],
           "legendgroup": "Chile",
           "locationmode": "country names",
           "locations": [
            "Chile"
           ],
           "marker": {
            "color": "#EF553B",
            "size": [
             85
            ],
            "sizemode": "area",
            "sizeref": 21.98,
            "symbol": "circle"
           },
           "mode": "markers",
           "name": "Chile",
           "showlegend": true,
           "type": "scattergeo"
          },
          {
           "geo": "geo",
           "hovertemplate": "<b>%{hovertext}</b><br><br>Country=%{location}<br>year=2020<br>count=%{marker.size}<extra></extra>",
           "hovertext": [
            "United States of America"
           ],
           "legendgroup": "United States of America",
           "locationmode": "country names",
           "locations": [
            "United States of America"
           ],
           "marker": {
            "color": "#00cc96",
            "size": [
             2237
            ],
            "sizemode": "area",
            "sizeref": 21.98,
            "symbol": "circle"
           },
           "mode": "markers",
           "name": "United States of America",
           "showlegend": true,
           "type": "scattergeo"
          },
          {
           "geo": "geo",
           "hovertemplate": "<b>%{hovertext}</b><br><br>Country=%{location}<br>year=2020<br>count=%{marker.size}<extra></extra>",
           "hovertext": [
            "China"
           ],
           "legendgroup": "China",
           "locationmode": "country names",
           "locations": [
            "China"
           ],
           "marker": {
            "color": "#ab63fa",
            "size": [
             474
            ],
            "sizemode": "area",
            "sizeref": 21.98,
            "symbol": "circle"
           },
           "mode": "markers",
           "name": "China",
           "showlegend": true,
           "type": "scattergeo"
          },
          {
           "geo": "geo",
           "hovertemplate": "<b>%{hovertext}</b><br><br>Country=%{location}<br>year=2020<br>count=%{marker.size}<extra></extra>",
           "hovertext": [
            "United Kingdom of Great Britain and Northern Ireland"
           ],
           "legendgroup": "United Kingdom of Great Britain and Northern Ireland",
           "locationmode": "country names",
           "locations": [
            "United Kingdom of Great Britain and Northern Ireland"
           ],
           "marker": {
            "color": "#FFA15A",
            "size": [
             489
            ],
            "sizemode": "area",
            "sizeref": 21.98,
            "symbol": "circle"
           },
           "mode": "markers",
           "name": "United Kingdom of Great Britain and Northern Ireland",
           "showlegend": true,
           "type": "scattergeo"
          },
          {
           "geo": "geo",
           "hovertemplate": "<b>%{hovertext}</b><br><br>Country=%{location}<br>year=2020<br>count=%{marker.size}<extra></extra>",
           "hovertext": [
            "Viet Nam"
           ],
           "legendgroup": "Viet Nam",
           "locationmode": "country names",
           "locations": [
            "Viet Nam"
           ],
           "marker": {
            "color": "#FF6692",
            "size": [
             147
            ],
            "sizemode": "area",
            "sizeref": 21.98,
            "symbol": "circle"
           },
           "mode": "markers",
           "name": "Viet Nam",
           "showlegend": true,
           "type": "scattergeo"
          },
          {
           "geo": "geo",
           "hovertemplate": "<b>%{hovertext}</b><br><br>Country=%{location}<br>year=2020<br>count=%{marker.size}<extra></extra>",
           "hovertext": [
            "Iran, Islamic Republic of..."
           ],
           "legendgroup": "Iran, Islamic Republic of...",
           "locationmode": "country names",
           "locations": [
            "Iran, Islamic Republic of..."
           ],
           "marker": {
            "color": "#B6E880",
            "size": [
             162
            ],
            "sizemode": "area",
            "sizeref": 21.98,
            "symbol": "circle"
           },
           "mode": "markers",
           "name": "Iran, Islamic Republic of...",
           "showlegend": true,
           "type": "scattergeo"
          },
          {
           "geo": "geo",
           "hovertemplate": "<b>%{hovertext}</b><br><br>Country=%{location}<br>year=2020<br>count=%{marker.size}<extra></extra>",
           "hovertext": [
            "Bangladesh"
           ],
           "legendgroup": "Bangladesh",
           "locationmode": "country names",
           "locations": [
            "Bangladesh"
           ],
           "marker": {
            "color": "#FF97FF",
            "size": [
             143
            ],
            "sizemode": "area",
            "sizeref": 21.98,
            "symbol": "circle"
           },
           "mode": "markers",
           "name": "Bangladesh",
           "showlegend": true,
           "type": "scattergeo"
          },
          {
           "geo": "geo",
           "hovertemplate": "<b>%{hovertext}</b><br><br>Country=%{location}<br>year=2020<br>count=%{marker.size}<extra></extra>",
           "hovertext": [
            "Peru"
           ],
           "legendgroup": "Peru",
           "locationmode": "country names",
           "locations": [
            "Peru"
           ],
           "marker": {
            "color": "#FECB52",
            "size": [
             95
            ],
            "sizemode": "area",
            "sizeref": 21.98,
            "symbol": "circle"
           },
           "mode": "markers",
           "name": "Peru",
           "showlegend": true,
           "type": "scattergeo"
          },
          {
           "geo": "geo",
           "hovertemplate": "<b>%{hovertext}</b><br><br>Country=%{location}<br>year=2020<br>count=%{marker.size}<extra></extra>",
           "hovertext": [
            "Tunisia"
           ],
           "legendgroup": "Tunisia",
           "locationmode": "country names",
           "locations": [
            "Tunisia"
           ],
           "marker": {
            "color": "#EF553B",
            "size": [
             99
            ],
            "sizemode": "area",
            "sizeref": 21.98,
            "symbol": "circle"
           },
           "mode": "markers",
           "name": "Tunisia",
           "showlegend": true,
           "type": "scattergeo"
          },
          {
           "geo": "geo",
           "hovertemplate": "<b>%{hovertext}</b><br><br>Country=%{location}<br>year=2020<br>count=%{marker.size}<extra></extra>",
           "hovertext": [
            "Thailand"
           ],
           "legendgroup": "Thailand",
           "locationmode": "country names",
           "locations": [
            "Thailand"
           ],
           "marker": {
            "color": "#00cc96",
            "size": [
             132
            ],
            "sizemode": "area",
            "sizeref": 21.98,
            "symbol": "circle"
           },
           "mode": "markers",
           "name": "Thailand",
           "showlegend": true,
           "type": "scattergeo"
          },
          {
           "geo": "geo",
           "hovertemplate": "<b>%{hovertext}</b><br><br>Country=%{location}<br>year=2020<br>count=%{marker.size}<extra></extra>",
           "hovertext": [
            "Republic of Korea"
           ],
           "legendgroup": "Republic of Korea",
           "locationmode": "country names",
           "locations": [
            "Republic of Korea"
           ],
           "marker": {
            "color": "#ab63fa",
            "size": [
             76
            ],
            "sizemode": "area",
            "sizeref": 21.98,
            "symbol": "circle"
           },
           "mode": "markers",
           "name": "Republic of Korea",
           "showlegend": true,
           "type": "scattergeo"
          },
          {
           "geo": "geo",
           "hovertemplate": "<b>%{hovertext}</b><br><br>Country=%{location}<br>year=2020<br>count=%{marker.size}<extra></extra>",
           "hovertext": [
            "Morocco"
           ],
           "legendgroup": "Morocco",
           "locationmode": "country names",
           "locations": [
            "Morocco"
           ],
           "marker": {
            "color": "#FFA15A",
            "size": [
             133
            ],
            "sizemode": "area",
            "sizeref": 21.98,
            "symbol": "circle"
           },
           "mode": "markers",
           "name": "Morocco",
           "showlegend": true,
           "type": "scattergeo"
          },
          {
           "geo": "geo",
           "hovertemplate": "<b>%{hovertext}</b><br><br>Country=%{location}<br>year=2020<br>count=%{marker.size}<extra></extra>",
           "hovertext": [
            "In which country do you currently reside?"
           ],
           "legendgroup": "In which country do you currently reside?",
           "locationmode": "country names",
           "locations": [
            "In which country do you currently reside?"
           ],
           "marker": {
            "color": "#FF6692",
            "size": [
             1
            ],
            "sizemode": "area",
            "sizeref": 21.98,
            "symbol": "circle"
           },
           "mode": "markers",
           "name": "In which country do you currently reside?",
           "showlegend": true,
           "type": "scattergeo"
          },
          {
           "geo": "geo",
           "hovertemplate": "<b>%{hovertext}</b><br><br>Country=%{location}<br>year=2020<br>count=%{marker.size}<extra></extra>",
           "hovertext": [
            "Saudi Arabia"
           ],
           "legendgroup": "Saudi Arabia",
           "locationmode": "country names",
           "locations": [
            "Saudi Arabia"
           ],
           "marker": {
            "color": "#FF97FF",
            "size": [
             76
            ],
            "sizemode": "area",
            "sizeref": 21.98,
            "symbol": "circle"
           },
           "mode": "markers",
           "name": "Saudi Arabia",
           "showlegend": true,
           "type": "scattergeo"
          },
          {
           "geo": "geo",
           "hovertemplate": "<b>%{hovertext}</b><br><br>Country=%{location}<br>year=2020<br>count=%{marker.size}<extra></extra>",
           "hovertext": [
            "Sri Lanka"
           ],
           "legendgroup": "Sri Lanka",
           "locationmode": "country names",
           "locations": [
            "Sri Lanka"
           ],
           "marker": {
            "color": "#FECB52",
            "size": [
             72
            ],
            "sizemode": "area",
            "sizeref": 21.98,
            "symbol": "circle"
           },
           "mode": "markers",
           "name": "Sri Lanka",
           "showlegend": true,
           "type": "scattergeo"
          },
          {
           "geo": "geo",
           "hovertemplate": "<b>%{hovertext}</b><br><br>Country=%{location}<br>year=2020<br>count=%{marker.size}<extra></extra>",
           "hovertext": [
            "Nepal"
           ],
           "legendgroup": "Nepal",
           "locationmode": "country names",
           "locations": [
            "Nepal"
           ],
           "marker": {
            "color": "#636efa",
            "size": [
             62
            ],
            "sizemode": "area",
            "sizeref": 21.98,
            "symbol": "circle"
           },
           "mode": "markers",
           "name": "Nepal",
           "showlegend": true,
           "type": "scattergeo"
          },
          {
           "geo": "geo",
           "hovertemplate": "<b>%{hovertext}</b><br><br>Country=%{location}<br>year=2020<br>count=%{marker.size}<extra></extra>",
           "hovertext": [
            "United Arab Emirates"
           ],
           "legendgroup": "United Arab Emirates",
           "locationmode": "country names",
           "locations": [
            "United Arab Emirates"
           ],
           "marker": {
            "color": "#EF553B",
            "size": [
             59
            ],
            "sizemode": "area",
            "sizeref": 21.98,
            "symbol": "circle"
           },
           "mode": "markers",
           "name": "United Arab Emirates",
           "showlegend": true,
           "type": "scattergeo"
          },
          {
           "geo": "geo",
           "hovertemplate": "<b>%{hovertext}</b><br><br>Country=%{location}<br>year=2020<br>count=%{marker.size}<extra></extra>",
           "hovertext": [
            "Ghana"
           ],
           "legendgroup": "Ghana",
           "locationmode": "country names",
           "locations": [
            "Ghana"
           ],
           "marker": {
            "color": "#00cc96",
            "size": [
             52
            ],
            "sizemode": "area",
            "sizeref": 21.98,
            "symbol": "circle"
           },
           "mode": "markers",
           "name": "Ghana",
           "showlegend": true,
           "type": "scattergeo"
          }
         ],
         "name": "2020"
        },
        {
         "data": [
          {
           "geo": "geo",
           "hovertemplate": "<b>%{hovertext}</b><br><br>Country=%{location}<br>year=2021<br>count=%{marker.size}<extra></extra>",
           "hovertext": [
            "India"
           ],
           "legendgroup": "India",
           "locationmode": "country names",
           "locations": [
            "India"
           ],
           "marker": {
            "color": "#EF553B",
            "size": [
             7434
            ],
            "sizemode": "area",
            "sizeref": 21.98,
            "symbol": "circle"
           },
           "mode": "markers",
           "name": "India",
           "showlegend": true,
           "type": "scattergeo"
          },
          {
           "geo": "geo",
           "hovertemplate": "<b>%{hovertext}</b><br><br>Country=%{location}<br>year=2021<br>count=%{marker.size}<extra></extra>",
           "hovertext": [
            "Other"
           ],
           "legendgroup": "Other",
           "locationmode": "country names",
           "locations": [
            "Other"
           ],
           "marker": {
            "color": "#00cc96",
            "size": [
             1270
            ],
            "sizemode": "area",
            "sizeref": 21.98,
            "symbol": "circle"
           },
           "mode": "markers",
           "name": "Other",
           "showlegend": true,
           "type": "scattergeo"
          },
          {
           "geo": "geo",
           "hovertemplate": "<b>%{hovertext}</b><br><br>Country=%{location}<br>year=2021<br>count=%{marker.size}<extra></extra>",
           "hovertext": [
            "Russia"
           ],
           "legendgroup": "Russia",
           "locationmode": "country names",
           "locations": [
            "Russia"
           ],
           "marker": {
            "color": "#ab63fa",
            "size": [
             742
            ],
            "sizemode": "area",
            "sizeref": 21.98,
            "symbol": "circle"
           },
           "mode": "markers",
           "name": "Russia",
           "showlegend": true,
           "type": "scattergeo"
          },
          {
           "geo": "geo",
           "hovertemplate": "<b>%{hovertext}</b><br><br>Country=%{location}<br>year=2021<br>count=%{marker.size}<extra></extra>",
           "hovertext": [
            "Brazil"
           ],
           "legendgroup": "Brazil",
           "locationmode": "country names",
           "locations": [
            "Brazil"
           ],
           "marker": {
            "color": "#FF6692",
            "size": [
             751
            ],
            "sizemode": "area",
            "sizeref": 21.98,
            "symbol": "circle"
           },
           "mode": "markers",
           "name": "Brazil",
           "showlegend": true,
           "type": "scattergeo"
          },
          {
           "geo": "geo",
           "hovertemplate": "<b>%{hovertext}</b><br><br>Country=%{location}<br>year=2021<br>count=%{marker.size}<extra></extra>",
           "hovertext": [
            "Germany"
           ],
           "legendgroup": "Germany",
           "locationmode": "country names",
           "locations": [
            "Germany"
           ],
           "marker": {
            "color": "#B6E880",
            "size": [
             470
            ],
            "sizemode": "area",
            "sizeref": 21.98,
            "symbol": "circle"
           },
           "mode": "markers",
           "name": "Germany",
           "showlegend": true,
           "type": "scattergeo"
          },
          {
           "geo": "geo",
           "hovertemplate": "<b>%{hovertext}</b><br><br>Country=%{location}<br>year=2021<br>count=%{marker.size}<extra></extra>",
           "hovertext": [
            "France"
           ],
           "legendgroup": "France",
           "locationmode": "country names",
           "locations": [
            "France"
           ],
           "marker": {
            "color": "#FF97FF",
            "size": [
             401
            ],
            "sizemode": "area",
            "sizeref": 21.98,
            "symbol": "circle"
           },
           "mode": "markers",
           "name": "France",
           "showlegend": true,
           "type": "scattergeo"
          },
          {
           "geo": "geo",
           "hovertemplate": "<b>%{hovertext}</b><br><br>Country=%{location}<br>year=2021<br>count=%{marker.size}<extra></extra>",
           "hovertext": [
            "Canada"
           ],
           "legendgroup": "Canada",
           "locationmode": "country names",
           "locations": [
            "Canada"
           ],
           "marker": {
            "color": "#FECB52",
            "size": [
             331
            ],
            "sizemode": "area",
            "sizeref": 21.98,
            "symbol": "circle"
           },
           "mode": "markers",
           "name": "Canada",
           "showlegend": true,
           "type": "scattergeo"
          },
          {
           "geo": "geo",
           "hovertemplate": "<b>%{hovertext}</b><br><br>Country=%{location}<br>year=2021<br>count=%{marker.size}<extra></extra>",
           "hovertext": [
            "Australia"
           ],
           "legendgroup": "Australia",
           "locationmode": "country names",
           "locations": [
            "Australia"
           ],
           "marker": {
            "color": "#636efa",
            "size": [
             264
            ],
            "sizemode": "area",
            "sizeref": 21.98,
            "symbol": "circle"
           },
           "mode": "markers",
           "name": "Australia",
           "showlegend": true,
           "type": "scattergeo"
          },
          {
           "geo": "geo",
           "hovertemplate": "<b>%{hovertext}</b><br><br>Country=%{location}<br>year=2021<br>count=%{marker.size}<extra></extra>",
           "hovertext": [
            "Spain"
           ],
           "legendgroup": "Spain",
           "locationmode": "country names",
           "locations": [
            "Spain"
           ],
           "marker": {
            "color": "#EF553B",
            "size": [
             454
            ],
            "sizemode": "area",
            "sizeref": 21.98,
            "symbol": "circle"
           },
           "mode": "markers",
           "name": "Spain",
           "showlegend": true,
           "type": "scattergeo"
          },
          {
           "geo": "geo",
           "hovertemplate": "<b>%{hovertext}</b><br><br>Country=%{location}<br>year=2021<br>count=%{marker.size}<extra></extra>",
           "hovertext": [
            "Japan"
           ],
           "legendgroup": "Japan",
           "locationmode": "country names",
           "locations": [
            "Japan"
           ],
           "marker": {
            "color": "#00cc96",
            "size": [
             921
            ],
            "sizemode": "area",
            "sizeref": 21.98,
            "symbol": "circle"
           },
           "mode": "markers",
           "name": "Japan",
           "showlegend": true,
           "type": "scattergeo"
          },
          {
           "geo": "geo",
           "hovertemplate": "<b>%{hovertext}</b><br><br>Country=%{location}<br>year=2021<br>count=%{marker.size}<extra></extra>",
           "hovertext": [
            "Taiwan"
           ],
           "legendgroup": "Taiwan",
           "locationmode": "country names",
           "locations": [
            "Taiwan"
           ],
           "marker": {
            "color": "#ab63fa",
            "size": [
             334
            ],
            "sizemode": "area",
            "sizeref": 21.98,
            "symbol": "circle"
           },
           "mode": "markers",
           "name": "Taiwan",
           "showlegend": true,
           "type": "scattergeo"
          },
          {
           "geo": "geo",
           "hovertemplate": "<b>%{hovertext}</b><br><br>Country=%{location}<br>year=2021<br>count=%{marker.size}<extra></extra>",
           "hovertext": [
            "Italy"
           ],
           "legendgroup": "Italy",
           "locationmode": "country names",
           "locations": [
            "Italy"
           ],
           "marker": {
            "color": "#FFA15A",
            "size": [
             311
            ],
            "sizemode": "area",
            "sizeref": 21.98,
            "symbol": "circle"
           },
           "mode": "markers",
           "name": "Italy",
           "showlegend": true,
           "type": "scattergeo"
          },
          {
           "geo": "geo",
           "hovertemplate": "<b>%{hovertext}</b><br><br>Country=%{location}<br>year=2021<br>count=%{marker.size}<extra></extra>",
           "hovertext": [
            "Netherlands"
           ],
           "legendgroup": "Netherlands",
           "locationmode": "country names",
           "locations": [
            "Netherlands"
           ],
           "marker": {
            "color": "#19d3f3",
            "size": [
             153
            ],
            "sizemode": "area",
            "sizeref": 21.98,
            "symbol": "circle"
           },
           "mode": "markers",
           "name": "Netherlands",
           "showlegend": true,
           "type": "scattergeo"
          },
          {
           "geo": "geo",
           "hovertemplate": "<b>%{hovertext}</b><br><br>Country=%{location}<br>year=2021<br>count=%{marker.size}<extra></extra>",
           "hovertext": [
            "Ukraine"
           ],
           "legendgroup": "Ukraine",
           "locationmode": "country names",
           "locations": [
            "Ukraine"
           ],
           "marker": {
            "color": "#FF6692",
            "size": [
             186
            ],
            "sizemode": "area",
            "sizeref": 21.98,
            "symbol": "circle"
           },
           "mode": "markers",
           "name": "Ukraine",
           "showlegend": true,
           "type": "scattergeo"
          },
          {
           "geo": "geo",
           "hovertemplate": "<b>%{hovertext}</b><br><br>Country=%{location}<br>year=2021<br>count=%{marker.size}<extra></extra>",
           "hovertext": [
            "South Korea"
           ],
           "legendgroup": "South Korea",
           "locationmode": "country names",
           "locations": [
            "South Korea"
           ],
           "marker": {
            "color": "#B6E880",
            "size": [
             359
            ],
            "sizemode": "area",
            "sizeref": 21.98,
            "symbol": "circle"
           },
           "mode": "markers",
           "name": "South Korea",
           "showlegend": true,
           "type": "scattergeo"
          },
          {
           "geo": "geo",
           "hovertemplate": "<b>%{hovertext}</b><br><br>Country=%{location}<br>year=2021<br>count=%{marker.size}<extra></extra>",
           "hovertext": [
            "Poland"
           ],
           "legendgroup": "Poland",
           "locationmode": "country names",
           "locations": [
            "Poland"
           ],
           "marker": {
            "color": "#FF97FF",
            "size": [
             219
            ],
            "sizemode": "area",
            "sizeref": 21.98,
            "symbol": "circle"
           },
           "mode": "markers",
           "name": "Poland",
           "showlegend": true,
           "type": "scattergeo"
          },
          {
           "geo": "geo",
           "hovertemplate": "<b>%{hovertext}</b><br><br>Country=%{location}<br>year=2021<br>count=%{marker.size}<extra></extra>",
           "hovertext": [
            "Singapore"
           ],
           "legendgroup": "Singapore",
           "locationmode": "country names",
           "locations": [
            "Singapore"
           ],
           "marker": {
            "color": "#FECB52",
            "size": [
             182
            ],
            "sizemode": "area",
            "sizeref": 21.98,
            "symbol": "circle"
           },
           "mode": "markers",
           "name": "Singapore",
           "showlegend": true,
           "type": "scattergeo"
          },
          {
           "geo": "geo",
           "hovertemplate": "<b>%{hovertext}</b><br><br>Country=%{location}<br>year=2021<br>count=%{marker.size}<extra></extra>",
           "hovertext": [
            "Pakistan"
           ],
           "legendgroup": "Pakistan",
           "locationmode": "country names",
           "locations": [
            "Pakistan"
           ],
           "marker": {
            "color": "#636efa",
            "size": [
             530
            ],
            "sizemode": "area",
            "sizeref": 21.98,
            "symbol": "circle"
           },
           "mode": "markers",
           "name": "Pakistan",
           "showlegend": true,
           "type": "scattergeo"
          },
          {
           "geo": "geo",
           "hovertemplate": "<b>%{hovertext}</b><br><br>Country=%{location}<br>year=2021<br>count=%{marker.size}<extra></extra>",
           "hovertext": [
            "Turkey"
           ],
           "legendgroup": "Turkey",
           "locationmode": "country names",
           "locations": [
            "Turkey"
           ],
           "marker": {
            "color": "#EF553B",
            "size": [
             416
            ],
            "sizemode": "area",
            "sizeref": 21.98,
            "symbol": "circle"
           },
           "mode": "markers",
           "name": "Turkey",
           "showlegend": true,
           "type": "scattergeo"
          },
          {
           "geo": "geo",
           "hovertemplate": "<b>%{hovertext}</b><br><br>Country=%{location}<br>year=2021<br>count=%{marker.size}<extra></extra>",
           "hovertext": [
            "Indonesia"
           ],
           "legendgroup": "Indonesia",
           "locationmode": "country names",
           "locations": [
            "Indonesia"
           ],
           "marker": {
            "color": "#00cc96",
            "size": [
             444
            ],
            "sizemode": "area",
            "sizeref": 21.98,
            "symbol": "circle"
           },
           "mode": "markers",
           "name": "Indonesia",
           "showlegend": true,
           "type": "scattergeo"
          },
          {
           "geo": "geo",
           "hovertemplate": "<b>%{hovertext}</b><br><br>Country=%{location}<br>year=2021<br>count=%{marker.size}<extra></extra>",
           "hovertext": [
            "Switzerland"
           ],
           "legendgroup": "Switzerland",
           "locationmode": "country names",
           "locations": [
            "Switzerland"
           ],
           "marker": {
            "color": "#ab63fa",
            "size": [
             71
            ],
            "sizemode": "area",
            "sizeref": 21.98,
            "symbol": "circle"
           },
           "mode": "markers",
           "name": "Switzerland",
           "showlegend": true,
           "type": "scattergeo"
          },
          {
           "geo": "geo",
           "hovertemplate": "<b>%{hovertext}</b><br><br>Country=%{location}<br>year=2021<br>count=%{marker.size}<extra></extra>",
           "hovertext": [
            "South Africa"
           ],
           "legendgroup": "South Africa",
           "locationmode": "country names",
           "locations": [
            "South Africa"
           ],
           "marker": {
            "color": "#FFA15A",
            "size": [
             146
            ],
            "sizemode": "area",
            "sizeref": 21.98,
            "symbol": "circle"
           },
           "mode": "markers",
           "name": "South Africa",
           "showlegend": true,
           "type": "scattergeo"
          },
          {
           "geo": "geo",
           "hovertemplate": "<b>%{hovertext}</b><br><br>Country=%{location}<br>year=2021<br>count=%{marker.size}<extra></extra>",
           "hovertext": [
            "Mexico"
           ],
           "legendgroup": "Mexico",
           "locationmode": "country names",
           "locations": [
            "Mexico"
           ],
           "marker": {
            "color": "#19d3f3",
            "size": [
             279
            ],
            "sizemode": "area",
            "sizeref": 21.98,
            "symbol": "circle"
           },
           "mode": "markers",
           "name": "Mexico",
           "showlegend": true,
           "type": "scattergeo"
          },
          {
           "geo": "geo",
           "hovertemplate": "<b>%{hovertext}</b><br><br>Country=%{location}<br>year=2021<br>count=%{marker.size}<extra></extra>",
           "hovertext": [
            "Colombia"
           ],
           "legendgroup": "Colombia",
           "locationmode": "country names",
           "locations": [
            "Colombia"
           ],
           "marker": {
            "color": "#FF6692",
            "size": [
             225
            ],
            "sizemode": "area",
            "sizeref": 21.98,
            "symbol": "circle"
           },
           "mode": "markers",
           "name": "Colombia",
           "showlegend": true,
           "type": "scattergeo"
          },
          {
           "geo": "geo",
           "hovertemplate": "<b>%{hovertext}</b><br><br>Country=%{location}<br>year=2021<br>count=%{marker.size}<extra></extra>",
           "hovertext": [
            "Israel"
           ],
           "legendgroup": "Israel",
           "locationmode": "country names",
           "locations": [
            "Israel"
           ],
           "marker": {
            "color": "#FF97FF",
            "size": [
             138
            ],
            "sizemode": "area",
            "sizeref": 21.98,
            "symbol": "circle"
           },
           "mode": "markers",
           "name": "Israel",
           "showlegend": true,
           "type": "scattergeo"
          },
          {
           "geo": "geo",
           "hovertemplate": "<b>%{hovertext}</b><br><br>Country=%{location}<br>year=2021<br>count=%{marker.size}<extra></extra>",
           "hovertext": [
            "Ireland"
           ],
           "legendgroup": "Ireland",
           "locationmode": "country names",
           "locations": [
            "Ireland"
           ],
           "marker": {
            "color": "#FECB52",
            "size": [
             84
            ],
            "sizemode": "area",
            "sizeref": 21.98,
            "symbol": "circle"
           },
           "mode": "markers",
           "name": "Ireland",
           "showlegend": true,
           "type": "scattergeo"
          },
          {
           "geo": "geo",
           "hovertemplate": "<b>%{hovertext}</b><br><br>Country=%{location}<br>year=2021<br>count=%{marker.size}<extra></extra>",
           "hovertext": [
            "Portugal"
           ],
           "legendgroup": "Portugal",
           "locationmode": "country names",
           "locations": [
            "Portugal"
           ],
           "marker": {
            "color": "#636efa",
            "size": [
             119
            ],
            "sizemode": "area",
            "sizeref": 21.98,
            "symbol": "circle"
           },
           "mode": "markers",
           "name": "Portugal",
           "showlegend": true,
           "type": "scattergeo"
          },
          {
           "geo": "geo",
           "hovertemplate": "<b>%{hovertext}</b><br><br>Country=%{location}<br>year=2021<br>count=%{marker.size}<extra></extra>",
           "hovertext": [
            "Argentina"
           ],
           "legendgroup": "Argentina",
           "locationmode": "country names",
           "locations": [
            "Argentina"
           ],
           "marker": {
            "color": "#EF553B",
            "size": [
             182
            ],
            "sizemode": "area",
            "sizeref": 21.98,
            "symbol": "circle"
           },
           "mode": "markers",
           "name": "Argentina",
           "showlegend": true,
           "type": "scattergeo"
          },
          {
           "geo": "geo",
           "hovertemplate": "<b>%{hovertext}</b><br><br>Country=%{location}<br>year=2021<br>count=%{marker.size}<extra></extra>",
           "hovertext": [
            "Belgium"
           ],
           "legendgroup": "Belgium",
           "locationmode": "country names",
           "locations": [
            "Belgium"
           ],
           "marker": {
            "color": "#00cc96",
            "size": [
             65
            ],
            "sizemode": "area",
            "sizeref": 21.98,
            "symbol": "circle"
           },
           "mode": "markers",
           "name": "Belgium",
           "showlegend": true,
           "type": "scattergeo"
          },
          {
           "geo": "geo",
           "hovertemplate": "<b>%{hovertext}</b><br><br>Country=%{location}<br>year=2021<br>count=%{marker.size}<extra></extra>",
           "hovertext": [
            "Sweden"
           ],
           "legendgroup": "Sweden",
           "locationmode": "country names",
           "locations": [
            "Sweden"
           ],
           "marker": {
            "color": "#ab63fa",
            "size": [
             81
            ],
            "sizemode": "area",
            "sizeref": 21.98,
            "symbol": "circle"
           },
           "mode": "markers",
           "name": "Sweden",
           "showlegend": true,
           "type": "scattergeo"
          },
          {
           "geo": "geo",
           "hovertemplate": "<b>%{hovertext}</b><br><br>Country=%{location}<br>year=2021<br>count=%{marker.size}<extra></extra>",
           "hovertext": [
            "Philippines"
           ],
           "legendgroup": "Philippines",
           "locationmode": "country names",
           "locations": [
            "Philippines"
           ],
           "marker": {
            "color": "#FFA15A",
            "size": [
             108
            ],
            "sizemode": "area",
            "sizeref": 21.98,
            "symbol": "circle"
           },
           "mode": "markers",
           "name": "Philippines",
           "showlegend": true,
           "type": "scattergeo"
          },
          {
           "geo": "geo",
           "hovertemplate": "<b>%{hovertext}</b><br><br>Country=%{location}<br>year=2021<br>count=%{marker.size}<extra></extra>",
           "hovertext": [
            "Greece"
           ],
           "legendgroup": "Greece",
           "locationmode": "country names",
           "locations": [
            "Greece"
           ],
           "marker": {
            "color": "#19d3f3",
            "size": [
             102
            ],
            "sizemode": "area",
            "sizeref": 21.98,
            "symbol": "circle"
           },
           "mode": "markers",
           "name": "Greece",
           "showlegend": true,
           "type": "scattergeo"
          },
          {
           "geo": "geo",
           "hovertemplate": "<b>%{hovertext}</b><br><br>Country=%{location}<br>year=2021<br>count=%{marker.size}<extra></extra>",
           "hovertext": [
            "Malaysia"
           ],
           "legendgroup": "Malaysia",
           "locationmode": "country names",
           "locations": [
            "Malaysia"
           ],
           "marker": {
            "color": "#FF6692",
            "size": [
             156
            ],
            "sizemode": "area",
            "sizeref": 21.98,
            "symbol": "circle"
           },
           "mode": "markers",
           "name": "Malaysia",
           "showlegend": true,
           "type": "scattergeo"
          },
          {
           "geo": "geo",
           "hovertemplate": "<b>%{hovertext}</b><br><br>Country=%{location}<br>year=2021<br>count=%{marker.size}<extra></extra>",
           "hovertext": [
            "Denmark"
           ],
           "legendgroup": "Denmark",
           "locationmode": "country names",
           "locations": [
            "Denmark"
           ],
           "marker": {
            "color": "#B6E880",
            "size": [
             48
            ],
            "sizemode": "area",
            "sizeref": 21.98,
            "symbol": "circle"
           },
           "mode": "markers",
           "name": "Denmark",
           "showlegend": true,
           "type": "scattergeo"
          },
          {
           "geo": "geo",
           "hovertemplate": "<b>%{hovertext}</b><br><br>Country=%{location}<br>year=2021<br>count=%{marker.size}<extra></extra>",
           "hovertext": [
            "Nigeria"
           ],
           "legendgroup": "Nigeria",
           "locationmode": "country names",
           "locations": [
            "Nigeria"
           ],
           "marker": {
            "color": "#FECB52",
            "size": [
             702
            ],
            "sizemode": "area",
            "sizeref": 21.98,
            "symbol": "circle"
           },
           "mode": "markers",
           "name": "Nigeria",
           "showlegend": true,
           "type": "scattergeo"
          },
          {
           "geo": "geo",
           "hovertemplate": "<b>%{hovertext}</b><br><br>Country=%{location}<br>year=2021<br>count=%{marker.size}<extra></extra>",
           "hovertext": [
            "Egypt"
           ],
           "legendgroup": "Egypt",
           "locationmode": "country names",
           "locations": [
            "Egypt"
           ],
           "marker": {
            "color": "#FFA15A",
            "size": [
             482
            ],
            "sizemode": "area",
            "sizeref": 21.98,
            "symbol": "circle"
           },
           "mode": "markers",
           "name": "Egypt",
           "showlegend": true,
           "type": "scattergeo"
          },
          {
           "geo": "geo",
           "hovertemplate": "<b>%{hovertext}</b><br><br>Country=%{location}<br>year=2021<br>count=%{marker.size}<extra></extra>",
           "hovertext": [
            "Kenya"
           ],
           "legendgroup": "Kenya",
           "locationmode": "country names",
           "locations": [
            "Kenya"
           ],
           "marker": {
            "color": "#FF6692",
            "size": [
             248
            ],
            "sizemode": "area",
            "sizeref": 21.98,
            "symbol": "circle"
           },
           "mode": "markers",
           "name": "Kenya",
           "showlegend": true,
           "type": "scattergeo"
          },
          {
           "geo": "geo",
           "hovertemplate": "<b>%{hovertext}</b><br><br>Country=%{location}<br>year=2021<br>count=%{marker.size}<extra></extra>",
           "hovertext": [
            "Romania"
           ],
           "legendgroup": "Romania",
           "locationmode": "country names",
           "locations": [
            "Romania"
           ],
           "marker": {
            "color": "#B6E880",
            "size": [
             61
            ],
            "sizemode": "area",
            "sizeref": 21.98,
            "symbol": "circle"
           },
           "mode": "markers",
           "name": "Romania",
           "showlegend": true,
           "type": "scattergeo"
          },
          {
           "geo": "geo",
           "hovertemplate": "<b>%{hovertext}</b><br><br>Country=%{location}<br>year=2021<br>count=%{marker.size}<extra></extra>",
           "hovertext": [
            "Belarus"
           ],
           "legendgroup": "Belarus",
           "locationmode": "country names",
           "locations": [
            "Belarus"
           ],
           "marker": {
            "color": "#FF97FF",
            "size": [
             51
            ],
            "sizemode": "area",
            "sizeref": 21.98,
            "symbol": "circle"
           },
           "mode": "markers",
           "name": "Belarus",
           "showlegend": true,
           "type": "scattergeo"
          },
          {
           "geo": "geo",
           "hovertemplate": "<b>%{hovertext}</b><br><br>Country=%{location}<br>year=2021<br>count=%{marker.size}<extra></extra>",
           "hovertext": [
            "Norway"
           ],
           "legendgroup": "Norway",
           "locationmode": "country names",
           "locations": [
            "Norway"
           ],
           "marker": {
            "color": "#FECB52",
            "size": [
             45
            ],
            "sizemode": "area",
            "sizeref": 21.98,
            "symbol": "circle"
           },
           "mode": "markers",
           "name": "Norway",
           "showlegend": true,
           "type": "scattergeo"
          },
          {
           "geo": "geo",
           "hovertemplate": "<b>%{hovertext}</b><br><br>Country=%{location}<br>year=2021<br>count=%{marker.size}<extra></extra>",
           "hovertext": [
            "Czech Republic"
           ],
           "legendgroup": "Czech Republic",
           "locationmode": "country names",
           "locations": [
            "Czech Republic"
           ],
           "marker": {
            "color": "#636efa",
            "size": [
             63
            ],
            "sizemode": "area",
            "sizeref": 21.98,
            "symbol": "circle"
           },
           "mode": "markers",
           "name": "Czech Republic",
           "showlegend": true,
           "type": "scattergeo"
          },
          {
           "geo": "geo",
           "hovertemplate": "<b>%{hovertext}</b><br><br>Country=%{location}<br>year=2021<br>count=%{marker.size}<extra></extra>",
           "hovertext": [
            "Chile"
           ],
           "legendgroup": "Chile",
           "locationmode": "country names",
           "locations": [
            "Chile"
           ],
           "marker": {
            "color": "#EF553B",
            "size": [
             102
            ],
            "sizemode": "area",
            "sizeref": 21.98,
            "symbol": "circle"
           },
           "mode": "markers",
           "name": "Chile",
           "showlegend": true,
           "type": "scattergeo"
          },
          {
           "geo": "geo",
           "hovertemplate": "<b>%{hovertext}</b><br><br>Country=%{location}<br>year=2021<br>count=%{marker.size}<extra></extra>",
           "hovertext": [
            "United States of America"
           ],
           "legendgroup": "United States of America",
           "locationmode": "country names",
           "locations": [
            "United States of America"
           ],
           "marker": {
            "color": "#00cc96",
            "size": [
             2650
            ],
            "sizemode": "area",
            "sizeref": 21.98,
            "symbol": "circle"
           },
           "mode": "markers",
           "name": "United States of America",
           "showlegend": true,
           "type": "scattergeo"
          },
          {
           "geo": "geo",
           "hovertemplate": "<b>%{hovertext}</b><br><br>Country=%{location}<br>year=2021<br>count=%{marker.size}<extra></extra>",
           "hovertext": [
            "China"
           ],
           "legendgroup": "China",
           "locationmode": "country names",
           "locations": [
            "China"
           ],
           "marker": {
            "color": "#ab63fa",
            "size": [
             814
            ],
            "sizemode": "area",
            "sizeref": 21.98,
            "symbol": "circle"
           },
           "mode": "markers",
           "name": "China",
           "showlegend": true,
           "type": "scattergeo"
          },
          {
           "geo": "geo",
           "hovertemplate": "<b>%{hovertext}</b><br><br>Country=%{location}<br>year=2021<br>count=%{marker.size}<extra></extra>",
           "hovertext": [
            "United Kingdom of Great Britain and Northern Ireland"
           ],
           "legendgroup": "United Kingdom of Great Britain and Northern Ireland",
           "locationmode": "country names",
           "locations": [
            "United Kingdom of Great Britain and Northern Ireland"
           ],
           "marker": {
            "color": "#FFA15A",
            "size": [
             550
            ],
            "sizemode": "area",
            "sizeref": 21.98,
            "symbol": "circle"
           },
           "mode": "markers",
           "name": "United Kingdom of Great Britain and Northern Ireland",
           "showlegend": true,
           "type": "scattergeo"
          },
          {
           "geo": "geo",
           "hovertemplate": "<b>%{hovertext}</b><br><br>Country=%{location}<br>year=2021<br>count=%{marker.size}<extra></extra>",
           "hovertext": [
            "I do not wish to disclose my location"
           ],
           "legendgroup": "I do not wish to disclose my location",
           "locationmode": "country names",
           "locations": [
            "I do not wish to disclose my location"
           ],
           "marker": {
            "color": "#19d3f3",
            "size": [
             69
            ],
            "sizemode": "area",
            "sizeref": 21.98,
            "symbol": "circle"
           },
           "mode": "markers",
           "name": "I do not wish to disclose my location",
           "showlegend": true,
           "type": "scattergeo"
          },
          {
           "geo": "geo",
           "hovertemplate": "<b>%{hovertext}</b><br><br>Country=%{location}<br>year=2021<br>count=%{marker.size}<extra></extra>",
           "hovertext": [
            "Viet Nam"
           ],
           "legendgroup": "Viet Nam",
           "locationmode": "country names",
           "locations": [
            "Viet Nam"
           ],
           "marker": {
            "color": "#FF6692",
            "size": [
             277
            ],
            "sizemode": "area",
            "sizeref": 21.98,
            "symbol": "circle"
           },
           "mode": "markers",
           "name": "Viet Nam",
           "showlegend": true,
           "type": "scattergeo"
          },
          {
           "geo": "geo",
           "hovertemplate": "<b>%{hovertext}</b><br><br>Country=%{location}<br>year=2021<br>count=%{marker.size}<extra></extra>",
           "hovertext": [
            "Iran, Islamic Republic of..."
           ],
           "legendgroup": "Iran, Islamic Republic of...",
           "locationmode": "country names",
           "locations": [
            "Iran, Islamic Republic of..."
           ],
           "marker": {
            "color": "#B6E880",
            "size": [
             195
            ],
            "sizemode": "area",
            "sizeref": 21.98,
            "symbol": "circle"
           },
           "mode": "markers",
           "name": "Iran, Islamic Republic of...",
           "showlegend": true,
           "type": "scattergeo"
          },
          {
           "geo": "geo",
           "hovertemplate": "<b>%{hovertext}</b><br><br>Country=%{location}<br>year=2021<br>count=%{marker.size}<extra></extra>",
           "hovertext": [
            "Bangladesh"
           ],
           "legendgroup": "Bangladesh",
           "locationmode": "country names",
           "locations": [
            "Bangladesh"
           ],
           "marker": {
            "color": "#FF97FF",
            "size": [
             317
            ],
            "sizemode": "area",
            "sizeref": 21.98,
            "symbol": "circle"
           },
           "mode": "markers",
           "name": "Bangladesh",
           "showlegend": true,
           "type": "scattergeo"
          },
          {
           "geo": "geo",
           "hovertemplate": "<b>%{hovertext}</b><br><br>Country=%{location}<br>year=2021<br>count=%{marker.size}<extra></extra>",
           "hovertext": [
            "Peru"
           ],
           "legendgroup": "Peru",
           "locationmode": "country names",
           "locations": [
            "Peru"
           ],
           "marker": {
            "color": "#FECB52",
            "size": [
             117
            ],
            "sizemode": "area",
            "sizeref": 21.98,
            "symbol": "circle"
           },
           "mode": "markers",
           "name": "Peru",
           "showlegend": true,
           "type": "scattergeo"
          },
          {
           "geo": "geo",
           "hovertemplate": "<b>%{hovertext}</b><br><br>Country=%{location}<br>year=2021<br>count=%{marker.size}<extra></extra>",
           "hovertext": [
            "Hong Kong (S.A.R.)"
           ],
           "legendgroup": "Hong Kong (S.A.R.)",
           "locationmode": "country names",
           "locations": [
            "Hong Kong (S.A.R.)"
           ],
           "marker": {
            "color": "#636efa",
            "size": [
             79
            ],
            "sizemode": "area",
            "sizeref": 21.98,
            "symbol": "circle"
           },
           "mode": "markers",
           "name": "Hong Kong (S.A.R.)",
           "showlegend": true,
           "type": "scattergeo"
          },
          {
           "geo": "geo",
           "hovertemplate": "<b>%{hovertext}</b><br><br>Country=%{location}<br>year=2021<br>count=%{marker.size}<extra></extra>",
           "hovertext": [
            "Tunisia"
           ],
           "legendgroup": "Tunisia",
           "locationmode": "country names",
           "locations": [
            "Tunisia"
           ],
           "marker": {
            "color": "#EF553B",
            "size": [
             109
            ],
            "sizemode": "area",
            "sizeref": 21.98,
            "symbol": "circle"
           },
           "mode": "markers",
           "name": "Tunisia",
           "showlegend": true,
           "type": "scattergeo"
          },
          {
           "geo": "geo",
           "hovertemplate": "<b>%{hovertext}</b><br><br>Country=%{location}<br>year=2021<br>count=%{marker.size}<extra></extra>",
           "hovertext": [
            "Thailand"
           ],
           "legendgroup": "Thailand",
           "locationmode": "country names",
           "locations": [
            "Thailand"
           ],
           "marker": {
            "color": "#00cc96",
            "size": [
             123
            ],
            "sizemode": "area",
            "sizeref": 21.98,
            "symbol": "circle"
           },
           "mode": "markers",
           "name": "Thailand",
           "showlegend": true,
           "type": "scattergeo"
          },
          {
           "geo": "geo",
           "hovertemplate": "<b>%{hovertext}</b><br><br>Country=%{location}<br>year=2021<br>count=%{marker.size}<extra></extra>",
           "hovertext": [
            "Morocco"
           ],
           "legendgroup": "Morocco",
           "locationmode": "country names",
           "locations": [
            "Morocco"
           ],
           "marker": {
            "color": "#FFA15A",
            "size": [
             140
            ],
            "sizemode": "area",
            "sizeref": 21.98,
            "symbol": "circle"
           },
           "mode": "markers",
           "name": "Morocco",
           "showlegend": true,
           "type": "scattergeo"
          },
          {
           "geo": "geo",
           "hovertemplate": "<b>%{hovertext}</b><br><br>Country=%{location}<br>year=2021<br>count=%{marker.size}<extra></extra>",
           "hovertext": [
            "Austria"
           ],
           "legendgroup": "Austria",
           "locationmode": "country names",
           "locations": [
            "Austria"
           ],
           "marker": {
            "color": "#19d3f3",
            "size": [
             51
            ],
            "sizemode": "area",
            "sizeref": 21.98,
            "symbol": "circle"
           },
           "mode": "markers",
           "name": "Austria",
           "showlegend": true,
           "type": "scattergeo"
          },
          {
           "geo": "geo",
           "hovertemplate": "<b>%{hovertext}</b><br><br>Country=%{location}<br>year=2021<br>count=%{marker.size}<extra></extra>",
           "hovertext": [
            "In which country do you currently reside?"
           ],
           "legendgroup": "In which country do you currently reside?",
           "locationmode": "country names",
           "locations": [
            "In which country do you currently reside?"
           ],
           "marker": {
            "color": "#FF6692",
            "size": [
             1
            ],
            "sizemode": "area",
            "sizeref": 21.98,
            "symbol": "circle"
           },
           "mode": "markers",
           "name": "In which country do you currently reside?",
           "showlegend": true,
           "type": "scattergeo"
          },
          {
           "geo": "geo",
           "hovertemplate": "<b>%{hovertext}</b><br><br>Country=%{location}<br>year=2021<br>count=%{marker.size}<extra></extra>",
           "hovertext": [
            "Algeria"
           ],
           "legendgroup": "Algeria",
           "locationmode": "country names",
           "locations": [
            "Algeria"
           ],
           "marker": {
            "color": "#B6E880",
            "size": [
             44
            ],
            "sizemode": "area",
            "sizeref": 21.98,
            "symbol": "circle"
           },
           "mode": "markers",
           "name": "Algeria",
           "showlegend": true,
           "type": "scattergeo"
          },
          {
           "geo": "geo",
           "hovertemplate": "<b>%{hovertext}</b><br><br>Country=%{location}<br>year=2021<br>count=%{marker.size}<extra></extra>",
           "hovertext": [
            "Saudi Arabia"
           ],
           "legendgroup": "Saudi Arabia",
           "locationmode": "country names",
           "locations": [
            "Saudi Arabia"
           ],
           "marker": {
            "color": "#FF97FF",
            "size": [
             89
            ],
            "sizemode": "area",
            "sizeref": 21.98,
            "symbol": "circle"
           },
           "mode": "markers",
           "name": "Saudi Arabia",
           "showlegend": true,
           "type": "scattergeo"
          },
          {
           "geo": "geo",
           "hovertemplate": "<b>%{hovertext}</b><br><br>Country=%{location}<br>year=2021<br>count=%{marker.size}<extra></extra>",
           "hovertext": [
            "Sri Lanka"
           ],
           "legendgroup": "Sri Lanka",
           "locationmode": "country names",
           "locations": [
            "Sri Lanka"
           ],
           "marker": {
            "color": "#FECB52",
            "size": [
             106
            ],
            "sizemode": "area",
            "sizeref": 21.98,
            "symbol": "circle"
           },
           "mode": "markers",
           "name": "Sri Lanka",
           "showlegend": true,
           "type": "scattergeo"
          },
          {
           "geo": "geo",
           "hovertemplate": "<b>%{hovertext}</b><br><br>Country=%{location}<br>year=2021<br>count=%{marker.size}<extra></extra>",
           "hovertext": [
            "Nepal"
           ],
           "legendgroup": "Nepal",
           "locationmode": "country names",
           "locations": [
            "Nepal"
           ],
           "marker": {
            "color": "#636efa",
            "size": [
             75
            ],
            "sizemode": "area",
            "sizeref": 21.98,
            "symbol": "circle"
           },
           "mode": "markers",
           "name": "Nepal",
           "showlegend": true,
           "type": "scattergeo"
          },
          {
           "geo": "geo",
           "hovertemplate": "<b>%{hovertext}</b><br><br>Country=%{location}<br>year=2021<br>count=%{marker.size}<extra></extra>",
           "hovertext": [
            "United Arab Emirates"
           ],
           "legendgroup": "United Arab Emirates",
           "locationmode": "country names",
           "locations": [
            "United Arab Emirates"
           ],
           "marker": {
            "color": "#EF553B",
            "size": [
             111
            ],
            "sizemode": "area",
            "sizeref": 21.98,
            "symbol": "circle"
           },
           "mode": "markers",
           "name": "United Arab Emirates",
           "showlegend": true,
           "type": "scattergeo"
          },
          {
           "geo": "geo",
           "hovertemplate": "<b>%{hovertext}</b><br><br>Country=%{location}<br>year=2021<br>count=%{marker.size}<extra></extra>",
           "hovertext": [
            "Ghana"
           ],
           "legendgroup": "Ghana",
           "locationmode": "country names",
           "locations": [
            "Ghana"
           ],
           "marker": {
            "color": "#00cc96",
            "size": [
             99
            ],
            "sizemode": "area",
            "sizeref": 21.98,
            "symbol": "circle"
           },
           "mode": "markers",
           "name": "Ghana",
           "showlegend": true,
           "type": "scattergeo"
          },
          {
           "geo": "geo",
           "hovertemplate": "<b>%{hovertext}</b><br><br>Country=%{location}<br>year=2021<br>count=%{marker.size}<extra></extra>",
           "hovertext": [
            "Ecuador"
           ],
           "legendgroup": "Ecuador",
           "locationmode": "country names",
           "locations": [
            "Ecuador"
           ],
           "marker": {
            "color": "#ab63fa",
            "size": [
             50
            ],
            "sizemode": "area",
            "sizeref": 21.98,
            "symbol": "circle"
           },
           "mode": "markers",
           "name": "Ecuador",
           "showlegend": true,
           "type": "scattergeo"
          },
          {
           "geo": "geo",
           "hovertemplate": "<b>%{hovertext}</b><br><br>Country=%{location}<br>year=2021<br>count=%{marker.size}<extra></extra>",
           "hovertext": [
            "Uganda"
           ],
           "legendgroup": "Uganda",
           "locationmode": "country names",
           "locations": [
            "Uganda"
           ],
           "marker": {
            "color": "#FFA15A",
            "size": [
             47
            ],
            "sizemode": "area",
            "sizeref": 21.98,
            "symbol": "circle"
           },
           "mode": "markers",
           "name": "Uganda",
           "showlegend": true,
           "type": "scattergeo"
          },
          {
           "geo": "geo",
           "hovertemplate": "<b>%{hovertext}</b><br><br>Country=%{location}<br>year=2021<br>count=%{marker.size}<extra></extra>",
           "hovertext": [
            "Kazakhstan"
           ],
           "legendgroup": "Kazakhstan",
           "locationmode": "country names",
           "locations": [
            "Kazakhstan"
           ],
           "marker": {
            "color": "#19d3f3",
            "size": [
             45
            ],
            "sizemode": "area",
            "sizeref": 21.98,
            "symbol": "circle"
           },
           "mode": "markers",
           "name": "Kazakhstan",
           "showlegend": true,
           "type": "scattergeo"
          },
          {
           "geo": "geo",
           "hovertemplate": "<b>%{hovertext}</b><br><br>Country=%{location}<br>year=2021<br>count=%{marker.size}<extra></extra>",
           "hovertext": [
            "Ethiopia"
           ],
           "legendgroup": "Ethiopia",
           "locationmode": "country names",
           "locations": [
            "Ethiopia"
           ],
           "marker": {
            "color": "#FF6692",
            "size": [
             43
            ],
            "sizemode": "area",
            "sizeref": 21.98,
            "symbol": "circle"
           },
           "mode": "markers",
           "name": "Ethiopia",
           "showlegend": true,
           "type": "scattergeo"
          },
          {
           "geo": "geo",
           "hovertemplate": "<b>%{hovertext}</b><br><br>Country=%{location}<br>year=2021<br>count=%{marker.size}<extra></extra>",
           "hovertext": [
            "Iraq"
           ],
           "legendgroup": "Iraq",
           "locationmode": "country names",
           "locations": [
            "Iraq"
           ],
           "marker": {
            "color": "#B6E880",
            "size": [
             43
            ],
            "sizemode": "area",
            "sizeref": 21.98,
            "symbol": "circle"
           },
           "mode": "markers",
           "name": "Iraq",
           "showlegend": true,
           "type": "scattergeo"
          }
         ],
         "name": "2021"
        },
        {
         "data": [
          {
           "geo": "geo",
           "hovertemplate": "<b>%{hovertext}</b><br><br>Country=%{location}<br>year=2022<br>count=%{marker.size}<extra></extra>",
           "hovertext": [
            "India"
           ],
           "legendgroup": "India",
           "locationmode": "country names",
           "locations": [
            "India"
           ],
           "marker": {
            "color": "#EF553B",
            "size": [
             8792
            ],
            "sizemode": "area",
            "sizeref": 21.98,
            "symbol": "circle"
           },
           "mode": "markers",
           "name": "India",
           "showlegend": true,
           "type": "scattergeo"
          },
          {
           "geo": "geo",
           "hovertemplate": "<b>%{hovertext}</b><br><br>Country=%{location}<br>year=2022<br>count=%{marker.size}<extra></extra>",
           "hovertext": [
            "Other"
           ],
           "legendgroup": "Other",
           "locationmode": "country names",
           "locations": [
            "Other"
           ],
           "marker": {
            "color": "#00cc96",
            "size": [
             1430
            ],
            "sizemode": "area",
            "sizeref": 21.98,
            "symbol": "circle"
           },
           "mode": "markers",
           "name": "Other",
           "showlegend": true,
           "type": "scattergeo"
          },
          {
           "geo": "geo",
           "hovertemplate": "<b>%{hovertext}</b><br><br>Country=%{location}<br>year=2022<br>count=%{marker.size}<extra></extra>",
           "hovertext": [
            "Russia"
           ],
           "legendgroup": "Russia",
           "locationmode": "country names",
           "locations": [
            "Russia"
           ],
           "marker": {
            "color": "#ab63fa",
            "size": [
             324
            ],
            "sizemode": "area",
            "sizeref": 21.98,
            "symbol": "circle"
           },
           "mode": "markers",
           "name": "Russia",
           "showlegend": true,
           "type": "scattergeo"
          },
          {
           "geo": "geo",
           "hovertemplate": "<b>%{hovertext}</b><br><br>Country=%{location}<br>year=2022<br>count=%{marker.size}<extra></extra>",
           "hovertext": [
            "Brazil"
           ],
           "legendgroup": "Brazil",
           "locationmode": "country names",
           "locations": [
            "Brazil"
           ],
           "marker": {
            "color": "#FF6692",
            "size": [
             833
            ],
            "sizemode": "area",
            "sizeref": 21.98,
            "symbol": "circle"
           },
           "mode": "markers",
           "name": "Brazil",
           "showlegend": true,
           "type": "scattergeo"
          },
          {
           "geo": "geo",
           "hovertemplate": "<b>%{hovertext}</b><br><br>Country=%{location}<br>year=2022<br>count=%{marker.size}<extra></extra>",
           "hovertext": [
            "Germany"
           ],
           "legendgroup": "Germany",
           "locationmode": "country names",
           "locations": [
            "Germany"
           ],
           "marker": {
            "color": "#B6E880",
            "size": [
             99
            ],
            "sizemode": "area",
            "sizeref": 21.98,
            "symbol": "circle"
           },
           "mode": "markers",
           "name": "Germany",
           "showlegend": true,
           "type": "scattergeo"
          },
          {
           "geo": "geo",
           "hovertemplate": "<b>%{hovertext}</b><br><br>Country=%{location}<br>year=2022<br>count=%{marker.size}<extra></extra>",
           "hovertext": [
            "France"
           ],
           "legendgroup": "France",
           "locationmode": "country names",
           "locations": [
            "France"
           ],
           "marker": {
            "color": "#FF97FF",
            "size": [
             262
            ],
            "sizemode": "area",
            "sizeref": 21.98,
            "symbol": "circle"
           },
           "mode": "markers",
           "name": "France",
           "showlegend": true,
           "type": "scattergeo"
          },
          {
           "geo": "geo",
           "hovertemplate": "<b>%{hovertext}</b><br><br>Country=%{location}<br>year=2022<br>count=%{marker.size}<extra></extra>",
           "hovertext": [
            "Canada"
           ],
           "legendgroup": "Canada",
           "locationmode": "country names",
           "locations": [
            "Canada"
           ],
           "marker": {
            "color": "#FECB52",
            "size": [
             257
            ],
            "sizemode": "area",
            "sizeref": 21.98,
            "symbol": "circle"
           },
           "mode": "markers",
           "name": "Canada",
           "showlegend": true,
           "type": "scattergeo"
          },
          {
           "geo": "geo",
           "hovertemplate": "<b>%{hovertext}</b><br><br>Country=%{location}<br>year=2022<br>count=%{marker.size}<extra></extra>",
           "hovertext": [
            "Australia"
           ],
           "legendgroup": "Australia",
           "locationmode": "country names",
           "locations": [
            "Australia"
           ],
           "marker": {
            "color": "#636efa",
            "size": [
             142
            ],
            "sizemode": "area",
            "sizeref": 21.98,
            "symbol": "circle"
           },
           "mode": "markers",
           "name": "Australia",
           "showlegend": true,
           "type": "scattergeo"
          },
          {
           "geo": "geo",
           "hovertemplate": "<b>%{hovertext}</b><br><br>Country=%{location}<br>year=2022<br>count=%{marker.size}<extra></extra>",
           "hovertext": [
            "Spain"
           ],
           "legendgroup": "Spain",
           "locationmode": "country names",
           "locations": [
            "Spain"
           ],
           "marker": {
            "color": "#EF553B",
            "size": [
             257
            ],
            "sizemode": "area",
            "sizeref": 21.98,
            "symbol": "circle"
           },
           "mode": "markers",
           "name": "Spain",
           "showlegend": true,
           "type": "scattergeo"
          },
          {
           "geo": "geo",
           "hovertemplate": "<b>%{hovertext}</b><br><br>Country=%{location}<br>year=2022<br>count=%{marker.size}<extra></extra>",
           "hovertext": [
            "Japan"
           ],
           "legendgroup": "Japan",
           "locationmode": "country names",
           "locations": [
            "Japan"
           ],
           "marker": {
            "color": "#00cc96",
            "size": [
             556
            ],
            "sizemode": "area",
            "sizeref": 21.98,
            "symbol": "circle"
           },
           "mode": "markers",
           "name": "Japan",
           "showlegend": true,
           "type": "scattergeo"
          },
          {
           "geo": "geo",
           "hovertemplate": "<b>%{hovertext}</b><br><br>Country=%{location}<br>year=2022<br>count=%{marker.size}<extra></extra>",
           "hovertext": [
            "Taiwan"
           ],
           "legendgroup": "Taiwan",
           "locationmode": "country names",
           "locations": [
            "Taiwan"
           ],
           "marker": {
            "color": "#ab63fa",
            "size": [
             242
            ],
            "sizemode": "area",
            "sizeref": 21.98,
            "symbol": "circle"
           },
           "mode": "markers",
           "name": "Taiwan",
           "showlegend": true,
           "type": "scattergeo"
          },
          {
           "geo": "geo",
           "hovertemplate": "<b>%{hovertext}</b><br><br>Country=%{location}<br>year=2022<br>count=%{marker.size}<extra></extra>",
           "hovertext": [
            "Italy"
           ],
           "legendgroup": "Italy",
           "locationmode": "country names",
           "locations": [
            "Italy"
           ],
           "marker": {
            "color": "#FFA15A",
            "size": [
             182
            ],
            "sizemode": "area",
            "sizeref": 21.98,
            "symbol": "circle"
           },
           "mode": "markers",
           "name": "Italy",
           "showlegend": true,
           "type": "scattergeo"
          },
          {
           "geo": "geo",
           "hovertemplate": "<b>%{hovertext}</b><br><br>Country=%{location}<br>year=2022<br>count=%{marker.size}<extra></extra>",
           "hovertext": [
            "Netherlands"
           ],
           "legendgroup": "Netherlands",
           "locationmode": "country names",
           "locations": [
            "Netherlands"
           ],
           "marker": {
            "color": "#19d3f3",
            "size": [
             108
            ],
            "sizemode": "area",
            "sizeref": 21.98,
            "symbol": "circle"
           },
           "mode": "markers",
           "name": "Netherlands",
           "showlegend": true,
           "type": "scattergeo"
          },
          {
           "geo": "geo",
           "hovertemplate": "<b>%{hovertext}</b><br><br>Country=%{location}<br>year=2022<br>count=%{marker.size}<extra></extra>",
           "hovertext": [
            "Ukraine"
           ],
           "legendgroup": "Ukraine",
           "locationmode": "country names",
           "locations": [
            "Ukraine"
           ],
           "marker": {
            "color": "#FF6692",
            "size": [
             79
            ],
            "sizemode": "area",
            "sizeref": 21.98,
            "symbol": "circle"
           },
           "mode": "markers",
           "name": "Ukraine",
           "showlegend": true,
           "type": "scattergeo"
          },
          {
           "geo": "geo",
           "hovertemplate": "<b>%{hovertext}</b><br><br>Country=%{location}<br>year=2022<br>count=%{marker.size}<extra></extra>",
           "hovertext": [
            "South Korea"
           ],
           "legendgroup": "South Korea",
           "locationmode": "country names",
           "locations": [
            "South Korea"
           ],
           "marker": {
            "color": "#B6E880",
            "size": [
             317
            ],
            "sizemode": "area",
            "sizeref": 21.98,
            "symbol": "circle"
           },
           "mode": "markers",
           "name": "South Korea",
           "showlegend": true,
           "type": "scattergeo"
          },
          {
           "geo": "geo",
           "hovertemplate": "<b>%{hovertext}</b><br><br>Country=%{location}<br>year=2022<br>count=%{marker.size}<extra></extra>",
           "hovertext": [
            "Poland"
           ],
           "legendgroup": "Poland",
           "locationmode": "country names",
           "locations": [
            "Poland"
           ],
           "marker": {
            "color": "#FF97FF",
            "size": [
             113
            ],
            "sizemode": "area",
            "sizeref": 21.98,
            "symbol": "circle"
           },
           "mode": "markers",
           "name": "Poland",
           "showlegend": true,
           "type": "scattergeo"
          },
          {
           "geo": "geo",
           "hovertemplate": "<b>%{hovertext}</b><br><br>Country=%{location}<br>year=2022<br>count=%{marker.size}<extra></extra>",
           "hovertext": [
            "Singapore"
           ],
           "legendgroup": "Singapore",
           "locationmode": "country names",
           "locations": [
            "Singapore"
           ],
           "marker": {
            "color": "#FECB52",
            "size": [
             68
            ],
            "sizemode": "area",
            "sizeref": 21.98,
            "symbol": "circle"
           },
           "mode": "markers",
           "name": "Singapore",
           "showlegend": true,
           "type": "scattergeo"
          },
          {
           "geo": "geo",
           "hovertemplate": "<b>%{hovertext}</b><br><br>Country=%{location}<br>year=2022<br>count=%{marker.size}<extra></extra>",
           "hovertext": [
            "Pakistan"
           ],
           "legendgroup": "Pakistan",
           "locationmode": "country names",
           "locations": [
            "Pakistan"
           ],
           "marker": {
            "color": "#636efa",
            "size": [
             620
            ],
            "sizemode": "area",
            "sizeref": 21.98,
            "symbol": "circle"
           },
           "mode": "markers",
           "name": "Pakistan",
           "showlegend": true,
           "type": "scattergeo"
          },
          {
           "geo": "geo",
           "hovertemplate": "<b>%{hovertext}</b><br><br>Country=%{location}<br>year=2022<br>count=%{marker.size}<extra></extra>",
           "hovertext": [
            "Turkey"
           ],
           "legendgroup": "Turkey",
           "locationmode": "country names",
           "locations": [
            "Turkey"
           ],
           "marker": {
            "color": "#EF553B",
            "size": [
             345
            ],
            "sizemode": "area",
            "sizeref": 21.98,
            "symbol": "circle"
           },
           "mode": "markers",
           "name": "Turkey",
           "showlegend": true,
           "type": "scattergeo"
          },
          {
           "geo": "geo",
           "hovertemplate": "<b>%{hovertext}</b><br><br>Country=%{location}<br>year=2022<br>count=%{marker.size}<extra></extra>",
           "hovertext": [
            "Indonesia"
           ],
           "legendgroup": "Indonesia",
           "locationmode": "country names",
           "locations": [
            "Indonesia"
           ],
           "marker": {
            "color": "#00cc96",
            "size": [
             376
            ],
            "sizemode": "area",
            "sizeref": 21.98,
            "symbol": "circle"
           },
           "mode": "markers",
           "name": "Indonesia",
           "showlegend": true,
           "type": "scattergeo"
          },
          {
           "geo": "geo",
           "hovertemplate": "<b>%{hovertext}</b><br><br>Country=%{location}<br>year=2022<br>count=%{marker.size}<extra></extra>",
           "hovertext": [
            "South Africa"
           ],
           "legendgroup": "South Africa",
           "locationmode": "country names",
           "locations": [
            "South Africa"
           ],
           "marker": {
            "color": "#FFA15A",
            "size": [
             109
            ],
            "sizemode": "area",
            "sizeref": 21.98,
            "symbol": "circle"
           },
           "mode": "markers",
           "name": "South Africa",
           "showlegend": true,
           "type": "scattergeo"
          },
          {
           "geo": "geo",
           "hovertemplate": "<b>%{hovertext}</b><br><br>Country=%{location}<br>year=2022<br>count=%{marker.size}<extra></extra>",
           "hovertext": [
            "Mexico"
           ],
           "legendgroup": "Mexico",
           "locationmode": "country names",
           "locations": [
            "Mexico"
           ],
           "marker": {
            "color": "#19d3f3",
            "size": [
             380
            ],
            "sizemode": "area",
            "sizeref": 21.98,
            "symbol": "circle"
           },
           "mode": "markers",
           "name": "Mexico",
           "showlegend": true,
           "type": "scattergeo"
          },
          {
           "geo": "geo",
           "hovertemplate": "<b>%{hovertext}</b><br><br>Country=%{location}<br>year=2022<br>count=%{marker.size}<extra></extra>",
           "hovertext": [
            "Colombia"
           ],
           "legendgroup": "Colombia",
           "locationmode": "country names",
           "locations": [
            "Colombia"
           ],
           "marker": {
            "color": "#FF6692",
            "size": [
             256
            ],
            "sizemode": "area",
            "sizeref": 21.98,
            "symbol": "circle"
           },
           "mode": "markers",
           "name": "Colombia",
           "showlegend": true,
           "type": "scattergeo"
          },
          {
           "geo": "geo",
           "hovertemplate": "<b>%{hovertext}</b><br><br>Country=%{location}<br>year=2022<br>count=%{marker.size}<extra></extra>",
           "hovertext": [
            "Israel"
           ],
           "legendgroup": "Israel",
           "locationmode": "country names",
           "locations": [
            "Israel"
           ],
           "marker": {
            "color": "#FF97FF",
            "size": [
             102
            ],
            "sizemode": "area",
            "sizeref": 21.98,
            "symbol": "circle"
           },
           "mode": "markers",
           "name": "Israel",
           "showlegend": true,
           "type": "scattergeo"
          },
          {
           "geo": "geo",
           "hovertemplate": "<b>%{hovertext}</b><br><br>Country=%{location}<br>year=2022<br>count=%{marker.size}<extra></extra>",
           "hovertext": [
            "Ireland"
           ],
           "legendgroup": "Ireland",
           "locationmode": "country names",
           "locations": [
            "Ireland"
           ],
           "marker": {
            "color": "#FECB52",
            "size": [
             53
            ],
            "sizemode": "area",
            "sizeref": 21.98,
            "symbol": "circle"
           },
           "mode": "markers",
           "name": "Ireland",
           "showlegend": true,
           "type": "scattergeo"
          },
          {
           "geo": "geo",
           "hovertemplate": "<b>%{hovertext}</b><br><br>Country=%{location}<br>year=2022<br>count=%{marker.size}<extra></extra>",
           "hovertext": [
            "Portugal"
           ],
           "legendgroup": "Portugal",
           "locationmode": "country names",
           "locations": [
            "Portugal"
           ],
           "marker": {
            "color": "#636efa",
            "size": [
             87
            ],
            "sizemode": "area",
            "sizeref": 21.98,
            "symbol": "circle"
           },
           "mode": "markers",
           "name": "Portugal",
           "showlegend": true,
           "type": "scattergeo"
          },
          {
           "geo": "geo",
           "hovertemplate": "<b>%{hovertext}</b><br><br>Country=%{location}<br>year=2022<br>count=%{marker.size}<extra></extra>",
           "hovertext": [
            "Argentina"
           ],
           "legendgroup": "Argentina",
           "locationmode": "country names",
           "locations": [
            "Argentina"
           ],
           "marker": {
            "color": "#EF553B",
            "size": [
             204
            ],
            "sizemode": "area",
            "sizeref": 21.98,
            "symbol": "circle"
           },
           "mode": "markers",
           "name": "Argentina",
           "showlegend": true,
           "type": "scattergeo"
          },
          {
           "geo": "geo",
           "hovertemplate": "<b>%{hovertext}</b><br><br>Country=%{location}<br>year=2022<br>count=%{marker.size}<extra></extra>",
           "hovertext": [
            "Belgium"
           ],
           "legendgroup": "Belgium",
           "locationmode": "country names",
           "locations": [
            "Belgium"
           ],
           "marker": {
            "color": "#00cc96",
            "size": [
             51
            ],
            "sizemode": "area",
            "sizeref": 21.98,
            "symbol": "circle"
           },
           "mode": "markers",
           "name": "Belgium",
           "showlegend": true,
           "type": "scattergeo"
          },
          {
           "geo": "geo",
           "hovertemplate": "<b>%{hovertext}</b><br><br>Country=%{location}<br>year=2022<br>count=%{marker.size}<extra></extra>",
           "hovertext": [
            "Philippines"
           ],
           "legendgroup": "Philippines",
           "locationmode": "country names",
           "locations": [
            "Philippines"
           ],
           "marker": {
            "color": "#FFA15A",
            "size": [
             108
            ],
            "sizemode": "area",
            "sizeref": 21.98,
            "symbol": "circle"
           },
           "mode": "markers",
           "name": "Philippines",
           "showlegend": true,
           "type": "scattergeo"
          },
          {
           "geo": "geo",
           "hovertemplate": "<b>%{hovertext}</b><br><br>Country=%{location}<br>year=2022<br>count=%{marker.size}<extra></extra>",
           "hovertext": [
            "Malaysia"
           ],
           "legendgroup": "Malaysia",
           "locationmode": "country names",
           "locations": [
            "Malaysia"
           ],
           "marker": {
            "color": "#FF6692",
            "size": [
             74
            ],
            "sizemode": "area",
            "sizeref": 21.98,
            "symbol": "circle"
           },
           "mode": "markers",
           "name": "Malaysia",
           "showlegend": true,
           "type": "scattergeo"
          },
          {
           "geo": "geo",
           "hovertemplate": "<b>%{hovertext}</b><br><br>Country=%{location}<br>year=2022<br>count=%{marker.size}<extra></extra>",
           "hovertext": [
            "Nigeria"
           ],
           "legendgroup": "Nigeria",
           "locationmode": "country names",
           "locations": [
            "Nigeria"
           ],
           "marker": {
            "color": "#FECB52",
            "size": [
             731
            ],
            "sizemode": "area",
            "sizeref": 21.98,
            "symbol": "circle"
           },
           "mode": "markers",
           "name": "Nigeria",
           "showlegend": true,
           "type": "scattergeo"
          },
          {
           "geo": "geo",
           "hovertemplate": "<b>%{hovertext}</b><br><br>Country=%{location}<br>year=2022<br>count=%{marker.size}<extra></extra>",
           "hovertext": [
            "Egypt"
           ],
           "legendgroup": "Egypt",
           "locationmode": "country names",
           "locations": [
            "Egypt"
           ],
           "marker": {
            "color": "#FFA15A",
            "size": [
             383
            ],
            "sizemode": "area",
            "sizeref": 21.98,
            "symbol": "circle"
           },
           "mode": "markers",
           "name": "Egypt",
           "showlegend": true,
           "type": "scattergeo"
          },
          {
           "geo": "geo",
           "hovertemplate": "<b>%{hovertext}</b><br><br>Country=%{location}<br>year=2022<br>count=%{marker.size}<extra></extra>",
           "hovertext": [
            "Kenya"
           ],
           "legendgroup": "Kenya",
           "locationmode": "country names",
           "locations": [
            "Kenya"
           ],
           "marker": {
            "color": "#FF6692",
            "size": [
             201
            ],
            "sizemode": "area",
            "sizeref": 21.98,
            "symbol": "circle"
           },
           "mode": "markers",
           "name": "Kenya",
           "showlegend": true,
           "type": "scattergeo"
          },
          {
           "geo": "geo",
           "hovertemplate": "<b>%{hovertext}</b><br><br>Country=%{location}<br>year=2022<br>count=%{marker.size}<extra></extra>",
           "hovertext": [
            "Romania"
           ],
           "legendgroup": "Romania",
           "locationmode": "country names",
           "locations": [
            "Romania"
           ],
           "marker": {
            "color": "#B6E880",
            "size": [
             50
            ],
            "sizemode": "area",
            "sizeref": 21.98,
            "symbol": "circle"
           },
           "mode": "markers",
           "name": "Romania",
           "showlegend": true,
           "type": "scattergeo"
          },
          {
           "geo": "geo",
           "hovertemplate": "<b>%{hovertext}</b><br><br>Country=%{location}<br>year=2022<br>count=%{marker.size}<extra></extra>",
           "hovertext": [
            "Czech Republic"
           ],
           "legendgroup": "Czech Republic",
           "locationmode": "country names",
           "locations": [
            "Czech Republic"
           ],
           "marker": {
            "color": "#636efa",
            "size": [
             49
            ],
            "sizemode": "area",
            "sizeref": 21.98,
            "symbol": "circle"
           },
           "mode": "markers",
           "name": "Czech Republic",
           "showlegend": true,
           "type": "scattergeo"
          },
          {
           "geo": "geo",
           "hovertemplate": "<b>%{hovertext}</b><br><br>Country=%{location}<br>year=2022<br>count=%{marker.size}<extra></extra>",
           "hovertext": [
            "Chile"
           ],
           "legendgroup": "Chile",
           "locationmode": "country names",
           "locations": [
            "Chile"
           ],
           "marker": {
            "color": "#EF553B",
            "size": [
             115
            ],
            "sizemode": "area",
            "sizeref": 21.98,
            "symbol": "circle"
           },
           "mode": "markers",
           "name": "Chile",
           "showlegend": true,
           "type": "scattergeo"
          },
          {
           "geo": "geo",
           "hovertemplate": "<b>%{hovertext}</b><br><br>Country=%{location}<br>year=2022<br>count=%{marker.size}<extra></extra>",
           "hovertext": [
            "United States of America"
           ],
           "legendgroup": "United States of America",
           "locationmode": "country names",
           "locations": [
            "United States of America"
           ],
           "marker": {
            "color": "#00cc96",
            "size": [
             2920
            ],
            "sizemode": "area",
            "sizeref": 21.98,
            "symbol": "circle"
           },
           "mode": "markers",
           "name": "United States of America",
           "showlegend": true,
           "type": "scattergeo"
          },
          {
           "geo": "geo",
           "hovertemplate": "<b>%{hovertext}</b><br><br>Country=%{location}<br>year=2022<br>count=%{marker.size}<extra></extra>",
           "hovertext": [
            "China"
           ],
           "legendgroup": "China",
           "locationmode": "country names",
           "locations": [
            "China"
           ],
           "marker": {
            "color": "#ab63fa",
            "size": [
             453
            ],
            "sizemode": "area",
            "sizeref": 21.98,
            "symbol": "circle"
           },
           "mode": "markers",
           "name": "China",
           "showlegend": true,
           "type": "scattergeo"
          },
          {
           "geo": "geo",
           "hovertemplate": "<b>%{hovertext}</b><br><br>Country=%{location}<br>year=2022<br>count=%{marker.size}<extra></extra>",
           "hovertext": [
            "United Kingdom of Great Britain and Northern Ireland"
           ],
           "legendgroup": "United Kingdom of Great Britain and Northern Ireland",
           "locationmode": "country names",
           "locations": [
            "United Kingdom of Great Britain and Northern Ireland"
           ],
           "marker": {
            "color": "#FFA15A",
            "size": [
             258
            ],
            "sizemode": "area",
            "sizeref": 21.98,
            "symbol": "circle"
           },
           "mode": "markers",
           "name": "United Kingdom of Great Britain and Northern Ireland",
           "showlegend": true,
           "type": "scattergeo"
          },
          {
           "geo": "geo",
           "hovertemplate": "<b>%{hovertext}</b><br><br>Country=%{location}<br>year=2022<br>count=%{marker.size}<extra></extra>",
           "hovertext": [
            "I do not wish to disclose my location"
           ],
           "legendgroup": "I do not wish to disclose my location",
           "locationmode": "country names",
           "locations": [
            "I do not wish to disclose my location"
           ],
           "marker": {
            "color": "#19d3f3",
            "size": [
             42
            ],
            "sizemode": "area",
            "sizeref": 21.98,
            "symbol": "circle"
           },
           "mode": "markers",
           "name": "I do not wish to disclose my location",
           "showlegend": true,
           "type": "scattergeo"
          },
          {
           "geo": "geo",
           "hovertemplate": "<b>%{hovertext}</b><br><br>Country=%{location}<br>year=2022<br>count=%{marker.size}<extra></extra>",
           "hovertext": [
            "Viet Nam"
           ],
           "legendgroup": "Viet Nam",
           "locationmode": "country names",
           "locations": [
            "Viet Nam"
           ],
           "marker": {
            "color": "#FF6692",
            "size": [
             212
            ],
            "sizemode": "area",
            "sizeref": 21.98,
            "symbol": "circle"
           },
           "mode": "markers",
           "name": "Viet Nam",
           "showlegend": true,
           "type": "scattergeo"
          },
          {
           "geo": "geo",
           "hovertemplate": "<b>%{hovertext}</b><br><br>Country=%{location}<br>year=2022<br>count=%{marker.size}<extra></extra>",
           "hovertext": [
            "Iran, Islamic Republic of..."
           ],
           "legendgroup": "Iran, Islamic Republic of...",
           "locationmode": "country names",
           "locations": [
            "Iran, Islamic Republic of..."
           ],
           "marker": {
            "color": "#B6E880",
            "size": [
             120
            ],
            "sizemode": "area",
            "sizeref": 21.98,
            "symbol": "circle"
           },
           "mode": "markers",
           "name": "Iran, Islamic Republic of...",
           "showlegend": true,
           "type": "scattergeo"
          },
          {
           "geo": "geo",
           "hovertemplate": "<b>%{hovertext}</b><br><br>Country=%{location}<br>year=2022<br>count=%{marker.size}<extra></extra>",
           "hovertext": [
            "Bangladesh"
           ],
           "legendgroup": "Bangladesh",
           "locationmode": "country names",
           "locations": [
            "Bangladesh"
           ],
           "marker": {
            "color": "#FF97FF",
            "size": [
             251
            ],
            "sizemode": "area",
            "sizeref": 21.98,
            "symbol": "circle"
           },
           "mode": "markers",
           "name": "Bangladesh",
           "showlegend": true,
           "type": "scattergeo"
          },
          {
           "geo": "geo",
           "hovertemplate": "<b>%{hovertext}</b><br><br>Country=%{location}<br>year=2022<br>count=%{marker.size}<extra></extra>",
           "hovertext": [
            "Peru"
           ],
           "legendgroup": "Peru",
           "locationmode": "country names",
           "locations": [
            "Peru"
           ],
           "marker": {
            "color": "#FECB52",
            "size": [
             121
            ],
            "sizemode": "area",
            "sizeref": 21.98,
            "symbol": "circle"
           },
           "mode": "markers",
           "name": "Peru",
           "showlegend": true,
           "type": "scattergeo"
          },
          {
           "geo": "geo",
           "hovertemplate": "<b>%{hovertext}</b><br><br>Country=%{location}<br>year=2022<br>count=%{marker.size}<extra></extra>",
           "hovertext": [
            "Hong Kong (S.A.R.)"
           ],
           "legendgroup": "Hong Kong (S.A.R.)",
           "locationmode": "country names",
           "locations": [
            "Hong Kong (S.A.R.)"
           ],
           "marker": {
            "color": "#636efa",
            "size": [
             58
            ],
            "sizemode": "area",
            "sizeref": 21.98,
            "symbol": "circle"
           },
           "mode": "markers",
           "name": "Hong Kong (S.A.R.)",
           "showlegend": true,
           "type": "scattergeo"
          },
          {
           "geo": "geo",
           "hovertemplate": "<b>%{hovertext}</b><br><br>Country=%{location}<br>year=2022<br>count=%{marker.size}<extra></extra>",
           "hovertext": [
            "Tunisia"
           ],
           "legendgroup": "Tunisia",
           "locationmode": "country names",
           "locations": [
            "Tunisia"
           ],
           "marker": {
            "color": "#EF553B",
            "size": [
             125
            ],
            "sizemode": "area",
            "sizeref": 21.98,
            "symbol": "circle"
           },
           "mode": "markers",
           "name": "Tunisia",
           "showlegend": true,
           "type": "scattergeo"
          },
          {
           "geo": "geo",
           "hovertemplate": "<b>%{hovertext}</b><br><br>Country=%{location}<br>year=2022<br>count=%{marker.size}<extra></extra>",
           "hovertext": [
            "Thailand"
           ],
           "legendgroup": "Thailand",
           "locationmode": "country names",
           "locations": [
            "Thailand"
           ],
           "marker": {
            "color": "#00cc96",
            "size": [
             132
            ],
            "sizemode": "area",
            "sizeref": 21.98,
            "symbol": "circle"
           },
           "mode": "markers",
           "name": "Thailand",
           "showlegend": true,
           "type": "scattergeo"
          },
          {
           "geo": "geo",
           "hovertemplate": "<b>%{hovertext}</b><br><br>Country=%{location}<br>year=2022<br>count=%{marker.size}<extra></extra>",
           "hovertext": [
            "Morocco"
           ],
           "legendgroup": "Morocco",
           "locationmode": "country names",
           "locations": [
            "Morocco"
           ],
           "marker": {
            "color": "#FFA15A",
            "size": [
             177
            ],
            "sizemode": "area",
            "sizeref": 21.98,
            "symbol": "circle"
           },
           "mode": "markers",
           "name": "Morocco",
           "showlegend": true,
           "type": "scattergeo"
          },
          {
           "geo": "geo",
           "hovertemplate": "<b>%{hovertext}</b><br><br>Country=%{location}<br>year=2022<br>count=%{marker.size}<extra></extra>",
           "hovertext": [
            "In which country do you currently reside?"
           ],
           "legendgroup": "In which country do you currently reside?",
           "locationmode": "country names",
           "locations": [
            "In which country do you currently reside?"
           ],
           "marker": {
            "color": "#FF6692",
            "size": [
             1
            ],
            "sizemode": "area",
            "sizeref": 21.98,
            "symbol": "circle"
           },
           "mode": "markers",
           "name": "In which country do you currently reside?",
           "showlegend": true,
           "type": "scattergeo"
          },
          {
           "geo": "geo",
           "hovertemplate": "<b>%{hovertext}</b><br><br>Country=%{location}<br>year=2022<br>count=%{marker.size}<extra></extra>",
           "hovertext": [
            "Algeria"
           ],
           "legendgroup": "Algeria",
           "locationmode": "country names",
           "locations": [
            "Algeria"
           ],
           "marker": {
            "color": "#B6E880",
            "size": [
             62
            ],
            "sizemode": "area",
            "sizeref": 21.98,
            "symbol": "circle"
           },
           "mode": "markers",
           "name": "Algeria",
           "showlegend": true,
           "type": "scattergeo"
          },
          {
           "geo": "geo",
           "hovertemplate": "<b>%{hovertext}</b><br><br>Country=%{location}<br>year=2022<br>count=%{marker.size}<extra></extra>",
           "hovertext": [
            "Saudi Arabia"
           ],
           "legendgroup": "Saudi Arabia",
           "locationmode": "country names",
           "locations": [
            "Saudi Arabia"
           ],
           "marker": {
            "color": "#FF97FF",
            "size": [
             84
            ],
            "sizemode": "area",
            "sizeref": 21.98,
            "symbol": "circle"
           },
           "mode": "markers",
           "name": "Saudi Arabia",
           "showlegend": true,
           "type": "scattergeo"
          },
          {
           "geo": "geo",
           "hovertemplate": "<b>%{hovertext}</b><br><br>Country=%{location}<br>year=2022<br>count=%{marker.size}<extra></extra>",
           "hovertext": [
            "Sri Lanka"
           ],
           "legendgroup": "Sri Lanka",
           "locationmode": "country names",
           "locations": [
            "Sri Lanka"
           ],
           "marker": {
            "color": "#FECB52",
            "size": [
             77
            ],
            "sizemode": "area",
            "sizeref": 21.98,
            "symbol": "circle"
           },
           "mode": "markers",
           "name": "Sri Lanka",
           "showlegend": true,
           "type": "scattergeo"
          },
          {
           "geo": "geo",
           "hovertemplate": "<b>%{hovertext}</b><br><br>Country=%{location}<br>year=2022<br>count=%{marker.size}<extra></extra>",
           "hovertext": [
            "Nepal"
           ],
           "legendgroup": "Nepal",
           "locationmode": "country names",
           "locations": [
            "Nepal"
           ],
           "marker": {
            "color": "#636efa",
            "size": [
             75
            ],
            "sizemode": "area",
            "sizeref": 21.98,
            "symbol": "circle"
           },
           "mode": "markers",
           "name": "Nepal",
           "showlegend": true,
           "type": "scattergeo"
          },
          {
           "geo": "geo",
           "hovertemplate": "<b>%{hovertext}</b><br><br>Country=%{location}<br>year=2022<br>count=%{marker.size}<extra></extra>",
           "hovertext": [
            "United Arab Emirates"
           ],
           "legendgroup": "United Arab Emirates",
           "locationmode": "country names",
           "locations": [
            "United Arab Emirates"
           ],
           "marker": {
            "color": "#EF553B",
            "size": [
             94
            ],
            "sizemode": "area",
            "sizeref": 21.98,
            "symbol": "circle"
           },
           "mode": "markers",
           "name": "United Arab Emirates",
           "showlegend": true,
           "type": "scattergeo"
          },
          {
           "geo": "geo",
           "hovertemplate": "<b>%{hovertext}</b><br><br>Country=%{location}<br>year=2022<br>count=%{marker.size}<extra></extra>",
           "hovertext": [
            "Ghana"
           ],
           "legendgroup": "Ghana",
           "locationmode": "country names",
           "locations": [
            "Ghana"
           ],
           "marker": {
            "color": "#00cc96",
            "size": [
             107
            ],
            "sizemode": "area",
            "sizeref": 21.98,
            "symbol": "circle"
           },
           "mode": "markers",
           "name": "Ghana",
           "showlegend": true,
           "type": "scattergeo"
          },
          {
           "geo": "geo",
           "hovertemplate": "<b>%{hovertext}</b><br><br>Country=%{location}<br>year=2022<br>count=%{marker.size}<extra></extra>",
           "hovertext": [
            "Ecuador"
           ],
           "legendgroup": "Ecuador",
           "locationmode": "country names",
           "locations": [
            "Ecuador"
           ],
           "marker": {
            "color": "#ab63fa",
            "size": [
             54
            ],
            "sizemode": "area",
            "sizeref": 21.98,
            "symbol": "circle"
           },
           "mode": "markers",
           "name": "Ecuador",
           "showlegend": true,
           "type": "scattergeo"
          },
          {
           "geo": "geo",
           "hovertemplate": "<b>%{hovertext}</b><br><br>Country=%{location}<br>year=2022<br>count=%{marker.size}<extra></extra>",
           "hovertext": [
            "Ethiopia"
           ],
           "legendgroup": "Ethiopia",
           "locationmode": "country names",
           "locations": [
            "Ethiopia"
           ],
           "marker": {
            "color": "#FF6692",
            "size": [
             98
            ],
            "sizemode": "area",
            "sizeref": 21.98,
            "symbol": "circle"
           },
           "mode": "markers",
           "name": "Ethiopia",
           "showlegend": true,
           "type": "scattergeo"
          },
          {
           "geo": "geo",
           "hovertemplate": "<b>%{hovertext}</b><br><br>Country=%{location}<br>year=2022<br>count=%{marker.size}<extra></extra>",
           "hovertext": [
            "Cameroon"
           ],
           "legendgroup": "Cameroon",
           "locationmode": "country names",
           "locations": [
            "Cameroon"
           ],
           "marker": {
            "color": "#FF97FF",
            "size": [
             68
            ],
            "sizemode": "area",
            "sizeref": 21.98,
            "symbol": "circle"
           },
           "mode": "markers",
           "name": "Cameroon",
           "showlegend": true,
           "type": "scattergeo"
          },
          {
           "geo": "geo",
           "hovertemplate": "<b>%{hovertext}</b><br><br>Country=%{location}<br>year=2022<br>count=%{marker.size}<extra></extra>",
           "hovertext": [
            "Zimbabwe"
           ],
           "legendgroup": "Zimbabwe",
           "locationmode": "country names",
           "locations": [
            "Zimbabwe"
           ],
           "marker": {
            "color": "#FECB52",
            "size": [
             54
            ],
            "sizemode": "area",
            "sizeref": 21.98,
            "symbol": "circle"
           },
           "mode": "markers",
           "name": "Zimbabwe",
           "showlegend": true,
           "type": "scattergeo"
          }
         ],
         "name": "2022"
        }
       ],
       "layout": {
        "geo": {
         "center": {},
         "domain": {
          "x": [
           0,
           1
          ],
          "y": [
           0,
           1
          ]
         },
         "projection": {
          "type": "natural earth"
         }
        },
        "legend": {
         "itemsizing": "constant",
         "title": {
          "text": "Country"
         },
         "tracegroupgap": 0
        },
        "margin": {
         "t": 60
        },
        "sliders": [
         {
          "active": 0,
          "currentvalue": {
           "prefix": "year="
          },
          "len": 0.9,
          "pad": {
           "b": 10,
           "t": 60
          },
          "steps": [
           {
            "args": [
             [
              "2017"
             ],
             {
              "frame": {
               "duration": 0,
               "redraw": true
              },
              "fromcurrent": true,
              "mode": "immediate",
              "transition": {
               "duration": 0,
               "easing": "linear"
              }
             }
            ],
            "label": "2017",
            "method": "animate"
           },
           {
            "args": [
             [
              "2018"
             ],
             {
              "frame": {
               "duration": 0,
               "redraw": true
              },
              "fromcurrent": true,
              "mode": "immediate",
              "transition": {
               "duration": 0,
               "easing": "linear"
              }
             }
            ],
            "label": "2018",
            "method": "animate"
           },
           {
            "args": [
             [
              "2019"
             ],
             {
              "frame": {
               "duration": 0,
               "redraw": true
              },
              "fromcurrent": true,
              "mode": "immediate",
              "transition": {
               "duration": 0,
               "easing": "linear"
              }
             }
            ],
            "label": "2019",
            "method": "animate"
           },
           {
            "args": [
             [
              "2020"
             ],
             {
              "frame": {
               "duration": 0,
               "redraw": true
              },
              "fromcurrent": true,
              "mode": "immediate",
              "transition": {
               "duration": 0,
               "easing": "linear"
              }
             }
            ],
            "label": "2020",
            "method": "animate"
           },
           {
            "args": [
             [
              "2021"
             ],
             {
              "frame": {
               "duration": 0,
               "redraw": true
              },
              "fromcurrent": true,
              "mode": "immediate",
              "transition": {
               "duration": 0,
               "easing": "linear"
              }
             }
            ],
            "label": "2021",
            "method": "animate"
           },
           {
            "args": [
             [
              "2022"
             ],
             {
              "frame": {
               "duration": 0,
               "redraw": true
              },
              "fromcurrent": true,
              "mode": "immediate",
              "transition": {
               "duration": 0,
               "easing": "linear"
              }
             }
            ],
            "label": "2022",
            "method": "animate"
           }
          ],
          "x": 0.1,
          "xanchor": "left",
          "y": 0,
          "yanchor": "top"
         }
        ],
        "template": {
         "data": {
          "bar": [
           {
            "error_x": {
             "color": "#2a3f5f"
            },
            "error_y": {
             "color": "#2a3f5f"
            },
            "marker": {
             "line": {
              "color": "#E5ECF6",
              "width": 0.5
             },
             "pattern": {
              "fillmode": "overlay",
              "size": 10,
              "solidity": 0.2
             }
            },
            "type": "bar"
           }
          ],
          "barpolar": [
           {
            "marker": {
             "line": {
              "color": "#E5ECF6",
              "width": 0.5
             },
             "pattern": {
              "fillmode": "overlay",
              "size": 10,
              "solidity": 0.2
             }
            },
            "type": "barpolar"
           }
          ],
          "carpet": [
           {
            "aaxis": {
             "endlinecolor": "#2a3f5f",
             "gridcolor": "white",
             "linecolor": "white",
             "minorgridcolor": "white",
             "startlinecolor": "#2a3f5f"
            },
            "baxis": {
             "endlinecolor": "#2a3f5f",
             "gridcolor": "white",
             "linecolor": "white",
             "minorgridcolor": "white",
             "startlinecolor": "#2a3f5f"
            },
            "type": "carpet"
           }
          ],
          "choropleth": [
           {
            "colorbar": {
             "outlinewidth": 0,
             "ticks": ""
            },
            "type": "choropleth"
           }
          ],
          "contour": [
           {
            "colorbar": {
             "outlinewidth": 0,
             "ticks": ""
            },
            "colorscale": [
             [
              0,
              "#0d0887"
             ],
             [
              0.1111111111111111,
              "#46039f"
             ],
             [
              0.2222222222222222,
              "#7201a8"
             ],
             [
              0.3333333333333333,
              "#9c179e"
             ],
             [
              0.4444444444444444,
              "#bd3786"
             ],
             [
              0.5555555555555556,
              "#d8576b"
             ],
             [
              0.6666666666666666,
              "#ed7953"
             ],
             [
              0.7777777777777778,
              "#fb9f3a"
             ],
             [
              0.8888888888888888,
              "#fdca26"
             ],
             [
              1,
              "#f0f921"
             ]
            ],
            "type": "contour"
           }
          ],
          "contourcarpet": [
           {
            "colorbar": {
             "outlinewidth": 0,
             "ticks": ""
            },
            "type": "contourcarpet"
           }
          ],
          "heatmap": [
           {
            "colorbar": {
             "outlinewidth": 0,
             "ticks": ""
            },
            "colorscale": [
             [
              0,
              "#0d0887"
             ],
             [
              0.1111111111111111,
              "#46039f"
             ],
             [
              0.2222222222222222,
              "#7201a8"
             ],
             [
              0.3333333333333333,
              "#9c179e"
             ],
             [
              0.4444444444444444,
              "#bd3786"
             ],
             [
              0.5555555555555556,
              "#d8576b"
             ],
             [
              0.6666666666666666,
              "#ed7953"
             ],
             [
              0.7777777777777778,
              "#fb9f3a"
             ],
             [
              0.8888888888888888,
              "#fdca26"
             ],
             [
              1,
              "#f0f921"
             ]
            ],
            "type": "heatmap"
           }
          ],
          "heatmapgl": [
           {
            "colorbar": {
             "outlinewidth": 0,
             "ticks": ""
            },
            "colorscale": [
             [
              0,
              "#0d0887"
             ],
             [
              0.1111111111111111,
              "#46039f"
             ],
             [
              0.2222222222222222,
              "#7201a8"
             ],
             [
              0.3333333333333333,
              "#9c179e"
             ],
             [
              0.4444444444444444,
              "#bd3786"
             ],
             [
              0.5555555555555556,
              "#d8576b"
             ],
             [
              0.6666666666666666,
              "#ed7953"
             ],
             [
              0.7777777777777778,
              "#fb9f3a"
             ],
             [
              0.8888888888888888,
              "#fdca26"
             ],
             [
              1,
              "#f0f921"
             ]
            ],
            "type": "heatmapgl"
           }
          ],
          "histogram": [
           {
            "marker": {
             "pattern": {
              "fillmode": "overlay",
              "size": 10,
              "solidity": 0.2
             }
            },
            "type": "histogram"
           }
          ],
          "histogram2d": [
           {
            "colorbar": {
             "outlinewidth": 0,
             "ticks": ""
            },
            "colorscale": [
             [
              0,
              "#0d0887"
             ],
             [
              0.1111111111111111,
              "#46039f"
             ],
             [
              0.2222222222222222,
              "#7201a8"
             ],
             [
              0.3333333333333333,
              "#9c179e"
             ],
             [
              0.4444444444444444,
              "#bd3786"
             ],
             [
              0.5555555555555556,
              "#d8576b"
             ],
             [
              0.6666666666666666,
              "#ed7953"
             ],
             [
              0.7777777777777778,
              "#fb9f3a"
             ],
             [
              0.8888888888888888,
              "#fdca26"
             ],
             [
              1,
              "#f0f921"
             ]
            ],
            "type": "histogram2d"
           }
          ],
          "histogram2dcontour": [
           {
            "colorbar": {
             "outlinewidth": 0,
             "ticks": ""
            },
            "colorscale": [
             [
              0,
              "#0d0887"
             ],
             [
              0.1111111111111111,
              "#46039f"
             ],
             [
              0.2222222222222222,
              "#7201a8"
             ],
             [
              0.3333333333333333,
              "#9c179e"
             ],
             [
              0.4444444444444444,
              "#bd3786"
             ],
             [
              0.5555555555555556,
              "#d8576b"
             ],
             [
              0.6666666666666666,
              "#ed7953"
             ],
             [
              0.7777777777777778,
              "#fb9f3a"
             ],
             [
              0.8888888888888888,
              "#fdca26"
             ],
             [
              1,
              "#f0f921"
             ]
            ],
            "type": "histogram2dcontour"
           }
          ],
          "mesh3d": [
           {
            "colorbar": {
             "outlinewidth": 0,
             "ticks": ""
            },
            "type": "mesh3d"
           }
          ],
          "parcoords": [
           {
            "line": {
             "colorbar": {
              "outlinewidth": 0,
              "ticks": ""
             }
            },
            "type": "parcoords"
           }
          ],
          "pie": [
           {
            "automargin": true,
            "type": "pie"
           }
          ],
          "scatter": [
           {
            "fillpattern": {
             "fillmode": "overlay",
             "size": 10,
             "solidity": 0.2
            },
            "type": "scatter"
           }
          ],
          "scatter3d": [
           {
            "line": {
             "colorbar": {
              "outlinewidth": 0,
              "ticks": ""
             }
            },
            "marker": {
             "colorbar": {
              "outlinewidth": 0,
              "ticks": ""
             }
            },
            "type": "scatter3d"
           }
          ],
          "scattercarpet": [
           {
            "marker": {
             "colorbar": {
              "outlinewidth": 0,
              "ticks": ""
             }
            },
            "type": "scattercarpet"
           }
          ],
          "scattergeo": [
           {
            "marker": {
             "colorbar": {
              "outlinewidth": 0,
              "ticks": ""
             }
            },
            "type": "scattergeo"
           }
          ],
          "scattergl": [
           {
            "marker": {
             "colorbar": {
              "outlinewidth": 0,
              "ticks": ""
             }
            },
            "type": "scattergl"
           }
          ],
          "scattermapbox": [
           {
            "marker": {
             "colorbar": {
              "outlinewidth": 0,
              "ticks": ""
             }
            },
            "type": "scattermapbox"
           }
          ],
          "scatterpolar": [
           {
            "marker": {
             "colorbar": {
              "outlinewidth": 0,
              "ticks": ""
             }
            },
            "type": "scatterpolar"
           }
          ],
          "scatterpolargl": [
           {
            "marker": {
             "colorbar": {
              "outlinewidth": 0,
              "ticks": ""
             }
            },
            "type": "scatterpolargl"
           }
          ],
          "scatterternary": [
           {
            "marker": {
             "colorbar": {
              "outlinewidth": 0,
              "ticks": ""
             }
            },
            "type": "scatterternary"
           }
          ],
          "surface": [
           {
            "colorbar": {
             "outlinewidth": 0,
             "ticks": ""
            },
            "colorscale": [
             [
              0,
              "#0d0887"
             ],
             [
              0.1111111111111111,
              "#46039f"
             ],
             [
              0.2222222222222222,
              "#7201a8"
             ],
             [
              0.3333333333333333,
              "#9c179e"
             ],
             [
              0.4444444444444444,
              "#bd3786"
             ],
             [
              0.5555555555555556,
              "#d8576b"
             ],
             [
              0.6666666666666666,
              "#ed7953"
             ],
             [
              0.7777777777777778,
              "#fb9f3a"
             ],
             [
              0.8888888888888888,
              "#fdca26"
             ],
             [
              1,
              "#f0f921"
             ]
            ],
            "type": "surface"
           }
          ],
          "table": [
           {
            "cells": {
             "fill": {
              "color": "#EBF0F8"
             },
             "line": {
              "color": "white"
             }
            },
            "header": {
             "fill": {
              "color": "#C8D4E3"
             },
             "line": {
              "color": "white"
             }
            },
            "type": "table"
           }
          ]
         },
         "layout": {
          "annotationdefaults": {
           "arrowcolor": "#2a3f5f",
           "arrowhead": 0,
           "arrowwidth": 1
          },
          "autotypenumbers": "strict",
          "coloraxis": {
           "colorbar": {
            "outlinewidth": 0,
            "ticks": ""
           }
          },
          "colorscale": {
           "diverging": [
            [
             0,
             "#8e0152"
            ],
            [
             0.1,
             "#c51b7d"
            ],
            [
             0.2,
             "#de77ae"
            ],
            [
             0.3,
             "#f1b6da"
            ],
            [
             0.4,
             "#fde0ef"
            ],
            [
             0.5,
             "#f7f7f7"
            ],
            [
             0.6,
             "#e6f5d0"
            ],
            [
             0.7,
             "#b8e186"
            ],
            [
             0.8,
             "#7fbc41"
            ],
            [
             0.9,
             "#4d9221"
            ],
            [
             1,
             "#276419"
            ]
           ],
           "sequential": [
            [
             0,
             "#0d0887"
            ],
            [
             0.1111111111111111,
             "#46039f"
            ],
            [
             0.2222222222222222,
             "#7201a8"
            ],
            [
             0.3333333333333333,
             "#9c179e"
            ],
            [
             0.4444444444444444,
             "#bd3786"
            ],
            [
             0.5555555555555556,
             "#d8576b"
            ],
            [
             0.6666666666666666,
             "#ed7953"
            ],
            [
             0.7777777777777778,
             "#fb9f3a"
            ],
            [
             0.8888888888888888,
             "#fdca26"
            ],
            [
             1,
             "#f0f921"
            ]
           ],
           "sequentialminus": [
            [
             0,
             "#0d0887"
            ],
            [
             0.1111111111111111,
             "#46039f"
            ],
            [
             0.2222222222222222,
             "#7201a8"
            ],
            [
             0.3333333333333333,
             "#9c179e"
            ],
            [
             0.4444444444444444,
             "#bd3786"
            ],
            [
             0.5555555555555556,
             "#d8576b"
            ],
            [
             0.6666666666666666,
             "#ed7953"
            ],
            [
             0.7777777777777778,
             "#fb9f3a"
            ],
            [
             0.8888888888888888,
             "#fdca26"
            ],
            [
             1,
             "#f0f921"
            ]
           ]
          },
          "colorway": [
           "#636efa",
           "#EF553B",
           "#00cc96",
           "#ab63fa",
           "#FFA15A",
           "#19d3f3",
           "#FF6692",
           "#B6E880",
           "#FF97FF",
           "#FECB52"
          ],
          "font": {
           "color": "#2a3f5f"
          },
          "geo": {
           "bgcolor": "white",
           "lakecolor": "white",
           "landcolor": "#E5ECF6",
           "showlakes": true,
           "showland": true,
           "subunitcolor": "white"
          },
          "hoverlabel": {
           "align": "left"
          },
          "hovermode": "closest",
          "mapbox": {
           "style": "light"
          },
          "paper_bgcolor": "white",
          "plot_bgcolor": "#E5ECF6",
          "polar": {
           "angularaxis": {
            "gridcolor": "white",
            "linecolor": "white",
            "ticks": ""
           },
           "bgcolor": "#E5ECF6",
           "radialaxis": {
            "gridcolor": "white",
            "linecolor": "white",
            "ticks": ""
           }
          },
          "scene": {
           "xaxis": {
            "backgroundcolor": "#E5ECF6",
            "gridcolor": "white",
            "gridwidth": 2,
            "linecolor": "white",
            "showbackground": true,
            "ticks": "",
            "zerolinecolor": "white"
           },
           "yaxis": {
            "backgroundcolor": "#E5ECF6",
            "gridcolor": "white",
            "gridwidth": 2,
            "linecolor": "white",
            "showbackground": true,
            "ticks": "",
            "zerolinecolor": "white"
           },
           "zaxis": {
            "backgroundcolor": "#E5ECF6",
            "gridcolor": "white",
            "gridwidth": 2,
            "linecolor": "white",
            "showbackground": true,
            "ticks": "",
            "zerolinecolor": "white"
           }
          },
          "shapedefaults": {
           "line": {
            "color": "#2a3f5f"
           }
          },
          "ternary": {
           "aaxis": {
            "gridcolor": "white",
            "linecolor": "white",
            "ticks": ""
           },
           "baxis": {
            "gridcolor": "white",
            "linecolor": "white",
            "ticks": ""
           },
           "bgcolor": "#E5ECF6",
           "caxis": {
            "gridcolor": "white",
            "linecolor": "white",
            "ticks": ""
           }
          },
          "title": {
           "x": 0.05
          },
          "xaxis": {
           "automargin": true,
           "gridcolor": "white",
           "linecolor": "white",
           "ticks": "",
           "title": {
            "standoff": 15
           },
           "zerolinecolor": "white",
           "zerolinewidth": 2
          },
          "yaxis": {
           "automargin": true,
           "gridcolor": "white",
           "linecolor": "white",
           "ticks": "",
           "title": {
            "standoff": 15
           },
           "zerolinecolor": "white",
           "zerolinewidth": 2
          }
         }
        },
        "updatemenus": [
         {
          "buttons": [
           {
            "args": [
             null,
             {
              "frame": {
               "duration": 500,
               "redraw": true
              },
              "fromcurrent": true,
              "mode": "immediate",
              "transition": {
               "duration": 500,
               "easing": "linear"
              }
             }
            ],
            "label": "&#9654;",
            "method": "animate"
           },
           {
            "args": [
             [
              null
             ],
             {
              "frame": {
               "duration": 0,
               "redraw": true
              },
              "fromcurrent": true,
              "mode": "immediate",
              "transition": {
               "duration": 0,
               "easing": "linear"
              }
             }
            ],
            "label": "&#9724;",
            "method": "animate"
           }
          ],
          "direction": "left",
          "pad": {
           "r": 10,
           "t": 70
          },
          "showactive": false,
          "type": "buttons",
          "x": 0.1,
          "xanchor": "right",
          "y": 0,
          "yanchor": "top"
         }
        ]
       }
      }
     },
     "metadata": {},
     "output_type": "display_data"
    }
   ],
   "source": [
    "fig = px.scatter_geo(country_All, locations=\"Country\", color=\"Country\",locationmode='country names',\n",
    "                     hover_name=\"Country\",\n",
    "                     animation_frame=\"year\",\n",
    "                     size='count',\n",
    "                     projection=\"natural earth\")\n",
    "fig.show()"
   ]
  },
  {
   "cell_type": "code",
   "execution_count": 32,
   "metadata": {},
   "outputs": [
    {
     "data": {
      "image/png": "[encoded data removed]",
      "text/plain": [
       "<Figure size 640x480 with 1 Axes>"
      ]
     },
     "metadata": {},
     "output_type": "display_data"
    },
    {
     "data": {
      "application/vnd.plotly.v1+json": {
       "config": {
        "plotlyServerURL": "https://plot.ly"
       },
       "data": [
        {
         "alignmentgroup": "True",
         "hovertemplate": "Gender=Man<br>Years=%{x}<br>Count=%{y}<extra></extra>",
         "legendgroup": "Man",
         "marker": {
          "color": "#636efa",
          "pattern": {
           "shape": ""
          }
         },
         "name": "Man",
         "offsetgroup": "Man",
         "orientation": "v",
         "showlegend": true,
         "textposition": "auto",
         "texttemplate": "%{y}",
         "type": "bar",
         "x": [
          "2017",
          "2018",
          "2019",
          "2020",
          "2021",
          "2022"
         ],
         "xaxis": "x",
         "y": [
          82,
          85,
          67,
          101,
          141,
          77
         ],
         "yaxis": "y"
        },
        {
         "alignmentgroup": "True",
         "hovertemplate": "Gender=Woman<br>Years=%{x}<br>Count=%{y}<extra></extra>",
         "legendgroup": "Woman",
         "marker": {
          "color": "#EF553B",
          "pattern": {
           "shape": ""
          }
         },
         "name": "Woman",
         "offsetgroup": "Woman",
         "orientation": "v",
         "showlegend": true,
         "textposition": "auto",
         "texttemplate": "%{y}",
         "type": "bar",
         "x": [
          "2017",
          "2018",
          "2019",
          "2020",
          "2021",
          "2022"
         ],
         "xaxis": "x",
         "y": [
          28,
          27,
          28,
          59,
          52,
          40
         ],
         "yaxis": "y"
        },
        {
         "alignmentgroup": "True",
         "hovertemplate": "Gender=Other<br>Years=%{x}<br>Count=%{y}<extra></extra>",
         "legendgroup": "Other",
         "marker": {
          "color": "#00cc96",
          "pattern": {
           "shape": ""
          }
         },
         "name": "Other",
         "offsetgroup": "Other",
         "orientation": "v",
         "showlegend": true,
         "textposition": "auto",
         "texttemplate": "%{y}",
         "type": "bar",
         "x": [
          "2017",
          "2018",
          "2019",
          "2020",
          "2021",
          "2022"
         ],
         "xaxis": "x",
         "y": [
          2,
          1,
          1,
          2,
          2,
          3
         ],
         "yaxis": "y"
        }
       ],
       "layout": {
        "barmode": "relative",
        "legend": {
         "title": {
          "text": "Gender"
         },
         "tracegroupgap": 0
        },
        "template": {
         "data": {
          "bar": [
           {
            "error_x": {
             "color": "#2a3f5f"
            },
            "error_y": {
             "color": "#2a3f5f"
            },
            "marker": {
             "line": {
              "color": "#E5ECF6",
              "width": 0.5
             },
             "pattern": {
              "fillmode": "overlay",
              "size": 10,
              "solidity": 0.2
             }
            },
            "type": "bar"
           }
          ],
          "barpolar": [
           {
            "marker": {
             "line": {
              "color": "#E5ECF6",
              "width": 0.5
             },
             "pattern": {
              "fillmode": "overlay",
              "size": 10,
              "solidity": 0.2
             }
            },
            "type": "barpolar"
           }
          ],
          "carpet": [
           {
            "aaxis": {
             "endlinecolor": "#2a3f5f",
             "gridcolor": "white",
             "linecolor": "white",
             "minorgridcolor": "white",
             "startlinecolor": "#2a3f5f"
            },
            "baxis": {
             "endlinecolor": "#2a3f5f",
             "gridcolor": "white",
             "linecolor": "white",
             "minorgridcolor": "white",
             "startlinecolor": "#2a3f5f"
            },
            "type": "carpet"
           }
          ],
          "choropleth": [
           {
            "colorbar": {
             "outlinewidth": 0,
             "ticks": ""
            },
            "type": "choropleth"
           }
          ],
          "contour": [
           {
            "colorbar": {
             "outlinewidth": 0,
             "ticks": ""
            },
            "colorscale": [
             [
              0,
              "#0d0887"
             ],
             [
              0.1111111111111111,
              "#46039f"
             ],
             [
              0.2222222222222222,
              "#7201a8"
             ],
             [
              0.3333333333333333,
              "#9c179e"
             ],
             [
              0.4444444444444444,
              "#bd3786"
             ],
             [
              0.5555555555555556,
              "#d8576b"
             ],
             [
              0.6666666666666666,
              "#ed7953"
             ],
             [
              0.7777777777777778,
              "#fb9f3a"
             ],
             [
              0.8888888888888888,
              "#fdca26"
             ],
             [
              1,
              "#f0f921"
             ]
            ],
            "type": "contour"
           }
          ],
          "contourcarpet": [
           {
            "colorbar": {
             "outlinewidth": 0,
             "ticks": ""
            },
            "type": "contourcarpet"
           }
          ],
          "heatmap": [
           {
            "colorbar": {
             "outlinewidth": 0,
             "ticks": ""
            },
            "colorscale": [
             [
              0,
              "#0d0887"
             ],
             [
              0.1111111111111111,
              "#46039f"
             ],
             [
              0.2222222222222222,
              "#7201a8"
             ],
             [
              0.3333333333333333,
              "#9c179e"
             ],
             [
              0.4444444444444444,
              "#bd3786"
             ],
             [
              0.5555555555555556,
              "#d8576b"
             ],
             [
              0.6666666666666666,
              "#ed7953"
             ],
             [
              0.7777777777777778,
              "#fb9f3a"
             ],
             [
              0.8888888888888888,
              "#fdca26"
             ],
             [
              1,
              "#f0f921"
             ]
            ],
            "type": "heatmap"
           }
          ],
          "heatmapgl": [
           {
            "colorbar": {
             "outlinewidth": 0,
             "ticks": ""
            },
            "colorscale": [
             [
              0,
              "#0d0887"
             ],
             [
              0.1111111111111111,
              "#46039f"
             ],
             [
              0.2222222222222222,
              "#7201a8"
             ],
             [
              0.3333333333333333,
              "#9c179e"
             ],
             [
              0.4444444444444444,
              "#bd3786"
             ],
             [
              0.5555555555555556,
              "#d8576b"
             ],
             [
              0.6666666666666666,
              "#ed7953"
             ],
             [
              0.7777777777777778,
              "#fb9f3a"
             ],
             [
              0.8888888888888888,
              "#fdca26"
             ],
             [
              1,
              "#f0f921"
             ]
            ],
            "type": "heatmapgl"
           }
          ],
          "histogram": [
           {
            "marker": {
             "pattern": {
              "fillmode": "overlay",
              "size": 10,
              "solidity": 0.2
             }
            },
            "type": "histogram"
           }
          ],
          "histogram2d": [
           {
            "colorbar": {
             "outlinewidth": 0,
             "ticks": ""
            },
            "colorscale": [
             [
              0,
              "#0d0887"
             ],
             [
              0.1111111111111111,
              "#46039f"
             ],
             [
              0.2222222222222222,
              "#7201a8"
             ],
             [
              0.3333333333333333,
              "#9c179e"
             ],
             [
              0.4444444444444444,
              "#bd3786"
             ],
             [
              0.5555555555555556,
              "#d8576b"
             ],
             [
              0.6666666666666666,
              "#ed7953"
             ],
             [
              0.7777777777777778,
              "#fb9f3a"
             ],
             [
              0.8888888888888888,
              "#fdca26"
             ],
             [
              1,
              "#f0f921"
             ]
            ],
            "type": "histogram2d"
           }
          ],
          "histogram2dcontour": [
           {
            "colorbar": {
             "outlinewidth": 0,
             "ticks": ""
            },
            "colorscale": [
             [
              0,
              "#0d0887"
             ],
             [
              0.1111111111111111,
              "#46039f"
             ],
             [
              0.2222222222222222,
              "#7201a8"
             ],
             [
              0.3333333333333333,
              "#9c179e"
             ],
             [
              0.4444444444444444,
              "#bd3786"
             ],
             [
              0.5555555555555556,
              "#d8576b"
             ],
             [
              0.6666666666666666,
              "#ed7953"
             ],
             [
              0.7777777777777778,
              "#fb9f3a"
             ],
             [
              0.8888888888888888,
              "#fdca26"
             ],
             [
              1,
              "#f0f921"
             ]
            ],
            "type": "histogram2dcontour"
           }
          ],
          "mesh3d": [
           {
            "colorbar": {
             "outlinewidth": 0,
             "ticks": ""
            },
            "type": "mesh3d"
           }
          ],
          "parcoords": [
           {
            "line": {
             "colorbar": {
              "outlinewidth": 0,
              "ticks": ""
             }
            },
            "type": "parcoords"
           }
          ],
          "pie": [
           {
            "automargin": true,
            "type": "pie"
           }
          ],
          "scatter": [
           {
            "fillpattern": {
             "fillmode": "overlay",
             "size": 10,
             "solidity": 0.2
            },
            "type": "scatter"
           }
          ],
          "scatter3d": [
           {
            "line": {
             "colorbar": {
              "outlinewidth": 0,
              "ticks": ""
             }
            },
            "marker": {
             "colorbar": {
              "outlinewidth": 0,
              "ticks": ""
             }
            },
            "type": "scatter3d"
           }
          ],
          "scattercarpet": [
           {
            "marker": {
             "colorbar": {
              "outlinewidth": 0,
              "ticks": ""
             }
            },
            "type": "scattercarpet"
           }
          ],
          "scattergeo": [
           {
            "marker": {
             "colorbar": {
              "outlinewidth": 0,
              "ticks": ""
             }
            },
            "type": "scattergeo"
           }
          ],
          "scattergl": [
           {
            "marker": {
             "colorbar": {
              "outlinewidth": 0,
              "ticks": ""
             }
            },
            "type": "scattergl"
           }
          ],
          "scattermapbox": [
           {
            "marker": {
             "colorbar": {
              "outlinewidth": 0,
              "ticks": ""
             }
            },
            "type": "scattermapbox"
           }
          ],
          "scatterpolar": [
           {
            "marker": {
             "colorbar": {
              "outlinewidth": 0,
              "ticks": ""
             }
            },
            "type": "scatterpolar"
           }
          ],
          "scatterpolargl": [
           {
            "marker": {
             "colorbar": {
              "outlinewidth": 0,
              "ticks": ""
             }
            },
            "type": "scatterpolargl"
           }
          ],
          "scatterternary": [
           {
            "marker": {
             "colorbar": {
              "outlinewidth": 0,
              "ticks": ""
             }
            },
            "type": "scatterternary"
           }
          ],
          "surface": [
           {
            "colorbar": {
             "outlinewidth": 0,
             "ticks": ""
            },
            "colorscale": [
             [
              0,
              "#0d0887"
             ],
             [
              0.1111111111111111,
              "#46039f"
             ],
             [
              0.2222222222222222,
              "#7201a8"
             ],
             [
              0.3333333333333333,
              "#9c179e"
             ],
             [
              0.4444444444444444,
              "#bd3786"
             ],
             [
              0.5555555555555556,
              "#d8576b"
             ],
             [
              0.6666666666666666,
              "#ed7953"
             ],
             [
              0.7777777777777778,
              "#fb9f3a"
             ],
             [
              0.8888888888888888,
              "#fdca26"
             ],
             [
              1,
              "#f0f921"
             ]
            ],
            "type": "surface"
           }
          ],
          "table": [
           {
            "cells": {
             "fill": {
              "color": "#EBF0F8"
             },
             "line": {
              "color": "white"
             }
            },
            "header": {
             "fill": {
              "color": "#C8D4E3"
             },
             "line": {
              "color": "white"
             }
            },
            "type": "table"
           }
          ]
         },
         "layout": {
          "annotationdefaults": {
           "arrowcolor": "#2a3f5f",
           "arrowhead": 0,
           "arrowwidth": 1
          },
          "autotypenumbers": "strict",
          "coloraxis": {
           "colorbar": {
            "outlinewidth": 0,
            "ticks": ""
           }
          },
          "colorscale": {
           "diverging": [
            [
             0,
             "#8e0152"
            ],
            [
             0.1,
             "#c51b7d"
            ],
            [
             0.2,
             "#de77ae"
            ],
            [
             0.3,
             "#f1b6da"
            ],
            [
             0.4,
             "#fde0ef"
            ],
            [
             0.5,
             "#f7f7f7"
            ],
            [
             0.6,
             "#e6f5d0"
            ],
            [
             0.7,
             "#b8e186"
            ],
            [
             0.8,
             "#7fbc41"
            ],
            [
             0.9,
             "#4d9221"
            ],
            [
             1,
             "#276419"
            ]
           ],
           "sequential": [
            [
             0,
             "#0d0887"
            ],
            [
             0.1111111111111111,
             "#46039f"
            ],
            [
             0.2222222222222222,
             "#7201a8"
            ],
            [
             0.3333333333333333,
             "#9c179e"
            ],
            [
             0.4444444444444444,
             "#bd3786"
            ],
            [
             0.5555555555555556,
             "#d8576b"
            ],
            [
             0.6666666666666666,
             "#ed7953"
            ],
            [
             0.7777777777777778,
             "#fb9f3a"
            ],
            [
             0.8888888888888888,
             "#fdca26"
            ],
            [
             1,
             "#f0f921"
            ]
           ],
           "sequentialminus": [
            [
             0,
             "#0d0887"
            ],
            [
             0.1111111111111111,
             "#46039f"
            ],
            [
             0.2222222222222222,
             "#7201a8"
            ],
            [
             0.3333333333333333,
             "#9c179e"
            ],
            [
             0.4444444444444444,
             "#bd3786"
            ],
            [
             0.5555555555555556,
             "#d8576b"
            ],
            [
             0.6666666666666666,
             "#ed7953"
            ],
            [
             0.7777777777777778,
             "#fb9f3a"
            ],
            [
             0.8888888888888888,
             "#fdca26"
            ],
            [
             1,
             "#f0f921"
            ]
           ]
          },
          "colorway": [
           "#636efa",
           "#EF553B",
           "#00cc96",
           "#ab63fa",
           "#FFA15A",
           "#19d3f3",
           "#FF6692",
           "#B6E880",
           "#FF97FF",
           "#FECB52"
          ],
          "font": {
           "color": "#2a3f5f"
          },
          "geo": {
           "bgcolor": "white",
           "lakecolor": "white",
           "landcolor": "#E5ECF6",
           "showlakes": true,
           "showland": true,
           "subunitcolor": "white"
          },
          "hoverlabel": {
           "align": "left"
          },
          "hovermode": "closest",
          "mapbox": {
           "style": "light"
          },
          "paper_bgcolor": "white",
          "plot_bgcolor": "#E5ECF6",
          "polar": {
           "angularaxis": {
            "gridcolor": "white",
            "linecolor": "white",
            "ticks": ""
           },
           "bgcolor": "#E5ECF6",
           "radialaxis": {
            "gridcolor": "white",
            "linecolor": "white",
            "ticks": ""
           }
          },
          "scene": {
           "xaxis": {
            "backgroundcolor": "#E5ECF6",
            "gridcolor": "white",
            "gridwidth": 2,
            "linecolor": "white",
            "showbackground": true,
            "ticks": "",
            "zerolinecolor": "white"
           },
           "yaxis": {
            "backgroundcolor": "#E5ECF6",
            "gridcolor": "white",
            "gridwidth": 2,
            "linecolor": "white",
            "showbackground": true,
            "ticks": "",
            "zerolinecolor": "white"
           },
           "zaxis": {
            "backgroundcolor": "#E5ECF6",
            "gridcolor": "white",
            "gridwidth": 2,
            "linecolor": "white",
            "showbackground": true,
            "ticks": "",
            "zerolinecolor": "white"
           }
          },
          "shapedefaults": {
           "line": {
            "color": "#2a3f5f"
           }
          },
          "ternary": {
           "aaxis": {
            "gridcolor": "white",
            "linecolor": "white",
            "ticks": ""
           },
           "baxis": {
            "gridcolor": "white",
            "linecolor": "white",
            "ticks": ""
           },
           "bgcolor": "#E5ECF6",
           "caxis": {
            "gridcolor": "white",
            "linecolor": "white",
            "ticks": ""
           }
          },
          "title": {
           "x": 0.05
          },
          "xaxis": {
           "automargin": true,
           "gridcolor": "white",
           "linecolor": "white",
           "ticks": "",
           "title": {
            "standoff": 15
           },
           "zerolinecolor": "white",
           "zerolinewidth": 2
          },
          "yaxis": {
           "automargin": true,
           "gridcolor": "white",
           "linecolor": "white",
           "ticks": "",
           "title": {
            "standoff": 15
           },
           "zerolinecolor": "white",
           "zerolinewidth": 2
          }
         }
        },
        "title": {
         "text": "Iranian Kaggle Users 2017-2022"
        },
        "xaxis": {
         "anchor": "y",
         "domain": [
          0,
          1
         ],
         "title": {
          "text": "Years"
         }
        },
        "yaxis": {
         "anchor": "x",
         "domain": [
          0,
          1
         ],
         "title": {
          "text": "Count"
         }
        }
       }
      }
     },
     "metadata": {},
     "output_type": "display_data"
    }
   ],
   "source": [
    "fig1 = px.bar(iran_Count.T,y=['Man', 'Woman', 'Other'],text_auto=True,\n",
    "       title=\"Iranian Kaggle Users 2017-2022\",\n",
    "       labels={\n",
    "           'value' : 'Count',\n",
    "           'index' : 'Years',\n",
    "           'variable' : 'Gender'\n",
    "       }\n",
    "       )\n",
    "fig2 = plt.plot(iran_Count1.index,iran_Count1['Total'],linestyle = 'dashed', marker='o')\n",
    "plt.title('Iranian Kaggle User 2017-2022')\n",
    "plt.xlabel('Count')\n",
    "plt.ylabel('Year')\n",
    "plt.show()\n",
    "fig1.show()"
   ]
  },
  {
   "cell_type": "code",
   "execution_count": 33,
   "metadata": {},
   "outputs": [
    {
     "data": {
      "application/vnd.plotly.v1+json": {
       "config": {
        "plotlyServerURL": "https://plot.ly"
       },
       "data": [
        {
         "domain": {
          "x": [
           0,
           1
          ],
          "y": [
           0,
           1
          ]
         },
         "hovertemplate": "label=%{label}<extra></extra>",
         "labels": [
          "18-21",
          "35-39",
          "30-34",
          "25-29",
          "35-39",
          "30-34",
          "35-39",
          "25-29",
          "22-24",
          "18-21",
          "25-29",
          "22-24",
          "22-24",
          "30-34",
          "35-39",
          "25-29",
          "18-21",
          "35-39",
          "40-44",
          "22-24",
          "30-34",
          "30-34",
          "25-29",
          "30-34",
          "30-34",
          "18-21",
          "25-29",
          "18-21",
          "40-44",
          "25-29",
          "25-29",
          "25-29",
          "22-24",
          "22-24",
          "40-44",
          "30-34",
          "30-34",
          "30-34",
          "30-34",
          "22-24",
          "22-24",
          "25-29",
          "25-29",
          "30-34",
          "25-29",
          "25-29",
          "22-24",
          "35-39",
          "40-44",
          "18-21",
          "35-39",
          "30-34",
          "25-29",
          "18-21",
          "30-34",
          "40-44",
          "40-44",
          "35-39",
          "25-29",
          "18-21",
          "22-24",
          "30-34",
          "25-29",
          "25-29",
          "45-49",
          "25-29",
          "30-34",
          "18-21",
          "30-34",
          "35-39",
          "25-29",
          "22-24",
          "18-21",
          "30-34",
          "50-54",
          "18-21",
          "35-39",
          "25-29",
          "30-34",
          "22-24",
          "25-29",
          "25-29",
          "30-34",
          "55-59",
          "40-44",
          "25-29",
          "22-24",
          "22-24",
          "35-39",
          "18-21",
          "40-44",
          "18-21",
          "22-24",
          "22-24",
          "30-34",
          "25-29",
          "25-29",
          "25-29",
          "18-21",
          "25-29",
          "18-21",
          "35-39",
          "35-39",
          "35-39",
          "45-49",
          "25-29",
          "30-34",
          "30-34",
          "30-34",
          "22-24",
          "22-24",
          "22-24",
          "22-24",
          "22-24",
          "22-24",
          "25-29",
          "30-34",
          "25-29",
          "22-24",
          "18-21"
         ],
         "legendgroup": "",
         "name": "",
         "showlegend": true,
         "type": "pie"
        }
       ],
       "layout": {
        "legend": {
         "tracegroupgap": 0
        },
        "template": {
         "data": {
          "bar": [
           {
            "error_x": {
             "color": "#2a3f5f"
            },
            "error_y": {
             "color": "#2a3f5f"
            },
            "marker": {
             "line": {
              "color": "#E5ECF6",
              "width": 0.5
             },
             "pattern": {
              "fillmode": "overlay",
              "size": 10,
              "solidity": 0.2
             }
            },
            "type": "bar"
           }
          ],
          "barpolar": [
           {
            "marker": {
             "line": {
              "color": "#E5ECF6",
              "width": 0.5
             },
             "pattern": {
              "fillmode": "overlay",
              "size": 10,
              "solidity": 0.2
             }
            },
            "type": "barpolar"
           }
          ],
          "carpet": [
           {
            "aaxis": {
             "endlinecolor": "#2a3f5f",
             "gridcolor": "white",
             "linecolor": "white",
             "minorgridcolor": "white",
             "startlinecolor": "#2a3f5f"
            },
            "baxis": {
             "endlinecolor": "#2a3f5f",
             "gridcolor": "white",
             "linecolor": "white",
             "minorgridcolor": "white",
             "startlinecolor": "#2a3f5f"
            },
            "type": "carpet"
           }
          ],
          "choropleth": [
           {
            "colorbar": {
             "outlinewidth": 0,
             "ticks": ""
            },
            "type": "choropleth"
           }
          ],
          "contour": [
           {
            "colorbar": {
             "outlinewidth": 0,
             "ticks": ""
            },
            "colorscale": [
             [
              0,
              "#0d0887"
             ],
             [
              0.1111111111111111,
              "#46039f"
             ],
             [
              0.2222222222222222,
              "#7201a8"
             ],
             [
              0.3333333333333333,
              "#9c179e"
             ],
             [
              0.4444444444444444,
              "#bd3786"
             ],
             [
              0.5555555555555556,
              "#d8576b"
             ],
             [
              0.6666666666666666,
              "#ed7953"
             ],
             [
              0.7777777777777778,
              "#fb9f3a"
             ],
             [
              0.8888888888888888,
              "#fdca26"
             ],
             [
              1,
              "#f0f921"
             ]
            ],
            "type": "contour"
           }
          ],
          "contourcarpet": [
           {
            "colorbar": {
             "outlinewidth": 0,
             "ticks": ""
            },
            "type": "contourcarpet"
           }
          ],
          "heatmap": [
           {
            "colorbar": {
             "outlinewidth": 0,
             "ticks": ""
            },
            "colorscale": [
             [
              0,
              "#0d0887"
             ],
             [
              0.1111111111111111,
              "#46039f"
             ],
             [
              0.2222222222222222,
              "#7201a8"
             ],
             [
              0.3333333333333333,
              "#9c179e"
             ],
             [
              0.4444444444444444,
              "#bd3786"
             ],
             [
              0.5555555555555556,
              "#d8576b"
             ],
             [
              0.6666666666666666,
              "#ed7953"
             ],
             [
              0.7777777777777778,
              "#fb9f3a"
             ],
             [
              0.8888888888888888,
              "#fdca26"
             ],
             [
              1,
              "#f0f921"
             ]
            ],
            "type": "heatmap"
           }
          ],
          "heatmapgl": [
           {
            "colorbar": {
             "outlinewidth": 0,
             "ticks": ""
            },
            "colorscale": [
             [
              0,
              "#0d0887"
             ],
             [
              0.1111111111111111,
              "#46039f"
             ],
             [
              0.2222222222222222,
              "#7201a8"
             ],
             [
              0.3333333333333333,
              "#9c179e"
             ],
             [
              0.4444444444444444,
              "#bd3786"
             ],
             [
              0.5555555555555556,
              "#d8576b"
             ],
             [
              0.6666666666666666,
              "#ed7953"
             ],
             [
              0.7777777777777778,
              "#fb9f3a"
             ],
             [
              0.8888888888888888,
              "#fdca26"
             ],
             [
              1,
              "#f0f921"
             ]
            ],
            "type": "heatmapgl"
           }
          ],
          "histogram": [
           {
            "marker": {
             "pattern": {
              "fillmode": "overlay",
              "size": 10,
              "solidity": 0.2
             }
            },
            "type": "histogram"
           }
          ],
          "histogram2d": [
           {
            "colorbar": {
             "outlinewidth": 0,
             "ticks": ""
            },
            "colorscale": [
             [
              0,
              "#0d0887"
             ],
             [
              0.1111111111111111,
              "#46039f"
             ],
             [
              0.2222222222222222,
              "#7201a8"
             ],
             [
              0.3333333333333333,
              "#9c179e"
             ],
             [
              0.4444444444444444,
              "#bd3786"
             ],
             [
              0.5555555555555556,
              "#d8576b"
             ],
             [
              0.6666666666666666,
              "#ed7953"
             ],
             [
              0.7777777777777778,
              "#fb9f3a"
             ],
             [
              0.8888888888888888,
              "#fdca26"
             ],
             [
              1,
              "#f0f921"
             ]
            ],
            "type": "histogram2d"
           }
          ],
          "histogram2dcontour": [
           {
            "colorbar": {
             "outlinewidth": 0,
             "ticks": ""
            },
            "colorscale": [
             [
              0,
              "#0d0887"
             ],
             [
              0.1111111111111111,
              "#46039f"
             ],
             [
              0.2222222222222222,
              "#7201a8"
             ],
             [
              0.3333333333333333,
              "#9c179e"
             ],
             [
              0.4444444444444444,
              "#bd3786"
             ],
             [
              0.5555555555555556,
              "#d8576b"
             ],
             [
              0.6666666666666666,
              "#ed7953"
             ],
             [
              0.7777777777777778,
              "#fb9f3a"
             ],
             [
              0.8888888888888888,
              "#fdca26"
             ],
             [
              1,
              "#f0f921"
             ]
            ],
            "type": "histogram2dcontour"
           }
          ],
          "mesh3d": [
           {
            "colorbar": {
             "outlinewidth": 0,
             "ticks": ""
            },
            "type": "mesh3d"
           }
          ],
          "parcoords": [
           {
            "line": {
             "colorbar": {
              "outlinewidth": 0,
              "ticks": ""
             }
            },
            "type": "parcoords"
           }
          ],
          "pie": [
           {
            "automargin": true,
            "type": "pie"
           }
          ],
          "scatter": [
           {
            "fillpattern": {
             "fillmode": "overlay",
             "size": 10,
             "solidity": 0.2
            },
            "type": "scatter"
           }
          ],
          "scatter3d": [
           {
            "line": {
             "colorbar": {
              "outlinewidth": 0,
              "ticks": ""
             }
            },
            "marker": {
             "colorbar": {
              "outlinewidth": 0,
              "ticks": ""
             }
            },
            "type": "scatter3d"
           }
          ],
          "scattercarpet": [
           {
            "marker": {
             "colorbar": {
              "outlinewidth": 0,
              "ticks": ""
             }
            },
            "type": "scattercarpet"
           }
          ],
          "scattergeo": [
           {
            "marker": {
             "colorbar": {
              "outlinewidth": 0,
              "ticks": ""
             }
            },
            "type": "scattergeo"
           }
          ],
          "scattergl": [
           {
            "marker": {
             "colorbar": {
              "outlinewidth": 0,
              "ticks": ""
             }
            },
            "type": "scattergl"
           }
          ],
          "scattermapbox": [
           {
            "marker": {
             "colorbar": {
              "outlinewidth": 0,
              "ticks": ""
             }
            },
            "type": "scattermapbox"
           }
          ],
          "scatterpolar": [
           {
            "marker": {
             "colorbar": {
              "outlinewidth": 0,
              "ticks": ""
             }
            },
            "type": "scatterpolar"
           }
          ],
          "scatterpolargl": [
           {
            "marker": {
             "colorbar": {
              "outlinewidth": 0,
              "ticks": ""
             }
            },
            "type": "scatterpolargl"
           }
          ],
          "scatterternary": [
           {
            "marker": {
             "colorbar": {
              "outlinewidth": 0,
              "ticks": ""
             }
            },
            "type": "scatterternary"
           }
          ],
          "surface": [
           {
            "colorbar": {
             "outlinewidth": 0,
             "ticks": ""
            },
            "colorscale": [
             [
              0,
              "#0d0887"
             ],
             [
              0.1111111111111111,
              "#46039f"
             ],
             [
              0.2222222222222222,
              "#7201a8"
             ],
             [
              0.3333333333333333,
              "#9c179e"
             ],
             [
              0.4444444444444444,
              "#bd3786"
             ],
             [
              0.5555555555555556,
              "#d8576b"
             ],
             [
              0.6666666666666666,
              "#ed7953"
             ],
             [
              0.7777777777777778,
              "#fb9f3a"
             ],
             [
              0.8888888888888888,
              "#fdca26"
             ],
             [
              1,
              "#f0f921"
             ]
            ],
            "type": "surface"
           }
          ],
          "table": [
           {
            "cells": {
             "fill": {
              "color": "#EBF0F8"
             },
             "line": {
              "color": "white"
             }
            },
            "header": {
             "fill": {
              "color": "#C8D4E3"
             },
             "line": {
              "color": "white"
             }
            },
            "type": "table"
           }
          ]
         },
         "layout": {
          "annotationdefaults": {
           "arrowcolor": "#2a3f5f",
           "arrowhead": 0,
           "arrowwidth": 1
          },
          "autotypenumbers": "strict",
          "coloraxis": {
           "colorbar": {
            "outlinewidth": 0,
            "ticks": ""
           }
          },
          "colorscale": {
           "diverging": [
            [
             0,
             "#8e0152"
            ],
            [
             0.1,
             "#c51b7d"
            ],
            [
             0.2,
             "#de77ae"
            ],
            [
             0.3,
             "#f1b6da"
            ],
            [
             0.4,
             "#fde0ef"
            ],
            [
             0.5,
             "#f7f7f7"
            ],
            [
             0.6,
             "#e6f5d0"
            ],
            [
             0.7,
             "#b8e186"
            ],
            [
             0.8,
             "#7fbc41"
            ],
            [
             0.9,
             "#4d9221"
            ],
            [
             1,
             "#276419"
            ]
           ],
           "sequential": [
            [
             0,
             "#0d0887"
            ],
            [
             0.1111111111111111,
             "#46039f"
            ],
            [
             0.2222222222222222,
             "#7201a8"
            ],
            [
             0.3333333333333333,
             "#9c179e"
            ],
            [
             0.4444444444444444,
             "#bd3786"
            ],
            [
             0.5555555555555556,
             "#d8576b"
            ],
            [
             0.6666666666666666,
             "#ed7953"
            ],
            [
             0.7777777777777778,
             "#fb9f3a"
            ],
            [
             0.8888888888888888,
             "#fdca26"
            ],
            [
             1,
             "#f0f921"
            ]
           ],
           "sequentialminus": [
            [
             0,
             "#0d0887"
            ],
            [
             0.1111111111111111,
             "#46039f"
            ],
            [
             0.2222222222222222,
             "#7201a8"
            ],
            [
             0.3333333333333333,
             "#9c179e"
            ],
            [
             0.4444444444444444,
             "#bd3786"
            ],
            [
             0.5555555555555556,
             "#d8576b"
            ],
            [
             0.6666666666666666,
             "#ed7953"
            ],
            [
             0.7777777777777778,
             "#fb9f3a"
            ],
            [
             0.8888888888888888,
             "#fdca26"
            ],
            [
             1,
             "#f0f921"
            ]
           ]
          },
          "colorway": [
           "#636efa",
           "#EF553B",
           "#00cc96",
           "#ab63fa",
           "#FFA15A",
           "#19d3f3",
           "#FF6692",
           "#B6E880",
           "#FF97FF",
           "#FECB52"
          ],
          "font": {
           "color": "#2a3f5f"
          },
          "geo": {
           "bgcolor": "white",
           "lakecolor": "white",
           "landcolor": "#E5ECF6",
           "showlakes": true,
           "showland": true,
           "subunitcolor": "white"
          },
          "hoverlabel": {
           "align": "left"
          },
          "hovermode": "closest",
          "mapbox": {
           "style": "light"
          },
          "paper_bgcolor": "white",
          "plot_bgcolor": "#E5ECF6",
          "polar": {
           "angularaxis": {
            "gridcolor": "white",
            "linecolor": "white",
            "ticks": ""
           },
           "bgcolor": "#E5ECF6",
           "radialaxis": {
            "gridcolor": "white",
            "linecolor": "white",
            "ticks": ""
           }
          },
          "scene": {
           "xaxis": {
            "backgroundcolor": "#E5ECF6",
            "gridcolor": "white",
            "gridwidth": 2,
            "linecolor": "white",
            "showbackground": true,
            "ticks": "",
            "zerolinecolor": "white"
           },
           "yaxis": {
            "backgroundcolor": "#E5ECF6",
            "gridcolor": "white",
            "gridwidth": 2,
            "linecolor": "white",
            "showbackground": true,
            "ticks": "",
            "zerolinecolor": "white"
           },
           "zaxis": {
            "backgroundcolor": "#E5ECF6",
            "gridcolor": "white",
            "gridwidth": 2,
            "linecolor": "white",
            "showbackground": true,
            "ticks": "",
            "zerolinecolor": "white"
           }
          },
          "shapedefaults": {
           "line": {
            "color": "#2a3f5f"
           }
          },
          "ternary": {
           "aaxis": {
            "gridcolor": "white",
            "linecolor": "white",
            "ticks": ""
           },
           "baxis": {
            "gridcolor": "white",
            "linecolor": "white",
            "ticks": ""
           },
           "bgcolor": "#E5ECF6",
           "caxis": {
            "gridcolor": "white",
            "linecolor": "white",
            "ticks": ""
           }
          },
          "title": {
           "x": 0.05
          },
          "xaxis": {
           "automargin": true,
           "gridcolor": "white",
           "linecolor": "white",
           "ticks": "",
           "title": {
            "standoff": 15
           },
           "zerolinecolor": "white",
           "zerolinewidth": 2
          },
          "yaxis": {
           "automargin": true,
           "gridcolor": "white",
           "linecolor": "white",
           "ticks": "",
           "title": {
            "standoff": 15
           },
           "zerolinecolor": "white",
           "zerolinewidth": 2
          }
         }
        },
        "title": {
         "text": "Iranian Age User in 2022"
        }
       }
      }
     },
     "metadata": {},
     "output_type": "display_data"
    }
   ],
   "source": [
    "px.pie(iran_2022['Q2'],names=iran_2022['Q2'],title='Iranian Age User in 2022')"
   ]
  },
  {
   "cell_type": "code",
   "execution_count": 34,
   "metadata": {},
   "outputs": [
    {
     "data": {
      "application/vnd.plotly.v1+json": {
       "config": {
        "plotlyServerURL": "https://plot.ly"
       },
       "data": [
        {
         "name": "Category ",
         "type": "funnel",
         "x": [
          52,
          16,
          15,
          12,
          6,
          3,
          2,
          1
         ],
         "xaxis": "x",
         "y": [
          "Coursera",
          "University Courses (resulting in a university degree)",
          "Kaggle Learn Courses",
          "Other",
          "Udemy",
          "DataCamp",
          "edX",
          "LinkedIn Learning"
         ],
         "yaxis": "y"
        },
        {
         "domain": {
          "x": [
           0.55,
           1
          ],
          "y": [
           0,
           1
          ]
         },
         "labels": [
          "Coursera",
          "University Courses (resulting in a university degree)",
          "Kaggle Learn Courses",
          "Other",
          "Udemy",
          "DataCamp",
          "edX",
          "LinkedIn Learning"
         ],
         "name": "Category ",
         "type": "pie",
         "values": [
          52,
          16,
          15,
          12,
          6,
          3,
          2,
          1
         ]
        }
       ],
       "layout": {
        "template": {
         "data": {
          "bar": [
           {
            "error_x": {
             "color": "#2a3f5f"
            },
            "error_y": {
             "color": "#2a3f5f"
            },
            "marker": {
             "line": {
              "color": "#E5ECF6",
              "width": 0.5
             },
             "pattern": {
              "fillmode": "overlay",
              "size": 10,
              "solidity": 0.2
             }
            },
            "type": "bar"
           }
          ],
          "barpolar": [
           {
            "marker": {
             "line": {
              "color": "#E5ECF6",
              "width": 0.5
             },
             "pattern": {
              "fillmode": "overlay",
              "size": 10,
              "solidity": 0.2
             }
            },
            "type": "barpolar"
           }
          ],
          "carpet": [
           {
            "aaxis": {
             "endlinecolor": "#2a3f5f",
             "gridcolor": "white",
             "linecolor": "white",
             "minorgridcolor": "white",
             "startlinecolor": "#2a3f5f"
            },
            "baxis": {
             "endlinecolor": "#2a3f5f",
             "gridcolor": "white",
             "linecolor": "white",
             "minorgridcolor": "white",
             "startlinecolor": "#2a3f5f"
            },
            "type": "carpet"
           }
          ],
          "choropleth": [
           {
            "colorbar": {
             "outlinewidth": 0,
             "ticks": ""
            },
            "type": "choropleth"
           }
          ],
          "contour": [
           {
            "colorbar": {
             "outlinewidth": 0,
             "ticks": ""
            },
            "colorscale": [
             [
              0,
              "#0d0887"
             ],
             [
              0.1111111111111111,
              "#46039f"
             ],
             [
              0.2222222222222222,
              "#7201a8"
             ],
             [
              0.3333333333333333,
              "#9c179e"
             ],
             [
              0.4444444444444444,
              "#bd3786"
             ],
             [
              0.5555555555555556,
              "#d8576b"
             ],
             [
              0.6666666666666666,
              "#ed7953"
             ],
             [
              0.7777777777777778,
              "#fb9f3a"
             ],
             [
              0.8888888888888888,
              "#fdca26"
             ],
             [
              1,
              "#f0f921"
             ]
            ],
            "type": "contour"
           }
          ],
          "contourcarpet": [
           {
            "colorbar": {
             "outlinewidth": 0,
             "ticks": ""
            },
            "type": "contourcarpet"
           }
          ],
          "heatmap": [
           {
            "colorbar": {
             "outlinewidth": 0,
             "ticks": ""
            },
            "colorscale": [
             [
              0,
              "#0d0887"
             ],
             [
              0.1111111111111111,
              "#46039f"
             ],
             [
              0.2222222222222222,
              "#7201a8"
             ],
             [
              0.3333333333333333,
              "#9c179e"
             ],
             [
              0.4444444444444444,
              "#bd3786"
             ],
             [
              0.5555555555555556,
              "#d8576b"
             ],
             [
              0.6666666666666666,
              "#ed7953"
             ],
             [
              0.7777777777777778,
              "#fb9f3a"
             ],
             [
              0.8888888888888888,
              "#fdca26"
             ],
             [
              1,
              "#f0f921"
             ]
            ],
            "type": "heatmap"
           }
          ],
          "heatmapgl": [
           {
            "colorbar": {
             "outlinewidth": 0,
             "ticks": ""
            },
            "colorscale": [
             [
              0,
              "#0d0887"
             ],
             [
              0.1111111111111111,
              "#46039f"
             ],
             [
              0.2222222222222222,
              "#7201a8"
             ],
             [
              0.3333333333333333,
              "#9c179e"
             ],
             [
              0.4444444444444444,
              "#bd3786"
             ],
             [
              0.5555555555555556,
              "#d8576b"
             ],
             [
              0.6666666666666666,
              "#ed7953"
             ],
             [
              0.7777777777777778,
              "#fb9f3a"
             ],
             [
              0.8888888888888888,
              "#fdca26"
             ],
             [
              1,
              "#f0f921"
             ]
            ],
            "type": "heatmapgl"
           }
          ],
          "histogram": [
           {
            "marker": {
             "pattern": {
              "fillmode": "overlay",
              "size": 10,
              "solidity": 0.2
             }
            },
            "type": "histogram"
           }
          ],
          "histogram2d": [
           {
            "colorbar": {
             "outlinewidth": 0,
             "ticks": ""
            },
            "colorscale": [
             [
              0,
              "#0d0887"
             ],
             [
              0.1111111111111111,
              "#46039f"
             ],
             [
              0.2222222222222222,
              "#7201a8"
             ],
             [
              0.3333333333333333,
              "#9c179e"
             ],
             [
              0.4444444444444444,
              "#bd3786"
             ],
             [
              0.5555555555555556,
              "#d8576b"
             ],
             [
              0.6666666666666666,
              "#ed7953"
             ],
             [
              0.7777777777777778,
              "#fb9f3a"
             ],
             [
              0.8888888888888888,
              "#fdca26"
             ],
             [
              1,
              "#f0f921"
             ]
            ],
            "type": "histogram2d"
           }
          ],
          "histogram2dcontour": [
           {
            "colorbar": {
             "outlinewidth": 0,
             "ticks": ""
            },
            "colorscale": [
             [
              0,
              "#0d0887"
             ],
             [
              0.1111111111111111,
              "#46039f"
             ],
             [
              0.2222222222222222,
              "#7201a8"
             ],
             [
              0.3333333333333333,
              "#9c179e"
             ],
             [
              0.4444444444444444,
              "#bd3786"
             ],
             [
              0.5555555555555556,
              "#d8576b"
             ],
             [
              0.6666666666666666,
              "#ed7953"
             ],
             [
              0.7777777777777778,
              "#fb9f3a"
             ],
             [
              0.8888888888888888,
              "#fdca26"
             ],
             [
              1,
              "#f0f921"
             ]
            ],
            "type": "histogram2dcontour"
           }
          ],
          "mesh3d": [
           {
            "colorbar": {
             "outlinewidth": 0,
             "ticks": ""
            },
            "type": "mesh3d"
           }
          ],
          "parcoords": [
           {
            "line": {
             "colorbar": {
              "outlinewidth": 0,
              "ticks": ""
             }
            },
            "type": "parcoords"
           }
          ],
          "pie": [
           {
            "automargin": true,
            "type": "pie"
           }
          ],
          "scatter": [
           {
            "fillpattern": {
             "fillmode": "overlay",
             "size": 10,
             "solidity": 0.2
            },
            "type": "scatter"
           }
          ],
          "scatter3d": [
           {
            "line": {
             "colorbar": {
              "outlinewidth": 0,
              "ticks": ""
             }
            },
            "marker": {
             "colorbar": {
              "outlinewidth": 0,
              "ticks": ""
             }
            },
            "type": "scatter3d"
           }
          ],
          "scattercarpet": [
           {
            "marker": {
             "colorbar": {
              "outlinewidth": 0,
              "ticks": ""
             }
            },
            "type": "scattercarpet"
           }
          ],
          "scattergeo": [
           {
            "marker": {
             "colorbar": {
              "outlinewidth": 0,
              "ticks": ""
             }
            },
            "type": "scattergeo"
           }
          ],
          "scattergl": [
           {
            "marker": {
             "colorbar": {
              "outlinewidth": 0,
              "ticks": ""
             }
            },
            "type": "scattergl"
           }
          ],
          "scattermapbox": [
           {
            "marker": {
             "colorbar": {
              "outlinewidth": 0,
              "ticks": ""
             }
            },
            "type": "scattermapbox"
           }
          ],
          "scatterpolar": [
           {
            "marker": {
             "colorbar": {
              "outlinewidth": 0,
              "ticks": ""
             }
            },
            "type": "scatterpolar"
           }
          ],
          "scatterpolargl": [
           {
            "marker": {
             "colorbar": {
              "outlinewidth": 0,
              "ticks": ""
             }
            },
            "type": "scatterpolargl"
           }
          ],
          "scatterternary": [
           {
            "marker": {
             "colorbar": {
              "outlinewidth": 0,
              "ticks": ""
             }
            },
            "type": "scatterternary"
           }
          ],
          "surface": [
           {
            "colorbar": {
             "outlinewidth": 0,
             "ticks": ""
            },
            "colorscale": [
             [
              0,
              "#0d0887"
             ],
             [
              0.1111111111111111,
              "#46039f"
             ],
             [
              0.2222222222222222,
              "#7201a8"
             ],
             [
              0.3333333333333333,
              "#9c179e"
             ],
             [
              0.4444444444444444,
              "#bd3786"
             ],
             [
              0.5555555555555556,
              "#d8576b"
             ],
             [
              0.6666666666666666,
              "#ed7953"
             ],
             [
              0.7777777777777778,
              "#fb9f3a"
             ],
             [
              0.8888888888888888,
              "#fdca26"
             ],
             [
              1,
              "#f0f921"
             ]
            ],
            "type": "surface"
           }
          ],
          "table": [
           {
            "cells": {
             "fill": {
              "color": "#EBF0F8"
             },
             "line": {
              "color": "white"
             }
            },
            "header": {
             "fill": {
              "color": "#C8D4E3"
             },
             "line": {
              "color": "white"
             }
            },
            "type": "table"
           }
          ]
         },
         "layout": {
          "annotationdefaults": {
           "arrowcolor": "#2a3f5f",
           "arrowhead": 0,
           "arrowwidth": 1
          },
          "autotypenumbers": "strict",
          "coloraxis": {
           "colorbar": {
            "outlinewidth": 0,
            "ticks": ""
           }
          },
          "colorscale": {
           "diverging": [
            [
             0,
             "#8e0152"
            ],
            [
             0.1,
             "#c51b7d"
            ],
            [
             0.2,
             "#de77ae"
            ],
            [
             0.3,
             "#f1b6da"
            ],
            [
             0.4,
             "#fde0ef"
            ],
            [
             0.5,
             "#f7f7f7"
            ],
            [
             0.6,
             "#e6f5d0"
            ],
            [
             0.7,
             "#b8e186"
            ],
            [
             0.8,
             "#7fbc41"
            ],
            [
             0.9,
             "#4d9221"
            ],
            [
             1,
             "#276419"
            ]
           ],
           "sequential": [
            [
             0,
             "#0d0887"
            ],
            [
             0.1111111111111111,
             "#46039f"
            ],
            [
             0.2222222222222222,
             "#7201a8"
            ],
            [
             0.3333333333333333,
             "#9c179e"
            ],
            [
             0.4444444444444444,
             "#bd3786"
            ],
            [
             0.5555555555555556,
             "#d8576b"
            ],
            [
             0.6666666666666666,
             "#ed7953"
            ],
            [
             0.7777777777777778,
             "#fb9f3a"
            ],
            [
             0.8888888888888888,
             "#fdca26"
            ],
            [
             1,
             "#f0f921"
            ]
           ],
           "sequentialminus": [
            [
             0,
             "#0d0887"
            ],
            [
             0.1111111111111111,
             "#46039f"
            ],
            [
             0.2222222222222222,
             "#7201a8"
            ],
            [
             0.3333333333333333,
             "#9c179e"
            ],
            [
             0.4444444444444444,
             "#bd3786"
            ],
            [
             0.5555555555555556,
             "#d8576b"
            ],
            [
             0.6666666666666666,
             "#ed7953"
            ],
            [
             0.7777777777777778,
             "#fb9f3a"
            ],
            [
             0.8888888888888888,
             "#fdca26"
            ],
            [
             1,
             "#f0f921"
            ]
           ]
          },
          "colorway": [
           "#636efa",
           "#EF553B",
           "#00cc96",
           "#ab63fa",
           "#FFA15A",
           "#19d3f3",
           "#FF6692",
           "#B6E880",
           "#FF97FF",
           "#FECB52"
          ],
          "font": {
           "color": "#2a3f5f"
          },
          "geo": {
           "bgcolor": "white",
           "lakecolor": "white",
           "landcolor": "#E5ECF6",
           "showlakes": true,
           "showland": true,
           "subunitcolor": "white"
          },
          "hoverlabel": {
           "align": "left"
          },
          "hovermode": "closest",
          "mapbox": {
           "style": "light"
          },
          "paper_bgcolor": "white",
          "plot_bgcolor": "#E5ECF6",
          "polar": {
           "angularaxis": {
            "gridcolor": "white",
            "linecolor": "white",
            "ticks": ""
           },
           "bgcolor": "#E5ECF6",
           "radialaxis": {
            "gridcolor": "white",
            "linecolor": "white",
            "ticks": ""
           }
          },
          "scene": {
           "xaxis": {
            "backgroundcolor": "#E5ECF6",
            "gridcolor": "white",
            "gridwidth": 2,
            "linecolor": "white",
            "showbackground": true,
            "ticks": "",
            "zerolinecolor": "white"
           },
           "yaxis": {
            "backgroundcolor": "#E5ECF6",
            "gridcolor": "white",
            "gridwidth": 2,
            "linecolor": "white",
            "showbackground": true,
            "ticks": "",
            "zerolinecolor": "white"
           },
           "zaxis": {
            "backgroundcolor": "#E5ECF6",
            "gridcolor": "white",
            "gridwidth": 2,
            "linecolor": "white",
            "showbackground": true,
            "ticks": "",
            "zerolinecolor": "white"
           }
          },
          "shapedefaults": {
           "line": {
            "color": "#2a3f5f"
           }
          },
          "ternary": {
           "aaxis": {
            "gridcolor": "white",
            "linecolor": "white",
            "ticks": ""
           },
           "baxis": {
            "gridcolor": "white",
            "linecolor": "white",
            "ticks": ""
           },
           "bgcolor": "#E5ECF6",
           "caxis": {
            "gridcolor": "white",
            "linecolor": "white",
            "ticks": ""
           }
          },
          "title": {
           "x": 0.05
          },
          "xaxis": {
           "automargin": true,
           "gridcolor": "white",
           "linecolor": "white",
           "ticks": "",
           "title": {
            "standoff": 15
           },
           "zerolinecolor": "white",
           "zerolinewidth": 2
          },
          "yaxis": {
           "automargin": true,
           "gridcolor": "white",
           "linecolor": "white",
           "ticks": "",
           "title": {
            "standoff": 15
           },
           "zerolinecolor": "white",
           "zerolinewidth": 2
          }
         }
        },
        "title": {
         "text": "Platforms Data Science Courses - Iran 2022"
        },
        "xaxis": {
         "anchor": "y",
         "domain": [
          0,
          0.45
         ]
        },
        "yaxis": {
         "anchor": "x",
         "domain": [
          0,
          1
         ]
        }
       }
      }
     },
     "metadata": {},
     "output_type": "display_data"
    }
   ],
   "source": [
    "fig = make_subplots(rows=1, cols=2,specs=[[{'type':'Funnel'}, {'type':'pie'}]])\n",
    "fig.add_trace(go.Funnel(y=courses['Courses'],x=courses['count']), 1, 1)\n",
    "fig.add_trace(go.Pie(values=courses['count'], labels=courses['Courses']), 1, 2)\n",
    "\n",
    "fig = go.Figure(fig)\n",
    "fig.update_layout(title_text='Platforms Data Science Courses - Iran 2022')\n",
    "fig.update_traces(name='Category ')\n",
    "fig.show()"
   ]
  },
  {
   "cell_type": "code",
   "execution_count": 35,
   "metadata": {},
   "outputs": [
    {
     "data": {
      "application/vnd.plotly.v1+json": {
       "config": {
        "plotlyServerURL": "https://plot.ly"
       },
       "data": [
        {
         "name": "Category ",
         "type": "funnel",
         "x": [
          47,
          34,
          16,
          6,
          5,
          5,
          5
         ],
         "xaxis": "x",
         "y": [
          "Online courses (Coursera, EdX, etc)",
          "University courses",
          "Video platforms (YouTube, Twitch, etc)",
          "None / I do not study data science",
          "Kaggle (notebooks, competitions, etc)",
          "Social media platforms (Reddit, Twitter, etc)",
          "Other"
         ],
         "yaxis": "y"
        },
        {
         "domain": {
          "x": [
           0.55,
           1
          ],
          "y": [
           0,
           1
          ]
         },
         "labels": [
          "Online courses (Coursera, EdX, etc)",
          "University courses",
          "Video platforms (YouTube, Twitch, etc)",
          "None / I do not study data science",
          "Kaggle (notebooks, competitions, etc)",
          "Social media platforms (Reddit, Twitter, etc)",
          "Other"
         ],
         "name": "Category ",
         "type": "pie",
         "values": [
          47,
          34,
          16,
          6,
          5,
          5,
          5
         ]
        }
       ],
       "layout": {
        "template": {
         "data": {
          "bar": [
           {
            "error_x": {
             "color": "#2a3f5f"
            },
            "error_y": {
             "color": "#2a3f5f"
            },
            "marker": {
             "line": {
              "color": "#E5ECF6",
              "width": 0.5
             },
             "pattern": {
              "fillmode": "overlay",
              "size": 10,
              "solidity": 0.2
             }
            },
            "type": "bar"
           }
          ],
          "barpolar": [
           {
            "marker": {
             "line": {
              "color": "#E5ECF6",
              "width": 0.5
             },
             "pattern": {
              "fillmode": "overlay",
              "size": 10,
              "solidity": 0.2
             }
            },
            "type": "barpolar"
           }
          ],
          "carpet": [
           {
            "aaxis": {
             "endlinecolor": "#2a3f5f",
             "gridcolor": "white",
             "linecolor": "white",
             "minorgridcolor": "white",
             "startlinecolor": "#2a3f5f"
            },
            "baxis": {
             "endlinecolor": "#2a3f5f",
             "gridcolor": "white",
             "linecolor": "white",
             "minorgridcolor": "white",
             "startlinecolor": "#2a3f5f"
            },
            "type": "carpet"
           }
          ],
          "choropleth": [
           {
            "colorbar": {
             "outlinewidth": 0,
             "ticks": ""
            },
            "type": "choropleth"
           }
          ],
          "contour": [
           {
            "colorbar": {
             "outlinewidth": 0,
             "ticks": ""
            },
            "colorscale": [
             [
              0,
              "#0d0887"
             ],
             [
              0.1111111111111111,
              "#46039f"
             ],
             [
              0.2222222222222222,
              "#7201a8"
             ],
             [
              0.3333333333333333,
              "#9c179e"
             ],
             [
              0.4444444444444444,
              "#bd3786"
             ],
             [
              0.5555555555555556,
              "#d8576b"
             ],
             [
              0.6666666666666666,
              "#ed7953"
             ],
             [
              0.7777777777777778,
              "#fb9f3a"
             ],
             [
              0.8888888888888888,
              "#fdca26"
             ],
             [
              1,
              "#f0f921"
             ]
            ],
            "type": "contour"
           }
          ],
          "contourcarpet": [
           {
            "colorbar": {
             "outlinewidth": 0,
             "ticks": ""
            },
            "type": "contourcarpet"
           }
          ],
          "heatmap": [
           {
            "colorbar": {
             "outlinewidth": 0,
             "ticks": ""
            },
            "colorscale": [
             [
              0,
              "#0d0887"
             ],
             [
              0.1111111111111111,
              "#46039f"
             ],
             [
              0.2222222222222222,
              "#7201a8"
             ],
             [
              0.3333333333333333,
              "#9c179e"
             ],
             [
              0.4444444444444444,
              "#bd3786"
             ],
             [
              0.5555555555555556,
              "#d8576b"
             ],
             [
              0.6666666666666666,
              "#ed7953"
             ],
             [
              0.7777777777777778,
              "#fb9f3a"
             ],
             [
              0.8888888888888888,
              "#fdca26"
             ],
             [
              1,
              "#f0f921"
             ]
            ],
            "type": "heatmap"
           }
          ],
          "heatmapgl": [
           {
            "colorbar": {
             "outlinewidth": 0,
             "ticks": ""
            },
            "colorscale": [
             [
              0,
              "#0d0887"
             ],
             [
              0.1111111111111111,
              "#46039f"
             ],
             [
              0.2222222222222222,
              "#7201a8"
             ],
             [
              0.3333333333333333,
              "#9c179e"
             ],
             [
              0.4444444444444444,
              "#bd3786"
             ],
             [
              0.5555555555555556,
              "#d8576b"
             ],
             [
              0.6666666666666666,
              "#ed7953"
             ],
             [
              0.7777777777777778,
              "#fb9f3a"
             ],
             [
              0.8888888888888888,
              "#fdca26"
             ],
             [
              1,
              "#f0f921"
             ]
            ],
            "type": "heatmapgl"
           }
          ],
          "histogram": [
           {
            "marker": {
             "pattern": {
              "fillmode": "overlay",
              "size": 10,
              "solidity": 0.2
             }
            },
            "type": "histogram"
           }
          ],
          "histogram2d": [
           {
            "colorbar": {
             "outlinewidth": 0,
             "ticks": ""
            },
            "colorscale": [
             [
              0,
              "#0d0887"
             ],
             [
              0.1111111111111111,
              "#46039f"
             ],
             [
              0.2222222222222222,
              "#7201a8"
             ],
             [
              0.3333333333333333,
              "#9c179e"
             ],
             [
              0.4444444444444444,
              "#bd3786"
             ],
             [
              0.5555555555555556,
              "#d8576b"
             ],
             [
              0.6666666666666666,
              "#ed7953"
             ],
             [
              0.7777777777777778,
              "#fb9f3a"
             ],
             [
              0.8888888888888888,
              "#fdca26"
             ],
             [
              1,
              "#f0f921"
             ]
            ],
            "type": "histogram2d"
           }
          ],
          "histogram2dcontour": [
           {
            "colorbar": {
             "outlinewidth": 0,
             "ticks": ""
            },
            "colorscale": [
             [
              0,
              "#0d0887"
             ],
             [
              0.1111111111111111,
              "#46039f"
             ],
             [
              0.2222222222222222,
              "#7201a8"
             ],
             [
              0.3333333333333333,
              "#9c179e"
             ],
             [
              0.4444444444444444,
              "#bd3786"
             ],
             [
              0.5555555555555556,
              "#d8576b"
             ],
             [
              0.6666666666666666,
              "#ed7953"
             ],
             [
              0.7777777777777778,
              "#fb9f3a"
             ],
             [
              0.8888888888888888,
              "#fdca26"
             ],
             [
              1,
              "#f0f921"
             ]
            ],
            "type": "histogram2dcontour"
           }
          ],
          "mesh3d": [
           {
            "colorbar": {
             "outlinewidth": 0,
             "ticks": ""
            },
            "type": "mesh3d"
           }
          ],
          "parcoords": [
           {
            "line": {
             "colorbar": {
              "outlinewidth": 0,
              "ticks": ""
             }
            },
            "type": "parcoords"
           }
          ],
          "pie": [
           {
            "automargin": true,
            "type": "pie"
           }
          ],
          "scatter": [
           {
            "fillpattern": {
             "fillmode": "overlay",
             "size": 10,
             "solidity": 0.2
            },
            "type": "scatter"
           }
          ],
          "scatter3d": [
           {
            "line": {
             "colorbar": {
              "outlinewidth": 0,
              "ticks": ""
             }
            },
            "marker": {
             "colorbar": {
              "outlinewidth": 0,
              "ticks": ""
             }
            },
            "type": "scatter3d"
           }
          ],
          "scattercarpet": [
           {
            "marker": {
             "colorbar": {
              "outlinewidth": 0,
              "ticks": ""
             }
            },
            "type": "scattercarpet"
           }
          ],
          "scattergeo": [
           {
            "marker": {
             "colorbar": {
              "outlinewidth": 0,
              "ticks": ""
             }
            },
            "type": "scattergeo"
           }
          ],
          "scattergl": [
           {
            "marker": {
             "colorbar": {
              "outlinewidth": 0,
              "ticks": ""
             }
            },
            "type": "scattergl"
           }
          ],
          "scattermapbox": [
           {
            "marker": {
             "colorbar": {
              "outlinewidth": 0,
              "ticks": ""
             }
            },
            "type": "scattermapbox"
           }
          ],
          "scatterpolar": [
           {
            "marker": {
             "colorbar": {
              "outlinewidth": 0,
              "ticks": ""
             }
            },
            "type": "scatterpolar"
           }
          ],
          "scatterpolargl": [
           {
            "marker": {
             "colorbar": {
              "outlinewidth": 0,
              "ticks": ""
             }
            },
            "type": "scatterpolargl"
           }
          ],
          "scatterternary": [
           {
            "marker": {
             "colorbar": {
              "outlinewidth": 0,
              "ticks": ""
             }
            },
            "type": "scatterternary"
           }
          ],
          "surface": [
           {
            "colorbar": {
             "outlinewidth": 0,
             "ticks": ""
            },
            "colorscale": [
             [
              0,
              "#0d0887"
             ],
             [
              0.1111111111111111,
              "#46039f"
             ],
             [
              0.2222222222222222,
              "#7201a8"
             ],
             [
              0.3333333333333333,
              "#9c179e"
             ],
             [
              0.4444444444444444,
              "#bd3786"
             ],
             [
              0.5555555555555556,
              "#d8576b"
             ],
             [
              0.6666666666666666,
              "#ed7953"
             ],
             [
              0.7777777777777778,
              "#fb9f3a"
             ],
             [
              0.8888888888888888,
              "#fdca26"
             ],
             [
              1,
              "#f0f921"
             ]
            ],
            "type": "surface"
           }
          ],
          "table": [
           {
            "cells": {
             "fill": {
              "color": "#EBF0F8"
             },
             "line": {
              "color": "white"
             }
            },
            "header": {
             "fill": {
              "color": "#C8D4E3"
             },
             "line": {
              "color": "white"
             }
            },
            "type": "table"
           }
          ]
         },
         "layout": {
          "annotationdefaults": {
           "arrowcolor": "#2a3f5f",
           "arrowhead": 0,
           "arrowwidth": 1
          },
          "autotypenumbers": "strict",
          "coloraxis": {
           "colorbar": {
            "outlinewidth": 0,
            "ticks": ""
           }
          },
          "colorscale": {
           "diverging": [
            [
             0,
             "#8e0152"
            ],
            [
             0.1,
             "#c51b7d"
            ],
            [
             0.2,
             "#de77ae"
            ],
            [
             0.3,
             "#f1b6da"
            ],
            [
             0.4,
             "#fde0ef"
            ],
            [
             0.5,
             "#f7f7f7"
            ],
            [
             0.6,
             "#e6f5d0"
            ],
            [
             0.7,
             "#b8e186"
            ],
            [
             0.8,
             "#7fbc41"
            ],
            [
             0.9,
             "#4d9221"
            ],
            [
             1,
             "#276419"
            ]
           ],
           "sequential": [
            [
             0,
             "#0d0887"
            ],
            [
             0.1111111111111111,
             "#46039f"
            ],
            [
             0.2222222222222222,
             "#7201a8"
            ],
            [
             0.3333333333333333,
             "#9c179e"
            ],
            [
             0.4444444444444444,
             "#bd3786"
            ],
            [
             0.5555555555555556,
             "#d8576b"
            ],
            [
             0.6666666666666666,
             "#ed7953"
            ],
            [
             0.7777777777777778,
             "#fb9f3a"
            ],
            [
             0.8888888888888888,
             "#fdca26"
            ],
            [
             1,
             "#f0f921"
            ]
           ],
           "sequentialminus": [
            [
             0,
             "#0d0887"
            ],
            [
             0.1111111111111111,
             "#46039f"
            ],
            [
             0.2222222222222222,
             "#7201a8"
            ],
            [
             0.3333333333333333,
             "#9c179e"
            ],
            [
             0.4444444444444444,
             "#bd3786"
            ],
            [
             0.5555555555555556,
             "#d8576b"
            ],
            [
             0.6666666666666666,
             "#ed7953"
            ],
            [
             0.7777777777777778,
             "#fb9f3a"
            ],
            [
             0.8888888888888888,
             "#fdca26"
            ],
            [
             1,
             "#f0f921"
            ]
           ]
          },
          "colorway": [
           "#636efa",
           "#EF553B",
           "#00cc96",
           "#ab63fa",
           "#FFA15A",
           "#19d3f3",
           "#FF6692",
           "#B6E880",
           "#FF97FF",
           "#FECB52"
          ],
          "font": {
           "color": "#2a3f5f"
          },
          "geo": {
           "bgcolor": "white",
           "lakecolor": "white",
           "landcolor": "#E5ECF6",
           "showlakes": true,
           "showland": true,
           "subunitcolor": "white"
          },
          "hoverlabel": {
           "align": "left"
          },
          "hovermode": "closest",
          "mapbox": {
           "style": "light"
          },
          "paper_bgcolor": "white",
          "plot_bgcolor": "#E5ECF6",
          "polar": {
           "angularaxis": {
            "gridcolor": "white",
            "linecolor": "white",
            "ticks": ""
           },
           "bgcolor": "#E5ECF6",
           "radialaxis": {
            "gridcolor": "white",
            "linecolor": "white",
            "ticks": ""
           }
          },
          "scene": {
           "xaxis": {
            "backgroundcolor": "#E5ECF6",
            "gridcolor": "white",
            "gridwidth": 2,
            "linecolor": "white",
            "showbackground": true,
            "ticks": "",
            "zerolinecolor": "white"
           },
           "yaxis": {
            "backgroundcolor": "#E5ECF6",
            "gridcolor": "white",
            "gridwidth": 2,
            "linecolor": "white",
            "showbackground": true,
            "ticks": "",
            "zerolinecolor": "white"
           },
           "zaxis": {
            "backgroundcolor": "#E5ECF6",
            "gridcolor": "white",
            "gridwidth": 2,
            "linecolor": "white",
            "showbackground": true,
            "ticks": "",
            "zerolinecolor": "white"
           }
          },
          "shapedefaults": {
           "line": {
            "color": "#2a3f5f"
           }
          },
          "ternary": {
           "aaxis": {
            "gridcolor": "white",
            "linecolor": "white",
            "ticks": ""
           },
           "baxis": {
            "gridcolor": "white",
            "linecolor": "white",
            "ticks": ""
           },
           "bgcolor": "#E5ECF6",
           "caxis": {
            "gridcolor": "white",
            "linecolor": "white",
            "ticks": ""
           }
          },
          "title": {
           "x": 0.05
          },
          "xaxis": {
           "automargin": true,
           "gridcolor": "white",
           "linecolor": "white",
           "ticks": "",
           "title": {
            "standoff": 15
           },
           "zerolinecolor": "white",
           "zerolinewidth": 2
          },
          "yaxis": {
           "automargin": true,
           "gridcolor": "white",
           "linecolor": "white",
           "ticks": "",
           "title": {
            "standoff": 15
           },
           "zerolinecolor": "white",
           "zerolinewidth": 2
          }
         }
        },
        "title": {
         "text": "helpful first started studying data science - Iran 2022"
        },
        "xaxis": {
         "anchor": "y",
         "domain": [
          0,
          0.45
         ]
        },
        "yaxis": {
         "anchor": "x",
         "domain": [
          0,
          1
         ]
        }
       }
      }
     },
     "metadata": {},
     "output_type": "display_data"
    }
   ],
   "source": [
    "fig = make_subplots(rows=1, cols=2,specs=[[{'type':'Funnel'}, {'type':'pie'}]])\n",
    "fig.add_trace(go.Funnel(y=helpful_courses['Helpful Courses'],x=helpful_courses['count']), 1, 1)\n",
    "fig.add_trace(go.Pie(values=helpful_courses['count'], labels=helpful_courses['Helpful Courses']), 1, 2)\n",
    "\n",
    "fig = go.Figure(fig)\n",
    "fig.update_layout(title_text='helpful first started studying data science - Iran 2022')\n",
    "fig.update_traces(name='Category ')\n",
    "fig.show()"
   ]
  },
  {
   "cell_type": "code",
   "execution_count": 36,
   "metadata": {},
   "outputs": [
    {
     "data": {
      "application/vnd.plotly.v1+json": {
       "config": {
        "plotlyServerURL": "https://plot.ly"
       },
       "data": [
        {
         "name": "Programming Language",
         "type": "funnel",
         "x": [
          106,
          2,
          1,
          1,
          1,
          1,
          1
         ],
         "xaxis": "x",
         "y": [
          "Python",
          "SQL",
          "C",
          "Javascript",
          "MATLAB",
          "Other",
          "C++"
         ],
         "yaxis": "y"
        },
        {
         "name": "IDE",
         "type": "funnel",
         "x": [
          35,
          30,
          16,
          10,
          8,
          4,
          3,
          3,
          1,
          1
         ],
         "xaxis": "x2",
         "y": [
          " Visual Studio Code (VSCode) ",
          "JupyterLab ",
          " Visual Studio ",
          " PyCharm ",
          " Jupyter Notebook",
          " RStudio ",
          " MATLAB ",
          "IntelliJ",
          "  Notepad++  ",
          "  Spyder  "
         ],
         "yaxis": "y2"
        }
       ],
       "layout": {
        "template": {
         "data": {
          "bar": [
           {
            "error_x": {
             "color": "#2a3f5f"
            },
            "error_y": {
             "color": "#2a3f5f"
            },
            "marker": {
             "line": {
              "color": "#E5ECF6",
              "width": 0.5
             },
             "pattern": {
              "fillmode": "overlay",
              "size": 10,
              "solidity": 0.2
             }
            },
            "type": "bar"
           }
          ],
          "barpolar": [
           {
            "marker": {
             "line": {
              "color": "#E5ECF6",
              "width": 0.5
             },
             "pattern": {
              "fillmode": "overlay",
              "size": 10,
              "solidity": 0.2
             }
            },
            "type": "barpolar"
           }
          ],
          "carpet": [
           {
            "aaxis": {
             "endlinecolor": "#2a3f5f",
             "gridcolor": "white",
             "linecolor": "white",
             "minorgridcolor": "white",
             "startlinecolor": "#2a3f5f"
            },
            "baxis": {
             "endlinecolor": "#2a3f5f",
             "gridcolor": "white",
             "linecolor": "white",
             "minorgridcolor": "white",
             "startlinecolor": "#2a3f5f"
            },
            "type": "carpet"
           }
          ],
          "choropleth": [
           {
            "colorbar": {
             "outlinewidth": 0,
             "ticks": ""
            },
            "type": "choropleth"
           }
          ],
          "contour": [
           {
            "colorbar": {
             "outlinewidth": 0,
             "ticks": ""
            },
            "colorscale": [
             [
              0,
              "#0d0887"
             ],
             [
              0.1111111111111111,
              "#46039f"
             ],
             [
              0.2222222222222222,
              "#7201a8"
             ],
             [
              0.3333333333333333,
              "#9c179e"
             ],
             [
              0.4444444444444444,
              "#bd3786"
             ],
             [
              0.5555555555555556,
              "#d8576b"
             ],
             [
              0.6666666666666666,
              "#ed7953"
             ],
             [
              0.7777777777777778,
              "#fb9f3a"
             ],
             [
              0.8888888888888888,
              "#fdca26"
             ],
             [
              1,
              "#f0f921"
             ]
            ],
            "type": "contour"
           }
          ],
          "contourcarpet": [
           {
            "colorbar": {
             "outlinewidth": 0,
             "ticks": ""
            },
            "type": "contourcarpet"
           }
          ],
          "heatmap": [
           {
            "colorbar": {
             "outlinewidth": 0,
             "ticks": ""
            },
            "colorscale": [
             [
              0,
              "#0d0887"
             ],
             [
              0.1111111111111111,
              "#46039f"
             ],
             [
              0.2222222222222222,
              "#7201a8"
             ],
             [
              0.3333333333333333,
              "#9c179e"
             ],
             [
              0.4444444444444444,
              "#bd3786"
             ],
             [
              0.5555555555555556,
              "#d8576b"
             ],
             [
              0.6666666666666666,
              "#ed7953"
             ],
             [
              0.7777777777777778,
              "#fb9f3a"
             ],
             [
              0.8888888888888888,
              "#fdca26"
             ],
             [
              1,
              "#f0f921"
             ]
            ],
            "type": "heatmap"
           }
          ],
          "heatmapgl": [
           {
            "colorbar": {
             "outlinewidth": 0,
             "ticks": ""
            },
            "colorscale": [
             [
              0,
              "#0d0887"
             ],
             [
              0.1111111111111111,
              "#46039f"
             ],
             [
              0.2222222222222222,
              "#7201a8"
             ],
             [
              0.3333333333333333,
              "#9c179e"
             ],
             [
              0.4444444444444444,
              "#bd3786"
             ],
             [
              0.5555555555555556,
              "#d8576b"
             ],
             [
              0.6666666666666666,
              "#ed7953"
             ],
             [
              0.7777777777777778,
              "#fb9f3a"
             ],
             [
              0.8888888888888888,
              "#fdca26"
             ],
             [
              1,
              "#f0f921"
             ]
            ],
            "type": "heatmapgl"
           }
          ],
          "histogram": [
           {
            "marker": {
             "pattern": {
              "fillmode": "overlay",
              "size": 10,
              "solidity": 0.2
             }
            },
            "type": "histogram"
           }
          ],
          "histogram2d": [
           {
            "colorbar": {
             "outlinewidth": 0,
             "ticks": ""
            },
            "colorscale": [
             [
              0,
              "#0d0887"
             ],
             [
              0.1111111111111111,
              "#46039f"
             ],
             [
              0.2222222222222222,
              "#7201a8"
             ],
             [
              0.3333333333333333,
              "#9c179e"
             ],
             [
              0.4444444444444444,
              "#bd3786"
             ],
             [
              0.5555555555555556,
              "#d8576b"
             ],
             [
              0.6666666666666666,
              "#ed7953"
             ],
             [
              0.7777777777777778,
              "#fb9f3a"
             ],
             [
              0.8888888888888888,
              "#fdca26"
             ],
             [
              1,
              "#f0f921"
             ]
            ],
            "type": "histogram2d"
           }
          ],
          "histogram2dcontour": [
           {
            "colorbar": {
             "outlinewidth": 0,
             "ticks": ""
            },
            "colorscale": [
             [
              0,
              "#0d0887"
             ],
             [
              0.1111111111111111,
              "#46039f"
             ],
             [
              0.2222222222222222,
              "#7201a8"
             ],
             [
              0.3333333333333333,
              "#9c179e"
             ],
             [
              0.4444444444444444,
              "#bd3786"
             ],
             [
              0.5555555555555556,
              "#d8576b"
             ],
             [
              0.6666666666666666,
              "#ed7953"
             ],
             [
              0.7777777777777778,
              "#fb9f3a"
             ],
             [
              0.8888888888888888,
              "#fdca26"
             ],
             [
              1,
              "#f0f921"
             ]
            ],
            "type": "histogram2dcontour"
           }
          ],
          "mesh3d": [
           {
            "colorbar": {
             "outlinewidth": 0,
             "ticks": ""
            },
            "type": "mesh3d"
           }
          ],
          "parcoords": [
           {
            "line": {
             "colorbar": {
              "outlinewidth": 0,
              "ticks": ""
             }
            },
            "type": "parcoords"
           }
          ],
          "pie": [
           {
            "automargin": true,
            "type": "pie"
           }
          ],
          "scatter": [
           {
            "fillpattern": {
             "fillmode": "overlay",
             "size": 10,
             "solidity": 0.2
            },
            "type": "scatter"
           }
          ],
          "scatter3d": [
           {
            "line": {
             "colorbar": {
              "outlinewidth": 0,
              "ticks": ""
             }
            },
            "marker": {
             "colorbar": {
              "outlinewidth": 0,
              "ticks": ""
             }
            },
            "type": "scatter3d"
           }
          ],
          "scattercarpet": [
           {
            "marker": {
             "colorbar": {
              "outlinewidth": 0,
              "ticks": ""
             }
            },
            "type": "scattercarpet"
           }
          ],
          "scattergeo": [
           {
            "marker": {
             "colorbar": {
              "outlinewidth": 0,
              "ticks": ""
             }
            },
            "type": "scattergeo"
           }
          ],
          "scattergl": [
           {
            "marker": {
             "colorbar": {
              "outlinewidth": 0,
              "ticks": ""
             }
            },
            "type": "scattergl"
           }
          ],
          "scattermapbox": [
           {
            "marker": {
             "colorbar": {
              "outlinewidth": 0,
              "ticks": ""
             }
            },
            "type": "scattermapbox"
           }
          ],
          "scatterpolar": [
           {
            "marker": {
             "colorbar": {
              "outlinewidth": 0,
              "ticks": ""
             }
            },
            "type": "scatterpolar"
           }
          ],
          "scatterpolargl": [
           {
            "marker": {
             "colorbar": {
              "outlinewidth": 0,
              "ticks": ""
             }
            },
            "type": "scatterpolargl"
           }
          ],
          "scatterternary": [
           {
            "marker": {
             "colorbar": {
              "outlinewidth": 0,
              "ticks": ""
             }
            },
            "type": "scatterternary"
           }
          ],
          "surface": [
           {
            "colorbar": {
             "outlinewidth": 0,
             "ticks": ""
            },
            "colorscale": [
             [
              0,
              "#0d0887"
             ],
             [
              0.1111111111111111,
              "#46039f"
             ],
             [
              0.2222222222222222,
              "#7201a8"
             ],
             [
              0.3333333333333333,
              "#9c179e"
             ],
             [
              0.4444444444444444,
              "#bd3786"
             ],
             [
              0.5555555555555556,
              "#d8576b"
             ],
             [
              0.6666666666666666,
              "#ed7953"
             ],
             [
              0.7777777777777778,
              "#fb9f3a"
             ],
             [
              0.8888888888888888,
              "#fdca26"
             ],
             [
              1,
              "#f0f921"
             ]
            ],
            "type": "surface"
           }
          ],
          "table": [
           {
            "cells": {
             "fill": {
              "color": "#EBF0F8"
             },
             "line": {
              "color": "white"
             }
            },
            "header": {
             "fill": {
              "color": "#C8D4E3"
             },
             "line": {
              "color": "white"
             }
            },
            "type": "table"
           }
          ]
         },
         "layout": {
          "annotationdefaults": {
           "arrowcolor": "#2a3f5f",
           "arrowhead": 0,
           "arrowwidth": 1
          },
          "autotypenumbers": "strict",
          "coloraxis": {
           "colorbar": {
            "outlinewidth": 0,
            "ticks": ""
           }
          },
          "colorscale": {
           "diverging": [
            [
             0,
             "#8e0152"
            ],
            [
             0.1,
             "#c51b7d"
            ],
            [
             0.2,
             "#de77ae"
            ],
            [
             0.3,
             "#f1b6da"
            ],
            [
             0.4,
             "#fde0ef"
            ],
            [
             0.5,
             "#f7f7f7"
            ],
            [
             0.6,
             "#e6f5d0"
            ],
            [
             0.7,
             "#b8e186"
            ],
            [
             0.8,
             "#7fbc41"
            ],
            [
             0.9,
             "#4d9221"
            ],
            [
             1,
             "#276419"
            ]
           ],
           "sequential": [
            [
             0,
             "#0d0887"
            ],
            [
             0.1111111111111111,
             "#46039f"
            ],
            [
             0.2222222222222222,
             "#7201a8"
            ],
            [
             0.3333333333333333,
             "#9c179e"
            ],
            [
             0.4444444444444444,
             "#bd3786"
            ],
            [
             0.5555555555555556,
             "#d8576b"
            ],
            [
             0.6666666666666666,
             "#ed7953"
            ],
            [
             0.7777777777777778,
             "#fb9f3a"
            ],
            [
             0.8888888888888888,
             "#fdca26"
            ],
            [
             1,
             "#f0f921"
            ]
           ],
           "sequentialminus": [
            [
             0,
             "#0d0887"
            ],
            [
             0.1111111111111111,
             "#46039f"
            ],
            [
             0.2222222222222222,
             "#7201a8"
            ],
            [
             0.3333333333333333,
             "#9c179e"
            ],
            [
             0.4444444444444444,
             "#bd3786"
            ],
            [
             0.5555555555555556,
             "#d8576b"
            ],
            [
             0.6666666666666666,
             "#ed7953"
            ],
            [
             0.7777777777777778,
             "#fb9f3a"
            ],
            [
             0.8888888888888888,
             "#fdca26"
            ],
            [
             1,
             "#f0f921"
            ]
           ]
          },
          "colorway": [
           "#636efa",
           "#EF553B",
           "#00cc96",
           "#ab63fa",
           "#FFA15A",
           "#19d3f3",
           "#FF6692",
           "#B6E880",
           "#FF97FF",
           "#FECB52"
          ],
          "font": {
           "color": "#2a3f5f"
          },
          "geo": {
           "bgcolor": "white",
           "lakecolor": "white",
           "landcolor": "#E5ECF6",
           "showlakes": true,
           "showland": true,
           "subunitcolor": "white"
          },
          "hoverlabel": {
           "align": "left"
          },
          "hovermode": "closest",
          "mapbox": {
           "style": "light"
          },
          "paper_bgcolor": "white",
          "plot_bgcolor": "#E5ECF6",
          "polar": {
           "angularaxis": {
            "gridcolor": "white",
            "linecolor": "white",
            "ticks": ""
           },
           "bgcolor": "#E5ECF6",
           "radialaxis": {
            "gridcolor": "white",
            "linecolor": "white",
            "ticks": ""
           }
          },
          "scene": {
           "xaxis": {
            "backgroundcolor": "#E5ECF6",
            "gridcolor": "white",
            "gridwidth": 2,
            "linecolor": "white",
            "showbackground": true,
            "ticks": "",
            "zerolinecolor": "white"
           },
           "yaxis": {
            "backgroundcolor": "#E5ECF6",
            "gridcolor": "white",
            "gridwidth": 2,
            "linecolor": "white",
            "showbackground": true,
            "ticks": "",
            "zerolinecolor": "white"
           },
           "zaxis": {
            "backgroundcolor": "#E5ECF6",
            "gridcolor": "white",
            "gridwidth": 2,
            "linecolor": "white",
            "showbackground": true,
            "ticks": "",
            "zerolinecolor": "white"
           }
          },
          "shapedefaults": {
           "line": {
            "color": "#2a3f5f"
           }
          },
          "ternary": {
           "aaxis": {
            "gridcolor": "white",
            "linecolor": "white",
            "ticks": ""
           },
           "baxis": {
            "gridcolor": "white",
            "linecolor": "white",
            "ticks": ""
           },
           "bgcolor": "#E5ECF6",
           "caxis": {
            "gridcolor": "white",
            "linecolor": "white",
            "ticks": ""
           }
          },
          "title": {
           "x": 0.05
          },
          "xaxis": {
           "automargin": true,
           "gridcolor": "white",
           "linecolor": "white",
           "ticks": "",
           "title": {
            "standoff": 15
           },
           "zerolinecolor": "white",
           "zerolinewidth": 2
          },
          "yaxis": {
           "automargin": true,
           "gridcolor": "white",
           "linecolor": "white",
           "ticks": "",
           "title": {
            "standoff": 15
           },
           "zerolinecolor": "white",
           "zerolinewidth": 2
          }
         }
        },
        "title": {
         "text": "Programming Language And IDE - Iran 2022"
        },
        "xaxis": {
         "anchor": "y",
         "domain": [
          0,
          0.45
         ]
        },
        "xaxis2": {
         "anchor": "y2",
         "domain": [
          0.55,
          1
         ]
        },
        "yaxis": {
         "anchor": "x",
         "domain": [
          0,
          1
         ]
        },
        "yaxis2": {
         "anchor": "x2",
         "domain": [
          0,
          1
         ]
        }
       }
      }
     },
     "metadata": {},
     "output_type": "display_data"
    }
   ],
   "source": [
    "fig = make_subplots(rows=1, cols=2,specs=[[{'type':'Funnel'}, {'type':'Funnel'}]])\n",
    "fig.add_trace(go.Funnel(y=programming_languages['Programming Languages'],x=programming_languages['count']), 1, 1)\n",
    "fig.add_trace(go.Funnel(y=IDE['IDE'],x=IDE['count']), 1, 2)\n",
    "\n",
    "fig = go.Figure(fig)\n",
    "fig.update_layout(title_text='Programming Language And IDE - Iran 2022')\n",
    "fig.update_traces(name='Programming Language',selector=0)\n",
    "fig.update_traces(name='IDE',selector=1)\n",
    "fig.show()"
   ]
  },
  {
   "cell_type": "code",
   "execution_count": 37,
   "metadata": {},
   "outputs": [
    {
     "data": {
      "application/vnd.plotly.v1+json": {
       "config": {
        "plotlyServerURL": "https://plot.ly"
       },
       "data": [
        {
         "dimensions": [
          {
           "label": "Computer Vision Methods",
           "values": [
            "Image segmentation methods (U-Net, Mask R-CNN, etc)",
            "General purpose image/video tools (PIL, cv2, skimage, etc)",
            "Object detection methods (YOLOv6, RetinaNet, etc)",
            "Image segmentation methods (U-Net, Mask R-CNN, etc)",
            "Image segmentation methods (U-Net, Mask R-CNN, etc)",
            "Object detection methods (YOLOv6, RetinaNet, etc)",
            "Image classification and other general purpose networks (VGG, Inception, ResNet, ResNeXt, NASNet, EfficientNet, etc)",
            "Object detection methods (YOLOv6, RetinaNet, etc)",
            "Image segmentation methods (U-Net, Mask R-CNN, etc)",
            "General purpose image/video tools (PIL, cv2, skimage, etc)",
            "General purpose image/video tools (PIL, cv2, skimage, etc)",
            "Image classification and other general purpose networks (VGG, Inception, ResNet, ResNeXt, NASNet, EfficientNet, etc)",
            "Image classification and other general purpose networks (VGG, Inception, ResNet, ResNeXt, NASNet, EfficientNet, etc)",
            "Image classification and other general purpose networks (VGG, Inception, ResNet, ResNeXt, NASNet, EfficientNet, etc)",
            "Generative Networks (GAN, VAE, etc)",
            "General purpose image/video tools (PIL, cv2, skimage, etc)",
            "General purpose image/video tools (PIL, cv2, skimage, etc)",
            "Image classification and other general purpose networks (VGG, Inception, ResNet, ResNeXt, NASNet, EfficientNet, etc)"
           ]
          },
          {
           "label": "Machine Learning Frameworks",
           "values": [
            "  Scikit-learn ",
            "  Scikit-learn ",
            "  Scikit-learn ",
            "  TensorFlow ",
            "  Scikit-learn ",
            "  Scikit-learn ",
            "  TensorFlow ",
            "  Scikit-learn ",
            "  Scikit-learn ",
            "  Scikit-learn ",
            "  Scikit-learn ",
            "  Scikit-learn ",
            "  Scikit-learn ",
            "  Scikit-learn ",
            "  Scikit-learn ",
            "  TensorFlow ",
            "  TensorFlow ",
            "  Scikit-learn "
           ]
          },
          {
           "label": "ML Algorithms",
           "values": [
            "Linear or Logistic Regression",
            "Linear or Logistic Regression",
            "Linear or Logistic Regression",
            "Linear or Logistic Regression",
            "Dense Neural Networks (MLPs, etc)",
            "Convolutional Neural Networks",
            "Linear or Logistic Regression",
            "Dense Neural Networks (MLPs, etc)",
            "Bayesian Approaches",
            "Convolutional Neural Networks",
            "Decision Trees or Random Forests",
            "Linear or Logistic Regression",
            "Dense Neural Networks (MLPs, etc)",
            "Decision Trees or Random Forests",
            "Linear or Logistic Regression",
            "Linear or Logistic Regression",
            "Decision Trees or Random Forests",
            "Transformer Networks (BERT, gpt-3, etc)"
           ]
          }
         ],
         "domain": {
          "x": [
           0,
           1
          ],
          "y": [
           0,
           1
          ]
         },
         "line": {
          "color": [
           9,
           5,
           3,
           3,
           3,
           2,
           1,
           1,
           1,
           1,
           1,
           1,
           1,
           1,
           1,
           1,
           1,
           1
          ],
          "coloraxis": "coloraxis"
         },
         "name": "",
         "type": "parcats"
        }
       ],
       "layout": {
        "coloraxis": {
         "colorbar": {
          "title": {
           "text": "count"
          }
         },
         "colorscale": [
          [
           0,
           "rgb(0, 147, 146)"
          ],
          [
           0.16666666666666666,
           "rgb(114, 170, 161)"
          ],
          [
           0.3333333333333333,
           "rgb(177, 199, 179)"
          ],
          [
           0.5,
           "rgb(241, 234, 200)"
          ],
          [
           0.6666666666666666,
           "rgb(229, 185, 173)"
          ],
          [
           0.8333333333333334,
           "rgb(217, 137, 148)"
          ],
          [
           1,
           "rgb(208, 88, 126)"
          ]
         ]
        },
        "height": 600,
        "legend": {
         "tracegroupgap": 0
        },
        "template": {
         "data": {
          "bar": [
           {
            "error_x": {
             "color": "#2a3f5f"
            },
            "error_y": {
             "color": "#2a3f5f"
            },
            "marker": {
             "line": {
              "color": "#E5ECF6",
              "width": 0.5
             },
             "pattern": {
              "fillmode": "overlay",
              "size": 10,
              "solidity": 0.2
             }
            },
            "type": "bar"
           }
          ],
          "barpolar": [
           {
            "marker": {
             "line": {
              "color": "#E5ECF6",
              "width": 0.5
             },
             "pattern": {
              "fillmode": "overlay",
              "size": 10,
              "solidity": 0.2
             }
            },
            "type": "barpolar"
           }
          ],
          "carpet": [
           {
            "aaxis": {
             "endlinecolor": "#2a3f5f",
             "gridcolor": "white",
             "linecolor": "white",
             "minorgridcolor": "white",
             "startlinecolor": "#2a3f5f"
            },
            "baxis": {
             "endlinecolor": "#2a3f5f",
             "gridcolor": "white",
             "linecolor": "white",
             "minorgridcolor": "white",
             "startlinecolor": "#2a3f5f"
            },
            "type": "carpet"
           }
          ],
          "choropleth": [
           {
            "colorbar": {
             "outlinewidth": 0,
             "ticks": ""
            },
            "type": "choropleth"
           }
          ],
          "contour": [
           {
            "colorbar": {
             "outlinewidth": 0,
             "ticks": ""
            },
            "colorscale": [
             [
              0,
              "#0d0887"
             ],
             [
              0.1111111111111111,
              "#46039f"
             ],
             [
              0.2222222222222222,
              "#7201a8"
             ],
             [
              0.3333333333333333,
              "#9c179e"
             ],
             [
              0.4444444444444444,
              "#bd3786"
             ],
             [
              0.5555555555555556,
              "#d8576b"
             ],
             [
              0.6666666666666666,
              "#ed7953"
             ],
             [
              0.7777777777777778,
              "#fb9f3a"
             ],
             [
              0.8888888888888888,
              "#fdca26"
             ],
             [
              1,
              "#f0f921"
             ]
            ],
            "type": "contour"
           }
          ],
          "contourcarpet": [
           {
            "colorbar": {
             "outlinewidth": 0,
             "ticks": ""
            },
            "type": "contourcarpet"
           }
          ],
          "heatmap": [
           {
            "colorbar": {
             "outlinewidth": 0,
             "ticks": ""
            },
            "colorscale": [
             [
              0,
              "#0d0887"
             ],
             [
              0.1111111111111111,
              "#46039f"
             ],
             [
              0.2222222222222222,
              "#7201a8"
             ],
             [
              0.3333333333333333,
              "#9c179e"
             ],
             [
              0.4444444444444444,
              "#bd3786"
             ],
             [
              0.5555555555555556,
              "#d8576b"
             ],
             [
              0.6666666666666666,
              "#ed7953"
             ],
             [
              0.7777777777777778,
              "#fb9f3a"
             ],
             [
              0.8888888888888888,
              "#fdca26"
             ],
             [
              1,
              "#f0f921"
             ]
            ],
            "type": "heatmap"
           }
          ],
          "heatmapgl": [
           {
            "colorbar": {
             "outlinewidth": 0,
             "ticks": ""
            },
            "colorscale": [
             [
              0,
              "#0d0887"
             ],
             [
              0.1111111111111111,
              "#46039f"
             ],
             [
              0.2222222222222222,
              "#7201a8"
             ],
             [
              0.3333333333333333,
              "#9c179e"
             ],
             [
              0.4444444444444444,
              "#bd3786"
             ],
             [
              0.5555555555555556,
              "#d8576b"
             ],
             [
              0.6666666666666666,
              "#ed7953"
             ],
             [
              0.7777777777777778,
              "#fb9f3a"
             ],
             [
              0.8888888888888888,
              "#fdca26"
             ],
             [
              1,
              "#f0f921"
             ]
            ],
            "type": "heatmapgl"
           }
          ],
          "histogram": [
           {
            "marker": {
             "pattern": {
              "fillmode": "overlay",
              "size": 10,
              "solidity": 0.2
             }
            },
            "type": "histogram"
           }
          ],
          "histogram2d": [
           {
            "colorbar": {
             "outlinewidth": 0,
             "ticks": ""
            },
            "colorscale": [
             [
              0,
              "#0d0887"
             ],
             [
              0.1111111111111111,
              "#46039f"
             ],
             [
              0.2222222222222222,
              "#7201a8"
             ],
             [
              0.3333333333333333,
              "#9c179e"
             ],
             [
              0.4444444444444444,
              "#bd3786"
             ],
             [
              0.5555555555555556,
              "#d8576b"
             ],
             [
              0.6666666666666666,
              "#ed7953"
             ],
             [
              0.7777777777777778,
              "#fb9f3a"
             ],
             [
              0.8888888888888888,
              "#fdca26"
             ],
             [
              1,
              "#f0f921"
             ]
            ],
            "type": "histogram2d"
           }
          ],
          "histogram2dcontour": [
           {
            "colorbar": {
             "outlinewidth": 0,
             "ticks": ""
            },
            "colorscale": [
             [
              0,
              "#0d0887"
             ],
             [
              0.1111111111111111,
              "#46039f"
             ],
             [
              0.2222222222222222,
              "#7201a8"
             ],
             [
              0.3333333333333333,
              "#9c179e"
             ],
             [
              0.4444444444444444,
              "#bd3786"
             ],
             [
              0.5555555555555556,
              "#d8576b"
             ],
             [
              0.6666666666666666,
              "#ed7953"
             ],
             [
              0.7777777777777778,
              "#fb9f3a"
             ],
             [
              0.8888888888888888,
              "#fdca26"
             ],
             [
              1,
              "#f0f921"
             ]
            ],
            "type": "histogram2dcontour"
           }
          ],
          "mesh3d": [
           {
            "colorbar": {
             "outlinewidth": 0,
             "ticks": ""
            },
            "type": "mesh3d"
           }
          ],
          "parcoords": [
           {
            "line": {
             "colorbar": {
              "outlinewidth": 0,
              "ticks": ""
             }
            },
            "type": "parcoords"
           }
          ],
          "pie": [
           {
            "automargin": true,
            "type": "pie"
           }
          ],
          "scatter": [
           {
            "fillpattern": {
             "fillmode": "overlay",
             "size": 10,
             "solidity": 0.2
            },
            "type": "scatter"
           }
          ],
          "scatter3d": [
           {
            "line": {
             "colorbar": {
              "outlinewidth": 0,
              "ticks": ""
             }
            },
            "marker": {
             "colorbar": {
              "outlinewidth": 0,
              "ticks": ""
             }
            },
            "type": "scatter3d"
           }
          ],
          "scattercarpet": [
           {
            "marker": {
             "colorbar": {
              "outlinewidth": 0,
              "ticks": ""
             }
            },
            "type": "scattercarpet"
           }
          ],
          "scattergeo": [
           {
            "marker": {
             "colorbar": {
              "outlinewidth": 0,
              "ticks": ""
             }
            },
            "type": "scattergeo"
           }
          ],
          "scattergl": [
           {
            "marker": {
             "colorbar": {
              "outlinewidth": 0,
              "ticks": ""
             }
            },
            "type": "scattergl"
           }
          ],
          "scattermapbox": [
           {
            "marker": {
             "colorbar": {
              "outlinewidth": 0,
              "ticks": ""
             }
            },
            "type": "scattermapbox"
           }
          ],
          "scatterpolar": [
           {
            "marker": {
             "colorbar": {
              "outlinewidth": 0,
              "ticks": ""
             }
            },
            "type": "scatterpolar"
           }
          ],
          "scatterpolargl": [
           {
            "marker": {
             "colorbar": {
              "outlinewidth": 0,
              "ticks": ""
             }
            },
            "type": "scatterpolargl"
           }
          ],
          "scatterternary": [
           {
            "marker": {
             "colorbar": {
              "outlinewidth": 0,
              "ticks": ""
             }
            },
            "type": "scatterternary"
           }
          ],
          "surface": [
           {
            "colorbar": {
             "outlinewidth": 0,
             "ticks": ""
            },
            "colorscale": [
             [
              0,
              "#0d0887"
             ],
             [
              0.1111111111111111,
              "#46039f"
             ],
             [
              0.2222222222222222,
              "#7201a8"
             ],
             [
              0.3333333333333333,
              "#9c179e"
             ],
             [
              0.4444444444444444,
              "#bd3786"
             ],
             [
              0.5555555555555556,
              "#d8576b"
             ],
             [
              0.6666666666666666,
              "#ed7953"
             ],
             [
              0.7777777777777778,
              "#fb9f3a"
             ],
             [
              0.8888888888888888,
              "#fdca26"
             ],
             [
              1,
              "#f0f921"
             ]
            ],
            "type": "surface"
           }
          ],
          "table": [
           {
            "cells": {
             "fill": {
              "color": "#EBF0F8"
             },
             "line": {
              "color": "white"
             }
            },
            "header": {
             "fill": {
              "color": "#C8D4E3"
             },
             "line": {
              "color": "white"
             }
            },
            "type": "table"
           }
          ]
         },
         "layout": {
          "annotationdefaults": {
           "arrowcolor": "#2a3f5f",
           "arrowhead": 0,
           "arrowwidth": 1
          },
          "autotypenumbers": "strict",
          "coloraxis": {
           "colorbar": {
            "outlinewidth": 0,
            "ticks": ""
           }
          },
          "colorscale": {
           "diverging": [
            [
             0,
             "#8e0152"
            ],
            [
             0.1,
             "#c51b7d"
            ],
            [
             0.2,
             "#de77ae"
            ],
            [
             0.3,
             "#f1b6da"
            ],
            [
             0.4,
             "#fde0ef"
            ],
            [
             0.5,
             "#f7f7f7"
            ],
            [
             0.6,
             "#e6f5d0"
            ],
            [
             0.7,
             "#b8e186"
            ],
            [
             0.8,
             "#7fbc41"
            ],
            [
             0.9,
             "#4d9221"
            ],
            [
             1,
             "#276419"
            ]
           ],
           "sequential": [
            [
             0,
             "#0d0887"
            ],
            [
             0.1111111111111111,
             "#46039f"
            ],
            [
             0.2222222222222222,
             "#7201a8"
            ],
            [
             0.3333333333333333,
             "#9c179e"
            ],
            [
             0.4444444444444444,
             "#bd3786"
            ],
            [
             0.5555555555555556,
             "#d8576b"
            ],
            [
             0.6666666666666666,
             "#ed7953"
            ],
            [
             0.7777777777777778,
             "#fb9f3a"
            ],
            [
             0.8888888888888888,
             "#fdca26"
            ],
            [
             1,
             "#f0f921"
            ]
           ],
           "sequentialminus": [
            [
             0,
             "#0d0887"
            ],
            [
             0.1111111111111111,
             "#46039f"
            ],
            [
             0.2222222222222222,
             "#7201a8"
            ],
            [
             0.3333333333333333,
             "#9c179e"
            ],
            [
             0.4444444444444444,
             "#bd3786"
            ],
            [
             0.5555555555555556,
             "#d8576b"
            ],
            [
             0.6666666666666666,
             "#ed7953"
            ],
            [
             0.7777777777777778,
             "#fb9f3a"
            ],
            [
             0.8888888888888888,
             "#fdca26"
            ],
            [
             1,
             "#f0f921"
            ]
           ]
          },
          "colorway": [
           "#636efa",
           "#EF553B",
           "#00cc96",
           "#ab63fa",
           "#FFA15A",
           "#19d3f3",
           "#FF6692",
           "#B6E880",
           "#FF97FF",
           "#FECB52"
          ],
          "font": {
           "color": "#2a3f5f"
          },
          "geo": {
           "bgcolor": "white",
           "lakecolor": "white",
           "landcolor": "#E5ECF6",
           "showlakes": true,
           "showland": true,
           "subunitcolor": "white"
          },
          "hoverlabel": {
           "align": "left"
          },
          "hovermode": "closest",
          "mapbox": {
           "style": "light"
          },
          "paper_bgcolor": "white",
          "plot_bgcolor": "#E5ECF6",
          "polar": {
           "angularaxis": {
            "gridcolor": "white",
            "linecolor": "white",
            "ticks": ""
           },
           "bgcolor": "#E5ECF6",
           "radialaxis": {
            "gridcolor": "white",
            "linecolor": "white",
            "ticks": ""
           }
          },
          "scene": {
           "xaxis": {
            "backgroundcolor": "#E5ECF6",
            "gridcolor": "white",
            "gridwidth": 2,
            "linecolor": "white",
            "showbackground": true,
            "ticks": "",
            "zerolinecolor": "white"
           },
           "yaxis": {
            "backgroundcolor": "#E5ECF6",
            "gridcolor": "white",
            "gridwidth": 2,
            "linecolor": "white",
            "showbackground": true,
            "ticks": "",
            "zerolinecolor": "white"
           },
           "zaxis": {
            "backgroundcolor": "#E5ECF6",
            "gridcolor": "white",
            "gridwidth": 2,
            "linecolor": "white",
            "showbackground": true,
            "ticks": "",
            "zerolinecolor": "white"
           }
          },
          "shapedefaults": {
           "line": {
            "color": "#2a3f5f"
           }
          },
          "ternary": {
           "aaxis": {
            "gridcolor": "white",
            "linecolor": "white",
            "ticks": ""
           },
           "baxis": {
            "gridcolor": "white",
            "linecolor": "white",
            "ticks": ""
           },
           "bgcolor": "#E5ECF6",
           "caxis": {
            "gridcolor": "white",
            "linecolor": "white",
            "ticks": ""
           }
          },
          "title": {
           "x": 0.05
          },
          "xaxis": {
           "automargin": true,
           "gridcolor": "white",
           "linecolor": "white",
           "ticks": "",
           "title": {
            "standoff": 15
           },
           "zerolinecolor": "white",
           "zerolinewidth": 2
          },
          "yaxis": {
           "automargin": true,
           "gridcolor": "white",
           "linecolor": "white",
           "ticks": "",
           "title": {
            "standoff": 15
           },
           "zerolinecolor": "white",
           "zerolinewidth": 2
          }
         }
        },
        "title": {
         "text": "Computer Vision Methods - Iran 2022"
        }
       }
      }
     },
     "metadata": {},
     "output_type": "display_data"
    }
   ],
   "source": [
    "iran_2022_nafill = iran_2022.fillna('Not Answer') \n",
    "CVM = iran_2022_nafill[iran_2022_nafill['Q19_1'] != 'Not Answer']\n",
    "CVM = CVM[['Q19_1','Q17_1','Q18_1']].value_counts()\n",
    "CVM = pd.DataFrame(CVM)\n",
    "CVM = CVM.reset_index()\n",
    "\n",
    "fig = px.parallel_categories(CVM,dimensions=['Q19_1','Q17_1','Q18_1'],\n",
    "                            labels={'Q19_1': 'Computer Vision Methods','Q17_1':'Machine Learning Frameworks','Q18_1':'ML Algorithms'},\n",
    "                            title='Computer Vision Methods - Iran 2022',\n",
    "                            height=600,\n",
    "                            color='count',\n",
    "                            color_continuous_scale=px.colors.diverging.Tealrose)\n",
    "fig.show()"
   ]
  },
  {
   "cell_type": "code",
   "execution_count": 38,
   "metadata": {},
   "outputs": [
    {
     "data": {
      "application/vnd.plotly.v1+json": {
       "config": {
        "plotlyServerURL": "https://plot.ly"
       },
       "data": [
        {
         "dimensions": [
          {
           "label": "NLP Methods",
           "values": [
            "Encoder-decoder models (seq2seq, vanilla transformers)",
            "Word embeddings/vectors (GLoVe, fastText, word2vec)",
            "Transformer language models (GPT-3, BERT, XLnet, etc)",
            "Word embeddings/vectors (GLoVe, fastText, word2vec)",
            "Encoder-decoder models (seq2seq, vanilla transformers)",
            "Transformer language models (GPT-3, BERT, XLnet, etc)",
            "Transformer language models (GPT-3, BERT, XLnet, etc)",
            "Transformer language models (GPT-3, BERT, XLnet, etc)",
            "Transformer language models (GPT-3, BERT, XLnet, etc)",
            "Word embeddings/vectors (GLoVe, fastText, word2vec)"
           ]
          },
          {
           "label": "Machine Learning Frameworks",
           "values": [
            "  Scikit-learn ",
            "  Scikit-learn ",
            "  Scikit-learn ",
            "  TensorFlow ",
            "  TensorFlow ",
            "  Scikit-learn ",
            "  Scikit-learn ",
            "  Scikit-learn ",
            " PyTorch ",
            "  Scikit-learn "
           ]
          },
          {
           "label": "ML Algorithms",
           "values": [
            "Linear or Logistic Regression",
            "Linear or Logistic Regression",
            "Linear or Logistic Regression",
            "Linear or Logistic Regression",
            "Decision Trees or Random Forests",
            "Decision Trees or Random Forests",
            "Gradient Boosting Machines (xgboost, lightgbm, etc)",
            "Transformer Networks (BERT, gpt-3, etc)",
            "Transformer Networks (BERT, gpt-3, etc)",
            "Dense Neural Networks (MLPs, etc)"
           ]
          }
         ],
         "domain": {
          "x": [
           0,
           1
          ],
          "y": [
           0,
           1
          ]
         },
         "line": {
          "color": [
           3,
           3,
           2,
           2,
           1,
           1,
           1,
           1,
           1,
           1
          ],
          "coloraxis": "coloraxis"
         },
         "name": "",
         "type": "parcats"
        }
       ],
       "layout": {
        "coloraxis": {
         "colorbar": {
          "title": {
           "text": "count"
          }
         },
         "colorscale": [
          [
           0,
           "rgb(0, 147, 146)"
          ],
          [
           0.16666666666666666,
           "rgb(114, 170, 161)"
          ],
          [
           0.3333333333333333,
           "rgb(177, 199, 179)"
          ],
          [
           0.5,
           "rgb(241, 234, 200)"
          ],
          [
           0.6666666666666666,
           "rgb(229, 185, 173)"
          ],
          [
           0.8333333333333334,
           "rgb(217, 137, 148)"
          ],
          [
           1,
           "rgb(208, 88, 126)"
          ]
         ]
        },
        "height": 600,
        "legend": {
         "tracegroupgap": 0
        },
        "template": {
         "data": {
          "bar": [
           {
            "error_x": {
             "color": "#2a3f5f"
            },
            "error_y": {
             "color": "#2a3f5f"
            },
            "marker": {
             "line": {
              "color": "#E5ECF6",
              "width": 0.5
             },
             "pattern": {
              "fillmode": "overlay",
              "size": 10,
              "solidity": 0.2
             }
            },
            "type": "bar"
           }
          ],
          "barpolar": [
           {
            "marker": {
             "line": {
              "color": "#E5ECF6",
              "width": 0.5
             },
             "pattern": {
              "fillmode": "overlay",
              "size": 10,
              "solidity": 0.2
             }
            },
            "type": "barpolar"
           }
          ],
          "carpet": [
           {
            "aaxis": {
             "endlinecolor": "#2a3f5f",
             "gridcolor": "white",
             "linecolor": "white",
             "minorgridcolor": "white",
             "startlinecolor": "#2a3f5f"
            },
            "baxis": {
             "endlinecolor": "#2a3f5f",
             "gridcolor": "white",
             "linecolor": "white",
             "minorgridcolor": "white",
             "startlinecolor": "#2a3f5f"
            },
            "type": "carpet"
           }
          ],
          "choropleth": [
           {
            "colorbar": {
             "outlinewidth": 0,
             "ticks": ""
            },
            "type": "choropleth"
           }
          ],
          "contour": [
           {
            "colorbar": {
             "outlinewidth": 0,
             "ticks": ""
            },
            "colorscale": [
             [
              0,
              "#0d0887"
             ],
             [
              0.1111111111111111,
              "#46039f"
             ],
             [
              0.2222222222222222,
              "#7201a8"
             ],
             [
              0.3333333333333333,
              "#9c179e"
             ],
             [
              0.4444444444444444,
              "#bd3786"
             ],
             [
              0.5555555555555556,
              "#d8576b"
             ],
             [
              0.6666666666666666,
              "#ed7953"
             ],
             [
              0.7777777777777778,
              "#fb9f3a"
             ],
             [
              0.8888888888888888,
              "#fdca26"
             ],
             [
              1,
              "#f0f921"
             ]
            ],
            "type": "contour"
           }
          ],
          "contourcarpet": [
           {
            "colorbar": {
             "outlinewidth": 0,
             "ticks": ""
            },
            "type": "contourcarpet"
           }
          ],
          "heatmap": [
           {
            "colorbar": {
             "outlinewidth": 0,
             "ticks": ""
            },
            "colorscale": [
             [
              0,
              "#0d0887"
             ],
             [
              0.1111111111111111,
              "#46039f"
             ],
             [
              0.2222222222222222,
              "#7201a8"
             ],
             [
              0.3333333333333333,
              "#9c179e"
             ],
             [
              0.4444444444444444,
              "#bd3786"
             ],
             [
              0.5555555555555556,
              "#d8576b"
             ],
             [
              0.6666666666666666,
              "#ed7953"
             ],
             [
              0.7777777777777778,
              "#fb9f3a"
             ],
             [
              0.8888888888888888,
              "#fdca26"
             ],
             [
              1,
              "#f0f921"
             ]
            ],
            "type": "heatmap"
           }
          ],
          "heatmapgl": [
           {
            "colorbar": {
             "outlinewidth": 0,
             "ticks": ""
            },
            "colorscale": [
             [
              0,
              "#0d0887"
             ],
             [
              0.1111111111111111,
              "#46039f"
             ],
             [
              0.2222222222222222,
              "#7201a8"
             ],
             [
              0.3333333333333333,
              "#9c179e"
             ],
             [
              0.4444444444444444,
              "#bd3786"
             ],
             [
              0.5555555555555556,
              "#d8576b"
             ],
             [
              0.6666666666666666,
              "#ed7953"
             ],
             [
              0.7777777777777778,
              "#fb9f3a"
             ],
             [
              0.8888888888888888,
              "#fdca26"
             ],
             [
              1,
              "#f0f921"
             ]
            ],
            "type": "heatmapgl"
           }
          ],
          "histogram": [
           {
            "marker": {
             "pattern": {
              "fillmode": "overlay",
              "size": 10,
              "solidity": 0.2
             }
            },
            "type": "histogram"
           }
          ],
          "histogram2d": [
           {
            "colorbar": {
             "outlinewidth": 0,
             "ticks": ""
            },
            "colorscale": [
             [
              0,
              "#0d0887"
             ],
             [
              0.1111111111111111,
              "#46039f"
             ],
             [
              0.2222222222222222,
              "#7201a8"
             ],
             [
              0.3333333333333333,
              "#9c179e"
             ],
             [
              0.4444444444444444,
              "#bd3786"
             ],
             [
              0.5555555555555556,
              "#d8576b"
             ],
             [
              0.6666666666666666,
              "#ed7953"
             ],
             [
              0.7777777777777778,
              "#fb9f3a"
             ],
             [
              0.8888888888888888,
              "#fdca26"
             ],
             [
              1,
              "#f0f921"
             ]
            ],
            "type": "histogram2d"
           }
          ],
          "histogram2dcontour": [
           {
            "colorbar": {
             "outlinewidth": 0,
             "ticks": ""
            },
            "colorscale": [
             [
              0,
              "#0d0887"
             ],
             [
              0.1111111111111111,
              "#46039f"
             ],
             [
              0.2222222222222222,
              "#7201a8"
             ],
             [
              0.3333333333333333,
              "#9c179e"
             ],
             [
              0.4444444444444444,
              "#bd3786"
             ],
             [
              0.5555555555555556,
              "#d8576b"
             ],
             [
              0.6666666666666666,
              "#ed7953"
             ],
             [
              0.7777777777777778,
              "#fb9f3a"
             ],
             [
              0.8888888888888888,
              "#fdca26"
             ],
             [
              1,
              "#f0f921"
             ]
            ],
            "type": "histogram2dcontour"
           }
          ],
          "mesh3d": [
           {
            "colorbar": {
             "outlinewidth": 0,
             "ticks": ""
            },
            "type": "mesh3d"
           }
          ],
          "parcoords": [
           {
            "line": {
             "colorbar": {
              "outlinewidth": 0,
              "ticks": ""
             }
            },
            "type": "parcoords"
           }
          ],
          "pie": [
           {
            "automargin": true,
            "type": "pie"
           }
          ],
          "scatter": [
           {
            "fillpattern": {
             "fillmode": "overlay",
             "size": 10,
             "solidity": 0.2
            },
            "type": "scatter"
           }
          ],
          "scatter3d": [
           {
            "line": {
             "colorbar": {
              "outlinewidth": 0,
              "ticks": ""
             }
            },
            "marker": {
             "colorbar": {
              "outlinewidth": 0,
              "ticks": ""
             }
            },
            "type": "scatter3d"
           }
          ],
          "scattercarpet": [
           {
            "marker": {
             "colorbar": {
              "outlinewidth": 0,
              "ticks": ""
             }
            },
            "type": "scattercarpet"
           }
          ],
          "scattergeo": [
           {
            "marker": {
             "colorbar": {
              "outlinewidth": 0,
              "ticks": ""
             }
            },
            "type": "scattergeo"
           }
          ],
          "scattergl": [
           {
            "marker": {
             "colorbar": {
              "outlinewidth": 0,
              "ticks": ""
             }
            },
            "type": "scattergl"
           }
          ],
          "scattermapbox": [
           {
            "marker": {
             "colorbar": {
              "outlinewidth": 0,
              "ticks": ""
             }
            },
            "type": "scattermapbox"
           }
          ],
          "scatterpolar": [
           {
            "marker": {
             "colorbar": {
              "outlinewidth": 0,
              "ticks": ""
             }
            },
            "type": "scatterpolar"
           }
          ],
          "scatterpolargl": [
           {
            "marker": {
             "colorbar": {
              "outlinewidth": 0,
              "ticks": ""
             }
            },
            "type": "scatterpolargl"
           }
          ],
          "scatterternary": [
           {
            "marker": {
             "colorbar": {
              "outlinewidth": 0,
              "ticks": ""
             }
            },
            "type": "scatterternary"
           }
          ],
          "surface": [
           {
            "colorbar": {
             "outlinewidth": 0,
             "ticks": ""
            },
            "colorscale": [
             [
              0,
              "#0d0887"
             ],
             [
              0.1111111111111111,
              "#46039f"
             ],
             [
              0.2222222222222222,
              "#7201a8"
             ],
             [
              0.3333333333333333,
              "#9c179e"
             ],
             [
              0.4444444444444444,
              "#bd3786"
             ],
             [
              0.5555555555555556,
              "#d8576b"
             ],
             [
              0.6666666666666666,
              "#ed7953"
             ],
             [
              0.7777777777777778,
              "#fb9f3a"
             ],
             [
              0.8888888888888888,
              "#fdca26"
             ],
             [
              1,
              "#f0f921"
             ]
            ],
            "type": "surface"
           }
          ],
          "table": [
           {
            "cells": {
             "fill": {
              "color": "#EBF0F8"
             },
             "line": {
              "color": "white"
             }
            },
            "header": {
             "fill": {
              "color": "#C8D4E3"
             },
             "line": {
              "color": "white"
             }
            },
            "type": "table"
           }
          ]
         },
         "layout": {
          "annotationdefaults": {
           "arrowcolor": "#2a3f5f",
           "arrowhead": 0,
           "arrowwidth": 1
          },
          "autotypenumbers": "strict",
          "coloraxis": {
           "colorbar": {
            "outlinewidth": 0,
            "ticks": ""
           }
          },
          "colorscale": {
           "diverging": [
            [
             0,
             "#8e0152"
            ],
            [
             0.1,
             "#c51b7d"
            ],
            [
             0.2,
             "#de77ae"
            ],
            [
             0.3,
             "#f1b6da"
            ],
            [
             0.4,
             "#fde0ef"
            ],
            [
             0.5,
             "#f7f7f7"
            ],
            [
             0.6,
             "#e6f5d0"
            ],
            [
             0.7,
             "#b8e186"
            ],
            [
             0.8,
             "#7fbc41"
            ],
            [
             0.9,
             "#4d9221"
            ],
            [
             1,
             "#276419"
            ]
           ],
           "sequential": [
            [
             0,
             "#0d0887"
            ],
            [
             0.1111111111111111,
             "#46039f"
            ],
            [
             0.2222222222222222,
             "#7201a8"
            ],
            [
             0.3333333333333333,
             "#9c179e"
            ],
            [
             0.4444444444444444,
             "#bd3786"
            ],
            [
             0.5555555555555556,
             "#d8576b"
            ],
            [
             0.6666666666666666,
             "#ed7953"
            ],
            [
             0.7777777777777778,
             "#fb9f3a"
            ],
            [
             0.8888888888888888,
             "#fdca26"
            ],
            [
             1,
             "#f0f921"
            ]
           ],
           "sequentialminus": [
            [
             0,
             "#0d0887"
            ],
            [
             0.1111111111111111,
             "#46039f"
            ],
            [
             0.2222222222222222,
             "#7201a8"
            ],
            [
             0.3333333333333333,
             "#9c179e"
            ],
            [
             0.4444444444444444,
             "#bd3786"
            ],
            [
             0.5555555555555556,
             "#d8576b"
            ],
            [
             0.6666666666666666,
             "#ed7953"
            ],
            [
             0.7777777777777778,
             "#fb9f3a"
            ],
            [
             0.8888888888888888,
             "#fdca26"
            ],
            [
             1,
             "#f0f921"
            ]
           ]
          },
          "colorway": [
           "#636efa",
           "#EF553B",
           "#00cc96",
           "#ab63fa",
           "#FFA15A",
           "#19d3f3",
           "#FF6692",
           "#B6E880",
           "#FF97FF",
           "#FECB52"
          ],
          "font": {
           "color": "#2a3f5f"
          },
          "geo": {
           "bgcolor": "white",
           "lakecolor": "white",
           "landcolor": "#E5ECF6",
           "showlakes": true,
           "showland": true,
           "subunitcolor": "white"
          },
          "hoverlabel": {
           "align": "left"
          },
          "hovermode": "closest",
          "mapbox": {
           "style": "light"
          },
          "paper_bgcolor": "white",
          "plot_bgcolor": "#E5ECF6",
          "polar": {
           "angularaxis": {
            "gridcolor": "white",
            "linecolor": "white",
            "ticks": ""
           },
           "bgcolor": "#E5ECF6",
           "radialaxis": {
            "gridcolor": "white",
            "linecolor": "white",
            "ticks": ""
           }
          },
          "scene": {
           "xaxis": {
            "backgroundcolor": "#E5ECF6",
            "gridcolor": "white",
            "gridwidth": 2,
            "linecolor": "white",
            "showbackground": true,
            "ticks": "",
            "zerolinecolor": "white"
           },
           "yaxis": {
            "backgroundcolor": "#E5ECF6",
            "gridcolor": "white",
            "gridwidth": 2,
            "linecolor": "white",
            "showbackground": true,
            "ticks": "",
            "zerolinecolor": "white"
           },
           "zaxis": {
            "backgroundcolor": "#E5ECF6",
            "gridcolor": "white",
            "gridwidth": 2,
            "linecolor": "white",
            "showbackground": true,
            "ticks": "",
            "zerolinecolor": "white"
           }
          },
          "shapedefaults": {
           "line": {
            "color": "#2a3f5f"
           }
          },
          "ternary": {
           "aaxis": {
            "gridcolor": "white",
            "linecolor": "white",
            "ticks": ""
           },
           "baxis": {
            "gridcolor": "white",
            "linecolor": "white",
            "ticks": ""
           },
           "bgcolor": "#E5ECF6",
           "caxis": {
            "gridcolor": "white",
            "linecolor": "white",
            "ticks": ""
           }
          },
          "title": {
           "x": 0.05
          },
          "xaxis": {
           "automargin": true,
           "gridcolor": "white",
           "linecolor": "white",
           "ticks": "",
           "title": {
            "standoff": 15
           },
           "zerolinecolor": "white",
           "zerolinewidth": 2
          },
          "yaxis": {
           "automargin": true,
           "gridcolor": "white",
           "linecolor": "white",
           "ticks": "",
           "title": {
            "standoff": 15
           },
           "zerolinecolor": "white",
           "zerolinewidth": 2
          }
         }
        },
        "title": {
         "text": "Natural Language Processing(NLP) - Iran 2022"
        }
       }
      }
     },
     "metadata": {},
     "output_type": "display_data"
    }
   ],
   "source": [
    "NLPM = iran_2022_nafill[iran_2022_nafill['Q20_1'] != 'Not Answer']\n",
    "NLPM = NLPM[NLPM['Q20_1'] != 'Other']\n",
    "NLPM = NLPM[['Q20_1','Q17_1','Q18_1']].value_counts()\n",
    "NLPM = pd.DataFrame(NLPM)\n",
    "NLPM = NLPM.reset_index()\n",
    "\n",
    "fig = px.parallel_categories(NLPM,dimensions=['Q20_1','Q17_1','Q18_1'],\n",
    "                            labels={'Q20_1': 'NLP Methods','Q17_1':'Machine Learning Frameworks','Q18_1':'ML Algorithms'},\n",
    "                            title='Natural Language Processing(NLP) - Iran 2022',\n",
    "                            height=600,\n",
    "                            color='count',\n",
    "                            color_continuous_scale=px.colors.diverging.Tealrose)\n",
    "fig.show()"
   ]
  },
  {
   "cell_type": "code",
   "execution_count": 39,
   "metadata": {},
   "outputs": [
    {
     "data": {
      "application/vnd.plotly.v1+json": {
       "config": {
        "plotlyServerURL": "https://plot.ly"
       },
       "data": [
        {
         "dimensions": [
          {
           "label": "Education",
           "values": [
            "Master’s degree",
            "Master’s degree",
            "Doctoral degree",
            "Doctoral degree",
            "Doctoral degree",
            "Doctoral degree",
            "Doctoral degree",
            "Doctoral degree",
            "Master’s degree",
            "Master’s degree",
            "Master’s degree",
            "Master’s degree",
            "Master’s degree",
            "Master’s degree",
            "Master’s degree"
           ]
          },
          {
           "label": "Machine Learning Frameworks",
           "values": [
            "  Scikit-learn ",
            "  Scikit-learn ",
            "  Scikit-learn ",
            "  Scikit-learn ",
            "  Scikit-learn ",
            "  Scikit-learn ",
            "  Scikit-learn ",
            "  TensorFlow ",
            "  Scikit-learn ",
            "  Scikit-learn ",
            "  Scikit-learn ",
            "  Scikit-learn ",
            "  Scikit-learn ",
            "  TensorFlow ",
            "  TensorFlow "
           ]
          },
          {
           "label": "ML Algorithms",
           "values": [
            "Linear or Logistic Regression",
            "Linear or Logistic Regression",
            "Dense Neural Networks (MLPs, etc)",
            "Dense Neural Networks (MLPs, etc)",
            "Linear or Logistic Regression",
            "Linear or Logistic Regression",
            "Linear or Logistic Regression",
            "Linear or Logistic Regression",
            "Bayesian Approaches",
            "Decision Trees or Random Forests",
            "Dense Neural Networks (MLPs, etc)",
            "Linear or Logistic Regression",
            "Linear or Logistic Regression",
            "Decision Trees or Random Forests",
            "Linear or Logistic Regression"
           ]
          },
          {
           "label": "Computer Vision Methods",
           "values": [
            "Image segmentation methods (U-Net, Mask R-CNN, etc)",
            "Object detection methods (YOLOv6, RetinaNet, etc)",
            "Image classification and other general purpose networks (VGG, Inception, ResNet, ResNeXt, NASNet, EfficientNet, etc)",
            "Image segmentation methods (U-Net, Mask R-CNN, etc)",
            "General purpose image/video tools (PIL, cv2, skimage, etc)",
            "Image segmentation methods (U-Net, Mask R-CNN, etc)",
            "Object detection methods (YOLOv6, RetinaNet, etc)",
            "Image segmentation methods (U-Net, Mask R-CNN, etc)",
            "Image segmentation methods (U-Net, Mask R-CNN, etc)",
            "General purpose image/video tools (PIL, cv2, skimage, etc)",
            "Object detection methods (YOLOv6, RetinaNet, etc)",
            "General purpose image/video tools (PIL, cv2, skimage, etc)",
            "Image classification and other general purpose networks (VGG, Inception, ResNet, ResNeXt, NASNet, EfficientNet, etc)",
            "General purpose image/video tools (PIL, cv2, skimage, etc)",
            "Image segmentation methods (U-Net, Mask R-CNN, etc)"
           ]
          }
         ],
         "domain": {
          "x": [
           0,
           1
          ],
          "y": [
           0,
           1
          ]
         },
         "line": {
          "color": [
           3,
           2,
           1,
           1,
           1,
           1,
           1,
           1,
           1,
           1,
           1,
           1,
           1,
           1,
           1
          ],
          "coloraxis": "coloraxis"
         },
         "name": "",
         "type": "parcats"
        }
       ],
       "layout": {
        "coloraxis": {
         "colorbar": {
          "title": {
           "text": "count"
          }
         },
         "colorscale": [
          [
           0,
           "rgb(0, 147, 146)"
          ],
          [
           0.16666666666666666,
           "rgb(114, 170, 161)"
          ],
          [
           0.3333333333333333,
           "rgb(177, 199, 179)"
          ],
          [
           0.5,
           "rgb(241, 234, 200)"
          ],
          [
           0.6666666666666666,
           "rgb(229, 185, 173)"
          ],
          [
           0.8333333333333334,
           "rgb(217, 137, 148)"
          ],
          [
           1,
           "rgb(208, 88, 126)"
          ]
         ]
        },
        "height": 600,
        "legend": {
         "tracegroupgap": 0
        },
        "template": {
         "data": {
          "bar": [
           {
            "error_x": {
             "color": "#2a3f5f"
            },
            "error_y": {
             "color": "#2a3f5f"
            },
            "marker": {
             "line": {
              "color": "#E5ECF6",
              "width": 0.5
             },
             "pattern": {
              "fillmode": "overlay",
              "size": 10,
              "solidity": 0.2
             }
            },
            "type": "bar"
           }
          ],
          "barpolar": [
           {
            "marker": {
             "line": {
              "color": "#E5ECF6",
              "width": 0.5
             },
             "pattern": {
              "fillmode": "overlay",
              "size": 10,
              "solidity": 0.2
             }
            },
            "type": "barpolar"
           }
          ],
          "carpet": [
           {
            "aaxis": {
             "endlinecolor": "#2a3f5f",
             "gridcolor": "white",
             "linecolor": "white",
             "minorgridcolor": "white",
             "startlinecolor": "#2a3f5f"
            },
            "baxis": {
             "endlinecolor": "#2a3f5f",
             "gridcolor": "white",
             "linecolor": "white",
             "minorgridcolor": "white",
             "startlinecolor": "#2a3f5f"
            },
            "type": "carpet"
           }
          ],
          "choropleth": [
           {
            "colorbar": {
             "outlinewidth": 0,
             "ticks": ""
            },
            "type": "choropleth"
           }
          ],
          "contour": [
           {
            "colorbar": {
             "outlinewidth": 0,
             "ticks": ""
            },
            "colorscale": [
             [
              0,
              "#0d0887"
             ],
             [
              0.1111111111111111,
              "#46039f"
             ],
             [
              0.2222222222222222,
              "#7201a8"
             ],
             [
              0.3333333333333333,
              "#9c179e"
             ],
             [
              0.4444444444444444,
              "#bd3786"
             ],
             [
              0.5555555555555556,
              "#d8576b"
             ],
             [
              0.6666666666666666,
              "#ed7953"
             ],
             [
              0.7777777777777778,
              "#fb9f3a"
             ],
             [
              0.8888888888888888,
              "#fdca26"
             ],
             [
              1,
              "#f0f921"
             ]
            ],
            "type": "contour"
           }
          ],
          "contourcarpet": [
           {
            "colorbar": {
             "outlinewidth": 0,
             "ticks": ""
            },
            "type": "contourcarpet"
           }
          ],
          "heatmap": [
           {
            "colorbar": {
             "outlinewidth": 0,
             "ticks": ""
            },
            "colorscale": [
             [
              0,
              "#0d0887"
             ],
             [
              0.1111111111111111,
              "#46039f"
             ],
             [
              0.2222222222222222,
              "#7201a8"
             ],
             [
              0.3333333333333333,
              "#9c179e"
             ],
             [
              0.4444444444444444,
              "#bd3786"
             ],
             [
              0.5555555555555556,
              "#d8576b"
             ],
             [
              0.6666666666666666,
              "#ed7953"
             ],
             [
              0.7777777777777778,
              "#fb9f3a"
             ],
             [
              0.8888888888888888,
              "#fdca26"
             ],
             [
              1,
              "#f0f921"
             ]
            ],
            "type": "heatmap"
           }
          ],
          "heatmapgl": [
           {
            "colorbar": {
             "outlinewidth": 0,
             "ticks": ""
            },
            "colorscale": [
             [
              0,
              "#0d0887"
             ],
             [
              0.1111111111111111,
              "#46039f"
             ],
             [
              0.2222222222222222,
              "#7201a8"
             ],
             [
              0.3333333333333333,
              "#9c179e"
             ],
             [
              0.4444444444444444,
              "#bd3786"
             ],
             [
              0.5555555555555556,
              "#d8576b"
             ],
             [
              0.6666666666666666,
              "#ed7953"
             ],
             [
              0.7777777777777778,
              "#fb9f3a"
             ],
             [
              0.8888888888888888,
              "#fdca26"
             ],
             [
              1,
              "#f0f921"
             ]
            ],
            "type": "heatmapgl"
           }
          ],
          "histogram": [
           {
            "marker": {
             "pattern": {
              "fillmode": "overlay",
              "size": 10,
              "solidity": 0.2
             }
            },
            "type": "histogram"
           }
          ],
          "histogram2d": [
           {
            "colorbar": {
             "outlinewidth": 0,
             "ticks": ""
            },
            "colorscale": [
             [
              0,
              "#0d0887"
             ],
             [
              0.1111111111111111,
              "#46039f"
             ],
             [
              0.2222222222222222,
              "#7201a8"
             ],
             [
              0.3333333333333333,
              "#9c179e"
             ],
             [
              0.4444444444444444,
              "#bd3786"
             ],
             [
              0.5555555555555556,
              "#d8576b"
             ],
             [
              0.6666666666666666,
              "#ed7953"
             ],
             [
              0.7777777777777778,
              "#fb9f3a"
             ],
             [
              0.8888888888888888,
              "#fdca26"
             ],
             [
              1,
              "#f0f921"
             ]
            ],
            "type": "histogram2d"
           }
          ],
          "histogram2dcontour": [
           {
            "colorbar": {
             "outlinewidth": 0,
             "ticks": ""
            },
            "colorscale": [
             [
              0,
              "#0d0887"
             ],
             [
              0.1111111111111111,
              "#46039f"
             ],
             [
              0.2222222222222222,
              "#7201a8"
             ],
             [
              0.3333333333333333,
              "#9c179e"
             ],
             [
              0.4444444444444444,
              "#bd3786"
             ],
             [
              0.5555555555555556,
              "#d8576b"
             ],
             [
              0.6666666666666666,
              "#ed7953"
             ],
             [
              0.7777777777777778,
              "#fb9f3a"
             ],
             [
              0.8888888888888888,
              "#fdca26"
             ],
             [
              1,
              "#f0f921"
             ]
            ],
            "type": "histogram2dcontour"
           }
          ],
          "mesh3d": [
           {
            "colorbar": {
             "outlinewidth": 0,
             "ticks": ""
            },
            "type": "mesh3d"
           }
          ],
          "parcoords": [
           {
            "line": {
             "colorbar": {
              "outlinewidth": 0,
              "ticks": ""
             }
            },
            "type": "parcoords"
           }
          ],
          "pie": [
           {
            "automargin": true,
            "type": "pie"
           }
          ],
          "scatter": [
           {
            "fillpattern": {
             "fillmode": "overlay",
             "size": 10,
             "solidity": 0.2
            },
            "type": "scatter"
           }
          ],
          "scatter3d": [
           {
            "line": {
             "colorbar": {
              "outlinewidth": 0,
              "ticks": ""
             }
            },
            "marker": {
             "colorbar": {
              "outlinewidth": 0,
              "ticks": ""
             }
            },
            "type": "scatter3d"
           }
          ],
          "scattercarpet": [
           {
            "marker": {
             "colorbar": {
              "outlinewidth": 0,
              "ticks": ""
             }
            },
            "type": "scattercarpet"
           }
          ],
          "scattergeo": [
           {
            "marker": {
             "colorbar": {
              "outlinewidth": 0,
              "ticks": ""
             }
            },
            "type": "scattergeo"
           }
          ],
          "scattergl": [
           {
            "marker": {
             "colorbar": {
              "outlinewidth": 0,
              "ticks": ""
             }
            },
            "type": "scattergl"
           }
          ],
          "scattermapbox": [
           {
            "marker": {
             "colorbar": {
              "outlinewidth": 0,
              "ticks": ""
             }
            },
            "type": "scattermapbox"
           }
          ],
          "scatterpolar": [
           {
            "marker": {
             "colorbar": {
              "outlinewidth": 0,
              "ticks": ""
             }
            },
            "type": "scatterpolar"
           }
          ],
          "scatterpolargl": [
           {
            "marker": {
             "colorbar": {
              "outlinewidth": 0,
              "ticks": ""
             }
            },
            "type": "scatterpolargl"
           }
          ],
          "scatterternary": [
           {
            "marker": {
             "colorbar": {
              "outlinewidth": 0,
              "ticks": ""
             }
            },
            "type": "scatterternary"
           }
          ],
          "surface": [
           {
            "colorbar": {
             "outlinewidth": 0,
             "ticks": ""
            },
            "colorscale": [
             [
              0,
              "#0d0887"
             ],
             [
              0.1111111111111111,
              "#46039f"
             ],
             [
              0.2222222222222222,
              "#7201a8"
             ],
             [
              0.3333333333333333,
              "#9c179e"
             ],
             [
              0.4444444444444444,
              "#bd3786"
             ],
             [
              0.5555555555555556,
              "#d8576b"
             ],
             [
              0.6666666666666666,
              "#ed7953"
             ],
             [
              0.7777777777777778,
              "#fb9f3a"
             ],
             [
              0.8888888888888888,
              "#fdca26"
             ],
             [
              1,
              "#f0f921"
             ]
            ],
            "type": "surface"
           }
          ],
          "table": [
           {
            "cells": {
             "fill": {
              "color": "#EBF0F8"
             },
             "line": {
              "color": "white"
             }
            },
            "header": {
             "fill": {
              "color": "#C8D4E3"
             },
             "line": {
              "color": "white"
             }
            },
            "type": "table"
           }
          ]
         },
         "layout": {
          "annotationdefaults": {
           "arrowcolor": "#2a3f5f",
           "arrowhead": 0,
           "arrowwidth": 1
          },
          "autotypenumbers": "strict",
          "coloraxis": {
           "colorbar": {
            "outlinewidth": 0,
            "ticks": ""
           }
          },
          "colorscale": {
           "diverging": [
            [
             0,
             "#8e0152"
            ],
            [
             0.1,
             "#c51b7d"
            ],
            [
             0.2,
             "#de77ae"
            ],
            [
             0.3,
             "#f1b6da"
            ],
            [
             0.4,
             "#fde0ef"
            ],
            [
             0.5,
             "#f7f7f7"
            ],
            [
             0.6,
             "#e6f5d0"
            ],
            [
             0.7,
             "#b8e186"
            ],
            [
             0.8,
             "#7fbc41"
            ],
            [
             0.9,
             "#4d9221"
            ],
            [
             1,
             "#276419"
            ]
           ],
           "sequential": [
            [
             0,
             "#0d0887"
            ],
            [
             0.1111111111111111,
             "#46039f"
            ],
            [
             0.2222222222222222,
             "#7201a8"
            ],
            [
             0.3333333333333333,
             "#9c179e"
            ],
            [
             0.4444444444444444,
             "#bd3786"
            ],
            [
             0.5555555555555556,
             "#d8576b"
            ],
            [
             0.6666666666666666,
             "#ed7953"
            ],
            [
             0.7777777777777778,
             "#fb9f3a"
            ],
            [
             0.8888888888888888,
             "#fdca26"
            ],
            [
             1,
             "#f0f921"
            ]
           ],
           "sequentialminus": [
            [
             0,
             "#0d0887"
            ],
            [
             0.1111111111111111,
             "#46039f"
            ],
            [
             0.2222222222222222,
             "#7201a8"
            ],
            [
             0.3333333333333333,
             "#9c179e"
            ],
            [
             0.4444444444444444,
             "#bd3786"
            ],
            [
             0.5555555555555556,
             "#d8576b"
            ],
            [
             0.6666666666666666,
             "#ed7953"
            ],
            [
             0.7777777777777778,
             "#fb9f3a"
            ],
            [
             0.8888888888888888,
             "#fdca26"
            ],
            [
             1,
             "#f0f921"
            ]
           ]
          },
          "colorway": [
           "#636efa",
           "#EF553B",
           "#00cc96",
           "#ab63fa",
           "#FFA15A",
           "#19d3f3",
           "#FF6692",
           "#B6E880",
           "#FF97FF",
           "#FECB52"
          ],
          "font": {
           "color": "#2a3f5f"
          },
          "geo": {
           "bgcolor": "white",
           "lakecolor": "white",
           "landcolor": "#E5ECF6",
           "showlakes": true,
           "showland": true,
           "subunitcolor": "white"
          },
          "hoverlabel": {
           "align": "left"
          },
          "hovermode": "closest",
          "mapbox": {
           "style": "light"
          },
          "paper_bgcolor": "white",
          "plot_bgcolor": "#E5ECF6",
          "polar": {
           "angularaxis": {
            "gridcolor": "white",
            "linecolor": "white",
            "ticks": ""
           },
           "bgcolor": "#E5ECF6",
           "radialaxis": {
            "gridcolor": "white",
            "linecolor": "white",
            "ticks": ""
           }
          },
          "scene": {
           "xaxis": {
            "backgroundcolor": "#E5ECF6",
            "gridcolor": "white",
            "gridwidth": 2,
            "linecolor": "white",
            "showbackground": true,
            "ticks": "",
            "zerolinecolor": "white"
           },
           "yaxis": {
            "backgroundcolor": "#E5ECF6",
            "gridcolor": "white",
            "gridwidth": 2,
            "linecolor": "white",
            "showbackground": true,
            "ticks": "",
            "zerolinecolor": "white"
           },
           "zaxis": {
            "backgroundcolor": "#E5ECF6",
            "gridcolor": "white",
            "gridwidth": 2,
            "linecolor": "white",
            "showbackground": true,
            "ticks": "",
            "zerolinecolor": "white"
           }
          },
          "shapedefaults": {
           "line": {
            "color": "#2a3f5f"
           }
          },
          "ternary": {
           "aaxis": {
            "gridcolor": "white",
            "linecolor": "white",
            "ticks": ""
           },
           "baxis": {
            "gridcolor": "white",
            "linecolor": "white",
            "ticks": ""
           },
           "bgcolor": "#E5ECF6",
           "caxis": {
            "gridcolor": "white",
            "linecolor": "white",
            "ticks": ""
           }
          },
          "title": {
           "x": 0.05
          },
          "xaxis": {
           "automargin": true,
           "gridcolor": "white",
           "linecolor": "white",
           "ticks": "",
           "title": {
            "standoff": 15
           },
           "zerolinecolor": "white",
           "zerolinewidth": 2
          },
          "yaxis": {
           "automargin": true,
           "gridcolor": "white",
           "linecolor": "white",
           "ticks": "",
           "title": {
            "standoff": 15
           },
           "zerolinecolor": "white",
           "zerolinewidth": 2
          }
         }
        },
        "title": {
         "text": "Computer Vision Research - Iran 2022"
        }
       }
      }
     },
     "metadata": {},
     "output_type": "display_data"
    }
   ],
   "source": [
    "ResearchV = iran_2022_nafill[iran_2022_nafill['Q9'] == 'Yes']\n",
    "ResearchV = ResearchV[['Q9','Q8','Q17_1','Q18_1','Q19_1']][ResearchV[['Q9','Q8','Q17_1','Q18_1','Q19_1']] != 'Not Answer'].dropna()\n",
    "ResearchV = ResearchV.value_counts()\n",
    "ResearchV = pd.DataFrame(ResearchV).reset_index()\n",
    "\n",
    "fig = px.parallel_categories(ResearchV,dimensions=['Q8','Q17_1','Q18_1','Q19_1'],\n",
    "                            labels={'Q8': 'Education','Q17_1':'Machine Learning Frameworks','Q18_1':'ML Algorithms','Q19_1': 'Computer Vision Methods'},\n",
    "                            title='Computer Vision Research - Iran 2022',\n",
    "                            height=600,\n",
    "                            color='count',\n",
    "                            color_continuous_scale=px.colors.diverging.Tealrose\n",
    "                            )\n",
    "fig.show()"
   ]
  },
  {
   "cell_type": "code",
   "execution_count": 40,
   "metadata": {},
   "outputs": [
    {
     "data": {
      "application/vnd.plotly.v1+json": {
       "config": {
        "plotlyServerURL": "https://plot.ly"
       },
       "data": [
        {
         "dimensions": [
          {
           "label": "Education",
           "values": [
            "Doctoral degree",
            "Doctoral degree",
            "Doctoral degree",
            "Master’s degree",
            "Master’s degree",
            "Master’s degree",
            "Master’s degree",
            "Master’s degree"
           ]
          },
          {
           "label": "Machine Learning Frameworks",
           "values": [
            "  Scikit-learn ",
            "  Scikit-learn ",
            "  TensorFlow ",
            "  Scikit-learn ",
            "  Scikit-learn ",
            "  Scikit-learn ",
            "  Scikit-learn ",
            "  TensorFlow "
           ]
          },
          {
           "label": "ML Algorithms",
           "values": [
            "Dense Neural Networks (MLPs, etc)",
            "Gradient Boosting Machines (xgboost, lightgbm, etc)",
            "Linear or Logistic Regression",
            "Decision Trees or Random Forests",
            "Linear or Logistic Regression",
            "Linear or Logistic Regression",
            "Linear or Logistic Regression",
            "Decision Trees or Random Forests"
           ]
          },
          {
           "label": "NLP Methods",
           "values": [
            "Word embeddings/vectors (GLoVe, fastText, word2vec)",
            "Transformer language models (GPT-3, BERT, XLnet, etc)",
            "Word embeddings/vectors (GLoVe, fastText, word2vec)",
            "Transformer language models (GPT-3, BERT, XLnet, etc)",
            "Encoder-decoder models (seq2seq, vanilla transformers)",
            "Transformer language models (GPT-3, BERT, XLnet, etc)",
            "Word embeddings/vectors (GLoVe, fastText, word2vec)",
            "Encoder-decoder models (seq2seq, vanilla transformers)"
           ]
          }
         ],
         "domain": {
          "x": [
           0,
           1
          ],
          "y": [
           0,
           1
          ]
         },
         "name": "",
         "type": "parcats"
        }
       ],
       "layout": {
        "height": 600,
        "legend": {
         "tracegroupgap": 0
        },
        "template": {
         "data": {
          "bar": [
           {
            "error_x": {
             "color": "#2a3f5f"
            },
            "error_y": {
             "color": "#2a3f5f"
            },
            "marker": {
             "line": {
              "color": "#E5ECF6",
              "width": 0.5
             },
             "pattern": {
              "fillmode": "overlay",
              "size": 10,
              "solidity": 0.2
             }
            },
            "type": "bar"
           }
          ],
          "barpolar": [
           {
            "marker": {
             "line": {
              "color": "#E5ECF6",
              "width": 0.5
             },
             "pattern": {
              "fillmode": "overlay",
              "size": 10,
              "solidity": 0.2
             }
            },
            "type": "barpolar"
           }
          ],
          "carpet": [
           {
            "aaxis": {
             "endlinecolor": "#2a3f5f",
             "gridcolor": "white",
             "linecolor": "white",
             "minorgridcolor": "white",
             "startlinecolor": "#2a3f5f"
            },
            "baxis": {
             "endlinecolor": "#2a3f5f",
             "gridcolor": "white",
             "linecolor": "white",
             "minorgridcolor": "white",
             "startlinecolor": "#2a3f5f"
            },
            "type": "carpet"
           }
          ],
          "choropleth": [
           {
            "colorbar": {
             "outlinewidth": 0,
             "ticks": ""
            },
            "type": "choropleth"
           }
          ],
          "contour": [
           {
            "colorbar": {
             "outlinewidth": 0,
             "ticks": ""
            },
            "colorscale": [
             [
              0,
              "#0d0887"
             ],
             [
              0.1111111111111111,
              "#46039f"
             ],
             [
              0.2222222222222222,
              "#7201a8"
             ],
             [
              0.3333333333333333,
              "#9c179e"
             ],
             [
              0.4444444444444444,
              "#bd3786"
             ],
             [
              0.5555555555555556,
              "#d8576b"
             ],
             [
              0.6666666666666666,
              "#ed7953"
             ],
             [
              0.7777777777777778,
              "#fb9f3a"
             ],
             [
              0.8888888888888888,
              "#fdca26"
             ],
             [
              1,
              "#f0f921"
             ]
            ],
            "type": "contour"
           }
          ],
          "contourcarpet": [
           {
            "colorbar": {
             "outlinewidth": 0,
             "ticks": ""
            },
            "type": "contourcarpet"
           }
          ],
          "heatmap": [
           {
            "colorbar": {
             "outlinewidth": 0,
             "ticks": ""
            },
            "colorscale": [
             [
              0,
              "#0d0887"
             ],
             [
              0.1111111111111111,
              "#46039f"
             ],
             [
              0.2222222222222222,
              "#7201a8"
             ],
             [
              0.3333333333333333,
              "#9c179e"
             ],
             [
              0.4444444444444444,
              "#bd3786"
             ],
             [
              0.5555555555555556,
              "#d8576b"
             ],
             [
              0.6666666666666666,
              "#ed7953"
             ],
             [
              0.7777777777777778,
              "#fb9f3a"
             ],
             [
              0.8888888888888888,
              "#fdca26"
             ],
             [
              1,
              "#f0f921"
             ]
            ],
            "type": "heatmap"
           }
          ],
          "heatmapgl": [
           {
            "colorbar": {
             "outlinewidth": 0,
             "ticks": ""
            },
            "colorscale": [
             [
              0,
              "#0d0887"
             ],
             [
              0.1111111111111111,
              "#46039f"
             ],
             [
              0.2222222222222222,
              "#7201a8"
             ],
             [
              0.3333333333333333,
              "#9c179e"
             ],
             [
              0.4444444444444444,
              "#bd3786"
             ],
             [
              0.5555555555555556,
              "#d8576b"
             ],
             [
              0.6666666666666666,
              "#ed7953"
             ],
             [
              0.7777777777777778,
              "#fb9f3a"
             ],
             [
              0.8888888888888888,
              "#fdca26"
             ],
             [
              1,
              "#f0f921"
             ]
            ],
            "type": "heatmapgl"
           }
          ],
          "histogram": [
           {
            "marker": {
             "pattern": {
              "fillmode": "overlay",
              "size": 10,
              "solidity": 0.2
             }
            },
            "type": "histogram"
           }
          ],
          "histogram2d": [
           {
            "colorbar": {
             "outlinewidth": 0,
             "ticks": ""
            },
            "colorscale": [
             [
              0,
              "#0d0887"
             ],
             [
              0.1111111111111111,
              "#46039f"
             ],
             [
              0.2222222222222222,
              "#7201a8"
             ],
             [
              0.3333333333333333,
              "#9c179e"
             ],
             [
              0.4444444444444444,
              "#bd3786"
             ],
             [
              0.5555555555555556,
              "#d8576b"
             ],
             [
              0.6666666666666666,
              "#ed7953"
             ],
             [
              0.7777777777777778,
              "#fb9f3a"
             ],
             [
              0.8888888888888888,
              "#fdca26"
             ],
             [
              1,
              "#f0f921"
             ]
            ],
            "type": "histogram2d"
           }
          ],
          "histogram2dcontour": [
           {
            "colorbar": {
             "outlinewidth": 0,
             "ticks": ""
            },
            "colorscale": [
             [
              0,
              "#0d0887"
             ],
             [
              0.1111111111111111,
              "#46039f"
             ],
             [
              0.2222222222222222,
              "#7201a8"
             ],
             [
              0.3333333333333333,
              "#9c179e"
             ],
             [
              0.4444444444444444,
              "#bd3786"
             ],
             [
              0.5555555555555556,
              "#d8576b"
             ],
             [
              0.6666666666666666,
              "#ed7953"
             ],
             [
              0.7777777777777778,
              "#fb9f3a"
             ],
             [
              0.8888888888888888,
              "#fdca26"
             ],
             [
              1,
              "#f0f921"
             ]
            ],
            "type": "histogram2dcontour"
           }
          ],
          "mesh3d": [
           {
            "colorbar": {
             "outlinewidth": 0,
             "ticks": ""
            },
            "type": "mesh3d"
           }
          ],
          "parcoords": [
           {
            "line": {
             "colorbar": {
              "outlinewidth": 0,
              "ticks": ""
             }
            },
            "type": "parcoords"
           }
          ],
          "pie": [
           {
            "automargin": true,
            "type": "pie"
           }
          ],
          "scatter": [
           {
            "fillpattern": {
             "fillmode": "overlay",
             "size": 10,
             "solidity": 0.2
            },
            "type": "scatter"
           }
          ],
          "scatter3d": [
           {
            "line": {
             "colorbar": {
              "outlinewidth": 0,
              "ticks": ""
             }
            },
            "marker": {
             "colorbar": {
              "outlinewidth": 0,
              "ticks": ""
             }
            },
            "type": "scatter3d"
           }
          ],
          "scattercarpet": [
           {
            "marker": {
             "colorbar": {
              "outlinewidth": 0,
              "ticks": ""
             }
            },
            "type": "scattercarpet"
           }
          ],
          "scattergeo": [
           {
            "marker": {
             "colorbar": {
              "outlinewidth": 0,
              "ticks": ""
             }
            },
            "type": "scattergeo"
           }
          ],
          "scattergl": [
           {
            "marker": {
             "colorbar": {
              "outlinewidth": 0,
              "ticks": ""
             }
            },
            "type": "scattergl"
           }
          ],
          "scattermapbox": [
           {
            "marker": {
             "colorbar": {
              "outlinewidth": 0,
              "ticks": ""
             }
            },
            "type": "scattermapbox"
           }
          ],
          "scatterpolar": [
           {
            "marker": {
             "colorbar": {
              "outlinewidth": 0,
              "ticks": ""
             }
            },
            "type": "scatterpolar"
           }
          ],
          "scatterpolargl": [
           {
            "marker": {
             "colorbar": {
              "outlinewidth": 0,
              "ticks": ""
             }
            },
            "type": "scatterpolargl"
           }
          ],
          "scatterternary": [
           {
            "marker": {
             "colorbar": {
              "outlinewidth": 0,
              "ticks": ""
             }
            },
            "type": "scatterternary"
           }
          ],
          "surface": [
           {
            "colorbar": {
             "outlinewidth": 0,
             "ticks": ""
            },
            "colorscale": [
             [
              0,
              "#0d0887"
             ],
             [
              0.1111111111111111,
              "#46039f"
             ],
             [
              0.2222222222222222,
              "#7201a8"
             ],
             [
              0.3333333333333333,
              "#9c179e"
             ],
             [
              0.4444444444444444,
              "#bd3786"
             ],
             [
              0.5555555555555556,
              "#d8576b"
             ],
             [
              0.6666666666666666,
              "#ed7953"
             ],
             [
              0.7777777777777778,
              "#fb9f3a"
             ],
             [
              0.8888888888888888,
              "#fdca26"
             ],
             [
              1,
              "#f0f921"
             ]
            ],
            "type": "surface"
           }
          ],
          "table": [
           {
            "cells": {
             "fill": {
              "color": "#EBF0F8"
             },
             "line": {
              "color": "white"
             }
            },
            "header": {
             "fill": {
              "color": "#C8D4E3"
             },
             "line": {
              "color": "white"
             }
            },
            "type": "table"
           }
          ]
         },
         "layout": {
          "annotationdefaults": {
           "arrowcolor": "#2a3f5f",
           "arrowhead": 0,
           "arrowwidth": 1
          },
          "autotypenumbers": "strict",
          "coloraxis": {
           "colorbar": {
            "outlinewidth": 0,
            "ticks": ""
           }
          },
          "colorscale": {
           "diverging": [
            [
             0,
             "#8e0152"
            ],
            [
             0.1,
             "#c51b7d"
            ],
            [
             0.2,
             "#de77ae"
            ],
            [
             0.3,
             "#f1b6da"
            ],
            [
             0.4,
             "#fde0ef"
            ],
            [
             0.5,
             "#f7f7f7"
            ],
            [
             0.6,
             "#e6f5d0"
            ],
            [
             0.7,
             "#b8e186"
            ],
            [
             0.8,
             "#7fbc41"
            ],
            [
             0.9,
             "#4d9221"
            ],
            [
             1,
             "#276419"
            ]
           ],
           "sequential": [
            [
             0,
             "#0d0887"
            ],
            [
             0.1111111111111111,
             "#46039f"
            ],
            [
             0.2222222222222222,
             "#7201a8"
            ],
            [
             0.3333333333333333,
             "#9c179e"
            ],
            [
             0.4444444444444444,
             "#bd3786"
            ],
            [
             0.5555555555555556,
             "#d8576b"
            ],
            [
             0.6666666666666666,
             "#ed7953"
            ],
            [
             0.7777777777777778,
             "#fb9f3a"
            ],
            [
             0.8888888888888888,
             "#fdca26"
            ],
            [
             1,
             "#f0f921"
            ]
           ],
           "sequentialminus": [
            [
             0,
             "#0d0887"
            ],
            [
             0.1111111111111111,
             "#46039f"
            ],
            [
             0.2222222222222222,
             "#7201a8"
            ],
            [
             0.3333333333333333,
             "#9c179e"
            ],
            [
             0.4444444444444444,
             "#bd3786"
            ],
            [
             0.5555555555555556,
             "#d8576b"
            ],
            [
             0.6666666666666666,
             "#ed7953"
            ],
            [
             0.7777777777777778,
             "#fb9f3a"
            ],
            [
             0.8888888888888888,
             "#fdca26"
            ],
            [
             1,
             "#f0f921"
            ]
           ]
          },
          "colorway": [
           "#636efa",
           "#EF553B",
           "#00cc96",
           "#ab63fa",
           "#FFA15A",
           "#19d3f3",
           "#FF6692",
           "#B6E880",
           "#FF97FF",
           "#FECB52"
          ],
          "font": {
           "color": "#2a3f5f"
          },
          "geo": {
           "bgcolor": "white",
           "lakecolor": "white",
           "landcolor": "#E5ECF6",
           "showlakes": true,
           "showland": true,
           "subunitcolor": "white"
          },
          "hoverlabel": {
           "align": "left"
          },
          "hovermode": "closest",
          "mapbox": {
           "style": "light"
          },
          "paper_bgcolor": "white",
          "plot_bgcolor": "#E5ECF6",
          "polar": {
           "angularaxis": {
            "gridcolor": "white",
            "linecolor": "white",
            "ticks": ""
           },
           "bgcolor": "#E5ECF6",
           "radialaxis": {
            "gridcolor": "white",
            "linecolor": "white",
            "ticks": ""
           }
          },
          "scene": {
           "xaxis": {
            "backgroundcolor": "#E5ECF6",
            "gridcolor": "white",
            "gridwidth": 2,
            "linecolor": "white",
            "showbackground": true,
            "ticks": "",
            "zerolinecolor": "white"
           },
           "yaxis": {
            "backgroundcolor": "#E5ECF6",
            "gridcolor": "white",
            "gridwidth": 2,
            "linecolor": "white",
            "showbackground": true,
            "ticks": "",
            "zerolinecolor": "white"
           },
           "zaxis": {
            "backgroundcolor": "#E5ECF6",
            "gridcolor": "white",
            "gridwidth": 2,
            "linecolor": "white",
            "showbackground": true,
            "ticks": "",
            "zerolinecolor": "white"
           }
          },
          "shapedefaults": {
           "line": {
            "color": "#2a3f5f"
           }
          },
          "ternary": {
           "aaxis": {
            "gridcolor": "white",
            "linecolor": "white",
            "ticks": ""
           },
           "baxis": {
            "gridcolor": "white",
            "linecolor": "white",
            "ticks": ""
           },
           "bgcolor": "#E5ECF6",
           "caxis": {
            "gridcolor": "white",
            "linecolor": "white",
            "ticks": ""
           }
          },
          "title": {
           "x": 0.05
          },
          "xaxis": {
           "automargin": true,
           "gridcolor": "white",
           "linecolor": "white",
           "ticks": "",
           "title": {
            "standoff": 15
           },
           "zerolinecolor": "white",
           "zerolinewidth": 2
          },
          "yaxis": {
           "automargin": true,
           "gridcolor": "white",
           "linecolor": "white",
           "ticks": "",
           "title": {
            "standoff": 15
           },
           "zerolinecolor": "white",
           "zerolinewidth": 2
          }
         }
        },
        "title": {
         "text": "NLP Research - Iran 2022"
        }
       }
      }
     },
     "metadata": {},
     "output_type": "display_data"
    }
   ],
   "source": [
    "ResearchNlp = iran_2022_nafill[iran_2022_nafill['Q9'] == 'Yes']\n",
    "ResearchNlp = ResearchNlp[['Q9','Q8','Q17_1','Q18_1','Q20_1']][ResearchNlp[['Q9','Q8','Q17_1','Q18_1','Q20_1']] != 'Not Answer'].dropna()\n",
    "ResearchNlp = ResearchNlp.value_counts()\n",
    "ResearchNlp = pd.DataFrame(ResearchNlp).reset_index()\n",
    "\n",
    "fig = px.parallel_categories(ResearchNlp[ResearchNlp['Q20_1'] != 'Other'],dimensions=['Q8','Q17_1','Q18_1','Q20_1'],\n",
    "                            labels={'Q8': 'Education','Q17_1':'Machine Learning Frameworks','Q18_1':'ML Algorithms','Q20_1': 'NLP Methods'},\n",
    "                            title='NLP Research - Iran 2022',\n",
    "                            height=600,\n",
    "                            )\n",
    "fig.show()"
   ]
  },
  {
   "cell_type": "code",
   "execution_count": 41,
   "metadata": {},
   "outputs": [
    {
     "data": {
      "application/vnd.plotly.v1+json": {
       "config": {
        "plotlyServerURL": "https://plot.ly"
       },
       "data": [
        {
         "dimensions": [
          {
           "label": "Activity",
           "values": [
            "We are exploring ML methods (and may one day put a model into production)",
            "We use ML methods for generating insights (but do not put working models into production)",
            "We use ML methods for generating insights (but do not put working models into production)",
            "We recently started using ML methods (i.e., models in production for less than 2 years)",
            "We are exploring ML methods (and may one day put a model into production)",
            "We recently started using ML methods (i.e., models in production for less than 2 years)",
            "We recently started using ML methods (i.e., models in production for less than 2 years)"
           ]
          },
          {
           "label": "Role At Work",
           "values": [
            "Analyze and understand data to influence product or business decisions",
            "Analyze and understand data to influence product or business decisions",
            "Analyze and understand data to influence product or business decisions",
            "Analyze and understand data to influence product or business decisions",
            "Analyze and understand data to influence product or business decisions",
            "Analyze and understand data to influence product or business decisions",
            "Analyze and understand data to influence product or business decisions"
           ]
          },
          {
           "label": "Industry",
           "values": [
            "Computers/Technology",
            "Broadcasting/Communications",
            "Accounting/Finance",
            "Computers/Technology",
            "Accounting/Finance",
            "Marketing/CRM",
            "Computers/Technology"
           ]
          }
         ],
         "domain": {
          "x": [
           0,
           1
          ],
          "y": [
           0,
           1
          ]
         },
         "name": "",
         "type": "parcats"
        }
       ],
       "layout": {
        "height": 600,
        "legend": {
         "tracegroupgap": 0
        },
        "template": {
         "data": {
          "bar": [
           {
            "error_x": {
             "color": "#2a3f5f"
            },
            "error_y": {
             "color": "#2a3f5f"
            },
            "marker": {
             "line": {
              "color": "#E5ECF6",
              "width": 0.5
             },
             "pattern": {
              "fillmode": "overlay",
              "size": 10,
              "solidity": 0.2
             }
            },
            "type": "bar"
           }
          ],
          "barpolar": [
           {
            "marker": {
             "line": {
              "color": "#E5ECF6",
              "width": 0.5
             },
             "pattern": {
              "fillmode": "overlay",
              "size": 10,
              "solidity": 0.2
             }
            },
            "type": "barpolar"
           }
          ],
          "carpet": [
           {
            "aaxis": {
             "endlinecolor": "#2a3f5f",
             "gridcolor": "white",
             "linecolor": "white",
             "minorgridcolor": "white",
             "startlinecolor": "#2a3f5f"
            },
            "baxis": {
             "endlinecolor": "#2a3f5f",
             "gridcolor": "white",
             "linecolor": "white",
             "minorgridcolor": "white",
             "startlinecolor": "#2a3f5f"
            },
            "type": "carpet"
           }
          ],
          "choropleth": [
           {
            "colorbar": {
             "outlinewidth": 0,
             "ticks": ""
            },
            "type": "choropleth"
           }
          ],
          "contour": [
           {
            "colorbar": {
             "outlinewidth": 0,
             "ticks": ""
            },
            "colorscale": [
             [
              0,
              "#0d0887"
             ],
             [
              0.1111111111111111,
              "#46039f"
             ],
             [
              0.2222222222222222,
              "#7201a8"
             ],
             [
              0.3333333333333333,
              "#9c179e"
             ],
             [
              0.4444444444444444,
              "#bd3786"
             ],
             [
              0.5555555555555556,
              "#d8576b"
             ],
             [
              0.6666666666666666,
              "#ed7953"
             ],
             [
              0.7777777777777778,
              "#fb9f3a"
             ],
             [
              0.8888888888888888,
              "#fdca26"
             ],
             [
              1,
              "#f0f921"
             ]
            ],
            "type": "contour"
           }
          ],
          "contourcarpet": [
           {
            "colorbar": {
             "outlinewidth": 0,
             "ticks": ""
            },
            "type": "contourcarpet"
           }
          ],
          "heatmap": [
           {
            "colorbar": {
             "outlinewidth": 0,
             "ticks": ""
            },
            "colorscale": [
             [
              0,
              "#0d0887"
             ],
             [
              0.1111111111111111,
              "#46039f"
             ],
             [
              0.2222222222222222,
              "#7201a8"
             ],
             [
              0.3333333333333333,
              "#9c179e"
             ],
             [
              0.4444444444444444,
              "#bd3786"
             ],
             [
              0.5555555555555556,
              "#d8576b"
             ],
             [
              0.6666666666666666,
              "#ed7953"
             ],
             [
              0.7777777777777778,
              "#fb9f3a"
             ],
             [
              0.8888888888888888,
              "#fdca26"
             ],
             [
              1,
              "#f0f921"
             ]
            ],
            "type": "heatmap"
           }
          ],
          "heatmapgl": [
           {
            "colorbar": {
             "outlinewidth": 0,
             "ticks": ""
            },
            "colorscale": [
             [
              0,
              "#0d0887"
             ],
             [
              0.1111111111111111,
              "#46039f"
             ],
             [
              0.2222222222222222,
              "#7201a8"
             ],
             [
              0.3333333333333333,
              "#9c179e"
             ],
             [
              0.4444444444444444,
              "#bd3786"
             ],
             [
              0.5555555555555556,
              "#d8576b"
             ],
             [
              0.6666666666666666,
              "#ed7953"
             ],
             [
              0.7777777777777778,
              "#fb9f3a"
             ],
             [
              0.8888888888888888,
              "#fdca26"
             ],
             [
              1,
              "#f0f921"
             ]
            ],
            "type": "heatmapgl"
           }
          ],
          "histogram": [
           {
            "marker": {
             "pattern": {
              "fillmode": "overlay",
              "size": 10,
              "solidity": 0.2
             }
            },
            "type": "histogram"
           }
          ],
          "histogram2d": [
           {
            "colorbar": {
             "outlinewidth": 0,
             "ticks": ""
            },
            "colorscale": [
             [
              0,
              "#0d0887"
             ],
             [
              0.1111111111111111,
              "#46039f"
             ],
             [
              0.2222222222222222,
              "#7201a8"
             ],
             [
              0.3333333333333333,
              "#9c179e"
             ],
             [
              0.4444444444444444,
              "#bd3786"
             ],
             [
              0.5555555555555556,
              "#d8576b"
             ],
             [
              0.6666666666666666,
              "#ed7953"
             ],
             [
              0.7777777777777778,
              "#fb9f3a"
             ],
             [
              0.8888888888888888,
              "#fdca26"
             ],
             [
              1,
              "#f0f921"
             ]
            ],
            "type": "histogram2d"
           }
          ],
          "histogram2dcontour": [
           {
            "colorbar": {
             "outlinewidth": 0,
             "ticks": ""
            },
            "colorscale": [
             [
              0,
              "#0d0887"
             ],
             [
              0.1111111111111111,
              "#46039f"
             ],
             [
              0.2222222222222222,
              "#7201a8"
             ],
             [
              0.3333333333333333,
              "#9c179e"
             ],
             [
              0.4444444444444444,
              "#bd3786"
             ],
             [
              0.5555555555555556,
              "#d8576b"
             ],
             [
              0.6666666666666666,
              "#ed7953"
             ],
             [
              0.7777777777777778,
              "#fb9f3a"
             ],
             [
              0.8888888888888888,
              "#fdca26"
             ],
             [
              1,
              "#f0f921"
             ]
            ],
            "type": "histogram2dcontour"
           }
          ],
          "mesh3d": [
           {
            "colorbar": {
             "outlinewidth": 0,
             "ticks": ""
            },
            "type": "mesh3d"
           }
          ],
          "parcoords": [
           {
            "line": {
             "colorbar": {
              "outlinewidth": 0,
              "ticks": ""
             }
            },
            "type": "parcoords"
           }
          ],
          "pie": [
           {
            "automargin": true,
            "type": "pie"
           }
          ],
          "scatter": [
           {
            "fillpattern": {
             "fillmode": "overlay",
             "size": 10,
             "solidity": 0.2
            },
            "type": "scatter"
           }
          ],
          "scatter3d": [
           {
            "line": {
             "colorbar": {
              "outlinewidth": 0,
              "ticks": ""
             }
            },
            "marker": {
             "colorbar": {
              "outlinewidth": 0,
              "ticks": ""
             }
            },
            "type": "scatter3d"
           }
          ],
          "scattercarpet": [
           {
            "marker": {
             "colorbar": {
              "outlinewidth": 0,
              "ticks": ""
             }
            },
            "type": "scattercarpet"
           }
          ],
          "scattergeo": [
           {
            "marker": {
             "colorbar": {
              "outlinewidth": 0,
              "ticks": ""
             }
            },
            "type": "scattergeo"
           }
          ],
          "scattergl": [
           {
            "marker": {
             "colorbar": {
              "outlinewidth": 0,
              "ticks": ""
             }
            },
            "type": "scattergl"
           }
          ],
          "scattermapbox": [
           {
            "marker": {
             "colorbar": {
              "outlinewidth": 0,
              "ticks": ""
             }
            },
            "type": "scattermapbox"
           }
          ],
          "scatterpolar": [
           {
            "marker": {
             "colorbar": {
              "outlinewidth": 0,
              "ticks": ""
             }
            },
            "type": "scatterpolar"
           }
          ],
          "scatterpolargl": [
           {
            "marker": {
             "colorbar": {
              "outlinewidth": 0,
              "ticks": ""
             }
            },
            "type": "scatterpolargl"
           }
          ],
          "scatterternary": [
           {
            "marker": {
             "colorbar": {
              "outlinewidth": 0,
              "ticks": ""
             }
            },
            "type": "scatterternary"
           }
          ],
          "surface": [
           {
            "colorbar": {
             "outlinewidth": 0,
             "ticks": ""
            },
            "colorscale": [
             [
              0,
              "#0d0887"
             ],
             [
              0.1111111111111111,
              "#46039f"
             ],
             [
              0.2222222222222222,
              "#7201a8"
             ],
             [
              0.3333333333333333,
              "#9c179e"
             ],
             [
              0.4444444444444444,
              "#bd3786"
             ],
             [
              0.5555555555555556,
              "#d8576b"
             ],
             [
              0.6666666666666666,
              "#ed7953"
             ],
             [
              0.7777777777777778,
              "#fb9f3a"
             ],
             [
              0.8888888888888888,
              "#fdca26"
             ],
             [
              1,
              "#f0f921"
             ]
            ],
            "type": "surface"
           }
          ],
          "table": [
           {
            "cells": {
             "fill": {
              "color": "#EBF0F8"
             },
             "line": {
              "color": "white"
             }
            },
            "header": {
             "fill": {
              "color": "#C8D4E3"
             },
             "line": {
              "color": "white"
             }
            },
            "type": "table"
           }
          ]
         },
         "layout": {
          "annotationdefaults": {
           "arrowcolor": "#2a3f5f",
           "arrowhead": 0,
           "arrowwidth": 1
          },
          "autotypenumbers": "strict",
          "coloraxis": {
           "colorbar": {
            "outlinewidth": 0,
            "ticks": ""
           }
          },
          "colorscale": {
           "diverging": [
            [
             0,
             "#8e0152"
            ],
            [
             0.1,
             "#c51b7d"
            ],
            [
             0.2,
             "#de77ae"
            ],
            [
             0.3,
             "#f1b6da"
            ],
            [
             0.4,
             "#fde0ef"
            ],
            [
             0.5,
             "#f7f7f7"
            ],
            [
             0.6,
             "#e6f5d0"
            ],
            [
             0.7,
             "#b8e186"
            ],
            [
             0.8,
             "#7fbc41"
            ],
            [
             0.9,
             "#4d9221"
            ],
            [
             1,
             "#276419"
            ]
           ],
           "sequential": [
            [
             0,
             "#0d0887"
            ],
            [
             0.1111111111111111,
             "#46039f"
            ],
            [
             0.2222222222222222,
             "#7201a8"
            ],
            [
             0.3333333333333333,
             "#9c179e"
            ],
            [
             0.4444444444444444,
             "#bd3786"
            ],
            [
             0.5555555555555556,
             "#d8576b"
            ],
            [
             0.6666666666666666,
             "#ed7953"
            ],
            [
             0.7777777777777778,
             "#fb9f3a"
            ],
            [
             0.8888888888888888,
             "#fdca26"
            ],
            [
             1,
             "#f0f921"
            ]
           ],
           "sequentialminus": [
            [
             0,
             "#0d0887"
            ],
            [
             0.1111111111111111,
             "#46039f"
            ],
            [
             0.2222222222222222,
             "#7201a8"
            ],
            [
             0.3333333333333333,
             "#9c179e"
            ],
            [
             0.4444444444444444,
             "#bd3786"
            ],
            [
             0.5555555555555556,
             "#d8576b"
            ],
            [
             0.6666666666666666,
             "#ed7953"
            ],
            [
             0.7777777777777778,
             "#fb9f3a"
            ],
            [
             0.8888888888888888,
             "#fdca26"
            ],
            [
             1,
             "#f0f921"
            ]
           ]
          },
          "colorway": [
           "#636efa",
           "#EF553B",
           "#00cc96",
           "#ab63fa",
           "#FFA15A",
           "#19d3f3",
           "#FF6692",
           "#B6E880",
           "#FF97FF",
           "#FECB52"
          ],
          "font": {
           "color": "#2a3f5f"
          },
          "geo": {
           "bgcolor": "white",
           "lakecolor": "white",
           "landcolor": "#E5ECF6",
           "showlakes": true,
           "showland": true,
           "subunitcolor": "white"
          },
          "hoverlabel": {
           "align": "left"
          },
          "hovermode": "closest",
          "mapbox": {
           "style": "light"
          },
          "paper_bgcolor": "white",
          "plot_bgcolor": "#E5ECF6",
          "polar": {
           "angularaxis": {
            "gridcolor": "white",
            "linecolor": "white",
            "ticks": ""
           },
           "bgcolor": "#E5ECF6",
           "radialaxis": {
            "gridcolor": "white",
            "linecolor": "white",
            "ticks": ""
           }
          },
          "scene": {
           "xaxis": {
            "backgroundcolor": "#E5ECF6",
            "gridcolor": "white",
            "gridwidth": 2,
            "linecolor": "white",
            "showbackground": true,
            "ticks": "",
            "zerolinecolor": "white"
           },
           "yaxis": {
            "backgroundcolor": "#E5ECF6",
            "gridcolor": "white",
            "gridwidth": 2,
            "linecolor": "white",
            "showbackground": true,
            "ticks": "",
            "zerolinecolor": "white"
           },
           "zaxis": {
            "backgroundcolor": "#E5ECF6",
            "gridcolor": "white",
            "gridwidth": 2,
            "linecolor": "white",
            "showbackground": true,
            "ticks": "",
            "zerolinecolor": "white"
           }
          },
          "shapedefaults": {
           "line": {
            "color": "#2a3f5f"
           }
          },
          "ternary": {
           "aaxis": {
            "gridcolor": "white",
            "linecolor": "white",
            "ticks": ""
           },
           "baxis": {
            "gridcolor": "white",
            "linecolor": "white",
            "ticks": ""
           },
           "bgcolor": "#E5ECF6",
           "caxis": {
            "gridcolor": "white",
            "linecolor": "white",
            "ticks": ""
           }
          },
          "title": {
           "x": 0.05
          },
          "xaxis": {
           "automargin": true,
           "gridcolor": "white",
           "linecolor": "white",
           "ticks": "",
           "title": {
            "standoff": 15
           },
           "zerolinecolor": "white",
           "zerolinewidth": 2
          },
          "yaxis": {
           "automargin": true,
           "gridcolor": "white",
           "linecolor": "white",
           "ticks": "",
           "title": {
            "standoff": 15
           },
           "zerolinecolor": "white",
           "zerolinewidth": 2
          }
         }
        },
        "title": {
         "text": "Machine Learning Methods into Business - Iran 2022"
        }
       }
      }
     },
     "metadata": {},
     "output_type": "display_data"
    }
   ],
   "source": [
    "MlBusiness = iran_2022_nafill[iran_2022_nafill['Q27'] != 'Not Answer']\n",
    "MlBusiness = MlBusiness[MlBusiness['Q27'] != 'No (we do not use ML methods)']\n",
    "MlBusiness = MlBusiness[MlBusiness['Q27'] != 'I do not know']\n",
    "MlBusiness = MlBusiness[MlBusiness['Q28_1'] != 'Not Answer']\n",
    "\n",
    "fig = px.parallel_categories(MlBusiness,dimensions=['Q27','Q28_1','Q24'],\n",
    "                            labels={'Q27': 'Activity','Q17_1':'Machine Learning Frameworks','Q28_1':'Role At Work','Q24': 'Industry'},\n",
    "                            title='Machine Learning Methods into Business - Iran 2022',\n",
    "                            height=600,\n",
    "                            )\n",
    "fig.show()"
   ]
  },
  {
   "cell_type": "code",
   "execution_count": 42,
   "metadata": {},
   "outputs": [
    {
     "data": {
      "application/vnd.plotly.v1+json": {
       "config": {
        "plotlyServerURL": "https://plot.ly"
       },
       "data": [
        {
         "dimensions": [
          {
           "label": "Activity",
           "values": [
            "We use ML methods for generating insights (but do not put working models into production)",
            "We use ML methods for generating insights (but do not put working models into production)",
            "We recently started using ML methods (i.e., models in production for less than 2 years)",
            "We are exploring ML methods (and may one day put a model into production)",
            "We recently started using ML methods (i.e., models in production for less than 2 years)",
            "We recently started using ML methods (i.e., models in production for less than 2 years)"
           ]
          },
          {
           "label": "Machine Learning Frameworks",
           "values": [
            "  Scikit-learn ",
            "  Scikit-learn ",
            "  Scikit-learn ",
            "  Scikit-learn ",
            "  Scikit-learn ",
            "  Scikit-learn "
           ]
          },
          {
           "label": "ML Algorithms",
           "values": [
            "Linear or Logistic Regression",
            "Linear or Logistic Regression",
            "Linear or Logistic Regression",
            "Linear or Logistic Regression",
            "Linear or Logistic Regression",
            "Linear or Logistic Regression"
           ]
          },
          {
           "label": "Industry",
           "values": [
            "Broadcasting/Communications",
            "Accounting/Finance",
            "Computers/Technology",
            "Accounting/Finance",
            "Marketing/CRM",
            "Computers/Technology"
           ]
          }
         ],
         "domain": {
          "x": [
           0,
           1
          ],
          "y": [
           0,
           1
          ]
         },
         "name": "",
         "type": "parcats"
        }
       ],
       "layout": {
        "height": 600,
        "legend": {
         "tracegroupgap": 0
        },
        "template": {
         "data": {
          "bar": [
           {
            "error_x": {
             "color": "#2a3f5f"
            },
            "error_y": {
             "color": "#2a3f5f"
            },
            "marker": {
             "line": {
              "color": "#E5ECF6",
              "width": 0.5
             },
             "pattern": {
              "fillmode": "overlay",
              "size": 10,
              "solidity": 0.2
             }
            },
            "type": "bar"
           }
          ],
          "barpolar": [
           {
            "marker": {
             "line": {
              "color": "#E5ECF6",
              "width": 0.5
             },
             "pattern": {
              "fillmode": "overlay",
              "size": 10,
              "solidity": 0.2
             }
            },
            "type": "barpolar"
           }
          ],
          "carpet": [
           {
            "aaxis": {
             "endlinecolor": "#2a3f5f",
             "gridcolor": "white",
             "linecolor": "white",
             "minorgridcolor": "white",
             "startlinecolor": "#2a3f5f"
            },
            "baxis": {
             "endlinecolor": "#2a3f5f",
             "gridcolor": "white",
             "linecolor": "white",
             "minorgridcolor": "white",
             "startlinecolor": "#2a3f5f"
            },
            "type": "carpet"
           }
          ],
          "choropleth": [
           {
            "colorbar": {
             "outlinewidth": 0,
             "ticks": ""
            },
            "type": "choropleth"
           }
          ],
          "contour": [
           {
            "colorbar": {
             "outlinewidth": 0,
             "ticks": ""
            },
            "colorscale": [
             [
              0,
              "#0d0887"
             ],
             [
              0.1111111111111111,
              "#46039f"
             ],
             [
              0.2222222222222222,
              "#7201a8"
             ],
             [
              0.3333333333333333,
              "#9c179e"
             ],
             [
              0.4444444444444444,
              "#bd3786"
             ],
             [
              0.5555555555555556,
              "#d8576b"
             ],
             [
              0.6666666666666666,
              "#ed7953"
             ],
             [
              0.7777777777777778,
              "#fb9f3a"
             ],
             [
              0.8888888888888888,
              "#fdca26"
             ],
             [
              1,
              "#f0f921"
             ]
            ],
            "type": "contour"
           }
          ],
          "contourcarpet": [
           {
            "colorbar": {
             "outlinewidth": 0,
             "ticks": ""
            },
            "type": "contourcarpet"
           }
          ],
          "heatmap": [
           {
            "colorbar": {
             "outlinewidth": 0,
             "ticks": ""
            },
            "colorscale": [
             [
              0,
              "#0d0887"
             ],
             [
              0.1111111111111111,
              "#46039f"
             ],
             [
              0.2222222222222222,
              "#7201a8"
             ],
             [
              0.3333333333333333,
              "#9c179e"
             ],
             [
              0.4444444444444444,
              "#bd3786"
             ],
             [
              0.5555555555555556,
              "#d8576b"
             ],
             [
              0.6666666666666666,
              "#ed7953"
             ],
             [
              0.7777777777777778,
              "#fb9f3a"
             ],
             [
              0.8888888888888888,
              "#fdca26"
             ],
             [
              1,
              "#f0f921"
             ]
            ],
            "type": "heatmap"
           }
          ],
          "heatmapgl": [
           {
            "colorbar": {
             "outlinewidth": 0,
             "ticks": ""
            },
            "colorscale": [
             [
              0,
              "#0d0887"
             ],
             [
              0.1111111111111111,
              "#46039f"
             ],
             [
              0.2222222222222222,
              "#7201a8"
             ],
             [
              0.3333333333333333,
              "#9c179e"
             ],
             [
              0.4444444444444444,
              "#bd3786"
             ],
             [
              0.5555555555555556,
              "#d8576b"
             ],
             [
              0.6666666666666666,
              "#ed7953"
             ],
             [
              0.7777777777777778,
              "#fb9f3a"
             ],
             [
              0.8888888888888888,
              "#fdca26"
             ],
             [
              1,
              "#f0f921"
             ]
            ],
            "type": "heatmapgl"
           }
          ],
          "histogram": [
           {
            "marker": {
             "pattern": {
              "fillmode": "overlay",
              "size": 10,
              "solidity": 0.2
             }
            },
            "type": "histogram"
           }
          ],
          "histogram2d": [
           {
            "colorbar": {
             "outlinewidth": 0,
             "ticks": ""
            },
            "colorscale": [
             [
              0,
              "#0d0887"
             ],
             [
              0.1111111111111111,
              "#46039f"
             ],
             [
              0.2222222222222222,
              "#7201a8"
             ],
             [
              0.3333333333333333,
              "#9c179e"
             ],
             [
              0.4444444444444444,
              "#bd3786"
             ],
             [
              0.5555555555555556,
              "#d8576b"
             ],
             [
              0.6666666666666666,
              "#ed7953"
             ],
             [
              0.7777777777777778,
              "#fb9f3a"
             ],
             [
              0.8888888888888888,
              "#fdca26"
             ],
             [
              1,
              "#f0f921"
             ]
            ],
            "type": "histogram2d"
           }
          ],
          "histogram2dcontour": [
           {
            "colorbar": {
             "outlinewidth": 0,
             "ticks": ""
            },
            "colorscale": [
             [
              0,
              "#0d0887"
             ],
             [
              0.1111111111111111,
              "#46039f"
             ],
             [
              0.2222222222222222,
              "#7201a8"
             ],
             [
              0.3333333333333333,
              "#9c179e"
             ],
             [
              0.4444444444444444,
              "#bd3786"
             ],
             [
              0.5555555555555556,
              "#d8576b"
             ],
             [
              0.6666666666666666,
              "#ed7953"
             ],
             [
              0.7777777777777778,
              "#fb9f3a"
             ],
             [
              0.8888888888888888,
              "#fdca26"
             ],
             [
              1,
              "#f0f921"
             ]
            ],
            "type": "histogram2dcontour"
           }
          ],
          "mesh3d": [
           {
            "colorbar": {
             "outlinewidth": 0,
             "ticks": ""
            },
            "type": "mesh3d"
           }
          ],
          "parcoords": [
           {
            "line": {
             "colorbar": {
              "outlinewidth": 0,
              "ticks": ""
             }
            },
            "type": "parcoords"
           }
          ],
          "pie": [
           {
            "automargin": true,
            "type": "pie"
           }
          ],
          "scatter": [
           {
            "fillpattern": {
             "fillmode": "overlay",
             "size": 10,
             "solidity": 0.2
            },
            "type": "scatter"
           }
          ],
          "scatter3d": [
           {
            "line": {
             "colorbar": {
              "outlinewidth": 0,
              "ticks": ""
             }
            },
            "marker": {
             "colorbar": {
              "outlinewidth": 0,
              "ticks": ""
             }
            },
            "type": "scatter3d"
           }
          ],
          "scattercarpet": [
           {
            "marker": {
             "colorbar": {
              "outlinewidth": 0,
              "ticks": ""
             }
            },
            "type": "scattercarpet"
           }
          ],
          "scattergeo": [
           {
            "marker": {
             "colorbar": {
              "outlinewidth": 0,
              "ticks": ""
             }
            },
            "type": "scattergeo"
           }
          ],
          "scattergl": [
           {
            "marker": {
             "colorbar": {
              "outlinewidth": 0,
              "ticks": ""
             }
            },
            "type": "scattergl"
           }
          ],
          "scattermapbox": [
           {
            "marker": {
             "colorbar": {
              "outlinewidth": 0,
              "ticks": ""
             }
            },
            "type": "scattermapbox"
           }
          ],
          "scatterpolar": [
           {
            "marker": {
             "colorbar": {
              "outlinewidth": 0,
              "ticks": ""
             }
            },
            "type": "scatterpolar"
           }
          ],
          "scatterpolargl": [
           {
            "marker": {
             "colorbar": {
              "outlinewidth": 0,
              "ticks": ""
             }
            },
            "type": "scatterpolargl"
           }
          ],
          "scatterternary": [
           {
            "marker": {
             "colorbar": {
              "outlinewidth": 0,
              "ticks": ""
             }
            },
            "type": "scatterternary"
           }
          ],
          "surface": [
           {
            "colorbar": {
             "outlinewidth": 0,
             "ticks": ""
            },
            "colorscale": [
             [
              0,
              "#0d0887"
             ],
             [
              0.1111111111111111,
              "#46039f"
             ],
             [
              0.2222222222222222,
              "#7201a8"
             ],
             [
              0.3333333333333333,
              "#9c179e"
             ],
             [
              0.4444444444444444,
              "#bd3786"
             ],
             [
              0.5555555555555556,
              "#d8576b"
             ],
             [
              0.6666666666666666,
              "#ed7953"
             ],
             [
              0.7777777777777778,
              "#fb9f3a"
             ],
             [
              0.8888888888888888,
              "#fdca26"
             ],
             [
              1,
              "#f0f921"
             ]
            ],
            "type": "surface"
           }
          ],
          "table": [
           {
            "cells": {
             "fill": {
              "color": "#EBF0F8"
             },
             "line": {
              "color": "white"
             }
            },
            "header": {
             "fill": {
              "color": "#C8D4E3"
             },
             "line": {
              "color": "white"
             }
            },
            "type": "table"
           }
          ]
         },
         "layout": {
          "annotationdefaults": {
           "arrowcolor": "#2a3f5f",
           "arrowhead": 0,
           "arrowwidth": 1
          },
          "autotypenumbers": "strict",
          "coloraxis": {
           "colorbar": {
            "outlinewidth": 0,
            "ticks": ""
           }
          },
          "colorscale": {
           "diverging": [
            [
             0,
             "#8e0152"
            ],
            [
             0.1,
             "#c51b7d"
            ],
            [
             0.2,
             "#de77ae"
            ],
            [
             0.3,
             "#f1b6da"
            ],
            [
             0.4,
             "#fde0ef"
            ],
            [
             0.5,
             "#f7f7f7"
            ],
            [
             0.6,
             "#e6f5d0"
            ],
            [
             0.7,
             "#b8e186"
            ],
            [
             0.8,
             "#7fbc41"
            ],
            [
             0.9,
             "#4d9221"
            ],
            [
             1,
             "#276419"
            ]
           ],
           "sequential": [
            [
             0,
             "#0d0887"
            ],
            [
             0.1111111111111111,
             "#46039f"
            ],
            [
             0.2222222222222222,
             "#7201a8"
            ],
            [
             0.3333333333333333,
             "#9c179e"
            ],
            [
             0.4444444444444444,
             "#bd3786"
            ],
            [
             0.5555555555555556,
             "#d8576b"
            ],
            [
             0.6666666666666666,
             "#ed7953"
            ],
            [
             0.7777777777777778,
             "#fb9f3a"
            ],
            [
             0.8888888888888888,
             "#fdca26"
            ],
            [
             1,
             "#f0f921"
            ]
           ],
           "sequentialminus": [
            [
             0,
             "#0d0887"
            ],
            [
             0.1111111111111111,
             "#46039f"
            ],
            [
             0.2222222222222222,
             "#7201a8"
            ],
            [
             0.3333333333333333,
             "#9c179e"
            ],
            [
             0.4444444444444444,
             "#bd3786"
            ],
            [
             0.5555555555555556,
             "#d8576b"
            ],
            [
             0.6666666666666666,
             "#ed7953"
            ],
            [
             0.7777777777777778,
             "#fb9f3a"
            ],
            [
             0.8888888888888888,
             "#fdca26"
            ],
            [
             1,
             "#f0f921"
            ]
           ]
          },
          "colorway": [
           "#636efa",
           "#EF553B",
           "#00cc96",
           "#ab63fa",
           "#FFA15A",
           "#19d3f3",
           "#FF6692",
           "#B6E880",
           "#FF97FF",
           "#FECB52"
          ],
          "font": {
           "color": "#2a3f5f"
          },
          "geo": {
           "bgcolor": "white",
           "lakecolor": "white",
           "landcolor": "#E5ECF6",
           "showlakes": true,
           "showland": true,
           "subunitcolor": "white"
          },
          "hoverlabel": {
           "align": "left"
          },
          "hovermode": "closest",
          "mapbox": {
           "style": "light"
          },
          "paper_bgcolor": "white",
          "plot_bgcolor": "#E5ECF6",
          "polar": {
           "angularaxis": {
            "gridcolor": "white",
            "linecolor": "white",
            "ticks": ""
           },
           "bgcolor": "#E5ECF6",
           "radialaxis": {
            "gridcolor": "white",
            "linecolor": "white",
            "ticks": ""
           }
          },
          "scene": {
           "xaxis": {
            "backgroundcolor": "#E5ECF6",
            "gridcolor": "white",
            "gridwidth": 2,
            "linecolor": "white",
            "showbackground": true,
            "ticks": "",
            "zerolinecolor": "white"
           },
           "yaxis": {
            "backgroundcolor": "#E5ECF6",
            "gridcolor": "white",
            "gridwidth": 2,
            "linecolor": "white",
            "showbackground": true,
            "ticks": "",
            "zerolinecolor": "white"
           },
           "zaxis": {
            "backgroundcolor": "#E5ECF6",
            "gridcolor": "white",
            "gridwidth": 2,
            "linecolor": "white",
            "showbackground": true,
            "ticks": "",
            "zerolinecolor": "white"
           }
          },
          "shapedefaults": {
           "line": {
            "color": "#2a3f5f"
           }
          },
          "ternary": {
           "aaxis": {
            "gridcolor": "white",
            "linecolor": "white",
            "ticks": ""
           },
           "baxis": {
            "gridcolor": "white",
            "linecolor": "white",
            "ticks": ""
           },
           "bgcolor": "#E5ECF6",
           "caxis": {
            "gridcolor": "white",
            "linecolor": "white",
            "ticks": ""
           }
          },
          "title": {
           "x": 0.05
          },
          "xaxis": {
           "automargin": true,
           "gridcolor": "white",
           "linecolor": "white",
           "ticks": "",
           "title": {
            "standoff": 15
           },
           "zerolinecolor": "white",
           "zerolinewidth": 2
          },
          "yaxis": {
           "automargin": true,
           "gridcolor": "white",
           "linecolor": "white",
           "ticks": "",
           "title": {
            "standoff": 15
           },
           "zerolinecolor": "white",
           "zerolinewidth": 2
          }
         }
        },
        "title": {
         "text": "Machine Learning Methods into Business - Iran 2022"
        }
       }
      }
     },
     "metadata": {},
     "output_type": "display_data"
    }
   ],
   "source": [
    "MlBusiness = iran_2022_nafill[iran_2022_nafill['Q27'] != 'Not Answer']\n",
    "MlBusiness = MlBusiness[MlBusiness['Q27'] != 'No (we do not use ML methods)']\n",
    "MlBusiness = MlBusiness[MlBusiness['Q27'] != 'I do not know']\n",
    "MlBusiness = MlBusiness[MlBusiness['Q28_1'] != 'Not Answer']\n",
    "MlBusiness = MlBusiness[MlBusiness['Q18_1'] != 'Not Answer']\n",
    "\n",
    "fig = px.parallel_categories(MlBusiness,dimensions=['Q27','Q17_1','Q18_1','Q24'],\n",
    "                            labels={'Q27': 'Activity','Q17_1':'Machine Learning Frameworks','Q18_1':'ML Algorithms','Q24': 'Industry'},\n",
    "                            title='Machine Learning Methods into Business - Iran 2022',\n",
    "                            height=600,\n",
    "                            )\n",
    "fig.show()"
   ]
  },
  {
   "cell_type": "code",
   "execution_count": 43,
   "metadata": {},
   "outputs": [
    {
     "data": {
      "application/vnd.plotly.v1+json": {
       "config": {
        "plotlyServerURL": "https://plot.ly"
       },
       "data": [
        {
         "dimensions": [
          {
           "label": "Industry",
           "values": [
            "Academics/Education",
            "Computers/Technology",
            "Shipping/Transportation",
            "Academics/Education",
            "Academics/Education",
            "Computers/Technology",
            "Computers/Technology",
            "Academics/Education",
            "Academics/Education",
            "Medical/Pharmaceutical",
            "Academics/Education",
            "Academics/Education"
           ]
          },
          {
           "label": "Machine Learning Frameworks",
           "values": [
            "  Scikit-learn ",
            "  Scikit-learn ",
            "  Scikit-learn ",
            "  Scikit-learn ",
            "  TensorFlow ",
            "  Scikit-learn ",
            "  Scikit-learn ",
            "  TensorFlow ",
            "  Scikit-learn ",
            "  TensorFlow ",
            "  Scikit-learn ",
            "  Scikit-learn "
           ]
          },
          {
           "label": "ML Algorithms",
           "values": [
            "Dense Neural Networks (MLPs, etc)",
            "Linear or Logistic Regression",
            "Linear or Logistic Regression",
            "Linear or Logistic Regression",
            "Linear or Logistic Regression",
            "Bayesian Approaches",
            "Linear or Logistic Regression",
            "Linear or Logistic Regression",
            "Linear or Logistic Regression",
            "Decision Trees or Random Forests",
            "Dense Neural Networks (MLPs, etc)",
            "Linear or Logistic Regression"
           ]
          },
          {
           "label": "Computer Vision Methods",
           "values": [
            "Object detection methods (YOLOv6, RetinaNet, etc)",
            "Object detection methods (YOLOv6, RetinaNet, etc)",
            "Image segmentation methods (U-Net, Mask R-CNN, etc)",
            "General purpose image/video tools (PIL, cv2, skimage, etc)",
            "Image segmentation methods (U-Net, Mask R-CNN, etc)",
            "Image segmentation methods (U-Net, Mask R-CNN, etc)",
            "Object detection methods (YOLOv6, RetinaNet, etc)",
            "Image classification and other general purpose networks (VGG, Inception, ResNet, ResNeXt, NASNet, EfficientNet, etc)",
            "Image classification and other general purpose networks (VGG, Inception, ResNet, ResNeXt, NASNet, EfficientNet, etc)",
            "General purpose image/video tools (PIL, cv2, skimage, etc)",
            "Image segmentation methods (U-Net, Mask R-CNN, etc)",
            "Image segmentation methods (U-Net, Mask R-CNN, etc)"
           ]
          }
         ],
         "domain": {
          "x": [
           0,
           1
          ],
          "y": [
           0,
           1
          ]
         },
         "name": "",
         "type": "parcats"
        }
       ],
       "layout": {
        "height": 600,
        "legend": {
         "tracegroupgap": 0
        },
        "template": {
         "data": {
          "bar": [
           {
            "error_x": {
             "color": "#2a3f5f"
            },
            "error_y": {
             "color": "#2a3f5f"
            },
            "marker": {
             "line": {
              "color": "#E5ECF6",
              "width": 0.5
             },
             "pattern": {
              "fillmode": "overlay",
              "size": 10,
              "solidity": 0.2
             }
            },
            "type": "bar"
           }
          ],
          "barpolar": [
           {
            "marker": {
             "line": {
              "color": "#E5ECF6",
              "width": 0.5
             },
             "pattern": {
              "fillmode": "overlay",
              "size": 10,
              "solidity": 0.2
             }
            },
            "type": "barpolar"
           }
          ],
          "carpet": [
           {
            "aaxis": {
             "endlinecolor": "#2a3f5f",
             "gridcolor": "white",
             "linecolor": "white",
             "minorgridcolor": "white",
             "startlinecolor": "#2a3f5f"
            },
            "baxis": {
             "endlinecolor": "#2a3f5f",
             "gridcolor": "white",
             "linecolor": "white",
             "minorgridcolor": "white",
             "startlinecolor": "#2a3f5f"
            },
            "type": "carpet"
           }
          ],
          "choropleth": [
           {
            "colorbar": {
             "outlinewidth": 0,
             "ticks": ""
            },
            "type": "choropleth"
           }
          ],
          "contour": [
           {
            "colorbar": {
             "outlinewidth": 0,
             "ticks": ""
            },
            "colorscale": [
             [
              0,
              "#0d0887"
             ],
             [
              0.1111111111111111,
              "#46039f"
             ],
             [
              0.2222222222222222,
              "#7201a8"
             ],
             [
              0.3333333333333333,
              "#9c179e"
             ],
             [
              0.4444444444444444,
              "#bd3786"
             ],
             [
              0.5555555555555556,
              "#d8576b"
             ],
             [
              0.6666666666666666,
              "#ed7953"
             ],
             [
              0.7777777777777778,
              "#fb9f3a"
             ],
             [
              0.8888888888888888,
              "#fdca26"
             ],
             [
              1,
              "#f0f921"
             ]
            ],
            "type": "contour"
           }
          ],
          "contourcarpet": [
           {
            "colorbar": {
             "outlinewidth": 0,
             "ticks": ""
            },
            "type": "contourcarpet"
           }
          ],
          "heatmap": [
           {
            "colorbar": {
             "outlinewidth": 0,
             "ticks": ""
            },
            "colorscale": [
             [
              0,
              "#0d0887"
             ],
             [
              0.1111111111111111,
              "#46039f"
             ],
             [
              0.2222222222222222,
              "#7201a8"
             ],
             [
              0.3333333333333333,
              "#9c179e"
             ],
             [
              0.4444444444444444,
              "#bd3786"
             ],
             [
              0.5555555555555556,
              "#d8576b"
             ],
             [
              0.6666666666666666,
              "#ed7953"
             ],
             [
              0.7777777777777778,
              "#fb9f3a"
             ],
             [
              0.8888888888888888,
              "#fdca26"
             ],
             [
              1,
              "#f0f921"
             ]
            ],
            "type": "heatmap"
           }
          ],
          "heatmapgl": [
           {
            "colorbar": {
             "outlinewidth": 0,
             "ticks": ""
            },
            "colorscale": [
             [
              0,
              "#0d0887"
             ],
             [
              0.1111111111111111,
              "#46039f"
             ],
             [
              0.2222222222222222,
              "#7201a8"
             ],
             [
              0.3333333333333333,
              "#9c179e"
             ],
             [
              0.4444444444444444,
              "#bd3786"
             ],
             [
              0.5555555555555556,
              "#d8576b"
             ],
             [
              0.6666666666666666,
              "#ed7953"
             ],
             [
              0.7777777777777778,
              "#fb9f3a"
             ],
             [
              0.8888888888888888,
              "#fdca26"
             ],
             [
              1,
              "#f0f921"
             ]
            ],
            "type": "heatmapgl"
           }
          ],
          "histogram": [
           {
            "marker": {
             "pattern": {
              "fillmode": "overlay",
              "size": 10,
              "solidity": 0.2
             }
            },
            "type": "histogram"
           }
          ],
          "histogram2d": [
           {
            "colorbar": {
             "outlinewidth": 0,
             "ticks": ""
            },
            "colorscale": [
             [
              0,
              "#0d0887"
             ],
             [
              0.1111111111111111,
              "#46039f"
             ],
             [
              0.2222222222222222,
              "#7201a8"
             ],
             [
              0.3333333333333333,
              "#9c179e"
             ],
             [
              0.4444444444444444,
              "#bd3786"
             ],
             [
              0.5555555555555556,
              "#d8576b"
             ],
             [
              0.6666666666666666,
              "#ed7953"
             ],
             [
              0.7777777777777778,
              "#fb9f3a"
             ],
             [
              0.8888888888888888,
              "#fdca26"
             ],
             [
              1,
              "#f0f921"
             ]
            ],
            "type": "histogram2d"
           }
          ],
          "histogram2dcontour": [
           {
            "colorbar": {
             "outlinewidth": 0,
             "ticks": ""
            },
            "colorscale": [
             [
              0,
              "#0d0887"
             ],
             [
              0.1111111111111111,
              "#46039f"
             ],
             [
              0.2222222222222222,
              "#7201a8"
             ],
             [
              0.3333333333333333,
              "#9c179e"
             ],
             [
              0.4444444444444444,
              "#bd3786"
             ],
             [
              0.5555555555555556,
              "#d8576b"
             ],
             [
              0.6666666666666666,
              "#ed7953"
             ],
             [
              0.7777777777777778,
              "#fb9f3a"
             ],
             [
              0.8888888888888888,
              "#fdca26"
             ],
             [
              1,
              "#f0f921"
             ]
            ],
            "type": "histogram2dcontour"
           }
          ],
          "mesh3d": [
           {
            "colorbar": {
             "outlinewidth": 0,
             "ticks": ""
            },
            "type": "mesh3d"
           }
          ],
          "parcoords": [
           {
            "line": {
             "colorbar": {
              "outlinewidth": 0,
              "ticks": ""
             }
            },
            "type": "parcoords"
           }
          ],
          "pie": [
           {
            "automargin": true,
            "type": "pie"
           }
          ],
          "scatter": [
           {
            "fillpattern": {
             "fillmode": "overlay",
             "size": 10,
             "solidity": 0.2
            },
            "type": "scatter"
           }
          ],
          "scatter3d": [
           {
            "line": {
             "colorbar": {
              "outlinewidth": 0,
              "ticks": ""
             }
            },
            "marker": {
             "colorbar": {
              "outlinewidth": 0,
              "ticks": ""
             }
            },
            "type": "scatter3d"
           }
          ],
          "scattercarpet": [
           {
            "marker": {
             "colorbar": {
              "outlinewidth": 0,
              "ticks": ""
             }
            },
            "type": "scattercarpet"
           }
          ],
          "scattergeo": [
           {
            "marker": {
             "colorbar": {
              "outlinewidth": 0,
              "ticks": ""
             }
            },
            "type": "scattergeo"
           }
          ],
          "scattergl": [
           {
            "marker": {
             "colorbar": {
              "outlinewidth": 0,
              "ticks": ""
             }
            },
            "type": "scattergl"
           }
          ],
          "scattermapbox": [
           {
            "marker": {
             "colorbar": {
              "outlinewidth": 0,
              "ticks": ""
             }
            },
            "type": "scattermapbox"
           }
          ],
          "scatterpolar": [
           {
            "marker": {
             "colorbar": {
              "outlinewidth": 0,
              "ticks": ""
             }
            },
            "type": "scatterpolar"
           }
          ],
          "scatterpolargl": [
           {
            "marker": {
             "colorbar": {
              "outlinewidth": 0,
              "ticks": ""
             }
            },
            "type": "scatterpolargl"
           }
          ],
          "scatterternary": [
           {
            "marker": {
             "colorbar": {
              "outlinewidth": 0,
              "ticks": ""
             }
            },
            "type": "scatterternary"
           }
          ],
          "surface": [
           {
            "colorbar": {
             "outlinewidth": 0,
             "ticks": ""
            },
            "colorscale": [
             [
              0,
              "#0d0887"
             ],
             [
              0.1111111111111111,
              "#46039f"
             ],
             [
              0.2222222222222222,
              "#7201a8"
             ],
             [
              0.3333333333333333,
              "#9c179e"
             ],
             [
              0.4444444444444444,
              "#bd3786"
             ],
             [
              0.5555555555555556,
              "#d8576b"
             ],
             [
              0.6666666666666666,
              "#ed7953"
             ],
             [
              0.7777777777777778,
              "#fb9f3a"
             ],
             [
              0.8888888888888888,
              "#fdca26"
             ],
             [
              1,
              "#f0f921"
             ]
            ],
            "type": "surface"
           }
          ],
          "table": [
           {
            "cells": {
             "fill": {
              "color": "#EBF0F8"
             },
             "line": {
              "color": "white"
             }
            },
            "header": {
             "fill": {
              "color": "#C8D4E3"
             },
             "line": {
              "color": "white"
             }
            },
            "type": "table"
           }
          ]
         },
         "layout": {
          "annotationdefaults": {
           "arrowcolor": "#2a3f5f",
           "arrowhead": 0,
           "arrowwidth": 1
          },
          "autotypenumbers": "strict",
          "coloraxis": {
           "colorbar": {
            "outlinewidth": 0,
            "ticks": ""
           }
          },
          "colorscale": {
           "diverging": [
            [
             0,
             "#8e0152"
            ],
            [
             0.1,
             "#c51b7d"
            ],
            [
             0.2,
             "#de77ae"
            ],
            [
             0.3,
             "#f1b6da"
            ],
            [
             0.4,
             "#fde0ef"
            ],
            [
             0.5,
             "#f7f7f7"
            ],
            [
             0.6,
             "#e6f5d0"
            ],
            [
             0.7,
             "#b8e186"
            ],
            [
             0.8,
             "#7fbc41"
            ],
            [
             0.9,
             "#4d9221"
            ],
            [
             1,
             "#276419"
            ]
           ],
           "sequential": [
            [
             0,
             "#0d0887"
            ],
            [
             0.1111111111111111,
             "#46039f"
            ],
            [
             0.2222222222222222,
             "#7201a8"
            ],
            [
             0.3333333333333333,
             "#9c179e"
            ],
            [
             0.4444444444444444,
             "#bd3786"
            ],
            [
             0.5555555555555556,
             "#d8576b"
            ],
            [
             0.6666666666666666,
             "#ed7953"
            ],
            [
             0.7777777777777778,
             "#fb9f3a"
            ],
            [
             0.8888888888888888,
             "#fdca26"
            ],
            [
             1,
             "#f0f921"
            ]
           ],
           "sequentialminus": [
            [
             0,
             "#0d0887"
            ],
            [
             0.1111111111111111,
             "#46039f"
            ],
            [
             0.2222222222222222,
             "#7201a8"
            ],
            [
             0.3333333333333333,
             "#9c179e"
            ],
            [
             0.4444444444444444,
             "#bd3786"
            ],
            [
             0.5555555555555556,
             "#d8576b"
            ],
            [
             0.6666666666666666,
             "#ed7953"
            ],
            [
             0.7777777777777778,
             "#fb9f3a"
            ],
            [
             0.8888888888888888,
             "#fdca26"
            ],
            [
             1,
             "#f0f921"
            ]
           ]
          },
          "colorway": [
           "#636efa",
           "#EF553B",
           "#00cc96",
           "#ab63fa",
           "#FFA15A",
           "#19d3f3",
           "#FF6692",
           "#B6E880",
           "#FF97FF",
           "#FECB52"
          ],
          "font": {
           "color": "#2a3f5f"
          },
          "geo": {
           "bgcolor": "white",
           "lakecolor": "white",
           "landcolor": "#E5ECF6",
           "showlakes": true,
           "showland": true,
           "subunitcolor": "white"
          },
          "hoverlabel": {
           "align": "left"
          },
          "hovermode": "closest",
          "mapbox": {
           "style": "light"
          },
          "paper_bgcolor": "white",
          "plot_bgcolor": "#E5ECF6",
          "polar": {
           "angularaxis": {
            "gridcolor": "white",
            "linecolor": "white",
            "ticks": ""
           },
           "bgcolor": "#E5ECF6",
           "radialaxis": {
            "gridcolor": "white",
            "linecolor": "white",
            "ticks": ""
           }
          },
          "scene": {
           "xaxis": {
            "backgroundcolor": "#E5ECF6",
            "gridcolor": "white",
            "gridwidth": 2,
            "linecolor": "white",
            "showbackground": true,
            "ticks": "",
            "zerolinecolor": "white"
           },
           "yaxis": {
            "backgroundcolor": "#E5ECF6",
            "gridcolor": "white",
            "gridwidth": 2,
            "linecolor": "white",
            "showbackground": true,
            "ticks": "",
            "zerolinecolor": "white"
           },
           "zaxis": {
            "backgroundcolor": "#E5ECF6",
            "gridcolor": "white",
            "gridwidth": 2,
            "linecolor": "white",
            "showbackground": true,
            "ticks": "",
            "zerolinecolor": "white"
           }
          },
          "shapedefaults": {
           "line": {
            "color": "#2a3f5f"
           }
          },
          "ternary": {
           "aaxis": {
            "gridcolor": "white",
            "linecolor": "white",
            "ticks": ""
           },
           "baxis": {
            "gridcolor": "white",
            "linecolor": "white",
            "ticks": ""
           },
           "bgcolor": "#E5ECF6",
           "caxis": {
            "gridcolor": "white",
            "linecolor": "white",
            "ticks": ""
           }
          },
          "title": {
           "x": 0.05
          },
          "xaxis": {
           "automargin": true,
           "gridcolor": "white",
           "linecolor": "white",
           "ticks": "",
           "title": {
            "standoff": 15
           },
           "zerolinecolor": "white",
           "zerolinewidth": 2
          },
          "yaxis": {
           "automargin": true,
           "gridcolor": "white",
           "linecolor": "white",
           "ticks": "",
           "title": {
            "standoff": 15
           },
           "zerolinecolor": "white",
           "zerolinewidth": 2
          }
         }
        },
        "title": {
         "text": "Computer Vision into Industry - Iran 2022"
        }
       }
      }
     },
     "metadata": {},
     "output_type": "display_data"
    }
   ],
   "source": [
    "industry = iran_2022_nafill[iran_2022_nafill['Q24'] != 'Not Answer']\n",
    "industry = industry[industry['Q17_1'] != 'Not Answer']\n",
    "industry = industry[industry['Q17_1'] != 'Other']\n",
    "industry = industry[industry['Q18_1'] != 'Not Answer']\n",
    "industry = industry[industry['Q19_1'] != 'Not Answer']\n",
    "fig = px.parallel_categories(industry,dimensions=['Q24','Q17_1','Q18_1','Q19_1'],\n",
    "                            labels={'Q17_1':'Machine Learning Frameworks','Q18_1':'ML Algorithms','Q24': 'Industry','Q19_1':'Computer Vision Methods'},\n",
    "                            title='Computer Vision into Industry - Iran 2022',\n",
    "                            height=600,\n",
    "                            )\n",
    "fig.show()"
   ]
  },
  {
   "cell_type": "code",
   "execution_count": 44,
   "metadata": {},
   "outputs": [
    {
     "data": {
      "application/vnd.plotly.v1+json": {
       "config": {
        "plotlyServerURL": "https://plot.ly"
       },
       "data": [
        {
         "dimensions": [
          {
           "label": "Industry",
           "values": [
            "Academics/Education",
            "Academics/Education",
            "Medical/Pharmaceutical"
           ]
          },
          {
           "label": "Machine Learning Frameworks",
           "values": [
            "  TensorFlow ",
            "  TensorFlow ",
            "  TensorFlow "
           ]
          },
          {
           "label": "ML Algorithms",
           "values": [
            "Linear or Logistic Regression",
            "Linear or Logistic Regression",
            "Decision Trees or Random Forests"
           ]
          },
          {
           "label": "NLP Methods",
           "values": [
            "Word embeddings/vectors (GLoVe, fastText, word2vec)",
            "Word embeddings/vectors (GLoVe, fastText, word2vec)",
            "Encoder-decoder models (seq2seq, vanilla transformers)"
           ]
          }
         ],
         "domain": {
          "x": [
           0,
           1
          ],
          "y": [
           0,
           1
          ]
         },
         "name": "",
         "type": "parcats"
        }
       ],
       "layout": {
        "height": 600,
        "legend": {
         "tracegroupgap": 0
        },
        "template": {
         "data": {
          "bar": [
           {
            "error_x": {
             "color": "#2a3f5f"
            },
            "error_y": {
             "color": "#2a3f5f"
            },
            "marker": {
             "line": {
              "color": "#E5ECF6",
              "width": 0.5
             },
             "pattern": {
              "fillmode": "overlay",
              "size": 10,
              "solidity": 0.2
             }
            },
            "type": "bar"
           }
          ],
          "barpolar": [
           {
            "marker": {
             "line": {
              "color": "#E5ECF6",
              "width": 0.5
             },
             "pattern": {
              "fillmode": "overlay",
              "size": 10,
              "solidity": 0.2
             }
            },
            "type": "barpolar"
           }
          ],
          "carpet": [
           {
            "aaxis": {
             "endlinecolor": "#2a3f5f",
             "gridcolor": "white",
             "linecolor": "white",
             "minorgridcolor": "white",
             "startlinecolor": "#2a3f5f"
            },
            "baxis": {
             "endlinecolor": "#2a3f5f",
             "gridcolor": "white",
             "linecolor": "white",
             "minorgridcolor": "white",
             "startlinecolor": "#2a3f5f"
            },
            "type": "carpet"
           }
          ],
          "choropleth": [
           {
            "colorbar": {
             "outlinewidth": 0,
             "ticks": ""
            },
            "type": "choropleth"
           }
          ],
          "contour": [
           {
            "colorbar": {
             "outlinewidth": 0,
             "ticks": ""
            },
            "colorscale": [
             [
              0,
              "#0d0887"
             ],
             [
              0.1111111111111111,
              "#46039f"
             ],
             [
              0.2222222222222222,
              "#7201a8"
             ],
             [
              0.3333333333333333,
              "#9c179e"
             ],
             [
              0.4444444444444444,
              "#bd3786"
             ],
             [
              0.5555555555555556,
              "#d8576b"
             ],
             [
              0.6666666666666666,
              "#ed7953"
             ],
             [
              0.7777777777777778,
              "#fb9f3a"
             ],
             [
              0.8888888888888888,
              "#fdca26"
             ],
             [
              1,
              "#f0f921"
             ]
            ],
            "type": "contour"
           }
          ],
          "contourcarpet": [
           {
            "colorbar": {
             "outlinewidth": 0,
             "ticks": ""
            },
            "type": "contourcarpet"
           }
          ],
          "heatmap": [
           {
            "colorbar": {
             "outlinewidth": 0,
             "ticks": ""
            },
            "colorscale": [
             [
              0,
              "#0d0887"
             ],
             [
              0.1111111111111111,
              "#46039f"
             ],
             [
              0.2222222222222222,
              "#7201a8"
             ],
             [
              0.3333333333333333,
              "#9c179e"
             ],
             [
              0.4444444444444444,
              "#bd3786"
             ],
             [
              0.5555555555555556,
              "#d8576b"
             ],
             [
              0.6666666666666666,
              "#ed7953"
             ],
             [
              0.7777777777777778,
              "#fb9f3a"
             ],
             [
              0.8888888888888888,
              "#fdca26"
             ],
             [
              1,
              "#f0f921"
             ]
            ],
            "type": "heatmap"
           }
          ],
          "heatmapgl": [
           {
            "colorbar": {
             "outlinewidth": 0,
             "ticks": ""
            },
            "colorscale": [
             [
              0,
              "#0d0887"
             ],
             [
              0.1111111111111111,
              "#46039f"
             ],
             [
              0.2222222222222222,
              "#7201a8"
             ],
             [
              0.3333333333333333,
              "#9c179e"
             ],
             [
              0.4444444444444444,
              "#bd3786"
             ],
             [
              0.5555555555555556,
              "#d8576b"
             ],
             [
              0.6666666666666666,
              "#ed7953"
             ],
             [
              0.7777777777777778,
              "#fb9f3a"
             ],
             [
              0.8888888888888888,
              "#fdca26"
             ],
             [
              1,
              "#f0f921"
             ]
            ],
            "type": "heatmapgl"
           }
          ],
          "histogram": [
           {
            "marker": {
             "pattern": {
              "fillmode": "overlay",
              "size": 10,
              "solidity": 0.2
             }
            },
            "type": "histogram"
           }
          ],
          "histogram2d": [
           {
            "colorbar": {
             "outlinewidth": 0,
             "ticks": ""
            },
            "colorscale": [
             [
              0,
              "#0d0887"
             ],
             [
              0.1111111111111111,
              "#46039f"
             ],
             [
              0.2222222222222222,
              "#7201a8"
             ],
             [
              0.3333333333333333,
              "#9c179e"
             ],
             [
              0.4444444444444444,
              "#bd3786"
             ],
             [
              0.5555555555555556,
              "#d8576b"
             ],
             [
              0.6666666666666666,
              "#ed7953"
             ],
             [
              0.7777777777777778,
              "#fb9f3a"
             ],
             [
              0.8888888888888888,
              "#fdca26"
             ],
             [
              1,
              "#f0f921"
             ]
            ],
            "type": "histogram2d"
           }
          ],
          "histogram2dcontour": [
           {
            "colorbar": {
             "outlinewidth": 0,
             "ticks": ""
            },
            "colorscale": [
             [
              0,
              "#0d0887"
             ],
             [
              0.1111111111111111,
              "#46039f"
             ],
             [
              0.2222222222222222,
              "#7201a8"
             ],
             [
              0.3333333333333333,
              "#9c179e"
             ],
             [
              0.4444444444444444,
              "#bd3786"
             ],
             [
              0.5555555555555556,
              "#d8576b"
             ],
             [
              0.6666666666666666,
              "#ed7953"
             ],
             [
              0.7777777777777778,
              "#fb9f3a"
             ],
             [
              0.8888888888888888,
              "#fdca26"
             ],
             [
              1,
              "#f0f921"
             ]
            ],
            "type": "histogram2dcontour"
           }
          ],
          "mesh3d": [
           {
            "colorbar": {
             "outlinewidth": 0,
             "ticks": ""
            },
            "type": "mesh3d"
           }
          ],
          "parcoords": [
           {
            "line": {
             "colorbar": {
              "outlinewidth": 0,
              "ticks": ""
             }
            },
            "type": "parcoords"
           }
          ],
          "pie": [
           {
            "automargin": true,
            "type": "pie"
           }
          ],
          "scatter": [
           {
            "fillpattern": {
             "fillmode": "overlay",
             "size": 10,
             "solidity": 0.2
            },
            "type": "scatter"
           }
          ],
          "scatter3d": [
           {
            "line": {
             "colorbar": {
              "outlinewidth": 0,
              "ticks": ""
             }
            },
            "marker": {
             "colorbar": {
              "outlinewidth": 0,
              "ticks": ""
             }
            },
            "type": "scatter3d"
           }
          ],
          "scattercarpet": [
           {
            "marker": {
             "colorbar": {
              "outlinewidth": 0,
              "ticks": ""
             }
            },
            "type": "scattercarpet"
           }
          ],
          "scattergeo": [
           {
            "marker": {
             "colorbar": {
              "outlinewidth": 0,
              "ticks": ""
             }
            },
            "type": "scattergeo"
           }
          ],
          "scattergl": [
           {
            "marker": {
             "colorbar": {
              "outlinewidth": 0,
              "ticks": ""
             }
            },
            "type": "scattergl"
           }
          ],
          "scattermapbox": [
           {
            "marker": {
             "colorbar": {
              "outlinewidth": 0,
              "ticks": ""
             }
            },
            "type": "scattermapbox"
           }
          ],
          "scatterpolar": [
           {
            "marker": {
             "colorbar": {
              "outlinewidth": 0,
              "ticks": ""
             }
            },
            "type": "scatterpolar"
           }
          ],
          "scatterpolargl": [
           {
            "marker": {
             "colorbar": {
              "outlinewidth": 0,
              "ticks": ""
             }
            },
            "type": "scatterpolargl"
           }
          ],
          "scatterternary": [
           {
            "marker": {
             "colorbar": {
              "outlinewidth": 0,
              "ticks": ""
             }
            },
            "type": "scatterternary"
           }
          ],
          "surface": [
           {
            "colorbar": {
             "outlinewidth": 0,
             "ticks": ""
            },
            "colorscale": [
             [
              0,
              "#0d0887"
             ],
             [
              0.1111111111111111,
              "#46039f"
             ],
             [
              0.2222222222222222,
              "#7201a8"
             ],
             [
              0.3333333333333333,
              "#9c179e"
             ],
             [
              0.4444444444444444,
              "#bd3786"
             ],
             [
              0.5555555555555556,
              "#d8576b"
             ],
             [
              0.6666666666666666,
              "#ed7953"
             ],
             [
              0.7777777777777778,
              "#fb9f3a"
             ],
             [
              0.8888888888888888,
              "#fdca26"
             ],
             [
              1,
              "#f0f921"
             ]
            ],
            "type": "surface"
           }
          ],
          "table": [
           {
            "cells": {
             "fill": {
              "color": "#EBF0F8"
             },
             "line": {
              "color": "white"
             }
            },
            "header": {
             "fill": {
              "color": "#C8D4E3"
             },
             "line": {
              "color": "white"
             }
            },
            "type": "table"
           }
          ]
         },
         "layout": {
          "annotationdefaults": {
           "arrowcolor": "#2a3f5f",
           "arrowhead": 0,
           "arrowwidth": 1
          },
          "autotypenumbers": "strict",
          "coloraxis": {
           "colorbar": {
            "outlinewidth": 0,
            "ticks": ""
           }
          },
          "colorscale": {
           "diverging": [
            [
             0,
             "#8e0152"
            ],
            [
             0.1,
             "#c51b7d"
            ],
            [
             0.2,
             "#de77ae"
            ],
            [
             0.3,
             "#f1b6da"
            ],
            [
             0.4,
             "#fde0ef"
            ],
            [
             0.5,
             "#f7f7f7"
            ],
            [
             0.6,
             "#e6f5d0"
            ],
            [
             0.7,
             "#b8e186"
            ],
            [
             0.8,
             "#7fbc41"
            ],
            [
             0.9,
             "#4d9221"
            ],
            [
             1,
             "#276419"
            ]
           ],
           "sequential": [
            [
             0,
             "#0d0887"
            ],
            [
             0.1111111111111111,
             "#46039f"
            ],
            [
             0.2222222222222222,
             "#7201a8"
            ],
            [
             0.3333333333333333,
             "#9c179e"
            ],
            [
             0.4444444444444444,
             "#bd3786"
            ],
            [
             0.5555555555555556,
             "#d8576b"
            ],
            [
             0.6666666666666666,
             "#ed7953"
            ],
            [
             0.7777777777777778,
             "#fb9f3a"
            ],
            [
             0.8888888888888888,
             "#fdca26"
            ],
            [
             1,
             "#f0f921"
            ]
           ],
           "sequentialminus": [
            [
             0,
             "#0d0887"
            ],
            [
             0.1111111111111111,
             "#46039f"
            ],
            [
             0.2222222222222222,
             "#7201a8"
            ],
            [
             0.3333333333333333,
             "#9c179e"
            ],
            [
             0.4444444444444444,
             "#bd3786"
            ],
            [
             0.5555555555555556,
             "#d8576b"
            ],
            [
             0.6666666666666666,
             "#ed7953"
            ],
            [
             0.7777777777777778,
             "#fb9f3a"
            ],
            [
             0.8888888888888888,
             "#fdca26"
            ],
            [
             1,
             "#f0f921"
            ]
           ]
          },
          "colorway": [
           "#636efa",
           "#EF553B",
           "#00cc96",
           "#ab63fa",
           "#FFA15A",
           "#19d3f3",
           "#FF6692",
           "#B6E880",
           "#FF97FF",
           "#FECB52"
          ],
          "font": {
           "color": "#2a3f5f"
          },
          "geo": {
           "bgcolor": "white",
           "lakecolor": "white",
           "landcolor": "#E5ECF6",
           "showlakes": true,
           "showland": true,
           "subunitcolor": "white"
          },
          "hoverlabel": {
           "align": "left"
          },
          "hovermode": "closest",
          "mapbox": {
           "style": "light"
          },
          "paper_bgcolor": "white",
          "plot_bgcolor": "#E5ECF6",
          "polar": {
           "angularaxis": {
            "gridcolor": "white",
            "linecolor": "white",
            "ticks": ""
           },
           "bgcolor": "#E5ECF6",
           "radialaxis": {
            "gridcolor": "white",
            "linecolor": "white",
            "ticks": ""
           }
          },
          "scene": {
           "xaxis": {
            "backgroundcolor": "#E5ECF6",
            "gridcolor": "white",
            "gridwidth": 2,
            "linecolor": "white",
            "showbackground": true,
            "ticks": "",
            "zerolinecolor": "white"
           },
           "yaxis": {
            "backgroundcolor": "#E5ECF6",
            "gridcolor": "white",
            "gridwidth": 2,
            "linecolor": "white",
            "showbackground": true,
            "ticks": "",
            "zerolinecolor": "white"
           },
           "zaxis": {
            "backgroundcolor": "#E5ECF6",
            "gridcolor": "white",
            "gridwidth": 2,
            "linecolor": "white",
            "showbackground": true,
            "ticks": "",
            "zerolinecolor": "white"
           }
          },
          "shapedefaults": {
           "line": {
            "color": "#2a3f5f"
           }
          },
          "ternary": {
           "aaxis": {
            "gridcolor": "white",
            "linecolor": "white",
            "ticks": ""
           },
           "baxis": {
            "gridcolor": "white",
            "linecolor": "white",
            "ticks": ""
           },
           "bgcolor": "#E5ECF6",
           "caxis": {
            "gridcolor": "white",
            "linecolor": "white",
            "ticks": ""
           }
          },
          "title": {
           "x": 0.05
          },
          "xaxis": {
           "automargin": true,
           "gridcolor": "white",
           "linecolor": "white",
           "ticks": "",
           "title": {
            "standoff": 15
           },
           "zerolinecolor": "white",
           "zerolinewidth": 2
          },
          "yaxis": {
           "automargin": true,
           "gridcolor": "white",
           "linecolor": "white",
           "ticks": "",
           "title": {
            "standoff": 15
           },
           "zerolinecolor": "white",
           "zerolinewidth": 2
          }
         }
        },
        "title": {
         "text": "NLP into Industry - Iran 2022"
        }
       }
      }
     },
     "metadata": {},
     "output_type": "display_data"
    }
   ],
   "source": [
    "industry = industry[industry['Q20_1'] != 'Not Answer']\n",
    "\n",
    "fig = px.parallel_categories(industry,dimensions=['Q24','Q17_1','Q18_1','Q20_1'],\n",
    "                            labels={'Q17_1':'Machine Learning Frameworks','Q18_1':'ML Algorithms','Q24': 'Industry','Q20_1':'NLP Methods'},\n",
    "                            title='NLP into Industry - Iran 2022',\n",
    "                            height=600,\n",
    "                            )\n",
    "fig.show()"
   ]
  },
  {
   "cell_type": "code",
   "execution_count": 45,
   "metadata": {},
   "outputs": [
    {
     "data": {
      "application/vnd.plotly.v1+json": {
       "config": {
        "plotlyServerURL": "https://plot.ly"
       },
       "data": [
        {
         "dimensions": [
          {
           "label": "Gender",
           "values": [
            "Man",
            "Man",
            "Man",
            "Man",
            "Man",
            "Man",
            "Woman",
            "Man",
            "Man",
            "Man",
            "Woman",
            "Woman",
            "Man",
            "Man",
            "Man",
            "Man",
            "Man",
            "Man",
            "Man",
            "Woman",
            "Woman",
            "Other",
            "Woman"
           ]
          },
          {
           "label": "Age",
           "values": [
            "35-39",
            "30-34",
            "35-39",
            "30-34",
            "30-34",
            "25-29",
            "40-44",
            "40-44",
            "30-34",
            "45-49",
            "25-29",
            "30-34",
            "35-39",
            "25-29",
            "30-34",
            "55-59",
            "40-44",
            "35-39",
            "40-44",
            "35-39",
            "30-34",
            "30-34",
            "22-24"
           ]
          },
          {
           "label": "Programming Experience",
           "values": [
            "10-20 years",
            "< 1 years",
            "5-10 years",
            "3-5 years",
            "5-10 years",
            "1-3 years",
            "1-3 years",
            "3-5 years",
            "1-3 years",
            "20+ years",
            "1-3 years",
            "1-3 years",
            "1-3 years",
            "5-10 years",
            "3-5 years",
            "20+ years",
            "1-3 years",
            "5-10 years",
            "I have never written code",
            "5-10 years",
            "< 1 years",
            "< 1 years",
            "1-3 years"
           ]
          },
          {
           "label": "ML Experience",
           "values": [
            "2-3 years",
            "Under 1 year",
            "4-5 years",
            "5-10 years",
            "Under 1 year",
            "I do not use machine learning methods",
            "Under 1 year",
            "1-2 years",
            "1-2 years",
            "10-20 years",
            "2-3 years",
            "1-2 years",
            "1-2 years",
            "3-4 years",
            "2-3 years",
            "1-2 years",
            "2-3 years",
            "1-2 years",
            "Not Answer",
            "5-10 years",
            "Under 1 year",
            "Under 1 year",
            "2-3 years"
           ]
          },
          {
           "label": "Role",
           "values": [
            "Manager (Program, Project, Operations, Executive-level, etc)",
            "Software Engineer",
            "Engineer (non-software)",
            "Data Scientist",
            "Data Scientist",
            "Data Architect",
            "Data Scientist",
            "Manager (Program, Project, Operations, Executive-level, etc)",
            "Data Analyst (Business, Marketing, Financial, Quantitative, etc)",
            "Teacher / professor",
            "Research Scientist",
            "Data Scientist",
            "Research Scientist",
            "Machine Learning/ MLops Engineer",
            "Data Scientist",
            "Other",
            "Research Scientist",
            "Research Scientist",
            "Engineer (non-software)",
            "Research Scientist",
            "Data Engineer",
            "Data Analyst (Business, Marketing, Financial, Quantitative, etc)",
            "Data Scientist"
           ]
          },
          {
           "label": "Industry",
           "values": [
            "Computers/Technology",
            "Computers/Technology",
            "Shipping/Transportation",
            "Academics/Education",
            "Computers/Technology",
            "Online Service/Internet-based Services",
            "Computers/Technology",
            "Broadcasting/Communications",
            "Accounting/Finance",
            "Academics/Education",
            "Computers/Technology",
            "Computers/Technology",
            "Academics/Education",
            "Non-profit/Service",
            "Accounting/Finance",
            "Academics/Education",
            "Academics/Education",
            "Medical/Pharmaceutical",
            "Energy/Mining",
            "Academics/Education",
            "Academics/Education",
            "Marketing/CRM",
            "Computers/Technology"
           ]
          },
          {
           "label": "Salary",
           "values": [
            "$100-$999",
            "$1-$99",
            "$1-$99",
            "$10,000-$99,999",
            "$100-$999",
            "$1-$99",
            "$100-$999",
            "$100-$999",
            "$1-$99",
            "$1-$99",
            "$1-$99",
            "$100-$999",
            "$100-$999",
            "$1000-$9,999",
            "$1-$99",
            "$1-$99",
            "$100-$999",
            "$1-$99",
            "$1-$99",
            "$100-$999",
            "$1-$99",
            "$100-$999",
            "$100-$999"
           ]
          }
         ],
         "domain": {
          "x": [
           0,
           1
          ],
          "y": [
           0,
           1
          ]
         },
         "name": "",
         "type": "parcats"
        }
       ],
       "layout": {
        "height": 600,
        "legend": {
         "tracegroupgap": 0
        },
        "template": {
         "data": {
          "bar": [
           {
            "error_x": {
             "color": "#2a3f5f"
            },
            "error_y": {
             "color": "#2a3f5f"
            },
            "marker": {
             "line": {
              "color": "#E5ECF6",
              "width": 0.5
             },
             "pattern": {
              "fillmode": "overlay",
              "size": 10,
              "solidity": 0.2
             }
            },
            "type": "bar"
           }
          ],
          "barpolar": [
           {
            "marker": {
             "line": {
              "color": "#E5ECF6",
              "width": 0.5
             },
             "pattern": {
              "fillmode": "overlay",
              "size": 10,
              "solidity": 0.2
             }
            },
            "type": "barpolar"
           }
          ],
          "carpet": [
           {
            "aaxis": {
             "endlinecolor": "#2a3f5f",
             "gridcolor": "white",
             "linecolor": "white",
             "minorgridcolor": "white",
             "startlinecolor": "#2a3f5f"
            },
            "baxis": {
             "endlinecolor": "#2a3f5f",
             "gridcolor": "white",
             "linecolor": "white",
             "minorgridcolor": "white",
             "startlinecolor": "#2a3f5f"
            },
            "type": "carpet"
           }
          ],
          "choropleth": [
           {
            "colorbar": {
             "outlinewidth": 0,
             "ticks": ""
            },
            "type": "choropleth"
           }
          ],
          "contour": [
           {
            "colorbar": {
             "outlinewidth": 0,
             "ticks": ""
            },
            "colorscale": [
             [
              0,
              "#0d0887"
             ],
             [
              0.1111111111111111,
              "#46039f"
             ],
             [
              0.2222222222222222,
              "#7201a8"
             ],
             [
              0.3333333333333333,
              "#9c179e"
             ],
             [
              0.4444444444444444,
              "#bd3786"
             ],
             [
              0.5555555555555556,
              "#d8576b"
             ],
             [
              0.6666666666666666,
              "#ed7953"
             ],
             [
              0.7777777777777778,
              "#fb9f3a"
             ],
             [
              0.8888888888888888,
              "#fdca26"
             ],
             [
              1,
              "#f0f921"
             ]
            ],
            "type": "contour"
           }
          ],
          "contourcarpet": [
           {
            "colorbar": {
             "outlinewidth": 0,
             "ticks": ""
            },
            "type": "contourcarpet"
           }
          ],
          "heatmap": [
           {
            "colorbar": {
             "outlinewidth": 0,
             "ticks": ""
            },
            "colorscale": [
             [
              0,
              "#0d0887"
             ],
             [
              0.1111111111111111,
              "#46039f"
             ],
             [
              0.2222222222222222,
              "#7201a8"
             ],
             [
              0.3333333333333333,
              "#9c179e"
             ],
             [
              0.4444444444444444,
              "#bd3786"
             ],
             [
              0.5555555555555556,
              "#d8576b"
             ],
             [
              0.6666666666666666,
              "#ed7953"
             ],
             [
              0.7777777777777778,
              "#fb9f3a"
             ],
             [
              0.8888888888888888,
              "#fdca26"
             ],
             [
              1,
              "#f0f921"
             ]
            ],
            "type": "heatmap"
           }
          ],
          "heatmapgl": [
           {
            "colorbar": {
             "outlinewidth": 0,
             "ticks": ""
            },
            "colorscale": [
             [
              0,
              "#0d0887"
             ],
             [
              0.1111111111111111,
              "#46039f"
             ],
             [
              0.2222222222222222,
              "#7201a8"
             ],
             [
              0.3333333333333333,
              "#9c179e"
             ],
             [
              0.4444444444444444,
              "#bd3786"
             ],
             [
              0.5555555555555556,
              "#d8576b"
             ],
             [
              0.6666666666666666,
              "#ed7953"
             ],
             [
              0.7777777777777778,
              "#fb9f3a"
             ],
             [
              0.8888888888888888,
              "#fdca26"
             ],
             [
              1,
              "#f0f921"
             ]
            ],
            "type": "heatmapgl"
           }
          ],
          "histogram": [
           {
            "marker": {
             "pattern": {
              "fillmode": "overlay",
              "size": 10,
              "solidity": 0.2
             }
            },
            "type": "histogram"
           }
          ],
          "histogram2d": [
           {
            "colorbar": {
             "outlinewidth": 0,
             "ticks": ""
            },
            "colorscale": [
             [
              0,
              "#0d0887"
             ],
             [
              0.1111111111111111,
              "#46039f"
             ],
             [
              0.2222222222222222,
              "#7201a8"
             ],
             [
              0.3333333333333333,
              "#9c179e"
             ],
             [
              0.4444444444444444,
              "#bd3786"
             ],
             [
              0.5555555555555556,
              "#d8576b"
             ],
             [
              0.6666666666666666,
              "#ed7953"
             ],
             [
              0.7777777777777778,
              "#fb9f3a"
             ],
             [
              0.8888888888888888,
              "#fdca26"
             ],
             [
              1,
              "#f0f921"
             ]
            ],
            "type": "histogram2d"
           }
          ],
          "histogram2dcontour": [
           {
            "colorbar": {
             "outlinewidth": 0,
             "ticks": ""
            },
            "colorscale": [
             [
              0,
              "#0d0887"
             ],
             [
              0.1111111111111111,
              "#46039f"
             ],
             [
              0.2222222222222222,
              "#7201a8"
             ],
             [
              0.3333333333333333,
              "#9c179e"
             ],
             [
              0.4444444444444444,
              "#bd3786"
             ],
             [
              0.5555555555555556,
              "#d8576b"
             ],
             [
              0.6666666666666666,
              "#ed7953"
             ],
             [
              0.7777777777777778,
              "#fb9f3a"
             ],
             [
              0.8888888888888888,
              "#fdca26"
             ],
             [
              1,
              "#f0f921"
             ]
            ],
            "type": "histogram2dcontour"
           }
          ],
          "mesh3d": [
           {
            "colorbar": {
             "outlinewidth": 0,
             "ticks": ""
            },
            "type": "mesh3d"
           }
          ],
          "parcoords": [
           {
            "line": {
             "colorbar": {
              "outlinewidth": 0,
              "ticks": ""
             }
            },
            "type": "parcoords"
           }
          ],
          "pie": [
           {
            "automargin": true,
            "type": "pie"
           }
          ],
          "scatter": [
           {
            "fillpattern": {
             "fillmode": "overlay",
             "size": 10,
             "solidity": 0.2
            },
            "type": "scatter"
           }
          ],
          "scatter3d": [
           {
            "line": {
             "colorbar": {
              "outlinewidth": 0,
              "ticks": ""
             }
            },
            "marker": {
             "colorbar": {
              "outlinewidth": 0,
              "ticks": ""
             }
            },
            "type": "scatter3d"
           }
          ],
          "scattercarpet": [
           {
            "marker": {
             "colorbar": {
              "outlinewidth": 0,
              "ticks": ""
             }
            },
            "type": "scattercarpet"
           }
          ],
          "scattergeo": [
           {
            "marker": {
             "colorbar": {
              "outlinewidth": 0,
              "ticks": ""
             }
            },
            "type": "scattergeo"
           }
          ],
          "scattergl": [
           {
            "marker": {
             "colorbar": {
              "outlinewidth": 0,
              "ticks": ""
             }
            },
            "type": "scattergl"
           }
          ],
          "scattermapbox": [
           {
            "marker": {
             "colorbar": {
              "outlinewidth": 0,
              "ticks": ""
             }
            },
            "type": "scattermapbox"
           }
          ],
          "scatterpolar": [
           {
            "marker": {
             "colorbar": {
              "outlinewidth": 0,
              "ticks": ""
             }
            },
            "type": "scatterpolar"
           }
          ],
          "scatterpolargl": [
           {
            "marker": {
             "colorbar": {
              "outlinewidth": 0,
              "ticks": ""
             }
            },
            "type": "scatterpolargl"
           }
          ],
          "scatterternary": [
           {
            "marker": {
             "colorbar": {
              "outlinewidth": 0,
              "ticks": ""
             }
            },
            "type": "scatterternary"
           }
          ],
          "surface": [
           {
            "colorbar": {
             "outlinewidth": 0,
             "ticks": ""
            },
            "colorscale": [
             [
              0,
              "#0d0887"
             ],
             [
              0.1111111111111111,
              "#46039f"
             ],
             [
              0.2222222222222222,
              "#7201a8"
             ],
             [
              0.3333333333333333,
              "#9c179e"
             ],
             [
              0.4444444444444444,
              "#bd3786"
             ],
             [
              0.5555555555555556,
              "#d8576b"
             ],
             [
              0.6666666666666666,
              "#ed7953"
             ],
             [
              0.7777777777777778,
              "#fb9f3a"
             ],
             [
              0.8888888888888888,
              "#fdca26"
             ],
             [
              1,
              "#f0f921"
             ]
            ],
            "type": "surface"
           }
          ],
          "table": [
           {
            "cells": {
             "fill": {
              "color": "#EBF0F8"
             },
             "line": {
              "color": "white"
             }
            },
            "header": {
             "fill": {
              "color": "#C8D4E3"
             },
             "line": {
              "color": "white"
             }
            },
            "type": "table"
           }
          ]
         },
         "layout": {
          "annotationdefaults": {
           "arrowcolor": "#2a3f5f",
           "arrowhead": 0,
           "arrowwidth": 1
          },
          "autotypenumbers": "strict",
          "coloraxis": {
           "colorbar": {
            "outlinewidth": 0,
            "ticks": ""
           }
          },
          "colorscale": {
           "diverging": [
            [
             0,
             "#8e0152"
            ],
            [
             0.1,
             "#c51b7d"
            ],
            [
             0.2,
             "#de77ae"
            ],
            [
             0.3,
             "#f1b6da"
            ],
            [
             0.4,
             "#fde0ef"
            ],
            [
             0.5,
             "#f7f7f7"
            ],
            [
             0.6,
             "#e6f5d0"
            ],
            [
             0.7,
             "#b8e186"
            ],
            [
             0.8,
             "#7fbc41"
            ],
            [
             0.9,
             "#4d9221"
            ],
            [
             1,
             "#276419"
            ]
           ],
           "sequential": [
            [
             0,
             "#0d0887"
            ],
            [
             0.1111111111111111,
             "#46039f"
            ],
            [
             0.2222222222222222,
             "#7201a8"
            ],
            [
             0.3333333333333333,
             "#9c179e"
            ],
            [
             0.4444444444444444,
             "#bd3786"
            ],
            [
             0.5555555555555556,
             "#d8576b"
            ],
            [
             0.6666666666666666,
             "#ed7953"
            ],
            [
             0.7777777777777778,
             "#fb9f3a"
            ],
            [
             0.8888888888888888,
             "#fdca26"
            ],
            [
             1,
             "#f0f921"
            ]
           ],
           "sequentialminus": [
            [
             0,
             "#0d0887"
            ],
            [
             0.1111111111111111,
             "#46039f"
            ],
            [
             0.2222222222222222,
             "#7201a8"
            ],
            [
             0.3333333333333333,
             "#9c179e"
            ],
            [
             0.4444444444444444,
             "#bd3786"
            ],
            [
             0.5555555555555556,
             "#d8576b"
            ],
            [
             0.6666666666666666,
             "#ed7953"
            ],
            [
             0.7777777777777778,
             "#fb9f3a"
            ],
            [
             0.8888888888888888,
             "#fdca26"
            ],
            [
             1,
             "#f0f921"
            ]
           ]
          },
          "colorway": [
           "#636efa",
           "#EF553B",
           "#00cc96",
           "#ab63fa",
           "#FFA15A",
           "#19d3f3",
           "#FF6692",
           "#B6E880",
           "#FF97FF",
           "#FECB52"
          ],
          "font": {
           "color": "#2a3f5f"
          },
          "geo": {
           "bgcolor": "white",
           "lakecolor": "white",
           "landcolor": "#E5ECF6",
           "showlakes": true,
           "showland": true,
           "subunitcolor": "white"
          },
          "hoverlabel": {
           "align": "left"
          },
          "hovermode": "closest",
          "mapbox": {
           "style": "light"
          },
          "paper_bgcolor": "white",
          "plot_bgcolor": "#E5ECF6",
          "polar": {
           "angularaxis": {
            "gridcolor": "white",
            "linecolor": "white",
            "ticks": ""
           },
           "bgcolor": "#E5ECF6",
           "radialaxis": {
            "gridcolor": "white",
            "linecolor": "white",
            "ticks": ""
           }
          },
          "scene": {
           "xaxis": {
            "backgroundcolor": "#E5ECF6",
            "gridcolor": "white",
            "gridwidth": 2,
            "linecolor": "white",
            "showbackground": true,
            "ticks": "",
            "zerolinecolor": "white"
           },
           "yaxis": {
            "backgroundcolor": "#E5ECF6",
            "gridcolor": "white",
            "gridwidth": 2,
            "linecolor": "white",
            "showbackground": true,
            "ticks": "",
            "zerolinecolor": "white"
           },
           "zaxis": {
            "backgroundcolor": "#E5ECF6",
            "gridcolor": "white",
            "gridwidth": 2,
            "linecolor": "white",
            "showbackground": true,
            "ticks": "",
            "zerolinecolor": "white"
           }
          },
          "shapedefaults": {
           "line": {
            "color": "#2a3f5f"
           }
          },
          "ternary": {
           "aaxis": {
            "gridcolor": "white",
            "linecolor": "white",
            "ticks": ""
           },
           "baxis": {
            "gridcolor": "white",
            "linecolor": "white",
            "ticks": ""
           },
           "bgcolor": "#E5ECF6",
           "caxis": {
            "gridcolor": "white",
            "linecolor": "white",
            "ticks": ""
           }
          },
          "title": {
           "x": 0.05
          },
          "xaxis": {
           "automargin": true,
           "gridcolor": "white",
           "linecolor": "white",
           "ticks": "",
           "title": {
            "standoff": 15
           },
           "zerolinecolor": "white",
           "zerolinewidth": 2
          },
          "yaxis": {
           "automargin": true,
           "gridcolor": "white",
           "linecolor": "white",
           "ticks": "",
           "title": {
            "standoff": 15
           },
           "zerolinecolor": "white",
           "zerolinewidth": 2
          }
         }
        },
        "title": {
         "text": "Salary - Iran 2022"
        }
       }
      }
     },
     "metadata": {},
     "output_type": "display_data"
    }
   ],
   "source": [
    "salary = iran_2022_nafill[iran_2022_nafill['Q30'] != 'Not Answer']\n",
    "salary = salary[salary['Q30'] != '$0 ($USD)']\n",
    "fig = px.parallel_categories(salary,dimensions=['Q3','Q2','Q11','Q16','Q23','Q24','Q30'],\n",
    "                            labels={'Q3':'Gender','Q2':'Age','Q11': 'Programming Experience','Q16':'ML Experience','Q23':'Role','Q24':'Industry','Q30':'Salary'},\n",
    "                            title='Salary - Iran 2022',\n",
    "                            height=600,\n",
    "                            )\n",
    "fig.show()"
   ]
  },
  {
   "cell_type": "code",
   "execution_count": 46,
   "metadata": {},
   "outputs": [
    {
     "data": {
      "application/vnd.plotly.v1+json": {
       "config": {
        "plotlyServerURL": "https://plot.ly"
       },
       "data": [
        {
         "dimensions": [
          {
           "label": "Role",
           "values": [
            "Manager (Program, Project, Operations, Executive-level, etc)",
            "Software Engineer",
            "Engineer (non-software)",
            "Data Scientist",
            "Data Scientist",
            "Data Architect",
            "Data Scientist",
            "Manager (Program, Project, Operations, Executive-level, etc)",
            "Data Analyst (Business, Marketing, Financial, Quantitative, etc)",
            "Teacher / professor",
            "Research Scientist",
            "Data Scientist",
            "Research Scientist",
            "Machine Learning/ MLops Engineer",
            "Data Scientist",
            "Other",
            "Research Scientist",
            "Research Scientist",
            "Engineer (non-software)",
            "Research Scientist",
            "Data Engineer",
            "Data Analyst (Business, Marketing, Financial, Quantitative, etc)",
            "Data Scientist"
           ]
          },
          {
           "label": "Industry",
           "values": [
            "Computers/Technology",
            "Computers/Technology",
            "Shipping/Transportation",
            "Academics/Education",
            "Computers/Technology",
            "Online Service/Internet-based Services",
            "Computers/Technology",
            "Broadcasting/Communications",
            "Accounting/Finance",
            "Academics/Education",
            "Computers/Technology",
            "Computers/Technology",
            "Academics/Education",
            "Non-profit/Service",
            "Accounting/Finance",
            "Academics/Education",
            "Academics/Education",
            "Medical/Pharmaceutical",
            "Energy/Mining",
            "Academics/Education",
            "Academics/Education",
            "Marketing/CRM",
            "Computers/Technology"
           ]
          },
          {
           "label": "Salary",
           "values": [
            "$100-$999",
            "$1-$99",
            "$1-$99",
            "$10,000-$99,999",
            "$100-$999",
            "$1-$99",
            "$100-$999",
            "$100-$999",
            "$1-$99",
            "$1-$99",
            "$1-$99",
            "$100-$999",
            "$100-$999",
            "$1000-$9,999",
            "$1-$99",
            "$1-$99",
            "$100-$999",
            "$1-$99",
            "$1-$99",
            "$100-$999",
            "$1-$99",
            "$100-$999",
            "$100-$999"
           ]
          }
         ],
         "domain": {
          "x": [
           0,
           1
          ],
          "y": [
           0,
           1
          ]
         },
         "name": "",
         "type": "parcats"
        }
       ],
       "layout": {
        "height": 600,
        "legend": {
         "tracegroupgap": 0
        },
        "template": {
         "data": {
          "bar": [
           {
            "error_x": {
             "color": "#2a3f5f"
            },
            "error_y": {
             "color": "#2a3f5f"
            },
            "marker": {
             "line": {
              "color": "#E5ECF6",
              "width": 0.5
             },
             "pattern": {
              "fillmode": "overlay",
              "size": 10,
              "solidity": 0.2
             }
            },
            "type": "bar"
           }
          ],
          "barpolar": [
           {
            "marker": {
             "line": {
              "color": "#E5ECF6",
              "width": 0.5
             },
             "pattern": {
              "fillmode": "overlay",
              "size": 10,
              "solidity": 0.2
             }
            },
            "type": "barpolar"
           }
          ],
          "carpet": [
           {
            "aaxis": {
             "endlinecolor": "#2a3f5f",
             "gridcolor": "white",
             "linecolor": "white",
             "minorgridcolor": "white",
             "startlinecolor": "#2a3f5f"
            },
            "baxis": {
             "endlinecolor": "#2a3f5f",
             "gridcolor": "white",
             "linecolor": "white",
             "minorgridcolor": "white",
             "startlinecolor": "#2a3f5f"
            },
            "type": "carpet"
           }
          ],
          "choropleth": [
           {
            "colorbar": {
             "outlinewidth": 0,
             "ticks": ""
            },
            "type": "choropleth"
           }
          ],
          "contour": [
           {
            "colorbar": {
             "outlinewidth": 0,
             "ticks": ""
            },
            "colorscale": [
             [
              0,
              "#0d0887"
             ],
             [
              0.1111111111111111,
              "#46039f"
             ],
             [
              0.2222222222222222,
              "#7201a8"
             ],
             [
              0.3333333333333333,
              "#9c179e"
             ],
             [
              0.4444444444444444,
              "#bd3786"
             ],
             [
              0.5555555555555556,
              "#d8576b"
             ],
             [
              0.6666666666666666,
              "#ed7953"
             ],
             [
              0.7777777777777778,
              "#fb9f3a"
             ],
             [
              0.8888888888888888,
              "#fdca26"
             ],
             [
              1,
              "#f0f921"
             ]
            ],
            "type": "contour"
           }
          ],
          "contourcarpet": [
           {
            "colorbar": {
             "outlinewidth": 0,
             "ticks": ""
            },
            "type": "contourcarpet"
           }
          ],
          "heatmap": [
           {
            "colorbar": {
             "outlinewidth": 0,
             "ticks": ""
            },
            "colorscale": [
             [
              0,
              "#0d0887"
             ],
             [
              0.1111111111111111,
              "#46039f"
             ],
             [
              0.2222222222222222,
              "#7201a8"
             ],
             [
              0.3333333333333333,
              "#9c179e"
             ],
             [
              0.4444444444444444,
              "#bd3786"
             ],
             [
              0.5555555555555556,
              "#d8576b"
             ],
             [
              0.6666666666666666,
              "#ed7953"
             ],
             [
              0.7777777777777778,
              "#fb9f3a"
             ],
             [
              0.8888888888888888,
              "#fdca26"
             ],
             [
              1,
              "#f0f921"
             ]
            ],
            "type": "heatmap"
           }
          ],
          "heatmapgl": [
           {
            "colorbar": {
             "outlinewidth": 0,
             "ticks": ""
            },
            "colorscale": [
             [
              0,
              "#0d0887"
             ],
             [
              0.1111111111111111,
              "#46039f"
             ],
             [
              0.2222222222222222,
              "#7201a8"
             ],
             [
              0.3333333333333333,
              "#9c179e"
             ],
             [
              0.4444444444444444,
              "#bd3786"
             ],
             [
              0.5555555555555556,
              "#d8576b"
             ],
             [
              0.6666666666666666,
              "#ed7953"
             ],
             [
              0.7777777777777778,
              "#fb9f3a"
             ],
             [
              0.8888888888888888,
              "#fdca26"
             ],
             [
              1,
              "#f0f921"
             ]
            ],
            "type": "heatmapgl"
           }
          ],
          "histogram": [
           {
            "marker": {
             "pattern": {
              "fillmode": "overlay",
              "size": 10,
              "solidity": 0.2
             }
            },
            "type": "histogram"
           }
          ],
          "histogram2d": [
           {
            "colorbar": {
             "outlinewidth": 0,
             "ticks": ""
            },
            "colorscale": [
             [
              0,
              "#0d0887"
             ],
             [
              0.1111111111111111,
              "#46039f"
             ],
             [
              0.2222222222222222,
              "#7201a8"
             ],
             [
              0.3333333333333333,
              "#9c179e"
             ],
             [
              0.4444444444444444,
              "#bd3786"
             ],
             [
              0.5555555555555556,
              "#d8576b"
             ],
             [
              0.6666666666666666,
              "#ed7953"
             ],
             [
              0.7777777777777778,
              "#fb9f3a"
             ],
             [
              0.8888888888888888,
              "#fdca26"
             ],
             [
              1,
              "#f0f921"
             ]
            ],
            "type": "histogram2d"
           }
          ],
          "histogram2dcontour": [
           {
            "colorbar": {
             "outlinewidth": 0,
             "ticks": ""
            },
            "colorscale": [
             [
              0,
              "#0d0887"
             ],
             [
              0.1111111111111111,
              "#46039f"
             ],
             [
              0.2222222222222222,
              "#7201a8"
             ],
             [
              0.3333333333333333,
              "#9c179e"
             ],
             [
              0.4444444444444444,
              "#bd3786"
             ],
             [
              0.5555555555555556,
              "#d8576b"
             ],
             [
              0.6666666666666666,
              "#ed7953"
             ],
             [
              0.7777777777777778,
              "#fb9f3a"
             ],
             [
              0.8888888888888888,
              "#fdca26"
             ],
             [
              1,
              "#f0f921"
             ]
            ],
            "type": "histogram2dcontour"
           }
          ],
          "mesh3d": [
           {
            "colorbar": {
             "outlinewidth": 0,
             "ticks": ""
            },
            "type": "mesh3d"
           }
          ],
          "parcoords": [
           {
            "line": {
             "colorbar": {
              "outlinewidth": 0,
              "ticks": ""
             }
            },
            "type": "parcoords"
           }
          ],
          "pie": [
           {
            "automargin": true,
            "type": "pie"
           }
          ],
          "scatter": [
           {
            "fillpattern": {
             "fillmode": "overlay",
             "size": 10,
             "solidity": 0.2
            },
            "type": "scatter"
           }
          ],
          "scatter3d": [
           {
            "line": {
             "colorbar": {
              "outlinewidth": 0,
              "ticks": ""
             }
            },
            "marker": {
             "colorbar": {
              "outlinewidth": 0,
              "ticks": ""
             }
            },
            "type": "scatter3d"
           }
          ],
          "scattercarpet": [
           {
            "marker": {
             "colorbar": {
              "outlinewidth": 0,
              "ticks": ""
             }
            },
            "type": "scattercarpet"
           }
          ],
          "scattergeo": [
           {
            "marker": {
             "colorbar": {
              "outlinewidth": 0,
              "ticks": ""
             }
            },
            "type": "scattergeo"
           }
          ],
          "scattergl": [
           {
            "marker": {
             "colorbar": {
              "outlinewidth": 0,
              "ticks": ""
             }
            },
            "type": "scattergl"
           }
          ],
          "scattermapbox": [
           {
            "marker": {
             "colorbar": {
              "outlinewidth": 0,
              "ticks": ""
             }
            },
            "type": "scattermapbox"
           }
          ],
          "scatterpolar": [
           {
            "marker": {
             "colorbar": {
              "outlinewidth": 0,
              "ticks": ""
             }
            },
            "type": "scatterpolar"
           }
          ],
          "scatterpolargl": [
           {
            "marker": {
             "colorbar": {
              "outlinewidth": 0,
              "ticks": ""
             }
            },
            "type": "scatterpolargl"
           }
          ],
          "scatterternary": [
           {
            "marker": {
             "colorbar": {
              "outlinewidth": 0,
              "ticks": ""
             }
            },
            "type": "scatterternary"
           }
          ],
          "surface": [
           {
            "colorbar": {
             "outlinewidth": 0,
             "ticks": ""
            },
            "colorscale": [
             [
              0,
              "#0d0887"
             ],
             [
              0.1111111111111111,
              "#46039f"
             ],
             [
              0.2222222222222222,
              "#7201a8"
             ],
             [
              0.3333333333333333,
              "#9c179e"
             ],
             [
              0.4444444444444444,
              "#bd3786"
             ],
             [
              0.5555555555555556,
              "#d8576b"
             ],
             [
              0.6666666666666666,
              "#ed7953"
             ],
             [
              0.7777777777777778,
              "#fb9f3a"
             ],
             [
              0.8888888888888888,
              "#fdca26"
             ],
             [
              1,
              "#f0f921"
             ]
            ],
            "type": "surface"
           }
          ],
          "table": [
           {
            "cells": {
             "fill": {
              "color": "#EBF0F8"
             },
             "line": {
              "color": "white"
             }
            },
            "header": {
             "fill": {
              "color": "#C8D4E3"
             },
             "line": {
              "color": "white"
             }
            },
            "type": "table"
           }
          ]
         },
         "layout": {
          "annotationdefaults": {
           "arrowcolor": "#2a3f5f",
           "arrowhead": 0,
           "arrowwidth": 1
          },
          "autotypenumbers": "strict",
          "coloraxis": {
           "colorbar": {
            "outlinewidth": 0,
            "ticks": ""
           }
          },
          "colorscale": {
           "diverging": [
            [
             0,
             "#8e0152"
            ],
            [
             0.1,
             "#c51b7d"
            ],
            [
             0.2,
             "#de77ae"
            ],
            [
             0.3,
             "#f1b6da"
            ],
            [
             0.4,
             "#fde0ef"
            ],
            [
             0.5,
             "#f7f7f7"
            ],
            [
             0.6,
             "#e6f5d0"
            ],
            [
             0.7,
             "#b8e186"
            ],
            [
             0.8,
             "#7fbc41"
            ],
            [
             0.9,
             "#4d9221"
            ],
            [
             1,
             "#276419"
            ]
           ],
           "sequential": [
            [
             0,
             "#0d0887"
            ],
            [
             0.1111111111111111,
             "#46039f"
            ],
            [
             0.2222222222222222,
             "#7201a8"
            ],
            [
             0.3333333333333333,
             "#9c179e"
            ],
            [
             0.4444444444444444,
             "#bd3786"
            ],
            [
             0.5555555555555556,
             "#d8576b"
            ],
            [
             0.6666666666666666,
             "#ed7953"
            ],
            [
             0.7777777777777778,
             "#fb9f3a"
            ],
            [
             0.8888888888888888,
             "#fdca26"
            ],
            [
             1,
             "#f0f921"
            ]
           ],
           "sequentialminus": [
            [
             0,
             "#0d0887"
            ],
            [
             0.1111111111111111,
             "#46039f"
            ],
            [
             0.2222222222222222,
             "#7201a8"
            ],
            [
             0.3333333333333333,
             "#9c179e"
            ],
            [
             0.4444444444444444,
             "#bd3786"
            ],
            [
             0.5555555555555556,
             "#d8576b"
            ],
            [
             0.6666666666666666,
             "#ed7953"
            ],
            [
             0.7777777777777778,
             "#fb9f3a"
            ],
            [
             0.8888888888888888,
             "#fdca26"
            ],
            [
             1,
             "#f0f921"
            ]
           ]
          },
          "colorway": [
           "#636efa",
           "#EF553B",
           "#00cc96",
           "#ab63fa",
           "#FFA15A",
           "#19d3f3",
           "#FF6692",
           "#B6E880",
           "#FF97FF",
           "#FECB52"
          ],
          "font": {
           "color": "#2a3f5f"
          },
          "geo": {
           "bgcolor": "white",
           "lakecolor": "white",
           "landcolor": "#E5ECF6",
           "showlakes": true,
           "showland": true,
           "subunitcolor": "white"
          },
          "hoverlabel": {
           "align": "left"
          },
          "hovermode": "closest",
          "mapbox": {
           "style": "light"
          },
          "paper_bgcolor": "white",
          "plot_bgcolor": "#E5ECF6",
          "polar": {
           "angularaxis": {
            "gridcolor": "white",
            "linecolor": "white",
            "ticks": ""
           },
           "bgcolor": "#E5ECF6",
           "radialaxis": {
            "gridcolor": "white",
            "linecolor": "white",
            "ticks": ""
           }
          },
          "scene": {
           "xaxis": {
            "backgroundcolor": "#E5ECF6",
            "gridcolor": "white",
            "gridwidth": 2,
            "linecolor": "white",
            "showbackground": true,
            "ticks": "",
            "zerolinecolor": "white"
           },
           "yaxis": {
            "backgroundcolor": "#E5ECF6",
            "gridcolor": "white",
            "gridwidth": 2,
            "linecolor": "white",
            "showbackground": true,
            "ticks": "",
            "zerolinecolor": "white"
           },
           "zaxis": {
            "backgroundcolor": "#E5ECF6",
            "gridcolor": "white",
            "gridwidth": 2,
            "linecolor": "white",
            "showbackground": true,
            "ticks": "",
            "zerolinecolor": "white"
           }
          },
          "shapedefaults": {
           "line": {
            "color": "#2a3f5f"
           }
          },
          "ternary": {
           "aaxis": {
            "gridcolor": "white",
            "linecolor": "white",
            "ticks": ""
           },
           "baxis": {
            "gridcolor": "white",
            "linecolor": "white",
            "ticks": ""
           },
           "bgcolor": "#E5ECF6",
           "caxis": {
            "gridcolor": "white",
            "linecolor": "white",
            "ticks": ""
           }
          },
          "title": {
           "x": 0.05
          },
          "xaxis": {
           "automargin": true,
           "gridcolor": "white",
           "linecolor": "white",
           "ticks": "",
           "title": {
            "standoff": 15
           },
           "zerolinecolor": "white",
           "zerolinewidth": 2
          },
          "yaxis": {
           "automargin": true,
           "gridcolor": "white",
           "linecolor": "white",
           "ticks": "",
           "title": {
            "standoff": 15
           },
           "zerolinecolor": "white",
           "zerolinewidth": 2
          }
         }
        },
        "title": {
         "text": "Industry Salary - Iran 2022"
        }
       }
      }
     },
     "metadata": {},
     "output_type": "display_data"
    }
   ],
   "source": [
    "fig = px.parallel_categories(salary,dimensions=['Q23','Q24','Q30'],\n",
    "                            labels={'Q3':'Gender','Q2':'Age','Q11': 'Programming Experience','Q16':'ML Experience','Q23':'Role','Q24':'Industry','Q30':'Salary'},\n",
    "                            title='Industry Salary - Iran 2022',\n",
    "                            height=600,\n",
    "                            )\n",
    "fig.show()"
   ]
  }
 ],
 "metadata": {
  "kernelspec": {
   "display_name": "Python 3",
   "language": "python",
   "name": "python3"
  },
  "language_info": {
   "codemirror_mode": {
    "name": "ipython",
    "version": 3
   },
   "file_extension": ".py",
   "mimetype": "text/x-python",
   "name": "python",
   "nbconvert_exporter": "python",
   "pygments_lexer": "ipython3",
   "version": "3.12.3"
  }
 },
 "nbformat": 4,
 "nbformat_minor": 2
}
